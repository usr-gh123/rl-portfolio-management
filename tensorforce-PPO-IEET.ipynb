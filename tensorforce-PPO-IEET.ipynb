{
 "cells": [
  {
   "cell_type": "markdown",
   "metadata": {},
   "source": [
    "Uses tensorforce tensorforce-0.3.0\n",
    "\n",
    "Took 8 million steps over about a day to warm up. Got 1.6e-4 which is about 25% a month, 25x a year.\n"
   ]
  },
  {
   "cell_type": "code",
   "execution_count": 1,
   "metadata": {
    "collapsed": true,
    "jupyter": {
     "outputs_hidden": true
    }
   },
   "outputs": [
    {
     "name": "stdout",
     "output_type": "stream",
     "text": [
      "Collecting matplotlib\n",
      "  Downloading matplotlib-3.10.0-cp310-cp310-win_amd64.whl.metadata (11 kB)\n",
      "Collecting contourpy>=1.0.1 (from matplotlib)\n",
      "  Downloading contourpy-1.3.1-cp310-cp310-win_amd64.whl.metadata (5.4 kB)\n",
      "Collecting cycler>=0.10 (from matplotlib)\n",
      "  Using cached cycler-0.12.1-py3-none-any.whl.metadata (3.8 kB)\n",
      "Collecting fonttools>=4.22.0 (from matplotlib)\n",
      "  Downloading fonttools-4.55.3-cp310-cp310-win_amd64.whl.metadata (168 kB)\n",
      "Collecting kiwisolver>=1.3.1 (from matplotlib)\n",
      "  Downloading kiwisolver-1.4.7-cp310-cp310-win_amd64.whl.metadata (6.4 kB)\n",
      "Collecting numpy>=1.23 (from matplotlib)\n",
      "  Downloading numpy-2.2.0-cp310-cp310-win_amd64.whl.metadata (60 kB)\n",
      "Requirement already satisfied: packaging>=20.0 in c:\\users\\91905\\anaconda3\\envs\\py3-10\\lib\\site-packages (from matplotlib) (24.2)\n",
      "Collecting pillow>=8 (from matplotlib)\n",
      "  Downloading pillow-11.0.0-cp310-cp310-win_amd64.whl.metadata (9.3 kB)\n",
      "Collecting pyparsing>=2.3.1 (from matplotlib)\n",
      "  Using cached pyparsing-3.2.0-py3-none-any.whl.metadata (5.0 kB)\n",
      "Requirement already satisfied: python-dateutil>=2.7 in c:\\users\\91905\\anaconda3\\envs\\py3-10\\lib\\site-packages (from matplotlib) (2.9.0.post0)\n",
      "Requirement already satisfied: six>=1.5 in c:\\users\\91905\\anaconda3\\envs\\py3-10\\lib\\site-packages (from python-dateutil>=2.7->matplotlib) (1.16.0)\n",
      "Downloading matplotlib-3.10.0-cp310-cp310-win_amd64.whl (8.0 MB)\n",
      "   ---------------------------------------- 0.0/8.0 MB ? eta -:--:--\n",
      "   ------- -------------------------------- 1.6/8.0 MB 7.6 MB/s eta 0:00:01\n",
      "   --------------- ------------------------ 3.1/8.0 MB 7.1 MB/s eta 0:00:01\n",
      "   -------------------- ------------------- 4.2/8.0 MB 7.4 MB/s eta 0:00:01\n",
      "   ------------------------------ --------- 6.0/8.0 MB 7.4 MB/s eta 0:00:01\n",
      "   ---------------------------------------- 8.0/8.0 MB 7.8 MB/s eta 0:00:00\n",
      "Downloading contourpy-1.3.1-cp310-cp310-win_amd64.whl (218 kB)\n",
      "Using cached cycler-0.12.1-py3-none-any.whl (8.3 kB)\n",
      "Downloading fonttools-4.55.3-cp310-cp310-win_amd64.whl (2.2 MB)\n",
      "   ---------------------------------------- 0.0/2.2 MB ? eta -:--:--\n",
      "   ---------------------------- ----------- 1.6/2.2 MB 8.3 MB/s eta 0:00:01\n",
      "   ---------------------------------------- 2.2/2.2 MB 8.3 MB/s eta 0:00:00\n",
      "Downloading kiwisolver-1.4.7-cp310-cp310-win_amd64.whl (55 kB)\n",
      "Downloading numpy-2.2.0-cp310-cp310-win_amd64.whl (12.9 MB)\n",
      "   ---------------------------------------- 0.0/12.9 MB ? eta -:--:--\n",
      "   ---- ----------------------------------- 1.6/12.9 MB 9.4 MB/s eta 0:00:02\n",
      "   ----------- ---------------------------- 3.7/12.9 MB 9.5 MB/s eta 0:00:01\n",
      "   ------------- -------------------------- 4.5/12.9 MB 8.1 MB/s eta 0:00:02\n",
      "   ----------------- ---------------------- 5.8/12.9 MB 7.5 MB/s eta 0:00:01\n",
      "   ----------------------- ---------------- 7.6/12.9 MB 7.5 MB/s eta 0:00:01\n",
      "   ---------------------------- ----------- 9.2/12.9 MB 7.6 MB/s eta 0:00:01\n",
      "   ---------------------------------- ----- 11.0/12.9 MB 7.8 MB/s eta 0:00:01\n",
      "   ---------------------------------------  12.8/12.9 MB 7.9 MB/s eta 0:00:01\n",
      "   ---------------------------------------  12.8/12.9 MB 7.9 MB/s eta 0:00:01\n",
      "   ---------------------------------------  12.8/12.9 MB 7.9 MB/s eta 0:00:01\n",
      "   ---------------------------------------  12.8/12.9 MB 7.9 MB/s eta 0:00:01\n",
      "   ---------------------------------------  12.8/12.9 MB 7.9 MB/s eta 0:00:01\n",
      "   ---------------------------------------  12.8/12.9 MB 7.9 MB/s eta 0:00:01\n",
      "   ---------------------------------------  12.8/12.9 MB 7.9 MB/s eta 0:00:01\n",
      "   ---------------------------------------  12.8/12.9 MB 7.9 MB/s eta 0:00:01\n",
      "   ---------------------------------------- 12.9/12.9 MB 4.1 MB/s eta 0:00:00\n",
      "Downloading pillow-11.0.0-cp310-cp310-win_amd64.whl (2.6 MB)\n",
      "   ---------------------------------------- 0.0/2.6 MB ? eta -:--:--\n",
      "   ---------------------------- ----------- 1.8/2.6 MB 8.4 MB/s eta 0:00:01\n",
      "   ------------------------------------ --- 2.4/2.6 MB 8.9 MB/s eta 0:00:01\n",
      "   ------------------------------------ --- 2.4/2.6 MB 8.9 MB/s eta 0:00:01\n",
      "   ------------------------------------ --- 2.4/2.6 MB 8.9 MB/s eta 0:00:01\n",
      "   ---------------------------------------- 2.6/2.6 MB 2.4 MB/s eta 0:00:00\n",
      "Using cached pyparsing-3.2.0-py3-none-any.whl (106 kB)\n",
      "Installing collected packages: pyparsing, pillow, numpy, kiwisolver, fonttools, cycler, contourpy, matplotlib\n",
      "Successfully installed contourpy-1.3.1 cycler-0.12.1 fonttools-4.55.3 kiwisolver-1.4.7 matplotlib-3.10.0 numpy-2.2.0 pillow-11.0.0 pyparsing-3.2.0\n",
      "Note: you may need to restart the kernel to use updated packages.\n"
     ]
    }
   ],
   "source": [
    "pip install matplotlib"
   ]
  },
  {
   "cell_type": "code",
   "execution_count": 8,
   "metadata": {
    "collapsed": true,
    "jupyter": {
     "outputs_hidden": true
    }
   },
   "outputs": [
    {
     "name": "stdout",
     "output_type": "stream",
     "text": [
      "Requirement already satisfied: numpy in c:\\users\\91905\\anaconda3\\envs\\py-3-9-20\\lib\\site-packages (1.20.0)\n",
      "Collecting numpy\n",
      "  Using cached numpy-2.0.2-cp39-cp39-win_amd64.whl.metadata (59 kB)\n",
      "Using cached numpy-2.0.2-cp39-cp39-win_amd64.whl (15.9 MB)\n",
      "Installing collected packages: numpy\n",
      "  Attempting uninstall: numpy\n",
      "    Found existing installation: numpy 1.20.0\n",
      "    Uninstalling numpy-1.20.0:\n",
      "      Successfully uninstalled numpy-1.20.0\n",
      "Successfully installed numpy-2.0.2\n",
      "Note: you may need to restart the kernel to use updated packages.\n"
     ]
    },
    {
     "name": "stderr",
     "output_type": "stream",
     "text": [
      "  WARNING: Failed to remove contents in a temporary directory 'C:\\Users\\91905\\anaconda3\\envs\\py-3-9-20\\Lib\\site-packages\\~.mpy'.\n",
      "  You can safely remove it manually.\n",
      "ERROR: pip's dependency resolver does not currently take into account all the packages that are installed. This behaviour is the source of the following dependency conflicts.\n",
      "tensorforce 0.6.5 requires numpy==1.19.5, but you have numpy 2.0.2 which is incompatible.\n",
      "contourpy 1.1.1 requires numpy<2.0,>=1.16; python_version <= \"3.11\", but you have numpy 2.0.2 which is incompatible.\n",
      "gymnasium 1.0.0 requires typing-extensions>=4.3.0, but you have typing-extensions 3.7.4.3 which is incompatible.\n",
      "stable-baselines3 2.4.0 requires numpy<2.0,>=1.20, but you have numpy 2.0.2 which is incompatible.\n",
      "tensorflow 2.6.0 requires numpy~=1.19.2, but you have numpy 2.0.2 which is incompatible.\n",
      "tensorflow-gpu 2.10.0 requires absl-py>=1.0.0, but you have absl-py 0.15.0 which is incompatible.\n",
      "tensorflow-gpu 2.10.0 requires flatbuffers>=2.0, but you have flatbuffers 1.12 which is incompatible.\n",
      "tensorflow-gpu 2.10.0 requires keras<2.11,>=2.10.0, but you have keras 2.15.0 which is incompatible.\n",
      "tensorflow-gpu 2.10.0 requires protobuf<3.20,>=3.9.2, but you have protobuf 5.29.2 which is incompatible.\n",
      "tensorflow-gpu 2.10.0 requires tensorboard<2.11,>=2.10, but you have tensorboard 2.18.0 which is incompatible.\n",
      "tensorflow-intel 2.18.0 requires absl-py>=1.0.0, but you have absl-py 0.15.0 which is incompatible.\n",
      "tensorflow-intel 2.18.0 requires flatbuffers>=24.3.25, but you have flatbuffers 1.12 which is incompatible.\n",
      "tensorflow-intel 2.18.0 requires h5py>=3.11.0, but you have h5py 3.1.0 which is incompatible.\n",
      "tensorflow-intel 2.18.0 requires keras>=3.5.0, but you have keras 2.15.0 which is incompatible.\n"
     ]
    }
   ],
   "source": [
    "pip install --upgrade numpy"
   ]
  },
  {
   "cell_type": "code",
   "execution_count": 4,
   "metadata": {
    "collapsed": true,
    "jupyter": {
     "outputs_hidden": true
    }
   },
   "outputs": [
    {
     "name": "stdout",
     "output_type": "stream",
     "text": [
      "Collecting seaborn\n",
      "  Using cached seaborn-0.13.2-py3-none-any.whl.metadata (5.4 kB)\n",
      "Requirement already satisfied: numpy!=1.24.0,>=1.20 in c:\\users\\91905\\anaconda3\\envs\\py-3-11-10\\lib\\site-packages (from seaborn) (2.0.2)\n",
      "Requirement already satisfied: pandas>=1.2 in c:\\users\\91905\\anaconda3\\envs\\py-3-11-10\\lib\\site-packages (from seaborn) (2.2.3)\n",
      "Requirement already satisfied: matplotlib!=3.6.1,>=3.4 in c:\\users\\91905\\anaconda3\\envs\\py-3-11-10\\lib\\site-packages (from seaborn) (3.10.0)\n",
      "Requirement already satisfied: contourpy>=1.0.1 in c:\\users\\91905\\anaconda3\\envs\\py-3-11-10\\lib\\site-packages (from matplotlib!=3.6.1,>=3.4->seaborn) (1.3.1)\n",
      "Requirement already satisfied: cycler>=0.10 in c:\\users\\91905\\anaconda3\\envs\\py-3-11-10\\lib\\site-packages (from matplotlib!=3.6.1,>=3.4->seaborn) (0.12.1)\n",
      "Requirement already satisfied: fonttools>=4.22.0 in c:\\users\\91905\\anaconda3\\envs\\py-3-11-10\\lib\\site-packages (from matplotlib!=3.6.1,>=3.4->seaborn) (4.55.3)\n",
      "Requirement already satisfied: kiwisolver>=1.3.1 in c:\\users\\91905\\anaconda3\\envs\\py-3-11-10\\lib\\site-packages (from matplotlib!=3.6.1,>=3.4->seaborn) (1.4.7)\n",
      "Requirement already satisfied: packaging>=20.0 in c:\\users\\91905\\anaconda3\\envs\\py-3-11-10\\lib\\site-packages (from matplotlib!=3.6.1,>=3.4->seaborn) (24.1)\n",
      "Requirement already satisfied: pillow>=8 in c:\\users\\91905\\anaconda3\\envs\\py-3-11-10\\lib\\site-packages (from matplotlib!=3.6.1,>=3.4->seaborn) (11.0.0)\n",
      "Requirement already satisfied: pyparsing>=2.3.1 in c:\\users\\91905\\anaconda3\\envs\\py-3-11-10\\lib\\site-packages (from matplotlib!=3.6.1,>=3.4->seaborn) (3.2.0)\n",
      "Requirement already satisfied: python-dateutil>=2.7 in c:\\users\\91905\\anaconda3\\envs\\py-3-11-10\\lib\\site-packages (from matplotlib!=3.6.1,>=3.4->seaborn) (2.9.0.post0)\n",
      "Requirement already satisfied: pytz>=2020.1 in c:\\users\\91905\\anaconda3\\envs\\py-3-11-10\\lib\\site-packages (from pandas>=1.2->seaborn) (2024.1)\n",
      "Requirement already satisfied: tzdata>=2022.7 in c:\\users\\91905\\anaconda3\\envs\\py-3-11-10\\lib\\site-packages (from pandas>=1.2->seaborn) (2024.2)\n",
      "Requirement already satisfied: six>=1.5 in c:\\users\\91905\\anaconda3\\envs\\py-3-11-10\\lib\\site-packages (from python-dateutil>=2.7->matplotlib!=3.6.1,>=3.4->seaborn) (1.16.0)\n",
      "Using cached seaborn-0.13.2-py3-none-any.whl (294 kB)\n",
      "Installing collected packages: seaborn\n",
      "Successfully installed seaborn-0.13.2\n",
      "Note: you may need to restart the kernel to use updated packages.\n"
     ]
    }
   ],
   "source": [
    "pip install seaborn"
   ]
  },
  {
   "cell_type": "code",
   "execution_count": 2,
   "metadata": {
    "collapsed": true,
    "jupyter": {
     "outputs_hidden": true
    }
   },
   "outputs": [
    {
     "name": "stdout",
     "output_type": "stream",
     "text": [
      "Collecting tensorflow\n",
      "  Using cached tensorflow-2.18.0-cp39-cp39-win_amd64.whl.metadata (3.3 kB)\n",
      "Collecting tensorflow-intel==2.18.0 (from tensorflow)\n",
      "  Using cached tensorflow_intel-2.18.0-cp39-cp39-win_amd64.whl.metadata (4.9 kB)\n",
      "Requirement already satisfied: absl-py>=1.0.0 in c:\\users\\91905\\anaconda3\\envs\\py-3-9-20\\lib\\site-packages (from tensorflow-intel==2.18.0->tensorflow) (2.1.0)\n",
      "Requirement already satisfied: astunparse>=1.6.0 in c:\\users\\91905\\anaconda3\\envs\\py-3-9-20\\lib\\site-packages (from tensorflow-intel==2.18.0->tensorflow) (1.6.3)\n",
      "Requirement already satisfied: flatbuffers>=24.3.25 in c:\\users\\91905\\anaconda3\\envs\\py-3-9-20\\lib\\site-packages (from tensorflow-intel==2.18.0->tensorflow) (24.3.25)\n",
      "Requirement already satisfied: gast!=0.5.0,!=0.5.1,!=0.5.2,>=0.2.1 in c:\\users\\91905\\anaconda3\\envs\\py-3-9-20\\lib\\site-packages (from tensorflow-intel==2.18.0->tensorflow) (0.4.0)\n",
      "Requirement already satisfied: google-pasta>=0.1.1 in c:\\users\\91905\\anaconda3\\envs\\py-3-9-20\\lib\\site-packages (from tensorflow-intel==2.18.0->tensorflow) (0.2.0)\n",
      "Requirement already satisfied: libclang>=13.0.0 in c:\\users\\91905\\anaconda3\\envs\\py-3-9-20\\lib\\site-packages (from tensorflow-intel==2.18.0->tensorflow) (18.1.1)\n",
      "Requirement already satisfied: opt-einsum>=2.3.2 in c:\\users\\91905\\anaconda3\\envs\\py-3-9-20\\lib\\site-packages (from tensorflow-intel==2.18.0->tensorflow) (3.4.0)\n",
      "Requirement already satisfied: packaging in c:\\users\\91905\\anaconda3\\envs\\py-3-9-20\\lib\\site-packages (from tensorflow-intel==2.18.0->tensorflow) (24.1)\n",
      "Collecting protobuf!=4.21.0,!=4.21.1,!=4.21.2,!=4.21.3,!=4.21.4,!=4.21.5,<6.0.0dev,>=3.20.3 (from tensorflow-intel==2.18.0->tensorflow)\n",
      "  Downloading protobuf-5.29.2-cp39-cp39-win_amd64.whl.metadata (592 bytes)\n",
      "Requirement already satisfied: requests<3,>=2.21.0 in c:\\users\\91905\\anaconda3\\envs\\py-3-9-20\\lib\\site-packages (from tensorflow-intel==2.18.0->tensorflow) (2.32.3)\n",
      "Requirement already satisfied: setuptools in c:\\users\\91905\\anaconda3\\envs\\py-3-9-20\\lib\\site-packages (from tensorflow-intel==2.18.0->tensorflow) (75.1.0)\n",
      "Requirement already satisfied: six>=1.12.0 in c:\\users\\91905\\anaconda3\\envs\\py-3-9-20\\lib\\site-packages (from tensorflow-intel==2.18.0->tensorflow) (1.16.0)\n",
      "Requirement already satisfied: termcolor>=1.1.0 in c:\\users\\91905\\anaconda3\\envs\\py-3-9-20\\lib\\site-packages (from tensorflow-intel==2.18.0->tensorflow) (2.5.0)\n",
      "Requirement already satisfied: typing-extensions>=3.6.6 in c:\\users\\91905\\anaconda3\\envs\\py-3-9-20\\lib\\site-packages (from tensorflow-intel==2.18.0->tensorflow) (4.11.0)\n",
      "Requirement already satisfied: wrapt>=1.11.0 in c:\\users\\91905\\anaconda3\\envs\\py-3-9-20\\lib\\site-packages (from tensorflow-intel==2.18.0->tensorflow) (1.17.0)\n",
      "Requirement already satisfied: grpcio<2.0,>=1.24.3 in c:\\users\\91905\\anaconda3\\envs\\py-3-9-20\\lib\\site-packages (from tensorflow-intel==2.18.0->tensorflow) (1.68.1)\n",
      "Collecting tensorboard<2.19,>=2.18 (from tensorflow-intel==2.18.0->tensorflow)\n",
      "  Using cached tensorboard-2.18.0-py3-none-any.whl.metadata (1.6 kB)\n",
      "Collecting keras>=3.5.0 (from tensorflow-intel==2.18.0->tensorflow)\n",
      "  Using cached keras-3.7.0-py3-none-any.whl.metadata (5.8 kB)\n",
      "Collecting numpy<2.1.0,>=1.26.0 (from tensorflow-intel==2.18.0->tensorflow)\n",
      "  Using cached numpy-2.0.2-cp39-cp39-win_amd64.whl.metadata (59 kB)\n",
      "Requirement already satisfied: h5py>=3.11.0 in c:\\users\\91905\\anaconda3\\envs\\py-3-9-20\\lib\\site-packages (from tensorflow-intel==2.18.0->tensorflow) (3.12.1)\n",
      "Collecting ml-dtypes<0.5.0,>=0.4.0 (from tensorflow-intel==2.18.0->tensorflow)\n",
      "  Using cached ml_dtypes-0.4.1-cp39-cp39-win_amd64.whl.metadata (20 kB)\n",
      "Requirement already satisfied: tensorflow-io-gcs-filesystem>=0.23.1 in c:\\users\\91905\\anaconda3\\envs\\py-3-9-20\\lib\\site-packages (from tensorflow-intel==2.18.0->tensorflow) (0.31.0)\n",
      "Requirement already satisfied: wheel<1.0,>=0.23.0 in c:\\users\\91905\\anaconda3\\envs\\py-3-9-20\\lib\\site-packages (from astunparse>=1.6.0->tensorflow-intel==2.18.0->tensorflow) (0.44.0)\n",
      "Requirement already satisfied: rich in c:\\users\\91905\\anaconda3\\envs\\py-3-9-20\\lib\\site-packages (from keras>=3.5.0->tensorflow-intel==2.18.0->tensorflow) (13.9.4)\n",
      "Collecting namex (from keras>=3.5.0->tensorflow-intel==2.18.0->tensorflow)\n",
      "  Using cached namex-0.0.8-py3-none-any.whl.metadata (246 bytes)\n",
      "Collecting optree (from keras>=3.5.0->tensorflow-intel==2.18.0->tensorflow)\n",
      "  Using cached optree-0.13.1-cp39-cp39-win_amd64.whl.metadata (48 kB)\n",
      "Requirement already satisfied: charset-normalizer<4,>=2 in c:\\users\\91905\\anaconda3\\envs\\py-3-9-20\\lib\\site-packages (from requests<3,>=2.21.0->tensorflow-intel==2.18.0->tensorflow) (3.3.2)\n",
      "Requirement already satisfied: idna<4,>=2.5 in c:\\users\\91905\\anaconda3\\envs\\py-3-9-20\\lib\\site-packages (from requests<3,>=2.21.0->tensorflow-intel==2.18.0->tensorflow) (3.7)\n",
      "Requirement already satisfied: urllib3<3,>=1.21.1 in c:\\users\\91905\\anaconda3\\envs\\py-3-9-20\\lib\\site-packages (from requests<3,>=2.21.0->tensorflow-intel==2.18.0->tensorflow) (2.2.3)\n",
      "Requirement already satisfied: certifi>=2017.4.17 in c:\\users\\91905\\anaconda3\\envs\\py-3-9-20\\lib\\site-packages (from requests<3,>=2.21.0->tensorflow-intel==2.18.0->tensorflow) (2024.8.30)\n",
      "Requirement already satisfied: markdown>=2.6.8 in c:\\users\\91905\\anaconda3\\envs\\py-3-9-20\\lib\\site-packages (from tensorboard<2.19,>=2.18->tensorflow-intel==2.18.0->tensorflow) (3.7)\n",
      "Collecting tensorboard-data-server<0.8.0,>=0.7.0 (from tensorboard<2.19,>=2.18->tensorflow-intel==2.18.0->tensorflow)\n",
      "  Using cached tensorboard_data_server-0.7.2-py3-none-any.whl.metadata (1.1 kB)\n",
      "Requirement already satisfied: werkzeug>=1.0.1 in c:\\users\\91905\\anaconda3\\envs\\py-3-9-20\\lib\\site-packages (from tensorboard<2.19,>=2.18->tensorflow-intel==2.18.0->tensorflow) (3.1.3)\n",
      "Requirement already satisfied: importlib-metadata>=4.4 in c:\\users\\91905\\anaconda3\\envs\\py-3-9-20\\lib\\site-packages (from markdown>=2.6.8->tensorboard<2.19,>=2.18->tensorflow-intel==2.18.0->tensorflow) (8.5.0)\n",
      "Requirement already satisfied: MarkupSafe>=2.1.1 in c:\\users\\91905\\anaconda3\\envs\\py-3-9-20\\lib\\site-packages (from werkzeug>=1.0.1->tensorboard<2.19,>=2.18->tensorflow-intel==2.18.0->tensorflow) (2.1.3)\n",
      "Requirement already satisfied: markdown-it-py>=2.2.0 in c:\\users\\91905\\anaconda3\\envs\\py-3-9-20\\lib\\site-packages (from rich->keras>=3.5.0->tensorflow-intel==2.18.0->tensorflow) (3.0.0)\n",
      "Requirement already satisfied: pygments<3.0.0,>=2.13.0 in c:\\users\\91905\\anaconda3\\envs\\py-3-9-20\\lib\\site-packages (from rich->keras>=3.5.0->tensorflow-intel==2.18.0->tensorflow) (2.15.1)\n",
      "Requirement already satisfied: zipp>=3.20 in c:\\users\\91905\\anaconda3\\envs\\py-3-9-20\\lib\\site-packages (from importlib-metadata>=4.4->markdown>=2.6.8->tensorboard<2.19,>=2.18->tensorflow-intel==2.18.0->tensorflow) (3.21.0)\n",
      "Requirement already satisfied: mdurl~=0.1 in c:\\users\\91905\\anaconda3\\envs\\py-3-9-20\\lib\\site-packages (from markdown-it-py>=2.2.0->rich->keras>=3.5.0->tensorflow-intel==2.18.0->tensorflow) (0.1.2)\n",
      "Using cached tensorflow-2.18.0-cp39-cp39-win_amd64.whl (7.5 kB)\n",
      "Using cached tensorflow_intel-2.18.0-cp39-cp39-win_amd64.whl (390.0 MB)\n",
      "Using cached keras-3.7.0-py3-none-any.whl (1.2 MB)\n",
      "Using cached ml_dtypes-0.4.1-cp39-cp39-win_amd64.whl (126 kB)\n",
      "Using cached numpy-2.0.2-cp39-cp39-win_amd64.whl (15.9 MB)\n",
      "Downloading protobuf-5.29.2-cp39-cp39-win_amd64.whl (434 kB)\n",
      "Using cached tensorboard-2.18.0-py3-none-any.whl (5.5 MB)\n",
      "Using cached tensorboard_data_server-0.7.2-py3-none-any.whl (2.4 kB)\n",
      "Using cached namex-0.0.8-py3-none-any.whl (5.8 kB)\n",
      "Using cached optree-0.13.1-cp39-cp39-win_amd64.whl (277 kB)\n",
      "Installing collected packages: namex, tensorboard-data-server, protobuf, optree, numpy, ml-dtypes, tensorboard, keras, tensorflow-intel, tensorflow\n",
      "  Attempting uninstall: tensorboard-data-server\n",
      "    Found existing installation: tensorboard-data-server 0.6.1\n",
      "    Uninstalling tensorboard-data-server-0.6.1:\n",
      "      Successfully uninstalled tensorboard-data-server-0.6.1\n",
      "  Attempting uninstall: protobuf\n",
      "    Found existing installation: protobuf 3.19.6\n",
      "    Uninstalling protobuf-3.19.6:\n",
      "      Successfully uninstalled protobuf-3.19.6\n",
      "  Attempting uninstall: numpy\n",
      "    Found existing installation: numpy 1.23.0\n",
      "    Uninstalling numpy-1.23.0:\n",
      "      Successfully uninstalled numpy-1.23.0\n",
      "  Attempting uninstall: tensorboard\n",
      "    Found existing installation: tensorboard 2.10.1\n",
      "    Uninstalling tensorboard-2.10.1:\n",
      "      Successfully uninstalled tensorboard-2.10.1\n",
      "  Attempting uninstall: keras\n",
      "    Found existing installation: keras 2.10.0\n",
      "    Uninstalling keras-2.10.0:\n",
      "      Successfully uninstalled keras-2.10.0\n",
      "Successfully installed keras-3.7.0 ml-dtypes-0.4.1 namex-0.0.8 numpy-2.0.2 optree-0.13.1 protobuf-5.29.2 tensorboard-2.18.0 tensorboard-data-server-0.7.2 tensorflow-2.18.0 tensorflow-intel-2.18.0\n",
      "Note: you may need to restart the kernel to use updated packages.\n"
     ]
    },
    {
     "name": "stderr",
     "output_type": "stream",
     "text": [
      "ERROR: pip's dependency resolver does not currently take into account all the packages that are installed. This behaviour is the source of the following dependency conflicts.\n",
      "stable-baselines3 2.4.0 requires numpy<2.0,>=1.20, but you have numpy 2.0.2 which is incompatible.\n",
      "tensorflow-gpu 2.10.0 requires keras<2.11,>=2.10.0, but you have keras 3.7.0 which is incompatible.\n",
      "tensorflow-gpu 2.10.0 requires protobuf<3.20,>=3.9.2, but you have protobuf 5.29.2 which is incompatible.\n",
      "tensorflow-gpu 2.10.0 requires tensorboard<2.11,>=2.10, but you have tensorboard 2.18.0 which is incompatible.\n"
     ]
    }
   ],
   "source": [
    "pip install tensorflow"
   ]
  },
  {
   "cell_type": "code",
   "execution_count": 11,
   "metadata": {},
   "outputs": [
    {
     "name": "stdout",
     "output_type": "stream",
     "text": [
      "Collecting tables\n",
      "  Downloading tables-3.10.1-cp311-cp311-win_amd64.whl.metadata (2.3 kB)\n",
      "Requirement already satisfied: numpy>=1.20.0 in c:\\users\\91905\\anaconda3\\envs\\py-3-11-10\\lib\\site-packages (from tables) (2.0.2)\n",
      "Collecting numexpr>=2.6.2 (from tables)\n",
      "  Downloading numexpr-2.10.2-cp311-cp311-win_amd64.whl.metadata (8.3 kB)\n",
      "Requirement already satisfied: packaging in c:\\users\\91905\\anaconda3\\envs\\py-3-11-10\\lib\\site-packages (from tables) (24.1)\n",
      "Collecting py-cpuinfo (from tables)\n",
      "  Using cached py_cpuinfo-9.0.0-py3-none-any.whl.metadata (794 bytes)\n",
      "Collecting blosc2>=2.3.0 (from tables)\n",
      "  Downloading blosc2-3.0.0-cp311-cp311-win_amd64.whl.metadata (13 kB)\n",
      "Requirement already satisfied: typing-extensions>=4.4.0 in c:\\users\\91905\\anaconda3\\envs\\py-3-11-10\\lib\\site-packages (from tables) (4.11.0)\n",
      "Collecting ndindex (from blosc2>=2.3.0->tables)\n",
      "  Downloading ndindex-1.9.2-cp311-cp311-win_amd64.whl.metadata (3.5 kB)\n",
      "Requirement already satisfied: msgpack in c:\\users\\91905\\anaconda3\\envs\\py-3-11-10\\lib\\site-packages (from blosc2>=2.3.0->tables) (1.1.0)\n",
      "Requirement already satisfied: httpx in c:\\users\\91905\\anaconda3\\envs\\py-3-11-10\\lib\\site-packages (from blosc2>=2.3.0->tables) (0.27.0)\n",
      "Requirement already satisfied: anyio in c:\\users\\91905\\anaconda3\\envs\\py-3-11-10\\lib\\site-packages (from httpx->blosc2>=2.3.0->tables) (4.6.2)\n",
      "Requirement already satisfied: certifi in c:\\users\\91905\\anaconda3\\envs\\py-3-11-10\\lib\\site-packages (from httpx->blosc2>=2.3.0->tables) (2024.8.30)\n",
      "Requirement already satisfied: httpcore==1.* in c:\\users\\91905\\anaconda3\\envs\\py-3-11-10\\lib\\site-packages (from httpx->blosc2>=2.3.0->tables) (1.0.2)\n",
      "Requirement already satisfied: idna in c:\\users\\91905\\anaconda3\\envs\\py-3-11-10\\lib\\site-packages (from httpx->blosc2>=2.3.0->tables) (3.7)\n",
      "Requirement already satisfied: sniffio in c:\\users\\91905\\anaconda3\\envs\\py-3-11-10\\lib\\site-packages (from httpx->blosc2>=2.3.0->tables) (1.3.0)\n",
      "Requirement already satisfied: h11<0.15,>=0.13 in c:\\users\\91905\\anaconda3\\envs\\py-3-11-10\\lib\\site-packages (from httpcore==1.*->httpx->blosc2>=2.3.0->tables) (0.14.0)\n",
      "Downloading tables-3.10.1-cp311-cp311-win_amd64.whl (6.3 MB)\n",
      "   ---------------------------------------- 0.0/6.3 MB ? eta -:--:--\n",
      "   ----------- ---------------------------- 1.8/6.3 MB 11.2 MB/s eta 0:00:01\n",
      "   --------------------- ------------------ 3.4/6.3 MB 8.4 MB/s eta 0:00:01\n",
      "   ------------------------------- -------- 5.0/6.3 MB 8.4 MB/s eta 0:00:01\n",
      "   ---------------------------------------  6.3/6.3 MB 8.0 MB/s eta 0:00:01\n",
      "   ---------------------------------------- 6.3/6.3 MB 6.7 MB/s eta 0:00:00\n",
      "Downloading blosc2-3.0.0-cp311-cp311-win_amd64.whl (2.2 MB)\n",
      "   ---------------------------------------- 0.0/2.2 MB ? eta -:--:--\n",
      "   ---------------------------- ----------- 1.6/2.2 MB 7.0 MB/s eta 0:00:01\n",
      "   ---------------------------------------- 2.2/2.2 MB 6.8 MB/s eta 0:00:00\n",
      "Downloading numexpr-2.10.2-cp311-cp311-win_amd64.whl (144 kB)\n",
      "Using cached py_cpuinfo-9.0.0-py3-none-any.whl (22 kB)\n",
      "Downloading ndindex-1.9.2-cp311-cp311-win_amd64.whl (159 kB)\n",
      "Installing collected packages: py-cpuinfo, numexpr, ndindex, blosc2, tables\n",
      "Successfully installed blosc2-3.0.0 ndindex-1.9.2 numexpr-2.10.2 py-cpuinfo-9.0.0 tables-3.10.1\n",
      "Note: you may need to restart the kernel to use updated packages.\n"
     ]
    }
   ],
   "source": [
    "pip install tables"
   ]
  },
  {
   "cell_type": "code",
   "execution_count": 2,
   "metadata": {
    "collapsed": true,
    "jupyter": {
     "outputs_hidden": true
    }
   },
   "outputs": [
    {
     "name": "stdout",
     "output_type": "stream",
     "text": [
      "Collecting tensorforce\n",
      "  Using cached Tensorforce-0.6.5-py3-none-any.whl.metadata (3.6 kB)\n",
      "Collecting gym>=0.19.0 (from tensorforce)\n",
      "  Using cached gym-0.26.2.tar.gz (721 kB)\n",
      "  Installing build dependencies: started\n",
      "  Installing build dependencies: finished with status 'done'\n",
      "  Getting requirements to build wheel: started\n",
      "  Getting requirements to build wheel: finished with status 'done'\n",
      "  Preparing metadata (pyproject.toml): started\n",
      "  Preparing metadata (pyproject.toml): finished with status 'done'\n",
      "Collecting h5py~=3.1.0 (from tensorforce)\n",
      "  Using cached h5py-3.1.0.tar.gz (371 kB)\n",
      "  Installing build dependencies: started\n",
      "  Installing build dependencies: finished with status 'done'\n",
      "  Getting requirements to build wheel: started\n",
      "  Getting requirements to build wheel: finished with status 'done'\n",
      "  Installing backend dependencies: started\n",
      "  Installing backend dependencies: finished with status 'error'\n",
      "Note: you may need to restart the kernel to use updated packages.\n"
     ]
    },
    {
     "name": "stderr",
     "output_type": "stream",
     "text": [
      "  error: subprocess-exited-with-error\n",
      "  \n",
      "  pip subprocess to install backend dependencies did not run successfully.\n",
      "  exit code: 1\n",
      "  \n",
      "  [302 lines of output]\n",
      "  Collecting pkgconfig\n",
      "    Downloading pkgconfig-1.5.5-py3-none-any.whl.metadata (4.0 kB)\n",
      "  Collecting numpy==1.19.3\n",
      "    Using cached numpy-1.19.3.zip (7.3 MB)\n",
      "    Installing build dependencies: started\n",
      "    Installing build dependencies: finished with status 'done'\n",
      "    Getting requirements to build wheel: started\n",
      "    Getting requirements to build wheel: finished with status 'done'\n",
      "    Preparing metadata (pyproject.toml): started\n",
      "    Preparing metadata (pyproject.toml): finished with status 'error'\n",
      "    error: subprocess-exited-with-error\n",
      "  \n",
      "    Preparing metadata (pyproject.toml) did not run successfully.\n",
      "    exit code: 1\n",
      "  \n",
      "    [275 lines of output]\n",
      "    setup.py:67: RuntimeWarning: NumPy 1.19.3 may not yet support Python 3.10.\n",
      "      warnings.warn(\n",
      "    Running from numpy source directory.\n",
      "    setup.py:480: UserWarning: Unrecognized setuptools command, proceeding with generating Cython sources and expanding templates\n",
      "      run_build = parse_setuppy_commands()\n",
      "    Processing numpy/random\\_bounded_integers.pxd.in\n",
      "    Processing numpy/random\\bit_generator.pyx\n",
      "    Processing numpy/random\\mtrand.pyx\n",
      "    Processing numpy/random\\_bounded_integers.pyx.in\n",
      "    Processing numpy/random\\_common.pyx\n",
      "    Processing numpy/random\\_generator.pyx\n",
      "    Processing numpy/random\\_mt19937.pyx\n",
      "    Processing numpy/random\\_pcg64.pyx\n",
      "    Processing numpy/random\\_philox.pyx\n",
      "    Processing numpy/random\\_sfc64.pyx\n",
      "    Cythonizing sources\n",
      "    blas_opt_info:\n",
      "    blas_mkl_info:\n",
      "    No module named 'numpy.distutils._msvccompiler' in numpy.distutils; trying from distutils\n",
      "    customize MSVCCompiler\n",
      "      libraries mkl_rt not found in ['C:\\\\Users\\\\91905\\\\anaconda3\\\\envs\\\\py3-10\\\\lib', 'C:\\\\', 'C:\\\\Users\\\\91905\\\\anaconda3\\\\envs\\\\py3-10\\\\libs', 'C:\\\\Users\\\\91905\\\\anaconda3\\\\Library\\\\lib']\n",
      "      NOT AVAILABLE\n",
      "  \n",
      "    blis_info:\n",
      "      libraries blis not found in ['C:\\\\Users\\\\91905\\\\anaconda3\\\\envs\\\\py3-10\\\\lib', 'C:\\\\', 'C:\\\\Users\\\\91905\\\\anaconda3\\\\envs\\\\py3-10\\\\libs', 'C:\\\\Users\\\\91905\\\\anaconda3\\\\Library\\\\lib']\n",
      "      NOT AVAILABLE\n",
      "  \n",
      "    openblas_info:\n",
      "      libraries openblas not found in ['C:\\\\Users\\\\91905\\\\anaconda3\\\\envs\\\\py3-10\\\\lib', 'C:\\\\', 'C:\\\\Users\\\\91905\\\\anaconda3\\\\envs\\\\py3-10\\\\libs', 'C:\\\\Users\\\\91905\\\\anaconda3\\\\Library\\\\lib']\n",
      "    get_default_fcompiler: matching types: '['gnu', 'intelv', 'absoft', 'compaqv', 'intelev', 'gnu95', 'g95', 'intelvem', 'intelem', 'flang']'\n",
      "    customize GnuFCompiler\n",
      "    Could not locate executable g77\n",
      "    Could not locate executable f77\n",
      "    customize IntelVisualFCompiler\n",
      "    Could not locate executable ifort\n",
      "    Could not locate executable ifl\n",
      "    customize AbsoftFCompiler\n",
      "    Could not locate executable f90\n",
      "    customize CompaqVisualFCompiler\n",
      "    Could not locate executable DF\n",
      "    customize IntelItaniumVisualFCompiler\n",
      "    Could not locate executable efl\n",
      "    customize Gnu95FCompiler\n",
      "    Could not locate executable gfortran\n",
      "    Could not locate executable f95\n",
      "    customize G95FCompiler\n",
      "    Could not locate executable g95\n",
      "    customize IntelEM64VisualFCompiler\n",
      "    customize IntelEM64TFCompiler\n",
      "    Could not locate executable efort\n",
      "    Could not locate executable efc\n",
      "    customize PGroupFlangCompiler\n",
      "    Could not locate executable flang\n",
      "    don't know how to compile Fortran code on platform 'nt'\n",
      "      NOT AVAILABLE\n",
      "  \n",
      "    atlas_3_10_blas_threads_info:\n",
      "    Setting PTATLAS=ATLAS\n",
      "      libraries tatlas not found in ['C:\\\\Users\\\\91905\\\\anaconda3\\\\envs\\\\py3-10\\\\lib', 'C:\\\\', 'C:\\\\Users\\\\91905\\\\anaconda3\\\\envs\\\\py3-10\\\\libs', 'C:\\\\Users\\\\91905\\\\anaconda3\\\\Library\\\\lib']\n",
      "      NOT AVAILABLE\n",
      "  \n",
      "    atlas_3_10_blas_info:\n",
      "      libraries satlas not found in ['C:\\\\Users\\\\91905\\\\anaconda3\\\\envs\\\\py3-10\\\\lib', 'C:\\\\', 'C:\\\\Users\\\\91905\\\\anaconda3\\\\envs\\\\py3-10\\\\libs', 'C:\\\\Users\\\\91905\\\\anaconda3\\\\Library\\\\lib']\n",
      "      NOT AVAILABLE\n",
      "  \n",
      "    atlas_blas_threads_info:\n",
      "    Setting PTATLAS=ATLAS\n",
      "      libraries ptf77blas,ptcblas,atlas not found in ['C:\\\\Users\\\\91905\\\\anaconda3\\\\envs\\\\py3-10\\\\lib', 'C:\\\\', 'C:\\\\Users\\\\91905\\\\anaconda3\\\\envs\\\\py3-10\\\\libs', 'C:\\\\Users\\\\91905\\\\anaconda3\\\\Library\\\\lib']\n",
      "      NOT AVAILABLE\n",
      "  \n",
      "    atlas_blas_info:\n",
      "      libraries f77blas,cblas,atlas not found in ['C:\\\\Users\\\\91905\\\\anaconda3\\\\envs\\\\py3-10\\\\lib', 'C:\\\\', 'C:\\\\Users\\\\91905\\\\anaconda3\\\\envs\\\\py3-10\\\\libs', 'C:\\\\Users\\\\91905\\\\anaconda3\\\\Library\\\\lib']\n",
      "      NOT AVAILABLE\n",
      "  \n",
      "    accelerate_info:\n",
      "      NOT AVAILABLE\n",
      "  \n",
      "    C:\\Users\\91905\\AppData\\Local\\Temp\\pip-install-jclrwght\\numpy_9cd94704c2ee46e88d5d4006508faca6\\numpy\\distutils\\system_info.py:1914: UserWarning:\n",
      "        Optimized (vendor) Blas libraries are not found.\n",
      "        Falls back to netlib Blas library which has worse performance.\n",
      "        A better performance should be easily gained by switching\n",
      "        Blas library.\n",
      "      if self._calc_info(blas):\n",
      "    blas_info:\n",
      "      libraries blas not found in ['C:\\\\Users\\\\91905\\\\anaconda3\\\\envs\\\\py3-10\\\\lib', 'C:\\\\', 'C:\\\\Users\\\\91905\\\\anaconda3\\\\envs\\\\py3-10\\\\libs', 'C:\\\\Users\\\\91905\\\\anaconda3\\\\Library\\\\lib']\n",
      "      NOT AVAILABLE\n",
      "  \n",
      "    C:\\Users\\91905\\AppData\\Local\\Temp\\pip-install-jclrwght\\numpy_9cd94704c2ee46e88d5d4006508faca6\\numpy\\distutils\\system_info.py:1914: UserWarning:\n",
      "        Blas (http://www.netlib.org/blas/) libraries not found.\n",
      "        Directories to search for the libraries can be specified in the\n",
      "        numpy/distutils/site.cfg file (section [blas]) or by setting\n",
      "        the BLAS environment variable.\n",
      "      if self._calc_info(blas):\n",
      "    blas_src_info:\n",
      "      NOT AVAILABLE\n",
      "  \n",
      "    C:\\Users\\91905\\AppData\\Local\\Temp\\pip-install-jclrwght\\numpy_9cd94704c2ee46e88d5d4006508faca6\\numpy\\distutils\\system_info.py:1914: UserWarning:\n",
      "        Blas (http://www.netlib.org/blas/) sources not found.\n",
      "        Directories to search for the sources can be specified in the\n",
      "        numpy/distutils/site.cfg file (section [blas_src]) or by setting\n",
      "        the BLAS_SRC environment variable.\n",
      "      if self._calc_info(blas):\n",
      "      NOT AVAILABLE\n",
      "  \n",
      "    non-existing path in 'numpy\\\\distutils': 'site.cfg'\n",
      "    lapack_opt_info:\n",
      "    lapack_mkl_info:\n",
      "      libraries mkl_rt not found in ['C:\\\\Users\\\\91905\\\\anaconda3\\\\envs\\\\py3-10\\\\lib', 'C:\\\\', 'C:\\\\Users\\\\91905\\\\anaconda3\\\\envs\\\\py3-10\\\\libs', 'C:\\\\Users\\\\91905\\\\anaconda3\\\\Library\\\\lib']\n",
      "      NOT AVAILABLE\n",
      "  \n",
      "    openblas_lapack_info:\n",
      "      libraries openblas not found in ['C:\\\\Users\\\\91905\\\\anaconda3\\\\envs\\\\py3-10\\\\lib', 'C:\\\\', 'C:\\\\Users\\\\91905\\\\anaconda3\\\\envs\\\\py3-10\\\\libs', 'C:\\\\Users\\\\91905\\\\anaconda3\\\\Library\\\\lib']\n",
      "      NOT AVAILABLE\n",
      "  \n",
      "    openblas_clapack_info:\n",
      "      libraries openblas,lapack not found in ['C:\\\\Users\\\\91905\\\\anaconda3\\\\envs\\\\py3-10\\\\lib', 'C:\\\\', 'C:\\\\Users\\\\91905\\\\anaconda3\\\\envs\\\\py3-10\\\\libs', 'C:\\\\Users\\\\91905\\\\anaconda3\\\\Library\\\\lib']\n",
      "      NOT AVAILABLE\n",
      "  \n",
      "    flame_info:\n",
      "      libraries flame not found in ['C:\\\\Users\\\\91905\\\\anaconda3\\\\envs\\\\py3-10\\\\lib', 'C:\\\\', 'C:\\\\Users\\\\91905\\\\anaconda3\\\\envs\\\\py3-10\\\\libs', 'C:\\\\Users\\\\91905\\\\anaconda3\\\\Library\\\\lib']\n",
      "      NOT AVAILABLE\n",
      "  \n",
      "    atlas_3_10_threads_info:\n",
      "    Setting PTATLAS=ATLAS\n",
      "      libraries lapack_atlas not found in C:\\Users\\91905\\anaconda3\\envs\\py3-10\\lib\n",
      "      libraries tatlas,tatlas not found in C:\\Users\\91905\\anaconda3\\envs\\py3-10\\lib\n",
      "      libraries lapack_atlas not found in C:\\\n",
      "      libraries tatlas,tatlas not found in C:\\\n",
      "      libraries lapack_atlas not found in C:\\Users\\91905\\anaconda3\\envs\\py3-10\\libs\n",
      "      libraries tatlas,tatlas not found in C:\\Users\\91905\\anaconda3\\envs\\py3-10\\libs\n",
      "      libraries lapack_atlas not found in C:\\Users\\91905\\anaconda3\\Library\\lib\n",
      "      libraries tatlas,tatlas not found in C:\\Users\\91905\\anaconda3\\Library\\lib\n",
      "    <class 'numpy.distutils.system_info.atlas_3_10_threads_info'>\n",
      "      NOT AVAILABLE\n",
      "  \n",
      "    atlas_3_10_info:\n",
      "      libraries lapack_atlas not found in C:\\Users\\91905\\anaconda3\\envs\\py3-10\\lib\n",
      "      libraries satlas,satlas not found in C:\\Users\\91905\\anaconda3\\envs\\py3-10\\lib\n",
      "      libraries lapack_atlas not found in C:\\\n",
      "      libraries satlas,satlas not found in C:\\\n",
      "      libraries lapack_atlas not found in C:\\Users\\91905\\anaconda3\\envs\\py3-10\\libs\n",
      "      libraries satlas,satlas not found in C:\\Users\\91905\\anaconda3\\envs\\py3-10\\libs\n",
      "      libraries lapack_atlas not found in C:\\Users\\91905\\anaconda3\\Library\\lib\n",
      "      libraries satlas,satlas not found in C:\\Users\\91905\\anaconda3\\Library\\lib\n",
      "    <class 'numpy.distutils.system_info.atlas_3_10_info'>\n",
      "      NOT AVAILABLE\n",
      "  \n",
      "    atlas_threads_info:\n",
      "    Setting PTATLAS=ATLAS\n",
      "      libraries lapack_atlas not found in C:\\Users\\91905\\anaconda3\\envs\\py3-10\\lib\n",
      "      libraries ptf77blas,ptcblas,atlas not found in C:\\Users\\91905\\anaconda3\\envs\\py3-10\\lib\n",
      "      libraries lapack_atlas not found in C:\\\n",
      "      libraries ptf77blas,ptcblas,atlas not found in C:\\\n",
      "      libraries lapack_atlas not found in C:\\Users\\91905\\anaconda3\\envs\\py3-10\\libs\n",
      "      libraries ptf77blas,ptcblas,atlas not found in C:\\Users\\91905\\anaconda3\\envs\\py3-10\\libs\n",
      "      libraries lapack_atlas not found in C:\\Users\\91905\\anaconda3\\Library\\lib\n",
      "      libraries ptf77blas,ptcblas,atlas not found in C:\\Users\\91905\\anaconda3\\Library\\lib\n",
      "    <class 'numpy.distutils.system_info.atlas_threads_info'>\n",
      "      NOT AVAILABLE\n",
      "  \n",
      "    atlas_info:\n",
      "      libraries lapack_atlas not found in C:\\Users\\91905\\anaconda3\\envs\\py3-10\\lib\n",
      "      libraries f77blas,cblas,atlas not found in C:\\Users\\91905\\anaconda3\\envs\\py3-10\\lib\n",
      "      libraries lapack_atlas not found in C:\\\n",
      "      libraries f77blas,cblas,atlas not found in C:\\\n",
      "      libraries lapack_atlas not found in C:\\Users\\91905\\anaconda3\\envs\\py3-10\\libs\n",
      "      libraries f77blas,cblas,atlas not found in C:\\Users\\91905\\anaconda3\\envs\\py3-10\\libs\n",
      "      libraries lapack_atlas not found in C:\\Users\\91905\\anaconda3\\Library\\lib\n",
      "      libraries f77blas,cblas,atlas not found in C:\\Users\\91905\\anaconda3\\Library\\lib\n",
      "    <class 'numpy.distutils.system_info.atlas_info'>\n",
      "      NOT AVAILABLE\n",
      "  \n",
      "    lapack_info:\n",
      "      libraries lapack not found in ['C:\\\\Users\\\\91905\\\\anaconda3\\\\envs\\\\py3-10\\\\lib', 'C:\\\\', 'C:\\\\Users\\\\91905\\\\anaconda3\\\\envs\\\\py3-10\\\\libs', 'C:\\\\Users\\\\91905\\\\anaconda3\\\\Library\\\\lib']\n",
      "      NOT AVAILABLE\n",
      "  \n",
      "    C:\\Users\\91905\\AppData\\Local\\Temp\\pip-install-jclrwght\\numpy_9cd94704c2ee46e88d5d4006508faca6\\numpy\\distutils\\system_info.py:1748: UserWarning:\n",
      "        Lapack (http://www.netlib.org/lapack/) libraries not found.\n",
      "        Directories to search for the libraries can be specified in the\n",
      "        numpy/distutils/site.cfg file (section [lapack]) or by setting\n",
      "        the LAPACK environment variable.\n",
      "      return getattr(self, '_calc_info_{}'.format(name))()\n",
      "    lapack_src_info:\n",
      "      NOT AVAILABLE\n",
      "  \n",
      "    C:\\Users\\91905\\AppData\\Local\\Temp\\pip-install-jclrwght\\numpy_9cd94704c2ee46e88d5d4006508faca6\\numpy\\distutils\\system_info.py:1748: UserWarning:\n",
      "        Lapack (http://www.netlib.org/lapack/) sources not found.\n",
      "        Directories to search for the sources can be specified in the\n",
      "        numpy/distutils/site.cfg file (section [lapack_src]) or by setting\n",
      "        the LAPACK_SRC environment variable.\n",
      "      return getattr(self, '_calc_info_{}'.format(name))()\n",
      "      NOT AVAILABLE\n",
      "  \n",
      "    numpy_linalg_lapack_lite:\n",
      "      FOUND:\n",
      "        language = c\n",
      "        define_macros = [('HAVE_BLAS_ILP64', None), ('BLAS_SYMBOL_SUFFIX', '64_')]\n",
      "  \n",
      "    C:\\Users\\91905\\AppData\\Local\\Temp\\pip-build-env-2wlvzb_v\\overlay\\Lib\\site-packages\\setuptools\\_distutils\\dist.py:275: UserWarning: Unknown distribution option: 'define_macros'\n",
      "      warnings.warn(msg)\n",
      "    running dist_info\n",
      "    running build_src\n",
      "    build_src\n",
      "    building py_modules sources\n",
      "    creating build\n",
      "    creating build\\src.win-amd64-3.10\n",
      "    creating build\\src.win-amd64-3.10\\numpy\n",
      "    creating build\\src.win-amd64-3.10\\numpy\\distutils\n",
      "    building library \"npymath\" sources\n",
      "    Traceback (most recent call last):\n",
      "      File \"C:\\Users\\91905\\anaconda3\\envs\\py3-10\\Lib\\site-packages\\pip\\_vendor\\pyproject_hooks\\_in_process\\_in_process.py\", line 353, in <module>\n",
      "        main()\n",
      "      File \"C:\\Users\\91905\\anaconda3\\envs\\py3-10\\Lib\\site-packages\\pip\\_vendor\\pyproject_hooks\\_in_process\\_in_process.py\", line 335, in main\n",
      "        json_out['return_val'] = hook(**hook_input['kwargs'])\n",
      "      File \"C:\\Users\\91905\\anaconda3\\envs\\py3-10\\Lib\\site-packages\\pip\\_vendor\\pyproject_hooks\\_in_process\\_in_process.py\", line 149, in prepare_metadata_for_build_wheel\n",
      "        return hook(metadata_directory, config_settings)\n",
      "      File \"C:\\Users\\91905\\AppData\\Local\\Temp\\pip-build-env-2wlvzb_v\\overlay\\Lib\\site-packages\\setuptools\\build_meta.py\", line 157, in prepare_metadata_for_build_wheel\n",
      "        self.run_setup()\n",
      "      File \"C:\\Users\\91905\\AppData\\Local\\Temp\\pip-build-env-2wlvzb_v\\overlay\\Lib\\site-packages\\setuptools\\build_meta.py\", line 248, in run_setup\n",
      "        super(_BuildMetaLegacyBackend,\n",
      "      File \"C:\\Users\\91905\\AppData\\Local\\Temp\\pip-build-env-2wlvzb_v\\overlay\\Lib\\site-packages\\setuptools\\build_meta.py\", line 142, in run_setup\n",
      "        exec(compile(code, __file__, 'exec'), locals())\n",
      "      File \"setup.py\", line 508, in <module>\n",
      "        setup_package()\n",
      "      File \"setup.py\", line 500, in setup_package\n",
      "        setup(**metadata)\n",
      "      File \"C:\\Users\\91905\\AppData\\Local\\Temp\\pip-install-jclrwght\\numpy_9cd94704c2ee46e88d5d4006508faca6\\numpy\\distutils\\core.py\", line 169, in setup\n",
      "        return old_setup(**new_attr)\n",
      "      File \"C:\\Users\\91905\\AppData\\Local\\Temp\\pip-build-env-2wlvzb_v\\overlay\\Lib\\site-packages\\setuptools\\__init__.py\", line 165, in setup\n",
      "        return distutils.core.setup(**attrs)\n",
      "      File \"C:\\Users\\91905\\AppData\\Local\\Temp\\pip-build-env-2wlvzb_v\\overlay\\Lib\\site-packages\\setuptools\\_distutils\\core.py\", line 148, in setup\n",
      "        dist.run_commands()\n",
      "      File \"C:\\Users\\91905\\AppData\\Local\\Temp\\pip-build-env-2wlvzb_v\\overlay\\Lib\\site-packages\\setuptools\\_distutils\\dist.py\", line 967, in run_commands\n",
      "        self.run_command(cmd)\n",
      "      File \"C:\\Users\\91905\\AppData\\Local\\Temp\\pip-build-env-2wlvzb_v\\overlay\\Lib\\site-packages\\setuptools\\_distutils\\dist.py\", line 986, in run_command\n",
      "        cmd_obj.run()\n",
      "      File \"C:\\Users\\91905\\AppData\\Local\\Temp\\pip-build-env-2wlvzb_v\\overlay\\Lib\\site-packages\\setuptools\\command\\dist_info.py\", line 31, in run\n",
      "        egg_info.run()\n",
      "      File \"C:\\Users\\91905\\AppData\\Local\\Temp\\pip-install-jclrwght\\numpy_9cd94704c2ee46e88d5d4006508faca6\\numpy\\distutils\\command\\egg_info.py\", line 24, in run\n",
      "        self.run_command(\"build_src\")\n",
      "      File \"C:\\Users\\91905\\AppData\\Local\\Temp\\pip-build-env-2wlvzb_v\\overlay\\Lib\\site-packages\\setuptools\\_distutils\\cmd.py\", line 313, in run_command\n",
      "        self.distribution.run_command(command)\n",
      "      File \"C:\\Users\\91905\\AppData\\Local\\Temp\\pip-build-env-2wlvzb_v\\overlay\\Lib\\site-packages\\setuptools\\_distutils\\dist.py\", line 986, in run_command\n",
      "        cmd_obj.run()\n",
      "      File \"C:\\Users\\91905\\AppData\\Local\\Temp\\pip-install-jclrwght\\numpy_9cd94704c2ee46e88d5d4006508faca6\\numpy\\distutils\\command\\build_src.py\", line 144, in run\n",
      "        self.build_sources()\n",
      "      File \"C:\\Users\\91905\\AppData\\Local\\Temp\\pip-install-jclrwght\\numpy_9cd94704c2ee46e88d5d4006508faca6\\numpy\\distutils\\command\\build_src.py\", line 155, in build_sources\n",
      "        self.build_library_sources(*libname_info)\n",
      "      File \"C:\\Users\\91905\\AppData\\Local\\Temp\\pip-install-jclrwght\\numpy_9cd94704c2ee46e88d5d4006508faca6\\numpy\\distutils\\command\\build_src.py\", line 288, in build_library_sources\n",
      "        sources = self.generate_sources(sources, (lib_name, build_info))\n",
      "      File \"C:\\Users\\91905\\AppData\\Local\\Temp\\pip-install-jclrwght\\numpy_9cd94704c2ee46e88d5d4006508faca6\\numpy\\distutils\\command\\build_src.py\", line 378, in generate_sources\n",
      "        source = func(extension, build_dir)\n",
      "      File \"numpy\\core\\setup.py\", line 658, in get_mathlib_info\n",
      "        st = config_cmd.try_link('int main(void) { return 0;}')\n",
      "      File \"C:\\Users\\91905\\AppData\\Local\\Temp\\pip-build-env-2wlvzb_v\\overlay\\Lib\\site-packages\\setuptools\\_distutils\\command\\config.py\", line 243, in try_link\n",
      "        self._link(body, headers, include_dirs,\n",
      "      File \"C:\\Users\\91905\\AppData\\Local\\Temp\\pip-install-jclrwght\\numpy_9cd94704c2ee46e88d5d4006508faca6\\numpy\\distutils\\command\\config.py\", line 162, in _link\n",
      "        return self._wrap_method(old_config._link, lang,\n",
      "      File \"C:\\Users\\91905\\AppData\\Local\\Temp\\pip-install-jclrwght\\numpy_9cd94704c2ee46e88d5d4006508faca6\\numpy\\distutils\\command\\config.py\", line 96, in _wrap_method\n",
      "        ret = mth(*((self,)+args))\n",
      "      File \"C:\\Users\\91905\\AppData\\Local\\Temp\\pip-build-env-2wlvzb_v\\overlay\\Lib\\site-packages\\setuptools\\_distutils\\command\\config.py\", line 137, in _link\n",
      "        (src, obj) = self._compile(body, headers, include_dirs, lang)\n",
      "      File \"C:\\Users\\91905\\AppData\\Local\\Temp\\pip-install-jclrwght\\numpy_9cd94704c2ee46e88d5d4006508faca6\\numpy\\distutils\\command\\config.py\", line 105, in _compile\n",
      "        src, obj = self._wrap_method(old_config._compile, lang,\n",
      "      File \"C:\\Users\\91905\\AppData\\Local\\Temp\\pip-install-jclrwght\\numpy_9cd94704c2ee46e88d5d4006508faca6\\numpy\\distutils\\command\\config.py\", line 96, in _wrap_method\n",
      "        ret = mth(*((self,)+args))\n",
      "      File \"C:\\Users\\91905\\AppData\\Local\\Temp\\pip-build-env-2wlvzb_v\\overlay\\Lib\\site-packages\\setuptools\\_distutils\\command\\config.py\", line 132, in _compile\n",
      "        self.compiler.compile([src], include_dirs=include_dirs)\n",
      "      File \"C:\\Users\\91905\\AppData\\Local\\Temp\\pip-build-env-2wlvzb_v\\overlay\\Lib\\site-packages\\setuptools\\_distutils\\_msvccompiler.py\", line 401, in compile\n",
      "        self.spawn(args)\n",
      "      File \"C:\\Users\\91905\\AppData\\Local\\Temp\\pip-build-env-2wlvzb_v\\overlay\\Lib\\site-packages\\setuptools\\_distutils\\_msvccompiler.py\", line 505, in spawn\n",
      "        return super().spawn(cmd, env=env)\n",
      "      File \"C:\\Users\\91905\\AppData\\Local\\Temp\\pip-install-jclrwght\\numpy_9cd94704c2ee46e88d5d4006508faca6\\numpy\\distutils\\ccompiler.py\", line 90, in <lambda>\n",
      "        m = lambda self, *args, **kw: func(self, *args, **kw)\n",
      "    TypeError: CCompiler_spawn() got an unexpected keyword argument 'env'\n",
      "    [end of output]\n",
      "  \n",
      "    note: This error originates from a subprocess, and is likely not a problem with pip.\n",
      "  error: metadata-generation-failed\n",
      "  \n",
      "  Encountered error while generating package metadata.\n",
      "  \n",
      "  See above for output.\n",
      "  \n",
      "  note: This is an issue with the package mentioned above, not pip.\n",
      "  hint: See above for details.\n",
      "  [end of output]\n",
      "  \n",
      "  note: This error originates from a subprocess, and is likely not a problem with pip.\n",
      "error: subprocess-exited-with-error\n",
      "\n",
      "pip subprocess to install backend dependencies did not run successfully.\n",
      "exit code: 1\n",
      "\n",
      "See above for output.\n",
      "\n",
      "note: This error originates from a subprocess, and is likely not a problem with pip.\n"
     ]
    }
   ],
   "source": [
    "pip install tensorforce"
   ]
  },
  {
   "cell_type": "code",
   "execution_count": 5,
   "metadata": {
    "ExecuteTime": {
     "end_time": "2017-11-12T23:19:13.266006Z",
     "start_time": "2017-11-12T23:19:11.514079Z"
    }
   },
   "outputs": [],
   "source": [
    "# plotting\n",
    "%matplotlib inline\n",
    "from matplotlib import pyplot as plt\n",
    "import seaborn as sns\n",
    "plt.style.use('ggplot')\n",
    "\n",
    "# numeric\n",
    "import numpy as np\n",
    "from numpy import random\n",
    "import pandas as pd\n",
    "import tensorflow as tf\n",
    "\n",
    "# util\n",
    "from collections import Counter\n",
    "import pdb\n",
    "import glob\n",
    "import time\n",
    "import tempfile\n",
    "import itertools\n",
    "from tqdm import tqdm_notebook as tqdm\n",
    "import datetime\n",
    "\n",
    "# logging\n",
    "import logging\n",
    "logger = log = logging.getLogger(__name__)\n",
    "# log.setLevel(logging.INFO)\n",
    "logging.basicConfig()\n",
    "log.info('%s logger started.', __name__)"
   ]
  },
  {
   "cell_type": "code",
   "execution_count": 6,
   "metadata": {
    "ExecuteTime": {
     "end_time": "2017-11-12T23:19:13.389088Z",
     "start_time": "2017-11-12T23:19:13.268055Z"
    }
   },
   "outputs": [],
   "source": [
    "import gym\n",
    "from gym import error, spaces, utils\n",
    "from gym.utils import seeding"
   ]
  },
  {
   "cell_type": "code",
   "execution_count": 7,
   "metadata": {
    "ExecuteTime": {
     "end_time": "2017-11-12T23:19:13.426379Z",
     "start_time": "2017-11-12T23:19:13.390716Z"
    }
   },
   "outputs": [],
   "source": [
    "import os\n",
    "os.sys.path.append(os.path.abspath('.'))\n",
    "%reload_ext autoreload\n",
    "%autoreload 2"
   ]
  },
  {
   "cell_type": "code",
   "execution_count": 8,
   "metadata": {
    "ExecuteTime": {
     "end_time": "2017-11-12T23:19:13.466918Z",
     "start_time": "2017-11-12T23:19:13.430051Z"
    }
   },
   "outputs": [
    {
     "data": {
      "text/plain": [
       "'./outputs/tensorforce-PPO/tensorforce_PPO_crypto_20171105_06-50-31'"
      ]
     },
     "execution_count": 8,
     "metadata": {},
     "output_type": "execute_result"
    }
   ],
   "source": [
    "# params\n",
    "window_length = 50\n",
    "cash_bias = 0.0\n",
    "batch_size=128\n",
    "import datetime\n",
    "ts = datetime.datetime.utcnow().strftime('%Y%m%d_%H-%M-%S')\n",
    "save_path = './outputs/tensorforce-PPO/tensorforce_PPO_crypto-%s' % ts\n",
    "save_path = './outputs/tensorforce-PPO/tensorforce_PPO_crypto_20171105_06-50-31'\n",
    "save_path"
   ]
  },
  {
   "cell_type": "code",
   "execution_count": 9,
   "metadata": {
    "ExecuteTime": {
     "end_time": "2017-11-12T23:19:13.547225Z",
     "start_time": "2017-11-12T23:19:13.470766Z"
    }
   },
   "outputs": [
    {
     "data": {
      "text/plain": [
       "'logs\\\\tensorforce_PPO_crypto_20171105_06-50-31\\\\run-20241219_01-04-55'"
      ]
     },
     "execution_count": 9,
     "metadata": {},
     "output_type": "execute_result"
    }
   ],
   "source": [
    "log_dir = os.path.join('logs', os.path.splitext(os.path.basename(save_path))[0], 'run-' + ts)\n",
    "try:\n",
    "    os.makedirs(log_dir)\n",
    "except OSError:\n",
    "    pass\n",
    "log_dir"
   ]
  },
  {
   "cell_type": "markdown",
   "metadata": {},
   "source": [
    "# Enviroment\n",
    "\n",
    "We will wrap out environment so we can modify the inputs, outputs, and attributes for tensorforce.\n",
    "\n",
    "- tensorforce doesn't like dual outputs so we will concat them\n",
    "- we need to softmax the weights since tensorforce doesn't do this"
   ]
  },
  {
   "cell_type": "code",
   "execution_count": 12,
   "metadata": {
    "ExecuteTime": {
     "end_time": "2017-11-12T23:19:13.782496Z",
     "start_time": "2017-11-12T23:19:13.551168Z"
    }
   },
   "outputs": [],
   "source": [
    "from rl_portfolio_management.environments.portfolio import PortfolioEnv\n",
    "from rl_portfolio_management.wrappers import SoftmaxActions, ConcatStates"
   ]
  },
  {
   "cell_type": "code",
   "execution_count": 13,
   "metadata": {
    "ExecuteTime": {
     "end_time": "2017-11-12T23:19:13.898899Z",
     "start_time": "2017-11-12T23:19:13.786267Z"
    }
   },
   "outputs": [
    {
     "ename": "ModuleNotFoundError",
     "evalue": "No module named 'tensorforce'",
     "output_type": "error",
     "traceback": [
      "\u001b[1;31m---------------------------------------------------------------------------\u001b[0m",
      "\u001b[1;31mModuleNotFoundError\u001b[0m                       Traceback (most recent call last)",
      "Cell \u001b[1;32mIn[13], line 3\u001b[0m\n\u001b[0;32m      1\u001b[0m \u001b[38;5;66;03m# tensorforce need us to use this wrapper, passing in a registered gym id\u001b[39;00m\n\u001b[0;32m      2\u001b[0m \u001b[38;5;66;03m# this lets us pass in an object instead of registering it\u001b[39;00m\n\u001b[1;32m----> 3\u001b[0m \u001b[38;5;28;01mfrom\u001b[39;00m \u001b[38;5;21;01mtensorforce\u001b[39;00m\u001b[38;5;21;01m.\u001b[39;00m\u001b[38;5;21;01mcontrib\u001b[39;00m\u001b[38;5;21;01m.\u001b[39;00m\u001b[38;5;21;01mopenai_gym\u001b[39;00m \u001b[38;5;28;01mimport\u001b[39;00m OpenAIGym\n\u001b[0;32m      4\u001b[0m \u001b[38;5;28;01mclass\u001b[39;00m \u001b[38;5;21;01mTFOpenAIGymCust\u001b[39;00m(OpenAIGym):\n\u001b[0;32m      5\u001b[0m     \u001b[38;5;28;01mdef\u001b[39;00m \u001b[38;5;21m__init__\u001b[39m(\u001b[38;5;28mself\u001b[39m, gym_id, gym):\n",
      "\u001b[1;31mModuleNotFoundError\u001b[0m: No module named 'tensorforce'"
     ]
    }
   ],
   "source": [
    "# tensorforce need us to use this wrapper, passing in a registered gym id\n",
    "# this lets us pass in an object instead of registering it\n",
    "from tensorforce.contrib.openai_gym import OpenAIGym\n",
    "class TFOpenAIGymCust(OpenAIGym):\n",
    "    def __init__(self, gym_id, gym):\n",
    "        self.gym_id = gym_id\n",
    "        self.gym = gym"
   ]
  },
  {
   "cell_type": "code",
   "execution_count": 8,
   "metadata": {
    "ExecuteTime": {
     "end_time": "2017-11-12T23:19:13.959906Z",
     "start_time": "2017-11-12T23:19:13.900497Z"
    }
   },
   "outputs": [
    {
     "data": {
      "text/plain": [
       "[0]"
      ]
     },
     "execution_count": 8,
     "metadata": {},
     "output_type": "execute_result"
    }
   ],
   "source": [
    "df_train = pd.read_hdf('./data/poloniex_30m.hf',key='train')\n",
    "env = PortfolioEnv(\n",
    "    df=df_train,\n",
    "    steps=40, \n",
    "    scale=True, \n",
    "    trading_cost=0.0025, \n",
    "    window_length = window_length,\n",
    "    output_mode='EIIE',\n",
    ")\n",
    "# wrap it in a few wrappers\n",
    "env = ConcatStates(env)\n",
    "env = SoftmaxActions(env)\n",
    "environment = TFOpenAIGymCust('CryptoPortfolioEIIE-v0', env)\n",
    "\n",
    "env.seed(0)"
   ]
  },
  {
   "cell_type": "code",
   "execution_count": null,
   "metadata": {
    "ExecuteTime": {
     "end_time": "2017-11-12T06:10:34.259707Z",
     "start_time": "2017-11-12T06:10:34.217310Z"
    }
   },
   "outputs": [],
   "source": []
  },
  {
   "cell_type": "code",
   "execution_count": 9,
   "metadata": {
    "ExecuteTime": {
     "end_time": "2017-11-12T23:19:13.992876Z",
     "start_time": "2017-11-12T23:19:13.961488Z"
    }
   },
   "outputs": [
    {
     "data": {
      "text/plain": [
       "(3, 51, 3)"
      ]
     },
     "execution_count": 9,
     "metadata": {},
     "output_type": "execute_result"
    }
   ],
   "source": [
    "# sanity check out environment is working\n",
    "state = environment.reset()\n",
    "state, reward, done=environment.execute(env.action_space.sample())\n",
    "state.shape"
   ]
  },
  {
   "cell_type": "code",
   "execution_count": 10,
   "metadata": {
    "ExecuteTime": {
     "end_time": "2017-11-12T23:19:14.023039Z",
     "start_time": "2017-11-12T23:19:13.994636Z"
    }
   },
   "outputs": [
    {
     "data": {
      "text/plain": [
       "(3, 51, 3)"
      ]
     },
     "execution_count": 10,
     "metadata": {},
     "output_type": "execute_result"
    }
   ],
   "source": [
    "# sanity check out environment is working\n",
    "state = env.reset()\n",
    "state, reward, done, info=env.step(env.action_space.sample())\n",
    "state.shape"
   ]
  },
  {
   "cell_type": "markdown",
   "metadata": {
    "ExecuteTime": {
     "end_time": "2017-07-16T04:41:21.116729Z",
     "start_time": "2017-07-16T12:41:21.086620+08:00"
    }
   },
   "source": [
    "# Model\n",
    "\n",
    "Derived from  https://github.com/reinforceio/tensorforce/blob/0d07fadec03f76537a2431e17c51cd759d53b5e9/tensorforce/core/networks/layers.py#L90\n",
    "\n",
    "Implemented as per CNN version of https://arxiv.org/abs/1706.10059 "
   ]
  },
  {
   "cell_type": "code",
   "execution_count": 11,
   "metadata": {
    "ExecuteTime": {
     "end_time": "2017-11-12T23:19:32.641647Z",
     "start_time": "2017-11-12T23:19:14.024832Z"
    },
    "collapsed": true,
    "jupyter": {
     "outputs_hidden": true
    }
   },
   "outputs": [],
   "source": [
    "from tensorforce import Configuration\n",
    "from tensorforce.agents import PPOAgent\n",
    "from tensorforce.core.networks import LayeredNetwork, layers, Network, network"
   ]
  },
  {
   "cell_type": "code",
   "execution_count": null,
   "metadata": {
    "ExecuteTime": {
     "end_time": "2017-11-05T08:59:45.251938Z",
     "start_time": "2017-11-05T08:59:45.184678Z"
    },
    "collapsed": true,
    "jupyter": {
     "outputs_hidden": true
    }
   },
   "outputs": [],
   "source": []
  },
  {
   "cell_type": "code",
   "execution_count": 12,
   "metadata": {
    "ExecuteTime": {
     "end_time": "2017-11-12T23:19:33.068774Z",
     "start_time": "2017-11-12T23:19:32.646922Z"
    },
    "collapsed": true,
    "jupyter": {
     "outputs_hidden": true
    }
   },
   "outputs": [],
   "source": [
    "from tensorforce.core.networks import Layer, Conv2d, Nonlinearity\n",
    "class EIIE(Layer):\n",
    "    \"\"\"\n",
    "    EIIE layer\n",
    "    \"\"\"\n",
    "\n",
    "    def __init__(self,\n",
    "                 size=20,\n",
    "                 bias=True,\n",
    "                 activation='relu',\n",
    "                 l2_regularization=0.0,\n",
    "                 l1_regularization=0.0,\n",
    "                 scope='EIIE',\n",
    "                 summary_labels=()):\n",
    "        self.size = size\n",
    "        # Expectation is broadcast back over advantage values so output is of size 1\n",
    "        self.conv1 = Conv2d(\n",
    "            size=3,\n",
    "            bias=bias,\n",
    "            stride=(1,1),\n",
    "            window=(1,3),\n",
    "            padding='VALID',\n",
    "            l2_regularization=l2_regularization,\n",
    "            l1_regularization=l1_regularization,\n",
    "            summary_labels=summary_labels)\n",
    "        self.conv2 = Conv2d(\n",
    "            size=size,\n",
    "            bias=bias,\n",
    "            stride=(1,window_length-2-1),\n",
    "            window=(1,window_length-2-1),\n",
    "            padding='VALID',\n",
    "            l2_regularization=l2_regularization,\n",
    "            l1_regularization=l1_regularization,\n",
    "            summary_labels=summary_labels)\n",
    "        self.conv3 = Conv2d(\n",
    "            size=1,\n",
    "            bias=bias,\n",
    "            stride=(1,1),\n",
    "            window=(1,1),\n",
    "            l2_regularization=l2_regularization,\n",
    "            l1_regularization=l1_regularization,\n",
    "            summary_labels=summary_labels)\n",
    "        self.nonlinearity = Nonlinearity(\n",
    "            name=activation, summary_labels=summary_labels)\n",
    "        self.nonlinearity2 = Nonlinearity(\n",
    "            name=activation, summary_labels=summary_labels)\n",
    "        super(EIIE, self).__init__(\n",
    "            scope=scope, summary_labels=summary_labels)\n",
    "\n",
    "    def tf_apply(self, x0, update):\n",
    "        # where window_size=50, actions=4 (giving the 3), data cols=5\n",
    "        # x0 = (None,3,50,5)\n",
    "        # x = (None,3,49,5)\n",
    "        # x = (None,3,1,1)\n",
    "        # conv1 => (None,3, 47,3)\n",
    "        # conv2 => (None,3, 1, 20)\n",
    "        # concat=> (None,3, 1, 21)\n",
    "        # conv3 => (None,3, 1, 1)\n",
    "        # concat=> (None,2, 1, 1)\n",
    "\n",
    "        w0 = x0[:,:,:1,:1]\n",
    "        x = x0[:,:,1:,:]\n",
    "        \n",
    "        x = self.conv1.apply(x, update=update)\n",
    "        x = self.nonlinearity.apply(x=x, update=update)\n",
    "        \n",
    "        x = self.conv2.apply(x, update=update)\n",
    "        x = self.nonlinearity2.apply(x=x, update=update)\n",
    "        \n",
    "        x = tf.concat([x, w0], 3)\n",
    "        x = self.conv3.apply(x, update=update)\n",
    "        \n",
    "        # concat on cash_bias\n",
    "        cash_bias_int = 0\n",
    "        # FIXME not sure how to make shape with a flexible size in tensorflow but this works for now\n",
    "        # cash_bias = tf.ones(shape=(batch_size,1,1,1)) * cash_bias_int\n",
    "        cash_bias = x[:,:1,:1,:1]*0 \n",
    "        x = tf.concat([cash_bias, x], 1)\n",
    "\n",
    "        if 'activations' in self.summary_labels:\n",
    "            summary = tf.summary.histogram(name='activations', values=x)\n",
    "            self.summaries.append(summary)\n",
    "\n",
    "        return x\n",
    "\n",
    "    def tf_regularization_loss(self):\n",
    "        if super(EIIE, self).tf_regularization_loss() is None:\n",
    "            losses = list()\n",
    "        else:\n",
    "            losses = [super(EIIE, self).tf_regularization_loss()]\n",
    "\n",
    "        if self.conv1.regularization_loss() is not None:\n",
    "            losses.append(self.conv1.regularization_loss())\n",
    "        if self.conv2.regularization_loss() is not None:\n",
    "            losses.append(self.conv2.regularization_loss())\n",
    "        if self.conv1.regularization_loss() is not None:\n",
    "            losses.append(self.conv3.regularization_loss())\n",
    "\n",
    "        if len(losses) > 0:\n",
    "            return tf.add_n(inputs=losses)\n",
    "        else:\n",
    "            return None\n",
    "\n",
    "    def get_variables(self, include_non_trainable=False):\n",
    "        layer_variables = super(EIIE, self).get_variables(\n",
    "            include_non_trainable=include_non_trainable)\n",
    "\n",
    "        layer_variables += self.conv1.get_variables(\n",
    "            include_non_trainable=include_non_trainable)\n",
    "        layer_variables += self.conv2.get_variables(\n",
    "            include_non_trainable=include_non_trainable)\n",
    "        layer_variables += self.conv3.get_variables(\n",
    "            include_non_trainable=include_non_trainable)\n",
    "\n",
    "        layer_variables += self.nonlinearity.get_variables(\n",
    "            include_non_trainable=include_non_trainable)\n",
    "        layer_variables += self.nonlinearity.get_variables(\n",
    "            include_non_trainable=include_non_trainable)\n",
    "\n",
    "        return layer_variables\n",
    "    \n",
    "# Add our custom layer\n",
    "layers['EIIE'] = EIIE\n",
    "\n",
    "# Network as list of layers\n",
    "network_spec = [\n",
    "    dict(type='EIIE', \n",
    "         l1_regularization=1e-8,\n",
    "        l2_regularization=1e-8),\n",
    "    dict(type='flatten')\n",
    "]"
   ]
  },
  {
   "cell_type": "code",
   "execution_count": 19,
   "metadata": {
    "ExecuteTime": {
     "end_time": "2017-11-12T23:38:31.988172Z",
     "start_time": "2017-11-12T23:38:31.948872Z"
    },
    "collapsed": true,
    "jupyter": {
     "outputs_hidden": true
    }
   },
   "outputs": [],
   "source": [
    "# also add a custom baseline\n",
    "from tensorforce.core.baselines import NetworkBaseline\n",
    "from tensorforce.core.baselines import baselines\n",
    "\n",
    "\n",
    "class EIIEBaseline(NetworkBaseline):\n",
    "    \"\"\"\n",
    "    CNN baseline (single-state) consisting of convolutional layers followed by dense layers.\n",
    "    \"\"\"\n",
    "\n",
    "    def __init__(self, layers_spec, scope='eiie-baseline', summary_labels=()):\n",
    "        \"\"\"\n",
    "        CNN baseline.\n",
    "        Args:\n",
    "            conv_sizes: List of convolutional layer sizes\n",
    "            dense_sizes: List of dense layer sizes\n",
    "        \"\"\"\n",
    "\n",
    "        super(EIIEBaseline, self).__init__(layers_spec, scope, summary_labels)\n",
    "        \n",
    "# Add our custom baseline\n",
    "baselines['EIIE']=EIIEBaseline"
   ]
  },
  {
   "cell_type": "markdown",
   "metadata": {},
   "source": [
    "# Agent\n"
   ]
  },
  {
   "cell_type": "code",
   "execution_count": 20,
   "metadata": {
    "ExecuteTime": {
     "end_time": "2017-11-12T23:38:38.921235Z",
     "start_time": "2017-11-12T23:38:32.455152Z"
    },
    "scrolled": true
   },
   "outputs": [
    {
     "name": "stdout",
     "output_type": "stream",
     "text": [
      "\n",
      "INFO:tensorflow:Create CheckpointSaverHook.\n"
     ]
    },
    {
     "name": "stderr",
     "output_type": "stream",
     "text": [
      "INFO:tensorflow:Create CheckpointSaverHook.\n",
      "[2017-11-13 07:38:37,010] Create CheckpointSaverHook.\n"
     ]
    },
    {
     "name": "stdout",
     "output_type": "stream",
     "text": [
      "INFO:tensorflow:Restoring parameters from ./outputs/tensorforce-PPO/tensorforce_PPO_crypto_20171105_06-50-31/model.ckpt-11920000\n"
     ]
    },
    {
     "name": "stderr",
     "output_type": "stream",
     "text": [
      "INFO:tensorflow:Restoring parameters from ./outputs/tensorforce-PPO/tensorforce_PPO_crypto_20171105_06-50-31/model.ckpt-11920000\n",
      "[2017-11-13 07:38:37,497] Restoring parameters from ./outputs/tensorforce-PPO/tensorforce_PPO_crypto_20171105_06-50-31/model.ckpt-11920000\n",
      "WARNING:PPOAgent:Configuration values not accessed: local_model, summary_logdir, summary_frequency, cluster_spec, task_index, parameter_server, distributions, summary_labels, replica_model\n",
      "[2017-11-13 07:38:38,256] Configuration values not accessed: local_model, summary_logdir, summary_frequency, cluster_spec, task_index, parameter_server, distributions, summary_labels, replica_model\n"
     ]
    },
    {
     "name": "stdout",
     "output_type": "stream",
     "text": [
      "INFO:tensorflow:Saving checkpoints for 11920000 into ./outputs/tensorforce-PPO/tensorforce_PPO_crypto_20171105_06-50-31/model.ckpt.\n"
     ]
    },
    {
     "name": "stderr",
     "output_type": "stream",
     "text": [
      "INFO:tensorflow:Saving checkpoints for 11920000 into ./outputs/tensorforce-PPO/tensorforce_PPO_crypto_20171105_06-50-31/model.ckpt.\n",
      "[2017-11-13 07:38:38,299] Saving checkpoints for 11920000 into ./outputs/tensorforce-PPO/tensorforce_PPO_crypto_20171105_06-50-31/model.ckpt.\n"
     ]
    },
    {
     "data": {
      "text/plain": [
       "<tensorforce.agents.ppo_agent.PPOAgent at 0x7f5fffd1dcc0>"
      ]
     },
     "execution_count": 20,
     "metadata": {},
     "output_type": "execute_result"
    }
   ],
   "source": [
    "\n",
    "exploration=dict(\n",
    "    type=\"epsilon_anneal\",\n",
    "    epsilon=1,\n",
    "    epsilon_final= 0.005,\n",
    "    epsilon_timesteps= 1e5,\n",
    "    start_after=0,\n",
    ")\n",
    "\n",
    "# exploration = tensorforce.core.explorations.EpsilonAnneal(**exploration)\n",
    "config = Configuration( \n",
    "    batch_size=batch_size,\n",
    "    \n",
    "    # Each agent requires the following ``Configuration`` parameters:\n",
    "    preprocessing = None,# dict or list containing state preprocessing configuration.\n",
    "    exploration = exploration, #{'action' + str(n): exploration for n in range(env.action_space.shape[0])}, # dict containing action exploration configuration.\n",
    "    reward_preprocessing=None,\n",
    "    \n",
    "    # BatchAgent\n",
    "    keep_last_timestep=True,\n",
    "\n",
    "    # PPOAgent\n",
    "    step_optimizer=dict(\n",
    "        type='adam',\n",
    "        learning_rate = 1e-3, # float of learning rate (alpha). (3e-4 in paper 1e-3 (atari) and 3e-4 in baselines)\n",
    "    ),\n",
    "    optimization_steps=4,\n",
    "    \n",
    "    # Each model requires the following configuration parameters:\n",
    "    # https://github.com/reinforceio/tensorforce/blob/master/tensorforce/models/model.py#L33\n",
    "    scope='ppo',\n",
    "    discount = 0.97, # float of discount factor (gamma).\n",
    "    saver_spec = dict(\n",
    "        directory=save_path, \n",
    "        steps=100000, \n",
    "#         basename=os.path.basename(save_path)\n",
    "    ),\n",
    "    \n",
    "    # DistributionModel\n",
    "    distributions=dict(action=dict(type='gaussian', mean=0.25, log_stddev=np.log(5e-2))),\n",
    "    entropy_regularization=0.01, # 0 and 0.01 in baselines\n",
    "    \n",
    "    # PGModel\n",
    "#     baseline_mode='network', # states or network\n",
    "    baseline_mode='states',\n",
    "    baseline=dict(\n",
    "        type=\"EIIE\",\n",
    "        layers_spec=network_spec\n",
    "#         update_batch_size=512,\n",
    "    ), # string indicating the baseline value function (currently 'linear' or 'mlp').\n",
    "    baseline_optimizer=dict(type='adam', learning_rate=0.003),\n",
    "    gae_lambda=0.5,\n",
    "    normalize_rewards=False,\n",
    "    \n",
    "    # PGLRModel\n",
    "    likelihood_ratio_clipping=0.2,  # Trust region clipping 0.2 in paper\n",
    "    \n",
    "    # Logging\n",
    "    log_level = 'info', # string containing log level (e.g. 'info').\n",
    "    \n",
    "    # Tensorflow summaries\n",
    "    summary_logdir = log_dir, # string directory to write tensorflow summaries. Default None\n",
    "    summary_labels=['total-loss'],\n",
    "    summary_frequency=10,\n",
    "    \n",
    "    # TensorFlow distributed configuration\n",
    "    cluster_spec=None,\n",
    "    parameter_server=False,\n",
    "    task_index=0,\n",
    "    device=None,\n",
    "    local_model=False,\n",
    "    replica_model=False,\n",
    ")\n",
    "\n",
    "# I want to use a gaussian dist instead of beta, we will apply post processing to scale everything\n",
    "actions_spec = environment.actions.copy()\n",
    "del actions_spec[\"min_value\"]\n",
    "del actions_spec[\"max_value\"]\n",
    "\n",
    "# Create an agent\n",
    "agent = PPOAgent(\n",
    "    states_spec=environment.states,\n",
    "    actions_spec=actions_spec,\n",
    "    network_spec=network_spec,\n",
    "    config=config\n",
    ")\n",
    "agent"
   ]
  },
  {
   "cell_type": "markdown",
   "metadata": {},
   "source": [
    "# Train\n",
    "\n",
    "## Callbacks"
   ]
  },
  {
   "cell_type": "code",
   "execution_count": 21,
   "metadata": {
    "ExecuteTime": {
     "end_time": "2017-11-12T23:38:39.044918Z",
     "start_time": "2017-11-12T23:38:38.923845Z"
    },
    "collapsed": true,
    "jupyter": {
     "outputs_hidden": true
    }
   },
   "outputs": [],
   "source": [
    "from rl_portfolio_management.callbacks.tensorforce import EpisodeFinishedTQDM, EpisodeFinished\n",
    "from rl_portfolio_management.util import MDD, sharpe"
   ]
  },
  {
   "cell_type": "markdown",
   "metadata": {
    "ExecuteTime": {
     "end_time": "2017-10-15T02:19:28.278977Z",
     "start_time": "2017-10-15T02:19:28.132177Z"
    }
   },
   "source": [
    "## Train"
   ]
  },
  {
   "cell_type": "code",
   "execution_count": 22,
   "metadata": {
    "ExecuteTime": {
     "end_time": "2017-11-12T23:38:39.092835Z",
     "start_time": "2017-11-12T23:38:39.049877Z"
    },
    "collapsed": true,
    "jupyter": {
     "outputs_hidden": true
    }
   },
   "outputs": [],
   "source": [
    "from tensorforce.execution import Runner\n",
    "runner = Runner(agent=agent, environment=environment)"
   ]
  },
  {
   "cell_type": "code",
   "execution_count": 23,
   "metadata": {
    "ExecuteTime": {
     "end_time": "2017-11-12T23:38:46.320510Z",
     "start_time": "2017-11-12T23:38:39.094733Z"
    },
    "scrolled": true
   },
   "outputs": [
    {
     "data": {},
     "metadata": {},
     "output_type": "display_data"
    },
    {
     "name": "stdout",
     "output_type": "stream",
     "text": [
      "TensorBoardLogger started. Run `tensorboard --logdir=/media/oldhome/wassname/Documents/projects/rl-portfolio-gh/rl-portfolio-management/logs/tensorforce_PPO_crypto_20171105_06-50-31` to visualize\n",
      "ep reward:  0.00004160 [-0.00008149,  0.00046759], portfolio_value:  1.0706 mdd=-2.22% sharpe=1.8574, expl= 0.50% eps=298000 weights={'DASHBTC': 0.0, 'LTCBTC': 0.5, 'XMRBTC': 0.0}\n"
     ]
    },
    {
     "ename": "KeyboardInterrupt",
     "evalue": "",
     "output_type": "error",
     "traceback": [
      "\u001b[0;31m---------------------------------------------------------------------------\u001b[0m",
      "\u001b[0;31mKeyboardInterrupt\u001b[0m                         Traceback (most recent call last)",
      "\u001b[0;32m<ipython-input-23-10346e7234f5>\u001b[0m in \u001b[0;36m<module>\u001b[0;34m()\u001b[0m\n\u001b[1;32m     10\u001b[0m         \u001b[0mmean_of\u001b[0m\u001b[0;34m=\u001b[0m\u001b[0;36m1000\u001b[0m\u001b[0;34m,\u001b[0m\u001b[0;34m\u001b[0m\u001b[0m\n\u001b[1;32m     11\u001b[0m         \u001b[0mlog_dir\u001b[0m\u001b[0;34m=\u001b[0m\u001b[0mlog_dir\u001b[0m\u001b[0;34m,\u001b[0m\u001b[0;34m\u001b[0m\u001b[0m\n\u001b[0;32m---> 12\u001b[0;31m         \u001b[0msession\u001b[0m\u001b[0;34m=\u001b[0m\u001b[0mrunner\u001b[0m\u001b[0;34m.\u001b[0m\u001b[0magent\u001b[0m\u001b[0;34m.\u001b[0m\u001b[0mmodel\u001b[0m\u001b[0;34m.\u001b[0m\u001b[0msession\u001b[0m\u001b[0;34m,\u001b[0m\u001b[0;34m\u001b[0m\u001b[0m\n\u001b[0m\u001b[1;32m     13\u001b[0m     )\n\u001b[1;32m     14\u001b[0m )\n",
      "\u001b[0;32m/media/oldhome/wassname/Documents/projects/tensorforce2/tensorforce0.3.1/tensorforce/execution/runner.py\u001b[0m in \u001b[0;36mrun\u001b[0;34m(self, timesteps, episodes, max_episode_timesteps, deterministic, episode_finished)\u001b[0m\n\u001b[1;32m    109\u001b[0m                     \u001b[0mterminal\u001b[0m \u001b[0;34m=\u001b[0m \u001b[0;32mTrue\u001b[0m\u001b[0;34m\u001b[0m\u001b[0m\n\u001b[1;32m    110\u001b[0m \u001b[0;34m\u001b[0m\u001b[0m\n\u001b[0;32m--> 111\u001b[0;31m                 \u001b[0mself\u001b[0m\u001b[0;34m.\u001b[0m\u001b[0magent\u001b[0m\u001b[0;34m.\u001b[0m\u001b[0mobserve\u001b[0m\u001b[0;34m(\u001b[0m\u001b[0mterminal\u001b[0m\u001b[0;34m=\u001b[0m\u001b[0mterminal\u001b[0m\u001b[0;34m,\u001b[0m \u001b[0mreward\u001b[0m\u001b[0;34m=\u001b[0m\u001b[0mreward\u001b[0m\u001b[0;34m)\u001b[0m\u001b[0;34m\u001b[0m\u001b[0m\n\u001b[0m\u001b[1;32m    112\u001b[0m \u001b[0;34m\u001b[0m\u001b[0m\n\u001b[1;32m    113\u001b[0m                 \u001b[0mself\u001b[0m\u001b[0;34m.\u001b[0m\u001b[0mepisode_timestep\u001b[0m \u001b[0;34m+=\u001b[0m \u001b[0;36m1\u001b[0m\u001b[0;34m\u001b[0m\u001b[0m\n",
      "\u001b[0;32m/media/oldhome/wassname/Documents/projects/tensorforce2/tensorforce0.3.1/tensorforce/agents/batch_agent.py\u001b[0m in \u001b[0;36mobserve\u001b[0;34m(self, terminal, reward)\u001b[0m\n\u001b[1;32m     86\u001b[0m                 \u001b[0mactions\u001b[0m\u001b[0;34m=\u001b[0m\u001b[0mself\u001b[0m\u001b[0;34m.\u001b[0m\u001b[0mbatch_actions\u001b[0m\u001b[0;34m,\u001b[0m\u001b[0;34m\u001b[0m\u001b[0m\n\u001b[1;32m     87\u001b[0m                 \u001b[0mterminal\u001b[0m\u001b[0;34m=\u001b[0m\u001b[0mself\u001b[0m\u001b[0;34m.\u001b[0m\u001b[0mbatch_terminal\u001b[0m\u001b[0;34m,\u001b[0m\u001b[0;34m\u001b[0m\u001b[0m\n\u001b[0;32m---> 88\u001b[0;31m                 \u001b[0mreward\u001b[0m\u001b[0;34m=\u001b[0m\u001b[0mself\u001b[0m\u001b[0;34m.\u001b[0m\u001b[0mbatch_reward\u001b[0m\u001b[0;34m\u001b[0m\u001b[0m\n\u001b[0m\u001b[1;32m     89\u001b[0m             )\n\u001b[1;32m     90\u001b[0m             \u001b[0mself\u001b[0m\u001b[0;34m.\u001b[0m\u001b[0mreset_batch\u001b[0m\u001b[0;34m(\u001b[0m\u001b[0;34m)\u001b[0m\u001b[0;34m\u001b[0m\u001b[0m\n",
      "\u001b[0;32m/media/oldhome/wassname/Documents/projects/tensorforce2/tensorforce0.3.1/tensorforce/models/model.py\u001b[0m in \u001b[0;36mupdate\u001b[0;34m(self, states, internals, actions, terminal, reward, return_loss_per_instance)\u001b[0m\n\u001b[1;32m    890\u001b[0m         \u001b[0mfeed_dict\u001b[0m\u001b[0;34m[\u001b[0m\u001b[0mself\u001b[0m\u001b[0;34m.\u001b[0m\u001b[0mupdate_input\u001b[0m\u001b[0;34m]\u001b[0m \u001b[0;34m=\u001b[0m \u001b[0;32mTrue\u001b[0m\u001b[0;34m\u001b[0m\u001b[0m\n\u001b[1;32m    891\u001b[0m \u001b[0;34m\u001b[0m\u001b[0m\n\u001b[0;32m--> 892\u001b[0;31m         \u001b[0mfetched\u001b[0m \u001b[0;34m=\u001b[0m \u001b[0mself\u001b[0m\u001b[0;34m.\u001b[0m\u001b[0mmonitored_session\u001b[0m\u001b[0;34m.\u001b[0m\u001b[0mrun\u001b[0m\u001b[0;34m(\u001b[0m\u001b[0mfetches\u001b[0m\u001b[0;34m=\u001b[0m\u001b[0mfetches\u001b[0m\u001b[0;34m,\u001b[0m \u001b[0mfeed_dict\u001b[0m\u001b[0;34m=\u001b[0m\u001b[0mfeed_dict\u001b[0m\u001b[0;34m)\u001b[0m\u001b[0;34m\u001b[0m\u001b[0m\n\u001b[0m\u001b[1;32m    893\u001b[0m \u001b[0;34m\u001b[0m\u001b[0m\n\u001b[1;32m    894\u001b[0m         \u001b[0;32mif\u001b[0m \u001b[0mreturn_loss_per_instance\u001b[0m\u001b[0;34m:\u001b[0m\u001b[0;34m\u001b[0m\u001b[0m\n",
      "\u001b[0;32m~/.pyenv/versions/3.5.3/envs/jupyter3/lib/python3.5/site-packages/tensorflow/python/training/monitored_session.py\u001b[0m in \u001b[0;36mrun\u001b[0;34m(self, fetches, feed_dict, options, run_metadata)\u001b[0m\n\u001b[1;32m    516\u001b[0m                           \u001b[0mfeed_dict\u001b[0m\u001b[0;34m=\u001b[0m\u001b[0mfeed_dict\u001b[0m\u001b[0;34m,\u001b[0m\u001b[0;34m\u001b[0m\u001b[0m\n\u001b[1;32m    517\u001b[0m                           \u001b[0moptions\u001b[0m\u001b[0;34m=\u001b[0m\u001b[0moptions\u001b[0m\u001b[0;34m,\u001b[0m\u001b[0;34m\u001b[0m\u001b[0m\n\u001b[0;32m--> 518\u001b[0;31m                           run_metadata=run_metadata)\n\u001b[0m\u001b[1;32m    519\u001b[0m \u001b[0;34m\u001b[0m\u001b[0m\n\u001b[1;32m    520\u001b[0m   \u001b[0;32mdef\u001b[0m \u001b[0mshould_stop\u001b[0m\u001b[0;34m(\u001b[0m\u001b[0mself\u001b[0m\u001b[0;34m)\u001b[0m\u001b[0;34m:\u001b[0m\u001b[0;34m\u001b[0m\u001b[0m\n",
      "\u001b[0;32m~/.pyenv/versions/3.5.3/envs/jupyter3/lib/python3.5/site-packages/tensorflow/python/training/monitored_session.py\u001b[0m in \u001b[0;36mrun\u001b[0;34m(self, *args, **kwargs)\u001b[0m\n\u001b[1;32m    816\u001b[0m \u001b[0;34m\u001b[0m\u001b[0m\n\u001b[1;32m    817\u001b[0m   \u001b[0;32mdef\u001b[0m \u001b[0mrun\u001b[0m\u001b[0;34m(\u001b[0m\u001b[0mself\u001b[0m\u001b[0;34m,\u001b[0m \u001b[0;34m*\u001b[0m\u001b[0margs\u001b[0m\u001b[0;34m,\u001b[0m \u001b[0;34m**\u001b[0m\u001b[0mkwargs\u001b[0m\u001b[0;34m)\u001b[0m\u001b[0;34m:\u001b[0m\u001b[0;34m\u001b[0m\u001b[0m\n\u001b[0;32m--> 818\u001b[0;31m     \u001b[0;32mreturn\u001b[0m \u001b[0mself\u001b[0m\u001b[0;34m.\u001b[0m\u001b[0m_sess\u001b[0m\u001b[0;34m.\u001b[0m\u001b[0mrun\u001b[0m\u001b[0;34m(\u001b[0m\u001b[0;34m*\u001b[0m\u001b[0margs\u001b[0m\u001b[0;34m,\u001b[0m \u001b[0;34m**\u001b[0m\u001b[0mkwargs\u001b[0m\u001b[0;34m)\u001b[0m\u001b[0;34m\u001b[0m\u001b[0m\n\u001b[0m\u001b[1;32m    819\u001b[0m \u001b[0;34m\u001b[0m\u001b[0m\n\u001b[1;32m    820\u001b[0m \u001b[0;34m\u001b[0m\u001b[0m\n",
      "\u001b[0;32m~/.pyenv/versions/3.5.3/envs/jupyter3/lib/python3.5/site-packages/tensorflow/python/training/monitored_session.py\u001b[0m in \u001b[0;36mrun\u001b[0;34m(self, fetches, feed_dict, options, run_metadata)\u001b[0m\n\u001b[1;32m    970\u001b[0m                                   \u001b[0mfeed_dict\u001b[0m\u001b[0;34m=\u001b[0m\u001b[0mfeed_dict\u001b[0m\u001b[0;34m,\u001b[0m\u001b[0;34m\u001b[0m\u001b[0m\n\u001b[1;32m    971\u001b[0m                                   \u001b[0moptions\u001b[0m\u001b[0;34m=\u001b[0m\u001b[0moptions\u001b[0m\u001b[0;34m,\u001b[0m\u001b[0;34m\u001b[0m\u001b[0m\n\u001b[0;32m--> 972\u001b[0;31m                                   run_metadata=run_metadata)\n\u001b[0m\u001b[1;32m    973\u001b[0m \u001b[0;34m\u001b[0m\u001b[0m\n\u001b[1;32m    974\u001b[0m     \u001b[0;32mfor\u001b[0m \u001b[0mhook\u001b[0m \u001b[0;32min\u001b[0m \u001b[0mself\u001b[0m\u001b[0;34m.\u001b[0m\u001b[0m_hooks\u001b[0m\u001b[0;34m:\u001b[0m\u001b[0;34m\u001b[0m\u001b[0m\n",
      "\u001b[0;32m~/.pyenv/versions/3.5.3/envs/jupyter3/lib/python3.5/site-packages/tensorflow/python/training/monitored_session.py\u001b[0m in \u001b[0;36mrun\u001b[0;34m(self, *args, **kwargs)\u001b[0m\n\u001b[1;32m    816\u001b[0m \u001b[0;34m\u001b[0m\u001b[0m\n\u001b[1;32m    817\u001b[0m   \u001b[0;32mdef\u001b[0m \u001b[0mrun\u001b[0m\u001b[0;34m(\u001b[0m\u001b[0mself\u001b[0m\u001b[0;34m,\u001b[0m \u001b[0;34m*\u001b[0m\u001b[0margs\u001b[0m\u001b[0;34m,\u001b[0m \u001b[0;34m**\u001b[0m\u001b[0mkwargs\u001b[0m\u001b[0;34m)\u001b[0m\u001b[0;34m:\u001b[0m\u001b[0;34m\u001b[0m\u001b[0m\n\u001b[0;32m--> 818\u001b[0;31m     \u001b[0;32mreturn\u001b[0m \u001b[0mself\u001b[0m\u001b[0;34m.\u001b[0m\u001b[0m_sess\u001b[0m\u001b[0;34m.\u001b[0m\u001b[0mrun\u001b[0m\u001b[0;34m(\u001b[0m\u001b[0;34m*\u001b[0m\u001b[0margs\u001b[0m\u001b[0;34m,\u001b[0m \u001b[0;34m**\u001b[0m\u001b[0mkwargs\u001b[0m\u001b[0;34m)\u001b[0m\u001b[0;34m\u001b[0m\u001b[0m\n\u001b[0m\u001b[1;32m    819\u001b[0m \u001b[0;34m\u001b[0m\u001b[0m\n\u001b[1;32m    820\u001b[0m \u001b[0;34m\u001b[0m\u001b[0m\n",
      "\u001b[0;32m~/.pyenv/versions/3.5.3/envs/jupyter3/lib/python3.5/site-packages/tensorflow/python/client/session.py\u001b[0m in \u001b[0;36mrun\u001b[0;34m(self, fetches, feed_dict, options, run_metadata)\u001b[0m\n\u001b[1;32m    893\u001b[0m     \u001b[0;32mtry\u001b[0m\u001b[0;34m:\u001b[0m\u001b[0;34m\u001b[0m\u001b[0m\n\u001b[1;32m    894\u001b[0m       result = self._run(None, fetches, feed_dict, options_ptr,\n\u001b[0;32m--> 895\u001b[0;31m                          run_metadata_ptr)\n\u001b[0m\u001b[1;32m    896\u001b[0m       \u001b[0;32mif\u001b[0m \u001b[0mrun_metadata\u001b[0m\u001b[0;34m:\u001b[0m\u001b[0;34m\u001b[0m\u001b[0m\n\u001b[1;32m    897\u001b[0m         \u001b[0mproto_data\u001b[0m \u001b[0;34m=\u001b[0m \u001b[0mtf_session\u001b[0m\u001b[0;34m.\u001b[0m\u001b[0mTF_GetBuffer\u001b[0m\u001b[0;34m(\u001b[0m\u001b[0mrun_metadata_ptr\u001b[0m\u001b[0;34m)\u001b[0m\u001b[0;34m\u001b[0m\u001b[0m\n",
      "\u001b[0;32m~/.pyenv/versions/3.5.3/envs/jupyter3/lib/python3.5/site-packages/tensorflow/python/client/session.py\u001b[0m in \u001b[0;36m_run\u001b[0;34m(self, handle, fetches, feed_dict, options, run_metadata)\u001b[0m\n\u001b[1;32m   1122\u001b[0m     \u001b[0;32mif\u001b[0m \u001b[0mfinal_fetches\u001b[0m \u001b[0;32mor\u001b[0m \u001b[0mfinal_targets\u001b[0m \u001b[0;32mor\u001b[0m \u001b[0;34m(\u001b[0m\u001b[0mhandle\u001b[0m \u001b[0;32mand\u001b[0m \u001b[0mfeed_dict_tensor\u001b[0m\u001b[0;34m)\u001b[0m\u001b[0;34m:\u001b[0m\u001b[0;34m\u001b[0m\u001b[0m\n\u001b[1;32m   1123\u001b[0m       results = self._do_run(handle, final_targets, final_fetches,\n\u001b[0;32m-> 1124\u001b[0;31m                              feed_dict_tensor, options, run_metadata)\n\u001b[0m\u001b[1;32m   1125\u001b[0m     \u001b[0;32melse\u001b[0m\u001b[0;34m:\u001b[0m\u001b[0;34m\u001b[0m\u001b[0m\n\u001b[1;32m   1126\u001b[0m       \u001b[0mresults\u001b[0m \u001b[0;34m=\u001b[0m \u001b[0;34m[\u001b[0m\u001b[0;34m]\u001b[0m\u001b[0;34m\u001b[0m\u001b[0m\n",
      "\u001b[0;32m~/.pyenv/versions/3.5.3/envs/jupyter3/lib/python3.5/site-packages/tensorflow/python/client/session.py\u001b[0m in \u001b[0;36m_do_run\u001b[0;34m(self, handle, target_list, fetch_list, feed_dict, options, run_metadata)\u001b[0m\n\u001b[1;32m   1319\u001b[0m     \u001b[0;32mif\u001b[0m \u001b[0mhandle\u001b[0m \u001b[0;32mis\u001b[0m \u001b[0;32mNone\u001b[0m\u001b[0;34m:\u001b[0m\u001b[0;34m\u001b[0m\u001b[0m\n\u001b[1;32m   1320\u001b[0m       return self._do_call(_run_fn, self._session, feeds, fetches, targets,\n\u001b[0;32m-> 1321\u001b[0;31m                            options, run_metadata)\n\u001b[0m\u001b[1;32m   1322\u001b[0m     \u001b[0;32melse\u001b[0m\u001b[0;34m:\u001b[0m\u001b[0;34m\u001b[0m\u001b[0m\n\u001b[1;32m   1323\u001b[0m       \u001b[0;32mreturn\u001b[0m \u001b[0mself\u001b[0m\u001b[0;34m.\u001b[0m\u001b[0m_do_call\u001b[0m\u001b[0;34m(\u001b[0m\u001b[0m_prun_fn\u001b[0m\u001b[0;34m,\u001b[0m \u001b[0mself\u001b[0m\u001b[0;34m.\u001b[0m\u001b[0m_session\u001b[0m\u001b[0;34m,\u001b[0m \u001b[0mhandle\u001b[0m\u001b[0;34m,\u001b[0m \u001b[0mfeeds\u001b[0m\u001b[0;34m,\u001b[0m \u001b[0mfetches\u001b[0m\u001b[0;34m)\u001b[0m\u001b[0;34m\u001b[0m\u001b[0m\n",
      "\u001b[0;32m~/.pyenv/versions/3.5.3/envs/jupyter3/lib/python3.5/site-packages/tensorflow/python/client/session.py\u001b[0m in \u001b[0;36m_do_call\u001b[0;34m(self, fn, *args)\u001b[0m\n\u001b[1;32m   1325\u001b[0m   \u001b[0;32mdef\u001b[0m \u001b[0m_do_call\u001b[0m\u001b[0;34m(\u001b[0m\u001b[0mself\u001b[0m\u001b[0;34m,\u001b[0m \u001b[0mfn\u001b[0m\u001b[0;34m,\u001b[0m \u001b[0;34m*\u001b[0m\u001b[0margs\u001b[0m\u001b[0;34m)\u001b[0m\u001b[0;34m:\u001b[0m\u001b[0;34m\u001b[0m\u001b[0m\n\u001b[1;32m   1326\u001b[0m     \u001b[0;32mtry\u001b[0m\u001b[0;34m:\u001b[0m\u001b[0;34m\u001b[0m\u001b[0m\n\u001b[0;32m-> 1327\u001b[0;31m       \u001b[0;32mreturn\u001b[0m \u001b[0mfn\u001b[0m\u001b[0;34m(\u001b[0m\u001b[0;34m*\u001b[0m\u001b[0margs\u001b[0m\u001b[0;34m)\u001b[0m\u001b[0;34m\u001b[0m\u001b[0m\n\u001b[0m\u001b[1;32m   1328\u001b[0m     \u001b[0;32mexcept\u001b[0m \u001b[0merrors\u001b[0m\u001b[0;34m.\u001b[0m\u001b[0mOpError\u001b[0m \u001b[0;32mas\u001b[0m \u001b[0me\u001b[0m\u001b[0;34m:\u001b[0m\u001b[0;34m\u001b[0m\u001b[0m\n\u001b[1;32m   1329\u001b[0m       \u001b[0mmessage\u001b[0m \u001b[0;34m=\u001b[0m \u001b[0mcompat\u001b[0m\u001b[0;34m.\u001b[0m\u001b[0mas_text\u001b[0m\u001b[0;34m(\u001b[0m\u001b[0me\u001b[0m\u001b[0;34m.\u001b[0m\u001b[0mmessage\u001b[0m\u001b[0;34m)\u001b[0m\u001b[0;34m\u001b[0m\u001b[0m\n",
      "\u001b[0;32m~/.pyenv/versions/3.5.3/envs/jupyter3/lib/python3.5/site-packages/tensorflow/python/client/session.py\u001b[0m in \u001b[0;36m_run_fn\u001b[0;34m(session, feed_dict, fetch_list, target_list, options, run_metadata)\u001b[0m\n\u001b[1;32m   1304\u001b[0m           return tf_session.TF_Run(session, options,\n\u001b[1;32m   1305\u001b[0m                                    \u001b[0mfeed_dict\u001b[0m\u001b[0;34m,\u001b[0m \u001b[0mfetch_list\u001b[0m\u001b[0;34m,\u001b[0m \u001b[0mtarget_list\u001b[0m\u001b[0;34m,\u001b[0m\u001b[0;34m\u001b[0m\u001b[0m\n\u001b[0;32m-> 1306\u001b[0;31m                                    status, run_metadata)\n\u001b[0m\u001b[1;32m   1307\u001b[0m \u001b[0;34m\u001b[0m\u001b[0m\n\u001b[1;32m   1308\u001b[0m     \u001b[0;32mdef\u001b[0m \u001b[0m_prun_fn\u001b[0m\u001b[0;34m(\u001b[0m\u001b[0msession\u001b[0m\u001b[0;34m,\u001b[0m \u001b[0mhandle\u001b[0m\u001b[0;34m,\u001b[0m \u001b[0mfeed_dict\u001b[0m\u001b[0;34m,\u001b[0m \u001b[0mfetch_list\u001b[0m\u001b[0;34m)\u001b[0m\u001b[0;34m:\u001b[0m\u001b[0;34m\u001b[0m\u001b[0m\n",
      "\u001b[0;31mKeyboardInterrupt\u001b[0m: "
     ]
    }
   ],
   "source": [
    "%matplotlib notebook\n",
    "steps=12e6\n",
    "env._plot = env._plot2 = env._plot3 = None\n",
    "episodes = int(steps / 30)\n",
    "runner.run(\n",
    "    timesteps=steps,\n",
    "    episode_finished=EpisodeFinishedTQDM(\n",
    "        log_intv=1000,\n",
    "        steps=steps,\n",
    "        mean_of=1000,\n",
    "        log_dir=log_dir,\n",
    "        session=runner.agent.model.session,\n",
    "    )\n",
    ")"
   ]
  },
  {
   "cell_type": "code",
   "execution_count": null,
   "metadata": {
    "ExecuteTime": {
     "end_time": "2017-11-12T06:07:24.082729Z",
     "start_time": "2017-11-12T06:07:24.038681Z"
    }
   },
   "outputs": [],
   "source": []
  },
  {
   "cell_type": "code",
   "execution_count": 24,
   "metadata": {
    "ExecuteTime": {
     "end_time": "2017-11-12T23:38:48.646681Z",
     "start_time": "2017-11-12T23:38:47.202140Z"
    }
   },
   "outputs": [
    {
     "data": {},
     "metadata": {},
     "output_type": "display_data"
    },
    {
     "data": {},
     "metadata": {},
     "output_type": "display_data"
    }
   ],
   "source": [
    "# read history, might be slow\n",
    "import collections\n",
    "import glob\n",
    "from tensorflow.python.summary import summary_iterator\n",
    "event_paths = glob.glob(os.path.join(log_dir, \"event*\"))\n",
    "data = collections.defaultdict(dict)\n",
    "for file in event_paths:\n",
    "    event_reader = summary_iterator.summary_iterator(file)\n",
    "    for event in tqdm(event_reader):\n",
    "        try:\n",
    "            step=event.step\n",
    "            name=event.summary.value[0].tag\n",
    "            val=event.summary.value[0].simple_value\n",
    "            data[step][name]=val\n",
    "        except:\n",
    "            pass\n"
   ]
  },
  {
   "cell_type": "code",
   "execution_count": null,
   "metadata": {
    "ExecuteTime": {
     "end_time": "2017-11-12T06:06:52.676576Z",
     "start_time": "2017-11-12T06:06:52.632828Z"
    }
   },
   "outputs": [],
   "source": []
  },
  {
   "cell_type": "code",
   "execution_count": 25,
   "metadata": {
    "ExecuteTime": {
     "end_time": "2017-11-12T23:38:53.894928Z",
     "start_time": "2017-11-12T23:38:53.455095Z"
    }
   },
   "outputs": [
    {
     "data": {
      "text/plain": [
       "<IPython.core.display.Javascript object>"
      ]
     },
     "metadata": {},
     "output_type": "display_data"
    },
    {
     "data": {
      "text/html": [
       "<img src=\"data:image/png;base64,iVBORw0KGgoAAAANSUhEUgAAAtAAAALQCAYAAAC5V0ecAAAgAElEQVR4Xuy9C7hkVXnn/e6qc05fgW7g0KBc/UAxXAwCHW9NHDWZYCSS7lOnW/h6IGTS8RmTGcjDZBIeJ7YkmESNMKM9H5lPjYgKffbppp8xI/PpmBDQXEB0AmLESyByETjQfbj09Zyq/T2r6tS5VtW719qXtavqd57HB6Hetd61fv+1V/33qrXXDoQ/CEAAAhCAAAQgAAEIQCA2gSB2JIEQgAAEIAABCEAAAhCAgGCgGQQQgAAEIAABCEAAAhCwIICBtoBFKAQgAAEIQAACEIAABDDQjAEIQAACEIAABCAAAQhYEMBAW8AiFAIQgAAEIAABCEAAAhhoxgAEIAABCEAAAhCAAAQsCGCgLWARCgEIQAACEIAABCAAAQw0YwACEIAABCAAAQhAAAIWBDDQFrAIhQAEIAABCEAAAhCAAAaaMQABCEAAAhCAAAQgAAELAhhoC1iEQgACEIAABCAAAQhAAAPNGIAABCAAAQhAAAIQgIAFAQy0BSxCIQABCEAAAhCAAAQggIFmDEAAAhCAAAQgAAEIQMCCAAbaAhahEIAABCAAAQhAAAIQwEAzBiAAAQhAAAIQgAAEIGBBAANtAYtQCEAAAhCAAAQgAAEIYKAZAxCAAAQgAAEIQAACELAggIG2gEUoBCAAAQhAAAIQgAAEMNCMAQhAAAIQgAAEIAABCFgQwEBbwCIUAhCAAAQgAAEIQAACGGjGAAQgAAEIQAACEIAABCwIYKAtYBEKAQhAAAIQgAAEIAABDDRjAAIQgAAEIAABCEAAAhYEMNAWsAiFAAQgAAEIQAACEIAABpoxAAEIQAACEIAABCAAAQsCGGgLWIRCAAIQgAAEIAABCEAAA80YgAAEIAABCEAAAhCAgAUBDLQFLEIhAAEIQAACEIAABCCAgWYMQAACEIAABCAAAQhAwIIABtoCFqEQgAAEIAABCEAAAhDAQDMGIAABCEAAAhCAAAQgYEEAA20Bi1AIQAACEIAABCAAAQhgoBkDEIAABCAAAQhAAAIQsCCAgbaARSgEIAABCEAAAhCAAAQw0IwBCEAAAhCAAAQgAAEIWBDAQFvAIhQCEIAABCAAAQhAAAIYaMYABCAAAQhAAAIQgAAELAhgoC1gEQoBCEAAAhCAAAQgAAEMNGMAAhCAAAQgAAEIQAACFgQw0BawCIUABCAAAQhAAAIQgAAGmjEAAQhAAAIQgAAEIAABCwIYaAtYhEIAAhCAAAQgAAEIQAADzRiAAAQgAAEIQAACEICABQEMtAUsQiEAAQhAAAIQgAAEIICBZgxAAAIQgAAEIAABCEDAggAG2gIWoRCAAAQgAAEIQAACEMBAMwYgAAEIQAACEIAABCBgQQADbQGLUAhAAAIQgAAEIAABCGCgGQMQgAAEIAABCEAAAhCwIICBtoBFKAQgAAEIQAACEIAABDDQjAEIQAACEIAABCAAAQhYEMBAW8AiFAIQgAAEIAABCEAAAhhoxgAEIAABCEAAAhCAAAQsCGCgLWARCgEIQAACEIAABCAAAQw0YwACEIAABCAAAQhAAAIWBDDQFrAIhQAEIAABCEAAAhCAAAaaMQABCEAAAhCAAAQgAAELAhhoC1iEQgACEIAABCAAAQhAAAPNGIAABCAAAQhAAAIQgIAFAQy0BSxCIQABCEAAAhCAAAQggIFmDEAAAhCAAAQgAAEIQMCCAAbaAhahEIAABCAAAQhAAAIQwEAzBiAAAQhAAAIQgAAEIGBBAANtAYtQCEAAAhCAAAQgAAEIYKAZAxCAAAQgAAEIQAACELAggIG2gEUoBCAAAQhAAAIQgAAEMNCMAQhAAAIQgAAEIAABCFgQwEBbwCIUAhCAAAQgAAEIQAACGGjGAAQgAAEIQAACEIAABCwIYKAtYBEKAQhAAAIQgAAEIAABDDRjAAIQgAAEIAABCEAAAhYEMNAWsAiFAAQgAAEIQAACEIAABpoxAAEIQAACEIAABCAAAQsCGGgLWIRCAAIQgAAEIAABCEAAA80YgAAEIAABCEAAAhCAgAUBDLQFLEIhAAEIQAACEIAABCCAgWYMQAACEIAABCAAAQhAwIIABtoCFqEQgAAEIAABCEAAAhDAQDMGIAABCEAAAhCAAAQgYEEAA20Bi1AIQAACEIAABCAAAQhgoBkDEIAABCAAAQhAAAIQsCCAgbaARSgEIAABCEAAAhCAAAQw0IwBCEAAAhCAAAQgAAEIWBDAQFvAcg2NomiZiFwsIj8VkaprPZSDAAQgAAEIQAACORAoi8hJIvJAEASHc8jXdSkw0DlIFkXR20TkvhxSkQICEIAABCAAAQikRWBDEATfSKuyXqoHA52DmlEU/V8i8qOJiQmp1Wo5ZOy+FOvWrZNnn322+xreJy1Gn2ILjT7oU2wCxW4d189SfUqlkgwPD5sPzgyC4MfFVtBP6zDQOXCPouh0EXnMGMRqlR0crZC/6lWvkqeffjoHNUjhQgB9XKjlVwZ98mPtkgl9XKjlVwZ9lrIul8tibixE5IwgCB7PT43uyYSBzkErDLQOmQlMZ+QzAn180tdzo4/OyGcE+vikr+dGHwy0PkqWRmCgXahZlsFA68CYwHRGPiPQxyd9PTf66Ix8RqCPT/p6bvTBQOujBAPtwihxGQy0jpAJTGfkMwJ9fNLXc6OPzshnBPr4pK/nRh8MtD5KMNAujBKXwUDrCJnAdEY+I9DHJ309N/rojHxGoI9P+npu9MFA66MEA+3CKHEZDLSOkAlMZ+QzAn180tdzo4/OyGcE+vikr+dGHwy0Pkow0C6MEpfBQOsImcB0Rj4j0McnfT03+uiMfEagj0/6em70wUDrowQD7cIocRkMtI6QCUxn5DMCfXzS13Ojj87IZwT6+KSv50YfDLQ+SjDQLowSl8FA6wiZwHRGPiPQxyd9PTf66Ix8RqCPT/p6bvTBQOujBAPtwihxGQy0jpAJTGfkMwJ9fNLXc6OPzshnBPr4pK/nRh8MtD5KMNAujBKXwUDrCJnAdEY+I9DHJ309N/rojHxGoI9P+npu9MFA66MEA+3CKHEZDLSOkAlMZ+QzAn180tdzo4/OyGcE+vikr+dGHwy0Pkow0C6MEpfBQOsImcB0Rj4j0McnfT03+uiMfEagj0/6em70wUDrowQD7cIocRkMtI6QCUxn5DMCfXzS13Ojj87IZwT6+KSv50YfDLQ+SjDQLowSl8FA6wiZwHRGPiPQxyd9PTf66Ix8RqCPT/p6bvTBQOujBAPtwihxGQy0jpAJTGfkMwJ9fNLXc6OPzshnBPr4pK/nRh8MtD5KMNAujBKXwUDrCJnAdEY+I9DHJ309N/rojHxGoI9P+npu9MFA66MEA+3CKHEZDLSOkAlMZ+QzAn180tdzo4/OyGcE+vikr+dGHwy0Pkow0C6MEpfBQOsImcB0Rj4j0McnfT03+uiMfEagj0/6em70wUDrowQD7cIocRkMtI6QCUxn5DOin/SJajWRR74jtfvvFdk7IXLssJTWXyJyzgUSlEo+ZWibu5/0KaQASqPQp9iqoQ8G2mWEBi6FKGNHAAOt82IC0xn5jOgXfYx5ru2+TeT++0SiSGRwUGR6uoF+/QYpbbyqkCa6X/TxeQ0kyY0+SehlXxZ9MNAuowwD7ULNsgwGWgfGBKYz8hnRL/pEDz8otdt3iKxYKTI4NId86ojIwQNS2voBCc670KcULXP3iz6FAx+zQegTE5SnMPTBQLsMPQy0CzXLMhhoHRgTmM7IZ0S/6FP9zM0i339I5Ji1S3G/NCly9vlSvuZan1JgoAtHX29Qv1w/OoliRqAPBtplZGKgXahZlsFA68CYwHRGPiP6RZ/qx24Q2fe8yMrVS3EfeKW+H7p8/U0+pcBAF46+3qB+uX50EsWMQB8MtMvIxEC7ULMsg4HWgTGB6Yx8RvSLPvUV6EcfFjl6TeYr0Gk+rNgv+vi8BpLkRp8k9LIviz4YaJdRhoF2oWZZBgOtA2MC0xn5jOgXffLaA532w4r9oo/PayBJbvRJQi/7suiDgXYZZRhoF2qWZTDQOjAmMJ2Rz4h+0WeBsTXABwYyOYUjbaPeL/r4vAaS5EafJPSyL4s+GGiXUYaBdqFmWQYDrQNjAtMZ+YzoJ31mt1Y8cN/cOdAXb0j1HOi0H1bsJ318XgeuudHHlVw+5dAHA+0y0jDQLtQsy2CgdWBMYDojnxHoky79tB9WRJ909Um7NvRJm2i69aEPBtplRGGgXahZlsFA68CYwHRGPiPQJ136aT+siD7p6pN2beiTNtF060MfDLTLiMJAu1CzLIOB1oExgemMfEagT7r02QOdLs+i18b1U2yF0AcD7TJCvRrobdu2De7du/fmIAiuFJFIRL44MTFx3T333DPz7ty5LmmxST+vVCqfFJHLReQYEXlZREIR+d0wDI+YVlQqlXtE5M0iMtVsVblcfu2dd975tAYeA60REmEC0xn5jECfdOmn/bAi+qSrT9q1oU/aRNOtD30w0C4jyquBrlQqHxaR91ar1UtN48vl8t0isjsMwxsXd0aLTfr55s2bXz80NPST22+/ff/73ve+46enp8Moir4+Pj7+R00DHUXRnvHx8VtsQWOgdWJMYDojnxHokz79NB9WRJ/09UmzRvRJk2b6daEPBtplVPk20E+IyHVhGI6bxo+MjFSCIPh4GIantTDQHWMrlUqiz+fnq1QqwyJyZxAET46NjV2FgXYZWnZlmMDseOUdjT55E7fLhz52vPKORp+8idvlQx8MtN2IaUR7M9BXXHHF2qmpqb0iclYYhj8yjdm0adNZpVLpByKyJgzDF5sd0mIHBwdLnerSPm/mqlQqvyciHxSRVSLyQq1W+6Vdu3Z9q2mgReRcESmJyL9EUXTz+Pj45+NAZwVap8QEpjPyGYE+PunrudFHZ+QzAn180tdzow8GWh8lSyO8GegtW7acUq1WfzIwMDB8xx13PD9jUs3K73PVavWU3bt3P9lsrhY7NDQUdKpL+3x+LpPTbOeo1WpXVqvVW5ufVSoVs//5e2vXrj0wOTn5jiiKxkTk6jAM72oFfnR0dHsURR8ynw0PD8uOHTtc9KEMBCAAAQhAAAIQ8EXgjCAIHveVvMh5vRno5qpyqVQ6c+fOnT+eMdBnisgP261At4ttrjC7fj5/tbsp1sx2kt8Mw/BdrQSsVCofFZFTwzDcognMCrRGiIcIdUJ+I1ih8ctfy44+GiG/n6OPX/5advRZSqhcLsu6devMBxjoNgPIm4GeMcxPBEFw7djY2K6Zfx8RkU+EYXjq4vaaPc6dYpN+3iLfFSLyx632Y5vYkZGRPwmC4HQMtDY1xfucCSweJ19R6OOLfLy86BOPk68o9PFFPl5e9MFAxxspC6O8GuiRkZEbgyB4j4i8e6ZZXxGRPa1O4dBik3xeqVRWR1FUmZ6evmvPnj0vVioVs9d5ZxRF3xgfH992+eWXrxkaGnrLwYMH71m+fPnhKIreHgTBriiKfmN8fNwcd9fxjxVojRAr0DohvxF8wfjlr2VHH42Q38/Rxy9/LTv6YKC1MdLqc68G2pzdPDk5eUsURWa11/x9oXkO9Ojo6K3mP4yNjb3f/LNTbNLPt27duurQoUN7ROSNIrLM7MOOomjX4cOHP/TlL3/5wMypHH8pIq+faefjQRDcMjY29tk40DHQOiUmMJ2Rzwj08Ulfz40+OiOfEejjk76eG30w0PooWRrh1UC7NLgby2CgddWYwHRGPiPQxyd9PTf66Ix8RqCPT/p6bvTBQOujBAPtwihxGQy0jpAJTGfkMwJ9fNLXc6OPzshnBPr4pK/nRh8MtD5KMNAujBKXwUDrCJnAdEY+I9DHJ309N/rojHxGoI9P+npu9MFA66MEA+3CKHEZDLSOkAlMZ+QzAn180tdzo4/OyGcE+vikr+dGHwy0Pkow0C6MEpfBQOsImcB0Rj4j0McnfT03+uiMfEagj0/6em70wUDrowQD7cIocRkMtI6QCUxn5DMCfXzS13Ojj87IZwT6+KSv50YfDLQ+SjDQLowSl8FA6wiZwHRGPiPQxyd9PTf66Ix8RqCPT/p6bvTBQOujBAPtwihxGQy0jpAJTGfkMwJ9fNLXc6OPzshnBPr4pK/nRh8MtD5KMNAujBKXwUDrCJnAdEY+I9DHJ309N/rojHxGoI9P+npu9MFA66MEA+3CKHEZDLSOkAlMZ+QzAn180tdzo4/OyGcE+vikr+dGHwy0Pkow0C6MEpfBQOsImcB0Rj4j0McnfT03+uiMfEagj0/6em70wUDrowQD7cIocRkMtI6QCUxn5DMCfXzS13Ojj87IZwT6+KSv50YfDLQ+SjDQLowSl8FA6wiZwHRGPiPQxyd9PTf66Ix8RqCPT/p6bvTBQOujBAPtwihxGQy0jpAJTGfkMwJ9fNLXc6OPzshnBPr4pK/nRh8MtD5KMNAujBKXwUDrCJnAdEY+I9DHJ309N/rojHxGoI9P+npu9MFA66MEA+3CKHEZDLSOkAlMZ+QzAn180tdzo4/OyGcE+vikr+dGHwy0Pkow0C6MEpfBQOsImcB0Rj4j0McnfT03+uiMfEagj0/6em70wUDrowQD7cIocRkMtI6QCUxn5DMCfXzS13Ojj87IZwT6+KSv50YfDLQ+SjDQLowSl8FA6wiZwHRGPiPQxyd9PTf66Ix8RqCPT/p6bvTBQOujBAPtwihxGQy0jpAJTGfkMwJ9fNLXc6OPzshnBPr4pK/nRh8MtD5KMNAujBKXwUDrCJnAdEY+I9DHJ309N/rojHxGoI9P+npu9MFA66MEA+3CKHEZDLSOkAlMZ+QzAn180tdzo4/OyGcE+vikr+dGHwy0Pkow0C6MEpfBQOsImcB0Rj4j0McnfT03+uiMfEagj0/6em70wUDrowQD7cIocRkMtI6QCUxn5DMCfXzS13Ojj87IZwT6+KSv50YfDLQ+SjDQLowSl8FA6wiZwHRGPiPQxyd9PTf66Ix8RqCPT/p6bvTBQOujBAPtwihxGQy0jpAJTGfkMwJ9fNLXc6OPzshnBPr4pK/nRh8MtD5KMNAujBKXwUDrCJnAdEY+I9DHJ309N/rojHxGoI9P+npu9MFA66MEA+3CKHEZDLSOkAlMZ+QzAn180tdzo4/OyGcE+vikr+dGHwy0Pkow0C6MEpfBQOsImcB0Rj4j0McnfT03+uiMfEagj0/6em70wUDrowQD7cIocRkMtI6QCUxn5DMCfXzS13Ojj87IZwT6+KSv50YfDLQ+SjDQLowSl8FA6wiZwHRGPiPQxyd9PTf66Ix8RqCPT/p6bvTBQOujBAPtwihxGQy0jpAJTGfkMwJ9fNLXc6OPzshnBPr4pK/nRh8MtD5KMNAujBKXwUDrCJnAdEY+I9DHJ309N/rojHxGoI9P+npu9MFA66MEA+3CKHEZDLSOkAlMZ+QzAn180tdzo4/OyGcE+vikr+dGHwy0Pkow0C6MEpfBQOsImcB0Rj4j0McnfT03+uiMfEagj0/6em70wUDrowQD7cIocRkMtI6QCUxn5DMCfXzS13Ojj87IZwT6+KSv50YfDLQ+SjDQLowSl8FA6wiZwHRGPiPQxyd9PTf66Ix8RqCPT/p6bvTBQOujBAPtwihxGQy0jpAJTGfkMwJ9fNLXc6OPzshnBPr4pK/nRh8MtD5KMNAujBKXwUDrCJnAdEY+I9DHJ309N/rojHxGoI9P+npu9MFA66MEA+3CKHEZDLSOkAlMZ+QzAn180tdzo4/OyGcE+vikr+dGHwy0Pkow0C6MEpfBQOsImcB0Rj4j0McnfT03+uiMfEagj0/6em70wUDrowQD7cIocRkMtI6QCUxn5DMCfXzS13Ojj87IZwT6NOhHtZrII9+R2v33iuydEDl2WErrLxE55wIJSiVvEqEPBtpl8AUuhShjRwADrfNiAtMZ+YxAH5/09dzoozPyGYE+DfNc232byP33iUSRyOCgyPR0Q5b1G6S08SpvJhp9MNAu8wMG2oWaZRkMtA6MCUxn5DMCfXzS13Ojj87IZwT6iEQPPyi123eIrFgpMjg0J8fUEZGDB6S09QMSnHehF5nQBwPtMvAw0C7ULMtgoHVgTGA6I58R6OOTvp4bfXRGPiPQR6T6mZtFvv+QyDFrl0rx0qTI2edL+ZprvciEPhhol4GHgXahZlkGA60DYwLTGfmMQB+f9PXc6KMz8hmBPiLVj90gsu95kZWrl0px4JX6fujy9Td5kQl9MNAuAw8D7ULNsgwGWgfGBKYz8hmBPj7p67nRR2fkMwJ9ZlagH31Y5Og1rED7HIwxc5fLZVm3bp2JPiMIgsdjFuurMAx0DnJjoHXIfMHojHxGoI9P+npu9NEZ+YxAH/ZA+xx/Lrkx0Do1DLTOKHEEBlpHyBeMzsg1Io2jo9DHlX4+5dAnH86uWdBn0SkcBuTAAKdwuA6oHMphoHXIGGidUeIIDLSOkC8YnZFLRFpHR6GPC/38yqBPfqxdMqFPg9rszfwD982dA33xBs6BdhlUGZfBQOuAMdA6o8QRGGgdIV8wOiOXiLSOjkIfF/r5lUGf/Fi7ZEIfF2r5lUGfpawx0Pr4w0DrjBJHYKB1hExgOiOXiLSOjkIfF/r5lUGf/Fi7ZEIfF2r5lUEfDLTLaMNAu1CzLIOB1oExgemMXCLSOjoKfVzo51cGffJj7ZIJfVyo5VcGfTDQLqMNA+1CzbIMBloHxgSmM3KJqK9Ap3B0FPq40M+vTB76pPEwan5EipUpD32K1ePuag36YKBdRiwG2oWaZRkMtA6MCUxn5BLBHmgXat1XJuvrJ62HUbuPbDotzlqfdFrZv7WgDwbaZfR7NdDbtm0b3Lt3781BEFxpHtAVkS9OTExcd88990wv7owWm/TzSqXySRG5XESOEZGXRSQUkd8Nw/CIacuVV1559OHDh28NguA9InIwCIJPjY2N/WEc6BhonRITmM7IJWKB8TEVOB4dhT4u9PMrk7U+ad2I5UekWJmy1qdYve2+1qAPBtpl1Ho10JVK5cMi8t5qtXqpaXy5XL5bRHaHYXjj4s5osUk/37x58+uHhoZ+cvvtt+9/3/ved/z09HQYRdHXx8fH/8i0ZXR09LYoitZNTU1tWbZs2Qm1Wu1/R1H0wfHx8c9r4DHQGiERJjCdkWtEGkdHoY8r/XzKZa1PWg+j5kOjeFmy1qd4Pe6uFqEPBtplxPo20E+IyHVhGI6bxo+MjFSCIPh4GIantTDQHWMrlUqiz+fnq1QqwyJyZxAET46NjV112WWXrVy+fPm+Wq321l27dn3LxFYqlf8oIu8Jw/DnNfAYaI0QBlon5DeCLxi//LXsWeuT1sOoWj969fOs9elVbnn1C30w0C5jzZuBvuKKK9ZOTU3tFZGzwjD8kWn8pk2bziqVSj8QkTVhGL7Y7JAWOzg4WOpUl/Z5M1elUvk9EfmgiKwSkRdqtdovGcO8adOmC0ql0rcnJiYGm9tLKpXKL4jIWBiGazXwGGiNEAZaJ+Q3gi8Yv/y17Fnrk9bDqFo/evXzrPXpVW559Qt9MNAuY82bgd6yZcsp1Wr1JwMDA8N33HHH8zOrumbl97lqtXrK7t27n2x2SIsdGhoKOtWlfT4/l8lptnPUarUrq9XqreazkZGRDUEQ3B2G4epmmzZv3nxxrVb7uzAMB1qBHx0d3R5F0YfMZ8PDw7Jjxw4XfSgDAQhAwDuBg9/6puz75EckWLlKgqFls+2JjhyW6MB+WfvbN8iKi97qvZ00AAIQSJ3AGUEQPJ56rT1QoTcD3VxVLpVKZ+7cufPHMwb6TBH5YbsV6HaxzRVm18/nr3Y3NZ3ZTvKbYRi+a2YF+sGJiYmh5gr06Ojou6IoClmBTucqYAUgHY5Z1YI+WZFNp96s9UnrYdR0ett9tWStT/cRKVaL0WepHryJUB+j3gz0jGF+IgiCa8fGxnbN/PuIiHwiDMNTFzfd7HHuFJv08xb5rhCRPzb7sZt7oEXkLWEYPmhiR0dHr4+i6FfCMLxEw8wWDo0QWzh0Qn4j+ILxy1/Lnoc+aTyMqvWjVz/PQ59eZZdHv9AHA+0yzrwa6JGRkRtnjoV790zjvyIie1qdwqHFJvm8UqmsjqKoMj09fdeePXterFQq54rIziiKvjE+Pr5txtyb0zaOF5H31Wq1E0qlkjmF4z9zCofLsFtahgksHY5Z1YI+WZFNp170SYdjVrWgT1Zk06kXfTDQLiPJq4E2ZzdPTk7eEkWRWe01f19ongM9Ojp6q/kPY2Nj7zf/7BSb9POtW7euOnTo0B4ReaOImA1+z0VRtOvw4cMf+vKXv3zA1G/OgZ6amvrzKIrq50CLyKdaGf1WIrACrQ9NJjCdkc8I9PFJX8+NPjojnxHo45O+nht9MND6KFka4dVAuzS4G8tgoHXVmMB0Rj4j0McnfT03+uiMfEagj0/6em70wUDrowQD7cIocRkMtI6QCUxn5DMCfXzS13Ojj87IZwT6pEN/dh/+/feK7J0QOXZYSusvETnnAglKJeck6IOBdhk8rEC7ULMsg4HWgTGB6Yx8RqCPT/p6bvTRGfmMQJ/k9BecBBNFIoODItPTjYrXb5DSxqucTTT6YKBdRigG2oWaZRkMtA6MCUxn5DMCfXzS13Ojj87IZwT6JKcfPfyg1G7fIbJipcjg0FyFU0dEDh6Q0tYPSHDehU6J0AcD7TJwMNAu1CzLYKB1YExgOiOfEejjk76eG310Rj4j0Cc5/frbML//kMgxLV7++9KkyNnnS/maa50SoQ8G2mXgYKBdqFmWwUDrwJjAdEY+I9DHJ309N/rojHxGoE9y+tWP3SCy73mRlbMvBJ6r9MAr9f3Q5etvckqEPhhol4GDgXahZlkGA60DYwLTGfmMQB+f9PXcWeuT1cNbes96IyJrfXqDUude1FegH31Y5Og1SwNZgU59CPAmQh0pBlpnlDgCA/qUUTEAACAASURBVK0j5AtGZ+QzAn180tdzZ6lPlg9v6T3rjYgs9ekNQnov2AOtM0ozAgOt08RA64wSR2CgdYR8weiMfEagj0/6eu4s9cnSuOg9642ILPXpDUJ6LxbcyJnwgQFO4dCxOUdgoHV0GGidUeIIDLSOkC8YnZHPCPTxSV/PnaU+WT68pfesNyKy1Kc3CMXrxexWogfumzsH+uINnAMdD59VFAZax4WB1hkljsBA6wj5gtEZ+YxAH5/09dxZ6pPlw1t6z3ojIkt9eoOQ316gz1L+GGh9TGKgdUaJIzDQOkImMJ2Rzwj08Ulfz52lPlk+vKX3rDcistSnNwj57QX6YKBdRiAG2oWaZRkMtA6MCUxn5DMCfXzS13NnqQ97oHX+WkSW+mi5+VwngD4YaH2ULI3AQLtQsyyDgdaBMYHpjHxGoI9P+nruLPXJ8uEtvWe9EZGlPr1ByG8v0AcD7TICMdAu1CzLYKB1YExgOiOfEejjk76eO2t9snp4S+9Zb0RkrU9vUPLXC/TBQLuMPgy0CzXLMhhoHRgTmM7IZwT6+KSv50YfnZHPCPTxSV/PjT4YaH2ULI3AQLtQsyyDgdaBMYHpjHxGoI9P+npu9NEZ+YxAH5/09dzog4HWRwkG2oVR4jIYaB0hE5jOyGcE+vikr+dGH52Rzwj08Ulfz40+GGh9lGCgXRglLoOB1hEygemMfEagj0/6em700Rn5jEAfn/T13OiDgdZHCQbahVHiMhhoHSETmM7IZ0Ra+sw+jHb/vXNvElt/SeI3iflkU4TcaelThL70YhvQp9iqog8G2mWEsgfahZplGQy0DowJTGfkMyINfRYchxZFIoODItPTjW6t3yCljVdJUCr57GbX5k5Dn67tfBc0/KQTT5Snv/Y/pcaNYyHV4vrBQLsMTAy0CzXLMhhoHRgTmM7IZ0Qa+vBCjuwUTEOf7FrX3zWbG8eVX90lr/zV3SLcOBZyMHD9YKBdBiYG2oWaZRkMtA6MCUxn5DMiDX3qr4T+/kMix6xd2pWXJkXOPl/K11zrs5tdmzsNfbq28wVvuLlxDL50q1SHlokMDs21duqIyMEDUtr6AQnOu7Dgvejt5nH9YKBdRjgG2oWaZRkMtA6MCUxn5DMiDX2qH7tBZN/zIitXL+3KgVdEjh2W8vU3+exm1+ZOQ5+u7XzBG25uHMs/ekSqq47mxrGgWnH9YKBdhiYG2oWaZRkMtA6s0wTGg2c6v6wj0viCqa9AP/qwyNFrMBIpC5aGPik3iepmCJgbx/JL+6S6bAU3jgUdFVw/GGiXoYmBdqFmWQYDrQNrN4Hx4JnOLo+INL5g2AOdnVJp6JNd6/q7Zlagi68/1w8G2mWUYqBdqFmWwUDrwNoa6IcflNrtO0RWrGT/oI4xs4g0vmAW3AyZlg4MpH4KR7/+WpGGPpkNnj6vmD3QxR8AXD8YaJdRioF2oWZZBgOtA2s3gfHgmc4uj4i0vmBmDe4D982dA33xhlTOge7nXyvS0iePsdRvORacwpHRjWO/MY3b37g31Fw/GOi4Y2p+HAbahZplGQy0DqytgebBMx1eDhHd8AXTz1tEukGfHIZpYVPMngOdwY1jYTvtuWE2N9RcPxhol+GKgXahZlkGA60D67gCzYNnOkDLiLgrM81qu+ELpp9/regGfSyHaE+Fo0/+ctrcUKMPBtplhGKgXahZlsFA68DYA60zSivCZmWmqwx0H/9agQFI6+rIph70yYZrp1ptbqjRBwPtMkIx0C7ULMtgoHVgsU7hMNVk8OCZ3rreioizMiPnXCDyyHdmXz288uTT5NC5F6WyVzkrmv18TB4GIKtRlU696JMOR5tabM6dRx8MtM3YasZioF2oWZbBQOvAOk1gWT54pres9yLUlZnXnSdyzBqR+++bffVwOapJtVoTWb9BShuvkqBUKhyYODcGvfrGNwxA4YbjggahT/762NxQow8G2mWEYqBdqFmWwUDrwJjAdEZpRagrM0PLRcybAecdHTg4OChTB/YX+tXDeRyTl5YGadfD9ZM20XTrQ590ecapzeaGGn0w0HHG1OIYDLQLNcsyGGgdGBOYziitCHVlpmzOZ54SOWbtbMq6gZ6aEnlpUuTs86V8zbVpNSfVevr11wqun1SHUeqVoU/qSNUKbW6o0QcDrQ6oFgEYaBdqlmUw0DowJjCdUVoR2sqMrFwlcuSwyMrVSw20WZk+dljK19+UVnOoJwUCXD8pQMywCvTJEG6HquPeUKMPBtplhGKgXahZlsFA68CYwHRGaUVoKzPy4qTIoqMDu2UFOi1G3VYP10+xFUMf9Ck2AQy0iz4YaBdqlmUw0DqwvL5gbM8/1lvenRGdVmbqp28sen16N+yB7k4l0ml1XtdPOq3tv1rQp9iaow8G2mWEYqBdqFmWwUDrwNKcwNqZ5Oj1b5Boz+0LTpeQ6elG4wp8uoROL92IVivU3XAKR7oUuqu2NK+f7up5d7QWfYqtE/pgoF1GKAbahZplGQy0DiytCazjS0LOOEvksR+IrFglMjg016ipI4U+XUKnl37E4hXq+jnQ51xY6HOg06ewsMYi/3qR1vWTNcN+rR99iq08+mCgXUYoBtqFmmUZDLQOLK0JrOMDcs8/KzI0JHLcuqUNKvjpEjrBbCPS0ifbVmZXu8vbG9u1Jgsj3u/6ZKd8OjWjTzocs6oFfTDQLmMLA+1CzbIMBloHltYE1vElIU89LmKOaDvx5KUN4nSJjiKlpY8+EooZoZ1cUtr6AYnzkpY0jfh8Uv2uTzFHzVyr0KfYCqEPBtplhGKgXahZlsFA68DSmsA6viTkmSdFqtMirz6dFWhdkgURaeljmbYw4erbG2OejZ2WEV8Mpt/1KcxAadMQ9Cm2QuiDgXYZoRhoF2qWZTDQOrC0JrCOLwl54bnG+cbHr2MPtC4JBnoeAfXtjTHPxk7LiGOgLQew5/C05rd23chiW5BnZLmmz1qfXDuTUrJyuSzr1tW3O54RBMHjKVXbU9VgoHOQEwOtQ05rAuu4wmdeRf2a1zUeJDR/A+aNe5zCoasjkpY+cXIVMUZ9e2PMFei0jDgGuoijpH2bsrx+stoW1F2Ek7U2S32StcxfaQy0zh4DrTNKHIGB1hGmNYFpLwkJLt8qwT/9o9QeuE9k70T9rXqlizf09ekSujoY6LS2XqRlxDHQcUZtcWLSmt9a9SitsVkcWvm3JEt98u9NOhkx0DpHDLTOKHEEBlpHmOYEFvf1rXqriGgSSFOfbqSq3ZiVNl4lQamkdi0rs9Pv+qjgPQdkqU9W24I8I8s1fZb65NqRFJNhoHWYGGidUeIIDLSOkAlMZ+QzAn1E0rgxS8uIswLt82qwz53l9ZPVtiD7XnZviSz16VYqGGhdOQy0zihxBAZaR8gEpjPyGYE+6dFPw4hjoNPTI4+asrx+stoWlAeXouTIUp+i9NG2HRhonRgGWmeUOAIDrSNkAtMZ+YxAH5/09dzoozPyGZGlPlltC/LJK+/cWeqTd1/SyoeB1klioHVGiSMw0DpCJjCdkc8I9PFJX8+NPjojnxFZ6pPVtiCfvPLOnaU+efclrXwYaJ0kBlpnlDgCA60jZALTGfmM8KUP59vGU92XPvFaR1TW+mSxLaifVMtan25kiYHWVcNA64wSR2CgdYRMYDojnxE+9OF82/iK+9AnfuuIRJ9ijwH0WaoPBlofsxhonVHiCAy0jpAJTGfkM8KHPuztjK+4D33it45I9Cn2GEAfDLTLCMVAu1CzLIOB1oExgemMfEb40IfzbeMr7kOf+K0jEn2KPQbQBwPtMkIx0C7ULMtgoHVgTGA6I58RPvTp1fNts9jX7UMfn+Ox23KjT7EVQx8MtMsI9Wqgt23bNrh3796bgyC4UkQiEfnixMTEdffcc8/04s5osUk+v/TSS5cdddRRn4qi6F0icryIPBUEwUfHxsY+22xHpVK5R0TeLCJTzf9WLpdfe+eddz6tgcdAa4R4VbROyG+Ejy+YXjzfNqt93T708Tsiuys7+hRbL/TBQLuMUK8GulKpfFhE3lutVi81jS+Xy3eLyO4wDG9c3BktNsnnW7duXXXw4MH/VC6Xb9u5c+c/b968+edqtdrdURRtHh8f/6ppizHQURTtGR8fv8UWNAZaJ8YEpjPyGeFDn17cA51Vn3zo43M8dltu9Cm2YuiDgXYZob4N9BMicl0YhuOm8SMjI5UgCD4ehuFpLQx0x9hKpZLo8xb5dkdR9N3x8fE/wEC7DC27MkxgdrzyjvahTy+eb5vVvm4f+iweg1lsTcl7nGeVrwj6ZNW3XqgXfTDQLuPYm4G+4oor1k5NTe0VkbPCMPyRafymTZvOKpVKPxCRNWEYvtjskBY7ODhY6lSX9vn8XCbn1VdfvXz//v2mTdc2zf3MFo5zRaQkIv8SRdHN4+Pjn48DnRVonRITmM7IZ4QvfXrtfNus9nX70qc5JrPamuJzzKeZ27c+afalF+tCHwy0y7j2ZqC3bNlySrVa/cnAwMDwHXfc8fzMKu+wiDxXrVZP2b1795PNDmmxQ0NDQae6tM/n5xKRYHR09PYoil59zjnnvHP79u21mbaZ/c/fW7t27YHJycl3RFE0Zrx2GIZ3tQI/Ojq6PYqiD5nPhoeHZceOHS76UAYCEOghAi/82Yfk8EMPSGnNcUt6VZt8QZa9Yb0c9zvbu67HB7/1Tdn3yY9IsHKVBEPLZtsfHTks0YH9sva3b5AVF7216/pFgyEAATkjCILH4bCUgDcD3VxVLpVKZ+7cufPHMyb1TBH5YbsV6HaxzRVm18/nrUAHIyMj/y0IgotE5F2LV6bn46tUKh8VkVPDMNyiDSxWoDVCPESoE/IbwQpNOvx7dQ90VltT0qHuvxauH/8adGoB+rAC7TJCvRnoGcP8RBAE146Nje2a+fcREflEGIanLu6M2ePcKTbp52bluVKpmGXiNw0ODr7zS1/60r5OQEdGRv4kCILTMdAuw25pGSawdDhmVQv6pEM2q33dvvXJamtKOtT91+JbH/8Eit0C9MFAu4xQrwZ6ZGTkxiAI3iMi755p/FdEZE+rUzi02KSfj46O7oii6G3T09PvuOuuu16YD/Pyyy9fMzQ09JaDBw/es3z58sNRFL09CIJdURT9xvj4eKiBZwVaI8QKtE7IbwRfMOnxz2Jft299evHIwfQUZ35Lk2UWdfm+frLoU9I6eZW3TtCrgTZnN09OTt4SRdEVM039QvMc6NHR0VvNfxsbG3u/+Wen2KSfb9y48bRyuWz2+BwWkdkzqIMg+ILJX6lUzN7svxSR18+08/EgCG6Zf050J9QYaH0gMoHpjHxGoI9P+npu3/pktTVF73l3RPjWpzso+Wsl+rAC7TL6vBpolwZ3YxkMtK4aE5jOyGcE+vikr+f2rU9WW1P0nndHhG99uoOSv1aiDwbaZfRhoF2oWZbBQOvAmMB0Rj4j0McnfT13EfTJYmuK3vPuiCiCPt1Byk8r0QcD7TLyMNAu1CzLYKB1YExgOiOfEejjk76eG310Rj4j0McnfT03+mCg9VGyNAID7ULNsgwGWgfGBKYz8hmBPj7p67nRR2fkMwJ9fNLXc6MPBlofJRhoF0aJy2CgdYRMYDojnxHo45O+nht9dEY+I9DHJ309N/pgoPVRgoF2YZS4DAZaR8gEpjPyGYE+PunrudFHZ+QzAn180tdzow8GWh8lGGgXRonLYKB1hExgOiOfEejjk76eG310Rj4j0McnfT03+mCg9VGCgXZhlLgMBlpHyASmM/IZgT4+6eu50Udn5DMCfXzS13OjDwZaHyUYaBdGictgoHWEeUxgs8ds3X+vyN4JkWOHpbT+EpFzLpCgVNIb2ccReejTx3gTdx19EiPMtAL0yRRv4srRBwPtMog4hcOFmmUZDLQOLOsJbMGLHqJIZHBQZHrmpZPrN0hp41WY6A4yZa2PPkKI6EQAfYo9PtAHfYpNAAPtog8G2oWaZRkMtA4s6y8YXjWsa4BBS8bIZ+msrx+ffeuF3OhTbBXRBwPtMkIx0C7ULMtgoHVgWU9g1c/cLPL9h0SOWbu0MS9Nipx9vpSvuVZvaJ9GZK1Pn2JNrdvokxrKTCpCn0ywplYp+mCgXQYTBtqFmmUZDLQOLOsJrPqxG0T2PS+ycvXSxhx4pb4funz9TXpD+zQia336FGtq3Uaf1FBmUhH6ZII1tUrRBwPtMpgw0C7ULMtgoHVgWU9g9RXoRx8WOXoNK9C6HEsistbHoUkUmUcAfYo9HNAHfYpNAAPtog8G2oWaZRkMtA4s6y8Y9kDrGnSKyFqfZK2jNPoUewygD/oUmwAG2kUfDLQLNcsyGGgdWNZfMAtO4TDNGRjgFA5dltmIrPWxaAqhLQigT7GHBfqgT7EJYKBd9MFAu1CzLIOB1oHl8QUzew70A/fNnQN98QbOgdblkTz0idEMQtoQQJ9iDw30QZ9iE8BAu+iDgXahZlkGA60D4wtGZ+QzAn180tdzo4/OyGcE+vikr+dGHwy0PkqWRmCgXahZlsFA68CYwHRGPiPQxyd9PTf66Ix8RqCPT/p6bvTBQOujBAPtwihxGQy0jpAJTGfkMwJ9fNLXc6OPzshnBPr4pK/nRh8MtD5KMNAujBKXwUDrCJnAdEY+I9DHJ309N/rojHxGoI9P+npu9MFA66MEA+3CKHEZDLSOkAlMZ+QzAn180tdzo4/OyGcE+vikr+dGHwy0Pkow0C6MEpfBQOsImcB0Rj4j0McnfT03+uiMfEagj0/6em70wUDrowQD7cIocRkMtI6QCUxn5DMCfXzS13Ojj87IZwT6+KSv50YfDLQ+SjDQLowSl8FA6wiZwHRGPiPQxyd9PTf66Ix8RqCPT/p6bvTBQOujBAPtwihxGQy0jpAJTGfkMwJ9fNLXc6OPzshnBPr4pK/nRh8MtD5KMNAujBKXwUDrCJnAdEY+I1z1mX374/33zr39cf0lvP0xZTFd9Um5GVTXhgD6FHtooA8G2mWE8iIVF2qWZTDQOjAmMJ2RzwgXfYx5ru2+TeT++0SiSGRwUGR6utGN9RuktPEqCUoln93qmdwu+vRM57ugI+hTbJHQBwPtMkIx0C7ULMtgoHVgTGA6I58RLvpEDz8otdt3iKxYKTI4NNf8qSMiBw9IaesHJDjvQp/dss5d1BV1F32sO1/wAkXVxmDzoU+ReRRtKPnQp2gMFrenXC7LunXrzH8+IwiCx4veXh/tw0DnQB0DrUNmAtMZ+Yxw0af6mZtFvv+QyDFrlzb9pUmRs8+X8jXX+uyWVe4ir6i76GPV+YIHF1kbHwa66DyKNpz6/fpppQcGWh+lGGidUeIIDLSOkAlMZ+QzwkWf6sduENn3vMjK1UubfuAVkWOHpXz9TT67NZs7zmpdkVfUXfQpBPiUGlFkbbwY6B789SelodKymn6/fjDQbqMLA+3GzaoUBlrHxQSmM/IZ4aJPfQX60YdFjl5T6BXouKt1RV5RX6xPnBsCn+Mp7dxF1saHgS46j7T1T1qfy/yWNGfRy7MCrSuEgdYZJY7AQOsImcB0Rj4jXPQp+qpgk2fcdhZ5RX2+PnFvCHyOp7RzF1kbLwa6i379SXssuNTnMr+55OmmMhhoXS0MtM4ocQQGWkfIBKYz8hnhos8CI2caPzBQyFM44q7WFXlFfYGB7sOf74usjRcD3SW//vic0+bndpnfitL2rNqBgdbJYqB1RokjMNA6QiYwnZHPCFd9ZrcSPHDf3DnQF2+wPgc6yy0JcVcv465U+9Bpvj5xbwh8tDOrnEXWxoeBLjqPrMaBa72u85trvm4oh4HWVcJA64wSR2CgdYRMYDojnxE+9cl6S0Lc1csir6gvMNB9+PN9R20ufpsErztPoge+4e1lPnlfP0Ueqz7nsXa589aniAwWtwkDrauEgdYZJY7AQOsImcB0Rj4jfOqT9WqaTf1prainreWSFegueHgzbQattAkueptEhoX5BcTjy3x8XD9FHatp655GfT70SaPdWdaBgdbpYqB1RokjMNA6QiYwnZHPCJ/6ZL0loRdW6/p9D3S7a8Pm5ijL68vn9ZNlv3qlbvRZqiQGWh/dGGidUeIIDLSOkAlMZ+Qzwqc+cfcoJ+HT7at1bU/hMFAK+vBmEr3ils365ituO3xeP3Hb2M9x6IOBdhn/GGgXapZlMNA6MCYwnZHPCJ/6xN2j7JOP79yL9en2G4K0eOZx8xWnrT6vnzjtK2pMlg8Pz+8z+mCgXa4BDLQLNcsyGGgdGBOYzshnhE99ivIzvE/+Wm6f+mht8/l5UW6+0Md+FGT98DAGurMmbOHQxywGWmeUOAIDrSPkC0Zn5DPCpz69sEc5a+186pN135LUX5SbL/SxVzFP7dCHFWj7ESqCgXahZlkGA60DYwLTGfmM8K0PWxI6q+9bH59js1Puotx8oY/9CMlz/zr6YKDtRygG2oWZdRkMtI4sjwksr/10em+7LyIPfbqPSnFajD7ttSjCzRf62F8ree5fRx8MtP0IxUC7MLMug4HWkWU9geW5n07vbfdFZK1P9xEpVovRp1h6LG5NFvr0+oJAnvvXs9Cn2CNSbx17oHVGbOHQGSWOwEDrCLOewPLcT6f3tvsistYnCZFeNxJx2BRZnzjt7/WYtPXphwWBPOfstPXphfGMgdZVxEDrjBJHYKB1hFlPYHnup9N7230RWevjSqQfjEQcNkXVJ07b+yEmbX3yNJe+9Mlz/3ra+vhilmZeDLROEwOtM0ocgYHWEWY9geW5n07vbfdFZK2PK5F+MBJx2BRVnzht74eYtPXplwWBvPavp61PL4xpDLSuIgZaZ5Q4AgOtI8x6AstzP53e2+6LyFofVyL9YiQ0PkXVR2t3v3yetj4sCKQ7ctLWJ93W+akNA61zx0DrjBJHYKB1hFlPYKxU6hp0ishaH9fWYSQa5Iqqj6uuvVYubX1YEEh3hKStT7qt81MbBlrnjoHWGSWOwEDrCLOewPLcT6f3tvsistbHlQhGAgPtOnbyLJf29cOCQLrqpa1Puq3zUxsGWueOgdYZJY7AQOsI85jA8tpPp/e2+yLy0MeFCkYCA+0ybvIuk/b1w4JAugqmrU+6rfNTGwZa546B1hkljsBA6wiZwHRGPiOKqg9GAgPt87qImzuL64cFgbj09bgs9NGzFjsCA63rg4HWGSWOwEDrCJnAdEY+I4qsD0aCPdA+r404uYt8/cRpfy/EdDov/tUnnyxPP/10L3QztT5goHWUGGidUeIIDLSOkC8YnZHPCPTJh77rS2HQJx99XLOgjyu5dMpp58Wf/Fu/Lz995pl0kvVILRhoXUivBnrbtm2De/fuvTkIgitFJBKRL05MTFx3zz33TC9uuhab5PNLL7102VFHHfWpKIreJSLHi8hTQRB8dGxs7LPNdlx55ZVHHz58+NYgCN4jIgeDIPjU2NjYH+qIRTDQOiW+YHRGPiPQJ3v62pd8aeNVEpRKLRuCPtnrkyQD+iShl7ys9qzE8df+Z9n3qjOSJ+qhGjDQupheDXSlUvmwiLy3Wq1eappaLpfvFpHdYRjeuLjpWmySz7du3brq4MGD/6lcLt+2c+fOf968efPP1Wq1u6Mo2jw+Pv5V05bR0dHboihaNzU1tWXZsmUn1Gq1/x1F0QfHx8c/r2HGQGuE+AlaJ+Q3AgOQPX/tS7609QMSnHchBjp7KVLPwPWTOlKrCrXz4le+8U1yeMs2qzp7PRgDrSvs20A/ISLXhWE4bpo6MjJSCYLg42EYntbCQHeMrVQqiT5vkW93FEXfHR8f/4PLLrts5fLly/fVarW37tq161smtlKp/EcReU8Yhj+vYcZAa4Qw0DohvxEYgOz5a1/ycvb5Ur7m2npDFm/1WHnyaXLo3ItEzrmg7Sp19j0gQzsCXD9+x4Z2XvyyE18t0//+Q34bWbDsGGhdEG8G+oorrlg7NTW1V0TOCsPwR6apmzZtOqtUKv1ARNaEYfhis/la7ODgYKlTXdrn83OZnFdfffXy/fv3mzZda8z9pk2bLiiVSt+emJgYbG4vqVQqvyAiY2EYrtUwY6A1QhhonZDfCAxA9vy1L3k5dljK199UN8+13beJ3H+f2R8mMjgo5agm1WpNZP0G6bTVI/tekKEVAa4fv+NCOy+eFeil+mCg9THrzUBv2bLllGq1+pOBgYHhO+644/mZVd1hEXmuWq2esnv37iebzddih4aGgk51aZ/PzyUiwejo6O1RFL36nHPOeef27dtrIyMjG4IguDsMw9XNNm3evPniWq32d2EYDrTCPDo6uj2Kovot7fDwsOzYsUNXgwgIQKBvCbzwZx+Sww89IKU1xy1hUJt8QZa9Yb0c9zvb5eC3vin7PvkRCVaukmBo2WxsdOSwRAf2y9rfvkFWXPTWvuVIxyGwmADXTKIxcUYQBI8nqqFHC3sz0M1V5VKpdObOnTt/PGOgzxSRH7ZbgW4X21xhdv183gp0MDIy8t+CILhIRN7V/O8zK9APTkxMDDVXoEdHR98VRVHICnQ6V0a/rtC4nrqQDvX4tWSlT7f0Pz4p98i4e6BbbfUYHByUqakpkZcmZf5WD/fWUDJNAlldP2m2sZfr0s6L5xQOVqBdxr83Az1jmJ8IguDasbGxXTP/PiIinwjD8NTFnTF7nDvFJv3crDxXKhWzTPymwcHBd37pS1/a12xDcw+0iLwlDMMHzX8fHR29PoqiXwnD8BINPFs4NEL9uYUjyakLOtF0I7IwAN3U/3Rptq5N+5Jvbs1otdVj1kAfeEWaWz3yaDM54hHI4vqJl5moJoFO58VzDjQG2uVK8WqgR0ZGbpw5Fu7dM43/iojsaXUKhxab9PPR0dEdURS9bXp6+h133XXXCy0MvDltwxxx975arXZCqVQyp3D8Z07hcBl2S8v04xdM3BXHdAgnqyULfbqp/8noxS8d56UwrfZzbUZPHAAAIABJREFUsgIdn7GPyCyuHx/96NWc6IOBdhnbXg20Obt5cnLyliiKrphp/Bea50CPjo7eav7b2NjY+80/O8Um/Xzjxo2nlctls8fnsIjMnkEdBMEXmvnNOdBTU1N/HkVR/RxoEflUK6PfSgRWoPWh2Y8TmM2pCzrBbCOy0Keb+p8tXbvaW9141A30gf0iBw9Ip+Pu7DL1RnQRtgllcf30hjrF6AX6YKBdRqJXA+3S4G4sg4HWVevHCSzuqQs6vewjstCnKP0vgsGyUbDVVg9O4WhNsCjbhLK4fmzGDLGdCaAPBtrlGsFAu1CzLIOB1oH14wSmHa1UpIfBstCnCP0visHSr5CFEYu3etTPgT7nQs6BXgSyKNuEsrh+bMcM8e0JoA8G2uX6wEC7ULMsg4HWgfXjBFaUL3ddHbeHPLWV3SL0vwhtiMNfi+nH60djYj4vyjYh9Imjlr8Y9MFAu4w+DLQLNcsyGGgdWD9OYHFPXdDpZR9hq0+clV3T6tkXgph/GRgQmZ55BCGnF4IUxWAlVdBWn6T5uqV8UbYJFUkf7ca2W7RNs51F0ifNfiWpixep6PQw0DqjxBEYaB1hv05gcU5d0OllH2GrT9yVXd/9L4rBSqqgrT5J83VL+SJsEzKsiqJPnBvboFTqFnlTa2dR9EmtQylUhIHWIWKgdUaJIzDQOkImMJ2RzwhbfbplZbcoBiuptrb6JM3XLeXj3shl3Z+i6FMUHlnztq2/KPrYtjvLeAy0ThcDrTNKHIGB1hEygemMfEbY6tMtK7u9Yihs9fE5lvLMXZRtUkXRp1tubPMcI0X6hSDvfnfKh4HW1cBA64wSR2CgdYRF+YLRW9qfEbb6dMvKblEMVtJR1Umfft/z6nubUJEMWrfc2Ca9HmzL285vtvV3YzwGWlcNA60zShyBgdYRMoHpjHxG2OrTTSu7RTBYSbVtpw97XpOSTae87fWTTtaltXTLjW1W/W9Xb1H0ybvfrEAnI46BTsYvVmkMtI6JCUxn5DPCVp9eWdn1ydwmd1sD/fCDUrt9h8iKlSKDQ3NVTh3hrYU2gBPG2l4/CdO1LZ7kxraXf8koij5Z6e5SLyvQOjUMtM4ocQQGWkfIBKYz8hnhok8vrOwmZZ6X6WinD3tekyqYTnmX6yedzAtrcb2x7fVfMoqiTxaau9aJgdbJYaB1RokjMNA6QiYwnZHPCPSxp5+n6WhroD92g8i+50VWrl7agQOviBw7LOXrb7LvHCWsCBTp+nG5sU2ycm0FylNwkfTxhGBJWgy0rgQGWmeUOAIDrSNkAtMZ+YxAH3v6eZqOjivQjz4scvSapR14aVKK9Lp4e8LdU6Kbrp9Wv5rI5AsizzwlcszanhxH3aRPXqMeA62TxkDrjBJHYKB1hExgOiOfEehjTz/P7ROx90BHkcihAyIvvyhi9kGf+TNS+sVfFTnnAsnzBRp5bW2xVy2bEt1y/bT91eTlycYe+uGTRIJFtqEHfsnoFn2yGZ2ta8VA67Qx0DqjxBEYaB0hE5jOyGcE+tjTz/PIsNincBw+JHLoYKMzy5eLLFvRMEQ5vTrdpM1za4u9atmU6Jbrp+2vJs89LXLokMjwOpEVqxZC6oFfMrpFn2xGJwbalWtsA12pVP7AJkkYhjfaxPdyLAZaV5cJTGfkMwJ97OnneWRYJ31mV3u/ukfkR4+IDC4TOepokeUrG+Y55xM58tzaYq9aNiW65fpp+6vJwf0iE8+KLF8hcsJJc5ByHjvZqFOcV61n1T+XelmB1qnZGOiJRdWtEJGVM//tFRFpPqVyQEQOhGF4gp6+PyIw0LrO3fIFo/ekNyPQx17XPI1iHH3y3FLSiVZR2mGvqHuJOPq4155eyba/mpitPxPPNG62jjpGZGBAZHq6kTjHXy/S6+nCmrpFn6z636peDLROO7aBnl9VpVJ5s4h8UUQ+KCJ3hWF4sFKprIiiaGMQBH8oIleGYfh3evr+iMBA6zoXfQLLa89mXnl0RfiCsWW0ON71yDCXvHGunzy3lHQ00BYngxT1erDVKI4+tnVmEd/xV5MX94mceLLI2uNE9k7UT3ApXbwh9/3zWfS7W/TJou/t6sRA67RdDfQDURT9+fj4+KcXp6hUKttE5P1hGL5RT98fERhoXeciT2B57dnMK4+uxtKIIuvj0p+8yrgcGebStjj65LmlpKOB/szNIjFOBiny9WCrURx9bOvMIj7PX02yaL9rnd2ij2v/XMphoHVqrgb6YBAEm8bGxr7SwkD/soiMh2FotnjwZx6aiaLTReSxZ599VqrVKkxaECjyBJbXl0peeVwGYJH1celPr5WJo09RxlfcdsSN6wYt4+hThH7k+atJEfrbbEO36JMnMwy0TtvVQP+jiEy88sorv3z33Xcfbqa5+uqrl+/fv/9/ishxYRj+rJ6+PyIw0LrORZ7A8tqzmVceXY2lEUXWx6U/vVYmjj5FMUdx21Hk68F2/MTRx7bOrOLz+tUkq/a71NtN+rj0z6UMBlqn5mSgR0dHL4miyKw+H4yi6GtBEDwXRdEJQRD8gnmwMAiCS8fGxu7V0/dHBAZa17nIE1hee0fzyqOrgYF2YeSzTNzrpyjmKE47inw92GodVx/beosQ3wv71HtZH9cxgoHWyTkZaFPtxo0bTyqXy9eJyMUicqKIPCMiD5TL5VvuvPPOp/XU/ROBgda1LvIEltfe0bzy6GpgoF0Y+SxT5OvHlUuRrwfbPvWiPsY4R9/9tkTjfyEy8VORoCSyclXjnzmfLW6rx+L4XtQnKRMMtE7Q2kBv27ZtcHJycn2pVHoMo6wDNhEYaJ1TkSewvPZi5pVHVwMD7cLIZ5kiXz+uXIp8Pdj2qdf0md2G882vi+x/RaRkrMSMnVi1WmTVUfUX9pS2fkCC8y60xZV7fK/pkwZADLRO0dpAb9++vfTII4+YV1ldGobhX+kpiMBA62OgyBNY3D2bei87R+SVx6WdRdbHpT+9VqYX9Sny9WA7fnpNn9mbG/Na+COHRcoDDSTmvOhaTeS4YZGpKZGzz5fyNdfa4so9vtf0SQMgBlqnaG2gTZWVSuW7IvKRMAy/pKcgAgOtj4GiT2Bx9mzqvdQj8sqjt2RhRNH1se1Pr8X3qj5FvR5sx48PfbLcmzz7gKd5Q2F1WqRUnkNiTpoybyw02zmOHZby9TfZ4so93oc+uXfSMiEGWgfmZKBHRkbeGwTBnxovHYbhw3qa/o7AQOv6M4HpjHxGoI9P+npu9JlZADWrn498R2r33zv3so/1l3h/2Ufe+mR9hvbsA54H9ouYVejmCrSRoVYVKQ82DDQr0PrFW9AIDLQujJOBrlQqD4iIOdv4WBF5SkSeNT/ezE8XhuF6PX1/RGCgdZ3z/oLRW0TEfALoU+zxgD4iWZvGJCMgqT62q8lZ7x+ffcBzcFDkhedESubBwVIDkVmBHlpWX4VmD3SSUeO3LAZa5+9qoP9CqzoMw1/TYvrlcwy0rnTSLxg9AxFJCKBPEnrZl0UfkaxNYxIVk+jjcmOQ9Rnas6zNVo1XXhY58PIMnqCxB9o8SPjWd0pp41USGHNd8L8k+hS8a87Nw0Dr6JwMtF4tEfMJYKD18cAEpjNKO8JmVQt90qafbn3oI5KGabS5JmwUTKKPy41B1mdoLzH1xjSbrRxm+8YJJ0mw6WoJzr2wK8yz0TGJPjbjoJtiMdC6WhhonVHiCAy0jpAJTGeUZoTtqhb6pEk//brQRySpabS9JmxUTKKPy41BHmdo98oDnhjo1iMZA61f4c4GesuWLadPT0//30EQvDYIguWLU42NjY3q6fsjAgOt65zkC0avnYjFBGxXtdCn2GMIfWZWoB99WOToNUvFemlSfaDN9pqwGRFJ9HG5MciyLzb97pbYJPp0Sx9t24mB1ok5GehKpWJORjev6v6JiLxWRB4SkWNmHix8UkR+FIbhO/T0/RGBgdZ1ZgLTGaUZYbuqhT5p0k+/LvRJvgfa9pqwUTGJPi6ryb10hrYNZ9fYJPq45ix6OQy0rpCrgf6rKIp+EgTBr4vIVKlUumjnzp3fHhkZeUsQBHeIyG+GYfi/9PT9EYGB1nVmAtMZpRlhu6qFPmnST78u9Fl0CodBPDAgMj3dgL1+g/pAm+01YaNiEn1cV5N7aYuFDWuX2CT6uOTrhjIYaF0lVwO9NwiC942NjX21UqlUoyh62/j4+N+adKOjo9dEUfTvwzD8WT19f0RgoHWdmcB0RmlG2K5qoU+a9NOvC30aTJOYRttrwkbFJPqwmmxD2i02iT5uGYtfCgOta+RqoF8IgmBkbGzsryuVyjNBEFw3NjZmVp7NWwp/QUT2hGG4Sk/fHxEYaF1nJjCdUZoRtqta6JMm/fTrQh97pktO3DDnGD/1uMhRxzTOMW7+TR0ROXgg0ZnGSfVJcmNgT6b3SyzWfuXJp8mhcy/y/sKdIpHHQOtquBro+6Ioum18fPzTlUrlLhF5da1WuzKKoiPlcvnTIrIuDMPz9fT9EYGB1nVO+gWjZ+ivCO04LttVLfQp9vhBHzt9Wp64MTVVN8r1vxUrRcxLQiy2gHRqAfrY6ZNldCvty1FNqtVarK0+WbatSHVjoHU1XA301iiKThsfH/+jzZs3v75Wq33VHKU4k25/FEUj4+Pj5r/xZ35WjCLz1sbHnn32WamatzTxt4QAXzDpDYq4x3HZrGqhT3r6ZFET+thRbfsLzJHDIi+/KHLyGWY/iMixw1K6eEPilUn0WaqPdpNvp2j86FbaDw4OypR5LXnCXxrit6L4kRhoXSMnA7242kqlslpE3mzu26enp//+rrvuek5P3T8RGGhda75gdEZxI2y3Z8SpF33iUPIXgz527LM8caNVS7LQJ08DmnauuDf5dqrGi26lfd1Am18gYhx3GC9L90dhoHUNnQz01Vdfvfxzn/vcIb16IgwBDLQ+DrL4gtGz9mZEFuYAfYo9VtDHTp8sT9zIw0DnaUCzyJXFTX7cEdBK+1kDfeCV+q8O5etviltdz8ZhoHVpnQx0pVI5LCIPBkFwX61Wu296evobe/bsmdTT9WcEBlrXHQOgM4obkYU5QJ+49P3EoY8d9yxP3MjFQD/8oNRu3zGzV3toLmUKDzwubn9Ss9tq9VomXxB55imRY9YuxZXxKnAr7VmBXioDBlqfU5wM9Ojo6KYoijaIiPnfG2bSfK9pqGu12jd2795tXqjCHyvQscYABiAWplhBWZgD9ImF3lsQ+tihT2oK7bKJpK1PFr8ytetTklxtV69fnhQZHBIZPkkkWGRDMl4FZg90vNGLgdY5ORno+dX+yq/8ylHLli17axAEl0RR9E4Ruch4xjAMB/T0/RHBCrSuc9pfMHrG3o3IwhzkqU/a+y2zUrpI7cxTn6x45lmv7Sk0SduWRJ+WK7hP/LPI4UMiq45a2rSUDWiSX7TazkXPPS1y6JDI8DqRFYtOvM14BbqV9pzCwQq0yzWeyEBfdtllK5ctW/bmUqm0IYqiS0Tk58ybCUXkb8MwfLdLg3qxDAZaVzXJF4xee39FZGEO8tIni/2WWahftHbmpU8WLH3VaXMKTdI2uurTdpztf1nEnFu97lVLV3BTNqBJftFqu3p9cL/IxLMiy1eInHDSHN4MtqC00m6x9vVzoM+5MPFpK0nHSZHKswKtq+FkoEdHRz8+s4XjAhHZKyL3me0bURTdG4bhP5oVaD11/0RgoHWtXb9g9Jr7MyJtc5CXPlmsnmcxAorWzrz0yYJlP9Tpqk/bcWaO2tv3gsja4xovfmn+ZWBAk4z1tqvXUSQy8YyIaa9pv+Vr19MeM676pN2OItWHgdbVcDLQlUqlJiIHgyD4TLVa/fSuXbse0lP1bwQGWteeCUxn5DMiL32S7LfMk0/R2pmXPmkzLtI2mLT7Nr8+V33ajjNjQJ99unFWtdnGkaEBTfKLVsfV6xf3iZx4cuMmYO9Eamduu+joqo9Lrm4pg4HWlXIy0CMjI79o9jzPPES4XkTM65u+GQTBvWYV2pzQEYYhbwyZ4Y+B1gciE5jOyGdEXvok2W+ZF5+6objxP4g8/2wj5cCgyKrVIstXNn5OT3kPapx+5aVPnLbEjSnaNpj57U7b2Lvq0/F6MNs4lq0QOfU1mRtQ11+0kqxexx1HacS56pNG7qLWgYHWlXEy0POrrVQq5gyd9TMPEV4qIm8Rkf1hGB6tp++PCAy0rjMTmM7IZ0Re+iTZb5kHn1nT99dfETEvXiiX5jasGRO95rjGm+zOPl/K11ybR5PqOfLSJ80OFdVcZWHsXfVJ+3pI+8ZAGw9JVq+1utP83FWfNNtQtLow0LoiiQz0r/7qrx5XLpffNu8hQrMnuiwi3w/D8Gf09P0RgYHWdWYC0xn5jMhLn6Kaqib72faZleYX94qUSo2HucxP6rVa41zbKJLS1g9IcN6FuUmWlz5pdqho22CWaLxiZeOoteZfgv3FrvqkeT1kcWMQZzy4rl7HqTutGFd90spfxHow0LoqTgZ6dHT01pmHCM8WEbMf+v9EUXRfqVS6t1wuf+OOO+54Xk/dPxEYaF1rJjCdkc+IvPQp+orVrOk7ek3jIa4DLzdkMYa6WhMZHBT5V++W0sarJDDmOqe/vPRJsztF3a6ThbF31SfN6yFNM57mOChCXa76FKHtWbUBA62TdTLQlUrlnuZLU4IgMEfWvaKn6t8IDLSuPROYzshnRJ76FHnFaoHpM6vOhw6I7H9FZHq6cfjQ8SdK6Q9uydU8m3GRpz5pjcO0tyek1q6P3SCy73mRlauXVum4vz2JPmldD1ncGKTF3Hc9SfTx3fas8mOgdbJOBlqvloj5BDDQ+nhgAjMP1NdEHvmO1O6/d+6hoPWXFOJsUvRpjOGsTF9S7btRn6KuiGahcRH0KeqKv/7tkH1EEfTJvpd2GTDQOi9nA33ppZcuW7169TVRFF0UBMEptVrtA7t27fphpVLZXCqVHtq5c+c/6en7IwIDrevc7xOYr/2JujKNiH7Xp8kpTdM3a5r/4W9EfvBdEXOqwtBQ4zSP6swhRus3xNoO0o36pLk9Ie44jhOXpsbNfEXQJ4sbgzg8uyGmCPoUjRMGWlfEyUBv3rz5tbVa7WsiYk5wf1BE3l4qlS7euXPnt0dGRj4VBMHRYRj+Gz19f0RgoHWdu2kCS7pa2IpGFl/aOvX4Ed2kT/xeLY3UtG1r+sx2jte8VmRoeaxfDxbUc+SwiHkzmwSNvdTN0zymp0QOHoj1QGK36pPW9oQkmi8um4WxL4I+RZljtGssTS3j1lUEfeK2Na84DLRO2slAVyqV/yUiq6ampi6bnJx8ZXh4+EipVLpoxkBXgiD40zAMX6On748IDLSuc7dMYFmtFBd9f2K36KOPtPYRcbVdYvrWHi9iTPBjjzaOtDMPEtb3RJsDPluvIC8wM+aFEmYvdXlg7jSP44ZFVqwSifla5iLpU0SDZDsubIx9nP4WQZ8sbgxcuNZ23yZy/32NsR7jWrHN4RJfBH1c2p1lGQy0TtfVQO8PgqAyNjb2lUqlYo6tm2oa6NHR0UuiKPr/wjBcoaXftm3b4N69e28OguDKmdd/f3FiYuK6e+65Z+bbZ64GLTbp55VK5bdE5GoROU9E7g7D8PL57TcPTorIm01fm/+9XC6/9s4773xa6ycGWiPUPVsEslrFKfr+xH74gnHV1qXcghumZ54UqU6LlMxUajZaV0WWrxA5fl3sl7K46BPH+OlX7sKIuDchtvUWNT5uf130yaLPNjcGmeR/+EGp3b5DJMUjAtNoZ1H0SaMvadWBgdZJuhroF4Ig2DY2NrarhYF+XxRFnwjD8CQtfaVS+bCIvLdarZoXsEi5XL5bRHaHYXjj4rJabNLPR0ZGNpZKpVqtVntXEAQntzLQURTtGR8fv0Xr1+LPMdA6sW6ZwBYcYzZ7AsNU42105uf3cy+U8q9fp3d4UUTL/YnNUx4m9zYM1c9cICVPDxUWVZ80TaDrrwAu5RbcMJk3GjZXoM24qFVFyoMiJ746sxXouMZPG8hL+JszsZ96XGT10Y1+1E8omWqcl10ekODXrpXS+Rdp1S74PE2NrRLHCI5781TU6ydGF1MNcblWUm1Am8rQZykYDLQ+8lwN9J0icpaIvENEzBF2U7Va7cIDBw58b/Xq1X8dRdE/jY+P/7qWvlKpPCEi14VhOG5iR0ZGzPaPj4dheFoLA90xVqtL+7yZb3R0dHsURT+LgdbUS/fzIk5grb645Yl/Fjl0UOTIkYVnABuza/53zLFS+pNPWx9jtuSL2NRlzhk2D5aZ/3/0MXMrlDEfLEtToaLqk+bPwa6/AriUW3DDZPY/v/Dc3EtZmivQ5qUsGe2Bro+3z3+qkfPwoYbJNTeBy5bXXwhT+je/pb4IpqUJN9tRzLVhHoY0q+rmz9xY1l80E4mceLKUtv/X2NdHWkY/zWthfl1xDWERr5+smHSq1+VayaOd6IOBdhlnTgZ6y5Ytp1Sr1W+KyIooir4WBMFmEfkfInKOiJhXN70pDMNnOjXoiiuuWDs1NbXXGPEwDH9kYjdt2nRWqVT6gYisCcPwxWZ5LXZwcLDUqS7t8/m5OhloETlXRMzbEf4liqKbx8fHPx8HOivQOqWiTWBtv7hfeanxxjmzumZMgTEg5qd380+z73VgQErv/z3VfCwmsmR/ojFR5pXQxnysPqrximjz/xO8DU1XoX1E0fQxLY27+he3366nFLiUW9B2Y1ybL2Uxe6jNRmpzBrF5C17MmyVbfaqf/oTI//n7hnGeb3LN/x8YErngTeovKS35m+0oZoyaa6RZrxm35hqJavW3Npb+3Q2xr4+0NY47FuLGxTWEtvrEzd9tcS7XSh59RB8MtMs4szbQZq/x5OTk+lKp9JNarbYtiqJ3isjxIrI3iqKvV6vVT9x1110vaI2ZMeE/GRgYGG6+ubBSqQyLyHPVavWU3bt3P9msQ4sdGhoKqtVq27q0z+fn6mCgzf7n761du/bA5OTkO6IoGjN7psMwvKtVX2fq+ZD5bHh4WHbs2KEh4fMMCBhjeujbfycH/uarUn3up1I+4SRZ+fO/KMvf+OaOq2AHv/VN2ffJj0iwcpUEQ8vqLYuiSKaf/kl9VXDGHcxs3Te3VcZEB1JauVqWX/w2Oe53tlv3Zrat935NDj34txId3C/l406ot6F+QsPMX23yBVn2hvVOOawbVeACL/zZh+TwQw9IydxcLPpzYdRK87ruRw5LdGC/rP3tG2TFRW9dksulnNF68nOflIN/89X6GIrMA4QH90vt8GEpHXWMLD//oljj1FWen/67zTL9xONm39yC66D+q0u1KgOnniEn7TA/NLb/a8V/+pmnJDI3mbN/ZtzW7wrq5jkYGpIVb3tX7LGbtsauvNqVK3r70u5v0vpcrpWkOSmfmMAZQRA8nriWHqzA2kBv37699MgjjxwUkUvDMPwrVybNVeVSqXTmzp07f2zqqVQqZ4rID9utQLeLba4wu34eZwV6cT8rlcpHReTUMAy3aAxYgdYIZfMQYZKff1v+NGt+ajf7VZura4u7ZYyuWTk87gQpX3+T3ukOEXFXthIlsSjcaYXG1x7VtBm5nlKQpFz9xTkP3Dd39N3FG5xenGO7glb9/d8QeWGicQrC4r+pKZHjT5DyR/57xxHSkv/kCyJmG0fzz6w+m7/5K+unnBH7+khbY4shHys07gq5rT6xkndhkOu1knVX0WcpYfZA66PO2kDPGN3vishHwjD8kp6ifYTZlxwEwbXmYcSZekdExDyAeGoLw9oxVqtL+7yZr90K9OL2jIyM/EkQBKdjoJOMgLmyWUxgcb/cWvWg5Rd382Gv5ksuzLYNs42jaRLMsWNmtfrs86V8zbWJwBTtp852+iS5SYkLqJ1Br7+x8dGHRY5es7SqmMe/LS7oekqBa7m4DLQ42+unuv23RX76xMy+erM/udYYy/VfOiKRk06V8oc/2dlAf+bmpfwnnmmcHNLqz1wnZrvKRW+LfX0U7TpoNV5m9+GbDwcGWh5haKuPpnc3f+77WmnFDn0w0C7XlJOBHhkZea8569ksGodh+LBLYlNmZGTkxiAI3iMi756p4ysisqfVKRxabNLP3/72tw+cfvrpA/v37/+giJy/atWq0f3799fCMDxy+eWXrxkaGnrLwYMH71m+fPnhKIreHgTBriiKfmN8fDzU+s8KtEYomxXouA/4tDTQrcxB87ixptkwX5bm1AHzZ/ZEB+X6fuXS1g/E3uPZjkwS86/Tjhcx37gue+VFObz6mCWngGTdzo4G/YyzRB77QeO8ZLNfuPnnaZ94PKrZRNkagPq18e2/a5xf3dxiMb9pJ50ipe2f7LjNqe0eaPMQodnvbP6Mae7hPdCmi3EMoa0+2YwSam1HAH0w0C5Xh5OBrlQqD4jI6SJyrIg8JSLPLp6FwzBcrzVoZj/1LVEUXTET+4XmOdCjo6O3mv82Njb2fvPPTrFpfD5/z/K8dv9NGIZvn9mb/Zci8vqZzx4PguCWsbGxz2p9rE+wUWRYPfbss89Ktbl6GadgH8VkMYEl+fm3pTkwK9DN/c/LlzdOL2iahGqt8XP4v3p3rFcva9L6/qlzsXEtL18u1cPGbC18OUiSmxSNQf3a6XRu7IH9Iq95XcNEm782q39x8nR7jO31U+f62U+I7DdvQGzuUTZmd+ZXlZWrpHTNdR1vBFuO0SxP4SioxnG2MNnq0+3jsdvajz4YaJcx62qg/0JLFobhr2kx/fI5BlpXOosJLMnPv7XpaYn+34+LfPfBmXN5zWpzIGJMpNnrfOywyOGDjXNuzYqnWWz7pU0S/PJo7CO6NCpxVra0Olw/X2xcBwcHZcrsjV20upvkJiVO21SD/rrz6qviaewjjtOedjFxTFSS+rWyttdP3fx+2GzjeGrm+Lx5SyDmVeLmodjXv0HdarFkjBoD/uRji86BNi8VrGWlAAAgAElEQVSJCZKfA53CXnGNo+3ncbcw2epj24758b7HYpK2+yqbpz6++miblz3QOjEnA61XS8SCCY0VaHVAZDGBuW4vmP1S/Id7G4bRHPVlzrQ15uDY4xrn3Jq9oj284rnYuM4aaKPkvP3FSW5S1EFhXsr3sRsaD9iZ/ebNl3KYfbTG5JmtNCk8sBmnHZ1iFpio5vYe82IUs63nhJMk2HS1BOdemNqNVau2uFw/1Y/9vsizTzf27M4cwVjnunxl/UQQc5No+zCs719OkmppWz7uHOOij21bTHxcQ+9Sd6+UaXWDcfyll8veE0/L9BrtNn4YaF0xDLTOKHEEK9A6wiy+YFy/zLVtA8El/1oi87CUMXbHDkvJ8eQEnYq/iMUrywsMtHlIbMZcxTUQrj2pG/TvNM8rnnlgc2bHQf0G5o1vlvI19m9+dG1Pq3KzDMzbIl95ee4FO+YmyxhqY0rf+s5Utva0a7fL9ZPVzY/PX07S1DVOXeovJDMPFLvoEyf/4pisr0eXNrW8Zsx1YU6gMQ8CN+fRHN6y2u4Gw5jF6oVvyfQaTYtdXvVgoHXSGGidUeIIDLSOMKsvGJcv87hfinqvujdisblqtwLtepMSl0zty3dK9OU76+cV11ehm38z5xUHl22R0mXqSZJx0znFzY4X8/a9+W8UNLWZZx7MySzLV6TycGmaBrpbzJaTKDkViruFKav5bXE3u2HuSrJKnnR7SrsxPxDVZPrllzK9RnMakqmlwUDrKDHQOqPEERhoHWFeXzB6S2a2Dex7vnGm8+K/eauvcerq1pi4e6BN/1xuUuJySeONeXFzucbNmijzUKPZumFeijJr9Ksi5cHGvvkUjjdM1UCbfdC7bxO5/75GtT28JclVW61c3FX8vOa3uIZe61eWn7veuCUx3s3+tLvBqC8QmHPRM7xGs2SaRd0YaJ0qBlpnlDgCA60jzOsLRm+JSH2SNQ8PmnNxzf7n5p5bszfUvF67DybZxSvL5WXLWp7CEYdnkpile6Abr0sv0h7oWRNlbq7MXnnzAN7sN3a1vvrcfPDUdk9xXHau10+WNz9x297NcXHNoKs+tmziGnrbetOMd10lj8u6U1vb3WDUDbQ5QcZh33+abIpUFwZaVwMDrTNKHIGB1hHm9QWjtaRuHP/8T0W+8w+Nd0rUX5YyU8oYoaFlffMz33xzNXsOdM77veMaAu2nXe1zbVx0+nz2i92sPptzlZsr0OYGrP6g47CIOcEkwxuvolw/STj6LOs6PuJuYcpLnzRMZtY6uK6Suxrv+f1pN5+wAr1UdQy0fiVgoHVGiSMw0DrCvL5gtJbUv4Bu+2TjiDpzzvPsmwZnLpUL3iSl3/zdvnta25c+cQyBnHPB3FYEo5c5j9ucKmH+1m+Q4PKtEu25vbFVocXnpY1XJdJz1kR98+uNk0LMkW31uy9prJSvOkrk0MFMb7x86aNdT93wedKtAXFW8fPSJ66h96lL3JvixW10Nd7z62EPdHzlMdA6Kwy0zihxBAZaR5jXF4zWktk9tzNnO9cNV/0Vx2aP6JDIhW+R8r/9Ha2anvvclz5xDEH9af7bd4isWNnyjYTBhl+U6L6vtv08lTdH1moSfffbEo1/TmTip41fLkx7zNGH5vzw9RsyfcLflz55DHTX1eG4bYtzkxacd2Hc6lrG5alPHEPfrjNZszZ5XXm7Gu8FBrrNvn9O4Vg6IjDQ+iWPgdYZJY7AQOsI8/yC6dSa6nbzcoknGqc+NF/TXZ/1a40TFU46Vcrb/6veoR6L8KmPZgjUn3bNlgqzl/2YtUtVmXemdRqmQmtrVsPCpz5Z9alx2c170DGDXw9MDnX8pLD1phv0yYP1Ek3rCxPm+pz7xajdL0Kuxnvx+Gx1jR7/S+/lHOhFoDDQ+syGgdYZJY7AQOsIi/IFU/393xAxT2ObbQCL/8w+1uNPkPJH/rveoR6LyEqfNFa81J92zdnMq49yOlUlL1ORdLhkpU/SdiUtn5Zp6njTbF7Wk/GpO92gTx6smzq43GjG+TUqmH/UpcXg6wZ9LLqTSigGWseIgdYZJY7AQOsIizKBza1Az7y6e3bGjxonLLACrYsZMyItc6r+tGtWoI12R69Z2jJlBTpPUxETW8swc/089eSTXl5OkaTdWtk8Vodnx89RxzSOIZz/xkuz/ebcC6X868le1pP3/OZyY5oHa01v7XMX463VaT7PW584bfIdg4HWFcBA64wSR2CgdYRFmcAWvvlu5lmwHN985/LFp9NtHWGTKwt90jKnWj1J9kB3g6kw6p504ony5Kf+OLMHJbUxZjOWtLrmf67+upDCsWP18fP5T4mY5x6MgTZ/xjjXZp5/SOHB4Syun3YcXW9M82Bto32esXnqk2e/kuTCQOv0MNA6o8QRGGgd4fwJLKsvY70VzQdcPtXY/2xO4TB788wevWXL6w8TpvHAWdpffHH6tTjG9kt28RdMGhqlZU61n3YXnMJhQMTcc2lCu8VUrH36MXn+lj/M9EFJH+NW/XUhhf3J9fEze3Rl0DhFJeWjK/M0aNoNZbs5LGvWacwZLnNdnDJ56hOnPUWIwUDrKmCgdUaJIzDQOsLmBGZr7PSa7SI0M9bqAZe0vhjafvGZs4XNC1xOPr1xrvCxw1Jaf4mY49tc9/zZfskuvsGZfYNdgge70jSn2k+72uftRknWpsJudLaPXnbHn8uBb/+984OSSdphO5ZscmVZ9/x2NF6e9K2GcW7eNJsjCFN6eVKeBs31xjRL1r7ndW3M5amP1paifI6B1pXAQOuMEkdgoHWEswba/Jza4UiyLFeAm620MVtpfjG0/OIzBnXfCyKvvNRYOV1zbKwn1jutFtaPffvSrY16zcthmkbB/Gxt/lrsC15goFPSqBvMaZamQr8q4kcM/JftcvjZp+celDTjprmf98ghkRWrpHT1f0h009XxJuP7D2Vi3l1uaONTm4tM82auVf6sDdqCm/h//IfGjbY5dcbcADSva9Mw87bMNttesmRd9Osoa31cxqTvMhhoXQEMtM4ocQQGWkfYnMBcV0/0DNlEpPnF0PJL/OB+kReeazTenEN94qsb/9/s1zx4wGpLyYIvSGOSzdF8zaP6jIlec1zjy7bFl+z8L5i0NEqTXTbqLjpGra5BvCO3smpPu3rrK9Dm7ZnmQcnmTdeBlxvh5t/rr6M/KpPzqLM2nzY3tK7cs76Zy9KgLbmJN3PGkSONs8jnX9dtbo7nM8uKteuckdave9q4yFIfLXdRP8dA68pgoHVGiSMw0DrCWQOdw5FSdU9hVmjMSuz994rsnXDeFuH6xdCKSMsv8eefnXmwKWjswzbHsTVPCTDG6DVnS+m6D8fayrHAsL64r1GvOaFi/iunV6xSV6DTMkxZrnjpIy5+RFamIn4L9MgFe6DNmdfmpqt+pJd5GG7mdeLGRFvedOmZZ85RfvTh9qecvO68+pajpNdanLa4xmR9M5elQVvS9uZNt7k5Nte2eZW8ua4dbrpdeS4u13bOMO2b3GtmZJETT14wD5s60tgqFqcPWeoTJ38RYzDQuioYaJ1R4ggMtI5wwQp0py/jtB4a2n1bKicWpGUm66a+1daIZ55sbNkwXzTLlzcebDR/9VMCag2T9M7LYr3lbtbsm1XKF/c2jLKp19Rh/jm0vPEAlfmiPfNnpPSLvzr7k/+SFeiUNOoGc6qPXv8RC07h2P9y48UxrX5diPHiGNvedDSfB/aLvOZ1Io/9IJPXqNu2tV181jdzWRm0ertv/gORH32vcWqI+TNn2JsXQZm5wvy3oaG5rT0ZvxGzHd+WiwPK9rTgtedK9IX/J5cHY7PSJ63x6aMeDLROHQOtM0ocgYHWEea5B9pltandinV9VS1FMzm74mKQme0CZqXYvMDF7FU2e1mN2W0aI/NmxKFl9c/i7A2vm32z2n74sMj+lxoGfPGfqdsY9WUrFryC+tUnnyxPP/10PdqFnz4CiEhCYME50J/7LyIHDogsW7Z0f3uHPbCu+TuazzPOaphnswI6ODSXwuNqaCcTXf9V6oH75n6VunhDKvvGszBode67Pifytf/R2I61+M8wr1VFSmWRn/05KaXUF5dx0nLOMCvlz89sTzv+hMYYMX8zY0PWvUrkmacy2Vu/uA9Z6OPCqUhlMNC6GhhonVHiCAy0jrDlKRxNExnjNa96hrkI220XHR8UTNkgLFmRNYb2yccaLwIxp3GYLRd1FxvN/TRvDHaMlfnGSQMPipgvrubP+81XlJv6zN8xxza+sMwK9zyT8+p/fdmcgZ7/euUYGqW1XcZG436LzeoXgiZHTcN2vyTUbzAzeMBQa0/R9F9wg5Nw29isJuYXq8/e3HjA2PzNf1iw+cvSytUi510k5Wuu9Yqk5U1Wc3HgqKPnnr9ottL8UmLmPLNtzfRh8V/KN4IY6KWIMdD6JYOB1hkljsBA6whbngOdwUqQaYnttovYP1HHMJM6iYURs188X//y3JaN5hm1zQeEjCGO8UKJej9u/ZO5Y7qaqYwBN0bamGqzCnT8urlGzPzkf8oHPzproOv+vbmHXNEozVNKbNmlEd8tRi2LU1Lmm2fXvai211o7zRboYPZ3G9NojnY0+7rNloWUb7LTGDvz6+j4opuL3ybB686T6IFvWD2PUb8hfvCbDaPZ/DWpaaKbN8RDy6T0/t+T4LwL0+6SdX1L5oyfPtEw/eamfb75NzUbg2y2oJgFA4c3iNo2DgONgbYdM/V7VpdClLEjgIHWeeU5gS3Zjzf/yK/DB0XWHC+lK35z9qdbdcW6+ZBURoZ/dp/jPz/a2L5htnbMP3ou5r7Wej2/928b+59NPebqN2bcfAGbfy+b/w3OnfTR/CI7dlhO+cRfLDDQuqKNiG7e7tFN5r/tOd0p3NQl0TCN0y2W6PD/s/cm4JZU1dn/OufeHuiRbnqCbkZlkgZk/FQEjQTExCmBJkZjQjQO8XPC4TMkxKD8NXHAKTjGBBwSDQ2KEgckGhUnZDAiDqCITN1AM0NPdN97/s9v7b3q7KpTVbuqzrndjVY9Dw/dfXZV7Vp7evfa73oXYBHwDOgiqNbUY3ZAWoiNk8JEN5wq3Xu32wTU3Azo5uSm6x14thOp7MBcsEi6//Rx968jCJrOG/dNN5nRvrF0ucidt7cc6KqT7YjLtR7ouEFbAB230dAlWgAdN+EoAXRsQk8BAhYt9JCR/FLPbs8dGcLX9AE3k+ecKXLf3dvkKLHIUsOAmPCZCY2DBdcSRgCgAR8garjWFTzQ8RZ1JaKbjwrUk/BdsbatWq8q5UZl88I2HZESDM/Pjp+qJwRV7DBMG47ChgPPMGUauL2mMGL82WAzuS37SsyOhYluOD1ad6cbd0t2dUAYdRw2CDnBvANj+ZrvuQ0wtuAUycA0c9n4mMiRx0r3L1/TSM2iiv2G2WTG+kbnz14hvRt+4oK9R7ARLGujUa4/sb7waPm9BdDxlmoBdNxGQ5doAXTchKOawKpM6NQmOZJmkeK4EPCIR8toEagYeMmvUQYKxi2RX2JUKgFNgnkIUAw50LFvSC28DZM65L2jSts2zcyY975hgGMVGzWlReQ9e5TjJ+uplFt/7Y7T0ZHOXhEu6ij67UA7oExjoJFA2nDT5+vTfd3ZjUBjrN2a/j6Q6MYexGYAED1thmjQnG3m+T3U786heXSW7Cq9b1ziAkY5PbLgYu7DLrNmS/dFp+ub6ianqjrWYiC4LLi5St/Qyk9RYGfYlqMaP037x454Xwug463SAui4jYYu0QLouAlHNYFVndATkPcfHxW5/26nOlGQkY/o9boLUPyL65cYhVcxd9GCA71xg6vQTrMcRWTTRhe0CGja/2BZ9Iznyr3L9ozqTQ8svEMkdchaqGrb1rds/h2j4u/mbgZGlM3Rnj2K8VMImpDFA5wB8LJc1Qr0oWH77UA7mAcafiwqEyHtyNdnRxmz1j6pRDdhh2AzwCYeDzrzj+l3Y2/7toWL8mkeAGUCflGqYKzaao73GXWep5wk3ZP/QibPe3/tQM6qY23YTeawfWNUY30U42dUddlRntMC6HhLtAA6bqOhS7QAOm7CUU1gdSf0KiAp5c3iU0acja7qUemoOIx5i1bnyCcrfUUDmZDlAzShH0sq4IkJYTKdOOJJUb3pqUzqULdt472uvESUo1mTfhK+bdTfMorxUwiaoBPgGV2wi8jc+f3PALTx24q9HHVg4WJNmCIHHRbdaNVpm4F2sEQhBL2ic2we6IADPVXqH3XqHZYt5EDftUZk0yaRxUtdgiRLbsTN5l0HWIc0D3uwnp6tFzn2RJFf/kxkzc3ul932lM4Jz5bOyiO0HarMcWNveFvq06r2zybPbmrDqbxvFONnKuu3PZ7dAui41VsAHbfR0CVaAB034agmsLoTelWQNCpPyQBYXrDIeaAIBsJzlKMogPVGedxf1hpFIGq8NylbH3owqjc9sPCGaaWHTOpQt23jva68RFUvXJP3jPpbRjF+HD/+KtcPoTBp+u857nTmrrWOY8uJBBvI7KnFFCphDLSD9Sk2efx53nzHAebageIWwn6RUuEIN+GMfWypXuZ1AZ85kKkEWBvNY9nydHercAJQdY5LbfAqZoRt8uwm42Wq7xnF+JnqOm7r57cAOm7xFkDHbTR0iRZAx004qgms7oQ+lSAp+9W5R+RQJ1ggZ80W2WVJ/4g88KYpgP7UBxtHo1fxcFtdizxP06ZNky33rIvqTecCQwuMQvd1iKQOdds23usiALqm3nWd9w3zLXntWZViU1THtEKLjwcI5RIJquU0Yo99HNAzfXI80tAF7BqREkbqG/Nk6wCdgHzA85z5OnbCRCHD2LdOO1Ytm9KBDtR6OPnpceLDvxVlkESJwmgeYYAvL6+gh9xkjqtqvybPrmqzbVluVOvPtqzzVL+rBdBxC7cAOm6joUu0ADpuwlFNYHUn9AFOMClwM/zf8Fi6DhgdANB5vFcNItrggPMui/vZuLgZ79L+B4vcf4/Ijb9wOs3mFQTMcE/EA1U1GCgB0AWeJwXQAOCI3nTVhTfeIwZL1G3bJu/I2/RMRRBT028pas+qFJtCAF2kEW7yaHDjg4QcVY/4m7RB7jdGAHOlsUahEQH8ut9VNr8lc8rXLhb51U9dQCHJRWyMhzQPUxuxClTwQFcJ1ssG31btn02eXdd226L8qNafbVHXbfWOFkDHLd0C6LiNhi7RAui4CUc1gTWZ0FOgOIf/q7U/+ljpPPeF0rv4U05WCWBR89g6F3SYogDevqyEHB4peJAP3e84pgBmBTQ9F3XP0TqAetlyGXvj23ONXHUhTAA0x/g5qcmreqDrvi/eM/olmrRtnedvy7JNv2VYik3RN2rf/MlVjoMbpovnBi93GCbkGDUFJazXKPpQU/tOVR+oMr8V1jmkeTT09teloNWxX91nT5WNh3lulfYZ5vmPxntbAB1vtRZAx200dIkWQMdNOMoJrOmEHlu4O8eeKL3Lv9aYSpELOkxRAHCcTWLC0bWm7x5zMmJclnGMPyugRjljJ5Hd9xZZuGQgiKuup3BYgFZn4Y33isESTdu27ruGOWmo+q4m3zIsxaYQQL/rDKfmQFAa1Aj6VpJsB7WHhZqQwzyVU3nSULfPFn1TE/tWbbu65arOb0UBvgnNgxePOIj50WC/uvauW75q+9R97qO5fAug463XAui4jYYu0QLouAljE9i2ADTRhRvZLMAF0lHZq8JRai7oMEUBBcKz+klM8DoBrlHCILELfw7T9VqqXgPSpLvNBFI1icAvAsB1KAI7EnCJ97x8kD4QtJmiEMzL3aw0eVfde4o8v1UpNnnv0zZ/y6tE1t7el0LjlIPdGSccM2Y6+saLnaYwV2yzWab/G/vmYbzb22KeiNU/7/fY/BZ75qNlTO2o9o/Zd9j2iT3/0fh7C6DjrdYC6LiNhi7RAui4CWMcwW2hQhFduB9+yKUOBtBmr6bBPABhPM14/lA8AERzZG4X3mfet+YWB96zF17CLhkEPfjOcDybeArzFutFJz2nkg50vKV3/BID4JCNyz13ujbiIqAOUAmF5+jjotJ+o/ziovasSrHJq4t+77+9131fSUKOzsFHJLeP8qRhAHQRpEgcwsLFtXSn6/L9R9kuuXYNMk3OePgB2Txn/pTI/E31d1R9fqH9meP22U9k+kwXgDpFcodV6zkVG5xh3r2j3tsC6HjLtAA6bqOhS7QAOm7CUgA94qQTRbWJgk080GRAw9ubvSp4oAtBhy0wgLJ773YLDMlbfvjtPh9ZEy4AoHuOB20eaDiRBckkxl702pF5CqfCQ7OjeqtSJxHYed0dTkbMLugNePvhrE+fEZX2i/f+6iWGpdjkvUm/9+c/diccpLTnCvn2y1ZI96wPDGg7j8Irmgu6KijThGDevmkqveLVW8iVzH7X2MyZMrF5s/vRS+2NMmtm3fpNRflc+6ccBLNdkLQ5CKbQDnXnlqmY36bCxtvymS2Ajlu7BdBxGw1dogXQcROWTWBRasUQCS3CmsUW4GE50LawVlV1SNUHBQxLssCihKcZEAcfsiCdMckRdCG/6BMi3/u641FzL+AIsP6k4zVTmS3kZYvO8hUrZM2aNfGGrFhiR/MWhtVOnUQAnNFADkEl9oPaAODMqFNU/PzGxUZBscm+PPlewA19DFlFHzgobBpLglQbf4i/MQ66MqcyJaBrW80TVb45+116QsAGeDupgFSp87Blcu1fRlHbuGFKNp9N5pYWQA+2fgug4yOiBdBxGw1dogXQcROWAuiKov7xtxSXYNLtXXeN9C48T2TdWhdAhTazBlJ1BlU4eNQUB/OkFgLNOvYwrkEf4EUA4aQD0QC5UAIv8IY7AH2+yPe+4QMRAdBdp937pKdJ9+TTFEDHFp0VrzxD1t5xxzAmTt0b26wMw6EdtpKpkwi456ihhADa5ATZuNAH9tpXspnchq1D2f2jpthET15GtEHN+6ZC0MtGj+N+NihQOfypTFmWwygFKyLBOMo2y35XAqB5SYXTqkrtzwnVDkSJqB0kPaQdimzUZG5pAXQLoJuM/xZAN7FazXtaAB03WNQDnSOtpk8dwSScAo+AUUv8ATViya7SAWT6tLhVj63rHiEWLgYBj7KfYnuGkxp76EEHpuFl77yL+3PGw1V1MYmVW/Tav5f7dts73pAVSyS0gRkzvMczyHz3yCMiBx4qUFC2x5WyhSmhmOee/+N91jTSE656Rx233epq9hkGAMTafio3M6MEvdtzI5Dtp9nvSgHoCvESZfPBtogHaTLucu0fynRy6sVcpSccPp5j0TLpvvl9o0/9/otrawV7DzN+mtjq0XBP64GOt1ILoOM2GrpEC6DjJtyeHOhRA4iYN7f7x33aRNwy/RIp8A6wA0CjEQ2gK9CkrnqsHSs36/AnyObnvbROdUvLTrzzDJHbfiPyiJfnM84tdxFstPvehdrWTStRdVOTaj+8z2xKjHNutBkqkaOP3LRuw943DAAYZUBg3e8YJegd9Tiu+y1h+ex3jcoDvSN9Y9Y+uXWzRFEUnjmzL8fJeJ+YdPPW7/3BSANxm2zKhhk/w/STHfneFkDHW6cF0HEbDV2iBdBxE1ZW4eBRFagTVcESj4uBR6l5hL2tFrkq3vCqi0ms3Ixly2Xrq/8h3pAVS0y8+0yRG64TGR9zlBK7oKVsndAMjGOvP7vi0+LF6m5qEtuSHe6X1znqDHVTfeSOS2YDqD7sCdJ92f8bqQct/jWDJYYFAFX6UpN6xe4Z5VjZnhuBGJgcFQd61HNVrH3yfi+aW3sHHtpPNGXztAWEQhnbStwGlLiuTwg16bzEvd5IudBNNmXDjp8mdtzR72kBdLyFWgAdt9HQJVoAHTdhbAKrs8DXBUsx8BhLX539uqla5OpsCqxOVReTWLmRe6DPOVPkegD0eFqqDFCKZ3fUALqCkgv8Wg3wDLilnaOOFU1iwb9x7Iw3GiUWPNErD5fOS94oXb5hO1+x8TMV1WvSHweAJhz9z33CZfesuDku+5YkluGyL4isudkV3W0P6ZzwnISGNRW2iH3X2IwZI1HhGPVcVdcWsbmVbK2dn/9YJq+83PGzFyxyyaCuu9qpCCGTiMQ4F7KdUM8eekDqOilK+0CFsZ5Vcdke46eu7bd1+RZAxy3eAui4jYYu0QLouAlHOYHV9WrFwGPdyX0qFrnYwlVEC6lqi1g5OND3LttzAGB2jz5OygK7ilp+gsx3t94kAt+Zi5nIFlaSx+y+z0gpHNFNzf4Hi8zfOT9N+1FPls7+B0vvqu/2g7aOOla/W68M6G5qk/goKS4xyvFTpR5N+2Pes+tsjmN1G2W9Yu+K/R5+V6ID7ftNUwm7Uc9VsW8Y2Bg0AKfaJm99jUsGxUBnwwl4Rrue05wCTnjTDVqTk4htPX7q2n17lG8BdNzqLYCO22joEi2AjptwlBNYFCxlKBkx8Fg3iGoqFrmmday6mMTKLX/Fm+T2D70jH2AWSIuVLYCT571fhEAfwHIom8bCOgVBhNFNDbxrFnJUH0iUYleJ7NiOBNZGOX7iozWTiRAOvsnfYS9g0kknS+cPT93m1JaBcWIBwXg5qdtjHyfdE/8otelrCtSq2MnKjKp9ms4DdepaVrbu3GrPqjsnTm7dKr1/ebfzXJvaDeOyYvKiupuyUbXPqOy8IzynBdDxVmgBdNxGQ5doAXTchE0msKKFb/KrF4rcd0/ljIEx8Fg36G8qFrmmCxeWr7qYlJVbeMfNcvf7zq4MMGPgsrPfSul9+sOVnxfvQeUlogt4gzTtrp3PdZxONLaheFjq6xHzOmPf32T8xJ5ZCUiRVIixFiZgmaLgsCr1HUiCE9bNFFRmz02SmfDMbaFqMar2GfVcVWTTUc2t9vzUnFiy4dL5CjnRT39I5L673e1kY3XbsqGSF5VtlEatc1+lr+7oZVoAHW+hFkDHbTR0iX92Cg4AACAASURBVBZAx01Yd4EpBWg77SSyYUMtGaOqIDP+JZksZNxQIegx9tz8ZBcesE1xsgvqNuMzH5UN1/ygsk1jm4jOn71CejfALR4N9zVmv1h9VPMbrmaNNO0K1n70Ay/J5RPUGA2FNj/8iTL2otNjVRvJ73XHz7AvTfojR/AowlhwmCLSCZHOmEqW1T29GVm9aEdL4mF1s4ydaKb7JB5a3U99cMo3cqNsnyZzVRUve1Lmim+5AF8UaDghgmqBF5irwdyqoNi47ld8W20vWzY7yhYIZNoMkVmzRKC38A8kfXr4wXRXIOYA/jTBu5HkRXnfmsQywM1mI5VRLRq1zv2w/XhHuL8F0PFWaAF03EZDl2gBdNyEeQtM2aSvvNOihQ9taC68YxWP4+M1rFeiySJX9obEs8ZCViPdcr1aF5cef/9ZsvnONZUBZhWPefe0Vzv+sAUcVUiW0fR7Yp47eeD+ftr07EsKtMYnznqVyNpbRbP1ASTtYoEm0HDXPWTsrA80rXKt+5oCtCrAKq8iiUefTYdlyLSClhkT5YWaCja1Pjqn8EASnLBuYcZO36YKpmpqBjepY9P2qfuuSuCRzd2mjW7DiDd+/4MlBTD5d01d7xVnLNiPE5Yh5lbq1vvSBdL76kUOPAPOjQsdPpuxA8jmsnFlpwf6/+LkRYWOFeg7BDEuXOSSSNnlKVqj1rmv2247YvkWQMdbpQXQcRsNXaIF0HETZheYGAVAAU/Rwkfaa0tLzKtH4AGOf8HUllAP6r+9V2TDeueJMek3BWsTmjWx+6LTJRtdPqpaqQf6R1e4TUkFgBnlHG/DrHAJrrWkNDmAPXdDhm3xhPHf4mUa2BgGCE6c8RKRe9Y5b1b2YrFetETG3v6xUTVB6XOaALTYGCujLiUefbyUeHbxEHJhM8uMyZ+3cTsPJMExxZSwXswNPnBN6wtVoMbJQ5MGbdI+dd9TCTziUDBai56W9PrfbgATkGwbj6zdhpxbSzfWbEZ5HycGgHhLXmT9in/nP66C5EWFJ013rRHZtEnHpIJyS+YCnaTTkZ2OPlYe+dOX1TX5b3X5FkDHm7cF0HEbDV2iBdBxEw4A6KJobyZWAoIAjXgPyG4VRnTzKhbHBYuke9LJ28S7Gf+64Uvo4vgWPJ63++PyQLWC7wfATGH2vgVrbqrFgY5yjrexZzLWAgMeaniXJKqhv+Gxmjuvf4ztgyZVWUA90Dla1vTPHdQDnXgpL/28yI0/c0fofJ+pIpQEToabEeUO/8+XRypP1tQjPlAvqEGAezybttk0TyoAKvRA18xy2qSOUwGgB+rBd97+G5G589NeVgOPi5c6M4WUG/PKswkCYFIGkGwbD8qHnvsh51bdWCNvBxAOQSxtcy+c544I2UnxgLMR47IkS6rB3lWHSPflf5PrLCgE6GREZCxzWoSee/hc4hVIF/+2j27zoNfYvLQ9f28BdNz6LYCO22joEi2Ajpswu8DkToTqLbqnz4+j95YsjtsrFXT8a5uVUOk3aBToJPsseMnmgQVnCr19uy5bJred+4+VOcsxzvEoubFNAE1eC6RoN7f8WmTdWpE589x/dpQcgMtJuKL/e4VLEBEuyPx5fLomWRl78bblQMdskdoo4FkHKDUcQ9Ejec8zrnoqEvOIJxrDgU53nmRgYgOS4Pzqp6UbBJqqDgc6Vscir/2oAXRuPQC+eJHZDKGvbH0W8Ei/xfPOFdJajBeOJzpWZtnyZOPRdG6d+Ph7iscMHnE2owt2cZJ3zPeWAdQNMPdNJcmLCk++eB7g3/jPYfIm5tJp06T7sjdN2Qlesxl/+97VAui4/VsAHbfR0CVaAB034QCAxlORPVq1oCCdS8dEehwdc6RHZrhJEYKDOJKruXDHa7djlNieXl3a5/bbbqvMWY5xjusqmxS1QFNAE2vRShzuo46VyU+e6/qgqnBsdXQhTkUmJ6X756/cZguytU9MUSJFVcETGaE4jL3hbaWmGlU7p8A4Y1l55Z4Sokf3Y8rVlZtuyA0Cy+tPVeqmALpGIpemG8ORA+i8EzqAMn2Qi7nQALOm017vNhIA5TzvMvdQBrtj680bHVg1jy2nE2QNHHJunbzks9K75LMOKBsdQxuBDKRbncoGAPrhh0TW+0BCAgepN2PrkKNKkxcVzpF8211r3VoB99ouT1Hpzp4jkwcdLk03BrH55NH4ewug463WAui4jYYu0QLouAlzPdDZo1UWArwnesw3003uFlCXI1HVNFlBvLbbp0TTxXsUtW0CAEYdSJn3HZPXXik9NKU5ZsabxgaK42D6xqaNjVUgqnC4u687uxb4GkU7FD1DAfSll0S9qZpl0WIHbDxhK66cILsqgGLYdk6ALnQQjtntyF43yoDnjgjSeACupbvlBoEVnWhUqVuVMmb3KhurPJs1GT9l/SW3HuH8CBBd5CkbgMd1dzpwig3z+M3Mn+vucK+kTNb7O2euA+AFmu9V+3ZauSaTQAlQvcsSF+Bo3Gvqyrhesqt0Tj4tmk2ycI6kX91xuwPibBDCxE2z58jYrNkyMX+hxDaMVb/zt6FcC6DjrdgC6LiNhi7RAui4CStxoLMeFrwilsDhkU3qceme9ppGmfHiNdy2JaLR9FRnGwVHUhfVgf7Kxf1MfA0zEI7SimleuD/eDdMED8ELr+rtrwO+Rvnt2Wcxfm49+41RRQnlv9rJTgWZt6r0i2G+LdkEccRuvFcFzx0HpNgUwWXmWrJr37NqLy1QSRmmTkX3VtlY5YGwuipDsc1/bj3CEzooRFAuuACP8Ist2BU7ZxU2iCuhX9iGhfsMxPJv+x8s3ROfW2luLaMRTZ5zZoYD7U9t2PTS9ijxDBG7UnrqwAbiofudAkiGAje24SGZ2Hdl64EOOn4LoOMzSAug4zYaukQLoOMmLFXhMLBYxPHj9224iMa/ZrBEjJsa3lFKSyhJKx1bdLO1qlInq8vY1d+TCc8VTI6Jh/RGNbFjyk4cY3/obW5BTJItBAs/XrNlKxp5lbant7+JXRRAn35aVFGC4Fqxkx2LKdiOpziace7vXuZAVdGFR9SANbJr5lm18gWpoJvYMXZP1Y1V9jl1VYZiFKfceoQxIoBlKBdG6bB548rvuPZXjecZzivNyQN/B1STzh6lnxBg1sgMGqNUNZGLjLVJ4byWUdvp9SYLkzeNPbJZes9/+TajXNX9pu1RvgXQcau3ADpuo6FLtAA6bsJSD41NhHhCbrtpMMq8gmpAUQ2qgMh47ctLxBaV7GK5LcBb1TpZXcbnzpOtYeDNEDYf1p52v4KIq7/rjniNhpD8yL+NiRxxTCOvUhX+bN0Ny1T2wcQDHVGU6MLbDvXTB1JdH1TZ0zhsO6qNP/oOkWu+X/4o9UT7435Srptn1e7ahpvnJmOT70TF5p7Pniey9hb3LQDV++9tPJeVUhXwJq/Y26lN5Gir552ayC03Oh4/G5TsVWODErNP59gTpXf516Y8cU1ehyob03Oe9gzZcOLJrQpHYLgWQMdnuBZAx200dIkWQMdNWIUjOGpQUxVExmsfAdBFknwFILQpz7JOPWMLnXFKrS7TFi2RLUT4h9c2BC5536bH2PAaCTYKM+FR2KtLdF/xt429SqOkZxRt1HoHHiq9iz/l1E1yMqTFPJFml6ocaDnosCnhbTfZiGof/Mg/OYpB2QWAVrrWRucxhcZh1zbeyNWdg7T8ReeLABqRibMV1zzq6KqHihl8V4VxVbcesbmhqWc9+9zo3EUgKJuHEWYgrdP3isb0bif8oay9w3PAY8b6Hfm9BdDxhm4BdNxGQ5doAXTchFUANE8ZKaipAWzrTNK1F5WMJnITnmXd+kUXOl8nq8u0+QsGAXQNz1S8B9Qvod/w8x+7tMBkLrPEC+axXLZCumd9YLt7lUo3anvv65QlUEwYImvmgAoH5izgyI9yDNmYjKl/5Hnrtf00tfJkmvuc7QrzFzqPJRKWUBOwE6cLmWx6eZJ29XtV/I469ksSIMFPDjd5AH9LGgIlxRQzeH3FcVWnHrGvqrqhjj2nytxF8O2oMpCOyglSdf2Jff9v0+8tgI635nYF0C996Uun3Xvvve/tdDov8Gkh/n3dunWnf/Ob3/RaPP0PiJUd9vdVq1a9UkROE5GDReQrq1evfm5ovhe84AXzNm/e/JFOp/NMBH86nc65F1xwwdlxEzNP9vYSkZvuvPNOmYBv1l4DFtgeE1hVEDnsJF1lUQkDj+p6g5rUr2qdrC7Tdlm8w3mgJ6+9Snofe5dXbvDcZ9ON7Y6L7Pu4/jF2EPRYd7Mx7HAtBScoJyCrtYtXTAhfVsETacVt/IwSVFX97qbgS/vgzb9y+sNcYQChvRxqDolB2BTl8ninO++0zavbmZefu3lWmhHSfD5bI4UIiuTf+C6yIIa87hrtXrWNYuVG5dGuO3fF6hX7vWnfyz53e6w/sW/b3r+3ADreAtsVQK9ateotIvKciYmJZ1DVsbGxr4jI51avXv3WbNVjZYf9/ZRTTvnjbrc7OTk5+fudTmdFFkCfeuqpn+j1eku3bNnyvBkzZiyZnJz8716vd+aFF174yZiZWwAds5DIMBNYU0BUFUQOO0nXXVTqvq9ueVqjMAgJVRO4mRyVP+4w6SzZVXqXXyrjc+fveBzo//2hyMfe2QdgljjCQDR8zlmz+4FURx8rJOOoSpkY6FcLFkln6W7SQ0+WoDf4pRXUSEo3amSOAyQuWzE4SCp6Irmx6fhpOnbCylbdiOaCy+uudvrD1naAyjAD3W57iOzxGIG7Df0ET3Zuf4+kXY/PQMUlhrGRzjE3Xe94zynd44l+v5yxU5/XvY0pKeFXN918pexzKwmI7ihNQDRKZZemfa8F0PER0QLouI22N4C+VUROX7169YVU9ZRTTlnV6XTevXr16j1zAHRp2VWrVg31u73v1FNPPavX6z0+BNDPetazZs2cOfO+ycnJYy666KKrKLtq1ao3isgzV69e/ZSYmVsAHbPQcACgyfFxIYi0qgZeoGEn6boAt643qEn9BupkEfxE4/PnefOdXip/3nmhjD38oDs92UbSebEeozbS1Oa39eXOkqxlHacdzLG4efYAJqgLwMH80ffdd6FCYGng8QgGSSIGvPp8dyS1d1FQYelGDWlG+NrLOaTKXDU8kU0AdJOTi7x2Kf0++hMAcfe9BzYdeoxPIhraRvXdvXQdiTNon4KMcwP9PVQT4V48+nh1uQo80lVB8bA20rpe8z3nIc8qxWhMge+HoWLGDuZFLxuL5eNkujs9mMLTgapOkNh80mT8xJ75aP+9BdDxFtxuAPr5z3/+gi1bttwrIvuuXr36V1T15JNP3rfb7d4gIjuvXr36Aat+rOy0adO6Zc+K/R6+Kw9An3zyyYd1u91r1q1bN83oJatWrTpBRC5YvXr1gpiZWwAds9AQALoGjzlbi6rAdthJugog1roBKCxNsXk7SSeNhmtONL19T2H9ABZ4k1mk8XAGHlPuTWVgY5Ejeh9PIPJvFtjkgee8Z54iD/7qBpFbb3LR+jNmiOy+TyUPbLz1y0vkgR31jH/5gkEJO0AJnFrASqiFiy1Igw5fmj/ze6gZzffy/Z77PdA3TGMXJRLut0xvFTyGpScQ6DITRAfQH5IDvWbNmlqmrtr/Yw8t/D6zOe0BoIW/bLJq4WnAFd92lAZsaVnyVh6em3FOx9JbX+NSPXOhEc3mhrTklgBkbJrz6Ba0TR1QPKyNCjnQ2AZbMI722q9QMSNm+1H8XnUzkfeu+GnAriJ77JM6QRhFnZO5jw1KRHmmSjKgFkAPtkoLoOM9dbsB6Oc973m7T0xM3DI+Pr74M5/5zN1UddWqVYtF5K6JiYndP/e5z91m1Y+VnT59eqfsWbHfw3flAehTTjnl2E6nAy/auzVE/uRP/uSoycnJ769evdqn8Uob2z/nH/jXxYsXywc/+MF4a7QlalvgnnP+QTZfe6V0AUCZa/L+e2TGoUfLLq87K/e5LBz3n//PsvFbX/OpYi1hQ0d2esqJsvNpr9Ij4/AdvV5PehvWy+TDD4hs2Spoi8444BBZ/P+dWxqsxrs2XfN92fDty2TirrUytmRXmXXcCTLz8Cdq3arUo8g4eTagnhP33CW9B++XzrRp0kX/V5NR9L+N51mdNl39PeltXC9juyyRDrSHRC5ABDtOP+QoGVuwMGqr2g0YuaGojSbwBvvv6QCg/NUDjPpgwu6ceTJG5jo2C+sflgkAtILrcel4byDtB2VgHEDO/xcvkyX/9FFt800//qF0ps/Utu6tX+/u5V2TPensNEu6c+e73zZulLFFS2XBX79R2zPrid541Xflvn9+u9q1g9c7qCv1mnHASnnk+p+W9sEqdrU+tv6bl8qWX18vvc2bpDNzJ5m+934y66lPH6jbMGMnrE/R9008cJ9M3nOXjC1aIt15fT8DbcQYWvCqv9U6FY2LrB2tLzz8X6sdOOaERFNTu7gSbNub2CrdnWb32z1nDihrD6vXTkceo88c1kbU+b7zPiDrv/I5t/EMrs6MmTL7GSfLzn/p5pntcVWdA+vMPVY2Nv+O4nvrtOUo3vc7+oy9O53Ob35Hv730s7cbgDavcrfbfex//ud/3kgtV61a9VgR+WWRB7qorHmYm/5e0QN99bp166abB/rUU0/9/V6vt7r1QI9mWDX1AIzCOxyLCE+8LPCCH36onz4ckAlfExrAMcdLVcmxrMVG4uUKtX15AR7Tu+9yr1q0pB/lXySdB1fTMtRlK7jhYRmfPUe2PnB/I/3WlIcLj6ul0kW/eeGSUi92oW3W3upAFB5zwLBpVFtwFm2zZFn/u/FYQuEY8x7kUDfaUlgDbk195J1niNz2GxEyXHKlgn+hiHTTkmTUQ9OIz3VZ2zJBiylvf4YGAy+78/Mfy2Qm8YNxfquMsF2XLZPbzv1HEby5tL2qPPh9ECmYZ80SOfq4VB8dduwkGwG8wp/7xKA0GfQN2sVvYpKsobQRm5x9DpDu6W+pDB6TvoCtH7i3r2phihbWpnY6QAVzeOR1KE+jsBH9X3Wg//N8kTU3O7Pttqd0Tnh2NDV1lbYfpsywc88o7DNU/Yv6Hg+tQYVpuv4MU/cd/d7WAx1voe0GoD1gvrXT6bz2ggsuuMj//RQRec/q1av3yFYdjnNZ2WF/t/eVcaBF5EmrV6++mrKnnnrqG3q93rNXr159XMzMLYWj3EIsME1TRdcN0Iu1Vd7vyZHvd78usv5hx681Dy3gGdC0aaOYdnLddyRybBzn8nwAhoKxOSI+C1j3tFenKR5ldAwAWs2sjTE7js2YKRPIhsHVzF4lXN3UcTmbDTzEPIdr5kzHjwUQFSx2hWAHQIyt+FY8w1w8x4LQsB8BaFzwaynPb9AkoAmEoBsg3xlTe3eOe7oLEvzxDx0QBZRRNlRNMK61pkbuiEAb0S6BF7Hn6QrTU9+EHXrXXSO9y74QgKg9pHPCc0YCogBod7/vbGeDEFxaOmbarddL9dFYm9tmokp/zgtAS5JzQN9Ags4yHlo7sQk5/lmFG88BagGBm7TlgsWOmmTPo11NwhDObairnNM364C+UdloRwVodTYTef1gVPaJ9bEymoneC/1tiA3ojto+MbtM5e8tgI5bd7sC6FNOOeWtXhbuD3xVvywiF+epcMTKDvv7U5/61PG99tprfP369WeKyCGzZ88+df369ZOrV69WjaVVq1ahtrFIRP50cnJySbfbRYXj71sVjngnKythAKtpquhhPShVa6/1fO+bRW78hfOgAtwsAA1AUCPgK/vOiay3U3WMPUGXzGsr9hLZZ7/SZBsDiwgeWp6Dhq4pHNiLc7xyMTuOz99ZtgJYLTgr/IgStYjUcwGh6oEGaHqwi7cQsBsE8IWPLgQ76mG/UwS5uoW7+I3HVgdk8RbPmOmey7E5gF1Btg8uJNCMcupF7ohMeGrG8j0d+MT0nDRs9fJqtDebJuPvWgXxWPMuBeQeaJs3G8BaFpSY4QNXPb0oAhIzf3KlbPjRFf2AvIiHnU+ItXnTDaGZJwFXfKu1u50UYCefSjrvPbk8ZU5IAMtz5rl+vXmja/fNm11b2abJ+ntZoqKKvNm6Nipqnx01UUfu+LLslGzC6fuHHl14SlRqnw3r+xvSGqo12fmxDme96nyeLdcC6EHLtQA63pu2K4BGu/n+++9/X6/Xe76v6qdNB/rUU0/9CP92wQUXvJz/l5Udxe8hZzkw27dWr179VP6ODvSWLVs+2uv1VAdaRM7NA/p5Jm890MUd0SbgpqmiqwTojYpfWMdzFR96/RIT7z5T5IbrRMYDKoIinEmRrRMiADuOw0kmUTHQrK5nKGbHWY9slg3IxuHhwwsYesoBLCuPkLEXnz7w2SkPF4CXew3cGdgkgK5gA1Iot2dBfSz2ACfjbQNm585z4BieNHZjE4IyQxJoBinaAziTTDvsiSI3/KSf0AR1DLz/5t3meQDvJPIQ3c1xB6CZRa1dNK24D2ILvqkuEMudR8Lj6kzWwu7YmKgfnkBIC8Szh1idUFZZuFhMczzW5gm1JBvYWlHGL/lm2pyTB2t384qzecJ7n0kkVAju6T8kzKG/hTSNMFiR06CIUkydtojZKNz4lAG9HTVV9MD4qqloUmgfr96TbEgbbhi3xUaPd7QAugXQddZsK7tdAXSTCj8a72kBdHGrGcAaJlV03vFxqBs7qj5TF5RWfe/EOWeKXA+AHk97iy1SH9AKgKtBn6gDEqyeZXZUis1731pfcizkVptkmwZ/eRBrYLPAi53inwMM8QzjUQYUcuERx7PNb3DU8XACqFmwQxoLHsvw2N+AN4Dr6GNF4Hf/4tq+jQ3s8zyfFlyfz3MfRCDIUzU0aHHSB7R57zfl2BQE3zTsUXkUSODhBcSzITBJOKM1cDOSfgHHO9bmAynGG8j4JeDq65f0k4YoeEYFpevoO7TVsuUy9sa3p4ZLrr2STRPfM2tAolDpN2gQm7cz0I4OH14HFLt97GQlikCuNCRtwaaGjcJjD5TuiX+U6FlXnR+mstwo1Gby7NNZvEz144fNsMm3j2LsxGzYAugWQMf6SN7vLYBuYrWa97QAugRAe4C1vVJFl3HrBlQAhpDMK+syE+86w8nD4fHkYlSaxBqeUy6OrWvQJxqDBPM2ZpKEaJDaP7xGBJoAHkAoDVZHAOP0Gbkc8NSmo4EHWr/jovNFvnWp82LyUqO3UA/jvOJdhme7YBf3b1wAdqNd4LEkY515zwkO3Gm2dE97jQKaSTYxYRClgbU8aTQ8y1zzdnYg3bzqoWcVwBpqiUeCNEPPcFFfKQMS3fvWyeTGjQ7IQ23IXrQR3/vC/ytVElmMAlgZ+EyoT3jr2Wxo//HBnIDpnJTrhdQC2ni9l6xTZRmftLZGwFgdUFxnqk+1T+jJ1Rf6kxK/YatK2anz/iZlB+YJNn3MQ7QPFLUIn7xJX61Ld6t78ldnTrf6twC6BdBNxk8LoJtYreY9LYAuAdBex3N7pIquyq1LJuQrvuWoFkoLmOE8niNIEpAsvIBlpUZs7XOs4Xey+ALoWNQsuBAwaNxrr/qQaEh78IsXMU/dIfn34GheVRssY1rOcevyFSvk1rPfKHLdVQ44h3WkLoGGctjaw3KgedbktVdK77z3u3fCaTYQxk6DGQxvL3ZDZQMqhyVPMcBOIfMKW+VCekWK3+5tzHPwdAMossk5jnqy2+VgP8CzBUXSHuoZXea84gEHehSnF2VAortpg0r1qYc+pJnohswHvRYkJskbnQNgPdz8hNQbbo7w/xMtZAvApT/rJsgvP7NmS/fFr0sB+1JtaTzM2Hnh4kJ99CYgKmuHus9ItU+4AeMUQ1N5jzvqSQHfv+ayMrLiKQ/y/17hTnc47bI5xt5UIzNmXdBb9jF1xk7VOT37vhZAtwC6yYBqAXQTq9W8pwXQxQYblgNdsylSxavQHNQ7aRJd6kUad4AJbyjepAMOlu5Rxw11LFtYD95BEhVGKUA6T/0DTug++4vcdIMDJRGuYe4CwzM0QHC2yC5L+jSSIAhr+dOfJbeefprz0uJdzfKgNR11+iied6nyxIXniZAQRoP4uu44m6uCCgfFEpUSQMhD3vsbtiTUBX3uIyJItpFEg8tADH8Ok6oE35W0b57CCvZgw8KGaXE6IYR+27+8W+QnVzmwbHQJwCr14bQg8IpW6Wsxz3AZkBhb/6BMYF/aBcCvpxl4e7uuPtgn4KnHwOEAAArpNyHPG9tGgJX2ubNe6bJGZi/sxWb0sCemOPTD2KsuiMqzReeoY6VHoCHKDhXGVdJPLTgxe9qCzaCslPD9h5nLRnVvHbA6LOgtUxYKT//q9IU6ZcP6twC6BdBNxlALoJtYreY9LYAuAdA+MEpVOHJSRQ8EMmWoBTWbIlW8CrcOLvVkVmOZp1TIQFe1boV0C94B2ISWoB5WvItcgf70fgc58AyorRBgmLvAFAVn8SrvXdz9zHc6DzQ8YTzB1MUC8KxOHMW/5Z9V1zf1TSYzBriDT4x3a8lu7v5dlkSzlCmYu+N2d3QfSpbxXvNkAsbZZIQeaDtGh97BxiJMl3zUk6Wz/8HS+9oXRG78mQPYbFCSZBflGt8pOwKybUNBm9FCJ50snT88NdE4rkupyes7ZeBg7JHNMoHyCJuuCNWnCsCcxON/3dXOvsYxx/Z8a00PtIJLAPSaW/ufpTQOgmY9b3zXPWTsrA8kvw9jrzogqtAWNvYWLnIA366ScZ96L5x0C+ZUj/uk85gzTmt4cqvOIaMqV7qZ55QJRSD6QWQejrVB589eIT2Cdn8Y36DU6QtVJEHzMhO2ALoF0E3GUAugm1it5j0tgM43WEiNGL/jVieThpdmj73VqzsQyDREJHdeDZR7THY6ACEgAS8q7wC0kvKZxQ4tYcBbjQC+mt1Di+cF4qi3195t0lLYiPpNbhWZNdd5GeG+ArKzR655GrhQC9s1pwAAIABJREFUZsJgOV5u3kVO1bNUB7/Y7/6e8+T2Sy+RyX99j/PI5l3Tpkvn5X8j3UOOHJRIs/qzCAPydt3d8borJFPRRfGa7/lgvkBOzuT+zOtrmw3jQFNH3qUL/94JiOkc+eS+dxFwbUGC1BEQqtJ2nq9bkOyjyuYru1BXDUYr6j9lQAKVh4dvv61SWuNK4Oa7l3m+u5f7M31tA741UpkrgD7jJSL3rHPjK3vRbouWyNjbP5b6pam96rRNoS3uWiOyaZPI4qX9ZDxWuwLKSqp9GCPMKV62rzt3nkySjXFIycsmc0tZf1L95CDuYcDzTrtzkmPfAnWG/yLUtRjo7ey3Unqf/nBlZaFYX0h+/7f3uY02V8i15++o8ey+90DAKj+1ALoF0E3GVgugm1it5j0tgB40WNbzMzZzpkzgQeTyR9+966523Fcma4CW8X8BukMkLjHAOvmWV4msvd0H7QXBaTb58j48R3h2OcKvoKdcpWvEjs/tGZUCqQzssVBng37ysrDlBbMlihNk9fMSbBmwgAf69ttuk8kz/srRSrKX6fvuf7CMvf7sdOR8GFBlgXZq4+4AjSPvxKFDmu0vX+CovVARALwp77d/Ftn28CDzXDzR/D+TpEWpF1+6QHpfvch5Vw0IaEIWFCLwisc9hXU5nlXbPNZ/ioAEOsNrLvtSpdOSKMBcutxtqvC2mqKHomCvfMJ4YENZg/8/cRZj7Va3SQ3HkbbBVpGMBzpmh7Lf67RNoS3s+9lEQ2sKKUu8fNEy6b75fQNZFJP2+drFIr/6qaMUzZ0n0+bNly1btlY6uRpVXymzUekpBBz//VaKXPRJkXVr3LjTZEPEHATzTIbnn31fGeh1JxwWTxEkjiqJpyjbCCQ0OzY39Ce7TLPfJEH9/JR9VgugWwDdZM5pAXQTq9W8pwXQOQA6o2gxbdo02aKe30c0yEaP+C46zwFcjtbV2+ifA1BkYjzwUMk7jqvSPKnAplDZIbwZEKae03qeqMYLV0ZJIJePmJXy4mUs7tjDwJ+pTSDbhkf5cYcliRB04comkSiTB/MBT3Cg16xZIxOvf6HTVw69v5popOu8VHPmydg5n5TCgCqT5qPeJrtmyVQIAszjc3MP/YLfNQmL3+zA9U1UMsgkONe3FzzgCZElu0rn5NOSTH8JaPifL7vnaYZBQCHP8clxKmhTK5b0wa+qxJG9Mh7KKpSJYbXKAQC6wYGvTzpv2oJvNBrBysOl85I3Snd8PN022bqz6WITgj34tgQ4+uyN2JWTA0Alx/gFUnHZx6q9fvQDVy/dPAWxjmxeDn+ijL1oUEe8yljOfVfFRCkDp1C2SVe5xA2O2sOpRJhFkcQ7eNJ/7w9KsyiG6c3HZswYcBDktXkh9SmnPzexjd0TPYU49kTpXf415yGuqDRTtT76jX/zVy5pkYJy6FJeY90kLgks9Qo5sbGR+hbNVrmxv0kz9RPewUljC6CrNpO0iVTipmoBdNxGQ5doAfSgCbOenwRAUxQAghcMDw7zKkAnmfm9l3DOXJW/sqQQdRsp4cpxxA+AHLjwxo6J8B50fwGiS3btl2rIgY4tXKHMWKI+EXrgAUQEiFkyCWpkWd5YhFjs8fJxhMziQfIMW5SOPlZyj04pxzMAqGxOWDRNHuzIY5QaMnblt2VCF1Ky+nEcOt09H8+O8ZL5O1Jp7/t3SQH1MKDKUmKbokgIWKkD7UGgVZbPzbs1aYnnJlsmSDZdbBRC+TpsktM+ie2xDYBENx0T/W8FPPFxeOEjagl12rFO2aJ+HPNKmgdtcutWF9wIf1mD/aAlTXeA7+jjFPBp20DjSVRfMqnjNeBtZpRLnQxJ00kukECknLPBuc6DCUA3FRfek0kxXncsZ8tXtbcCOTuFym7S4T3T17GbbkI4zTDpvUnngY/UO/TAznj4Adk8Z350w5HSPQfE58U9HHN8IXCvarvoKQT9hrHKd2b128Mx24DPrd/4kX/q9wE7hQhPlYyWFWz8ir4t9S3ZBEi6WfN8e/r77vu0FI6KnaQF0HFDtQA6bqOhS7QAOgdAZ6gEKQBtXjDUIQwEhI9gAgfcHnFMYw904iGFU6zKBZrHrX/ZpOsXeAVkcGsjWc5inSW6cPmsbLq4h/rHNlKtnngH0WjlQhuXhVYD6ljkvdYu4N90XEPPvgXvcK99D/eSLpzvhaJBwNMRx4j812dFbr4xURxL2Umz82XsBgg9/plpoB4GVFEP8woZHYM6Uw/TL2azwveFnG4AtKl/hPUGDANslu42SLHJk6r71c8dIDLVjAQFkt7be8PUC+kSrBTp9RZyPM2O8C11YzMmsvYWFwTKd4Xp33l3hRTwVTzYyAxyQlAFPPZ6k9L72LvdJkMV7vzpjqpNTBfZe18XGzBC73ryDRHveGz8VPk9xr+1Nk1Oodg4ktjFaEh2SqK0nkmX6p3fwxMwxhVtt2yFyM4L+8lbjs5X5KlKEUjmB0t/rmPapAjFxYjM3Kmynnch6IzpkgPemT8ISM1TFMnJtlmlbSij34h6jZ6c+U2JbdjtIbbp5/sj8oup064wARJrh47zrnLs1fFQcGpZtX2qfuNvQ7kWQMdbsQXQcRsNXaIF0DkAOnMEPuCBVh5bp580wRY3nYG36qTYfcXfVkoKkdeAOonjpWPxtKx2tlClwFXHgTs84rvvlYDLqkfX2XdX5WemPFF8r+lDb33EgdbFy/rBTRaghyeW3wBEJUGFiXwUEl0FWdsUhBCQc8U33ScYTcO8RXlG1fcu0kUrFWUfBlSFqa+NmlH0LEuSwnPZVC1YJN2TTpbJoN5yy43OowngzV7eO9Z93dmO2vDfX+zzdgcKe/AMUHrsQdI98blRacIBjiffjgcdPW2VktvsPfZsMjjRgH7SSXPVK3jwck8iAOJBLEBCsdF+Xc4t1SDKj70rA6A5TfC0Gr79O5dVCvCqAthNnq+Kdzx2XF91Mo4FnSVA7uc/dmMmpGgoF77nxjxtBiij3ezUg40dF1kPCTaeMz8qH1kVoOn8wJhkLBvdJfxo2pxxMQR9Lfn2MpqLpqnf6jZRWU1r80DjnW6gaa3fyOaS5+IksU1C+J2mfOJPKrov/5vCuT5Fp2pY16rtU7X//TaUawF0vBVbAB230dAlWgA9aMLswpvlQKtHEQUKJuu8xS0ne1nVhlJw+NF3OJUBPEyxCwAHQBvV0WkFfmahp5oFYt2dhZQSDZ6rIGVW9smJB++yL+QH63FzYjefzAQbwY3FM+eTqiRAPQyo4hgV5Qv1XvsAsmxljF9NGegcmax+YfEqXOREihAgr9kMCy7vPQ+9zjHqRPikVJ8G/Bi1Bp419uL5RkGxQEU86yVezFKaQRALkAR5ZrmlodcUUAJ3GaAPcJwxYzBxD166Aw4Rmb+zkxjjKjl1qXqiol1mijJ5xvpyVmmi673ESfbJlK65T2Lkdc31JCZvvEbGYTbjY1WAlnhnB5RuPGmc/gOoHYK+VqUtOiEHmn6bnHLp3c4zzWmFP6XRNsgoepids5uihA9PNtA88Gz0Lp5pzo2jjis8bRyQlCyqq0lXXvmdgRMDO8GJLQW/S7+3ADre2i2Ajtto6BItgM4B0F7/2RbpbJBNwtXVbH+BBxau4ti4dP7ytSqXVvVKAaFbfy1y11pHAwFQZWkIeYCOBaMgXXXVOqQWrtR3bXGAMviuQk81C456vvIpJfLA/ZWkzFLAL8thxdt/+2/6POqsaoJ5p3gIR8qhZ868xQsXJ/z0AQoCHmPlUmdpM55+YpXjWdi9xNNVBZSpTBecX8saaAA923Ar9pbu3783X7tZ6Q3TSlNHp8BkeOxtPGvjdZoHDyAEXYbnAlJynq+g5ENvi8YCJDKDIbfUvs/UReC2H3ykA/Zh2vLQDoHXXt9dckrBbVVPVLRsnoSivbsClaVonBVtcmIymFXGSqEOfE2Zu6oAevLaq6T3wbelT8XCDzeaEZvVIDi4ruc+RnNBDaf3+U+JfO/r7oTH5kgQw9ydUwmkFOeGyaZi4+SLnxG55DPF0ybzMnOMdhrUl8ZF9tq3MN5l4GTDTsuos0921TmyPDHOileeIWvvuKPOVP5bX7YF0PEmbgF03EZDl2gBdL4Jy4JsUpMyfxmCezwA4PAeWSAeXjm8hXnHpSxWKrvFCkGAnAMgTZU/FEAXcZs1MG+GyFNOku7JPtCryFNtXktoGhkKhoKeosQvG9ZL57inS4/Ng78vN+Maz9dsgV7tIgugjfvM/3ffZ7Bxc8BQ6kjduME3/8od4WJf5TwGsnL2VNqdBbuAjxwDAho0d86ZDjBSL9p94NSBFNw7DQQYVQHnYfbAFJgMA6+UU+uzFQIO+Du2gwqAnUuSdSj4v/q70ViAJNFNyC21oDeV8IL21FEVAr0i2uZlWeL0fvM2/vQadxSvko9k6oQ/Psd9Wya9exRsG0WnJBgxu/FLZbrMyhfC5S5JMpTyshYkIUplIg3nITJi1pC3rA6gr5TeuWyYIidjbCqD4OAirn7Z4lVGc9H5lxiM733DJxfyXGLmqCc9Tbqo26giTuRkIWfOERwYt99cXDXbaGY2fnnzbjKfkkmUTbl5rBlnBx8lnZc65ZnYWF702r+X+3bbe+i1/rfpAS2AjrdmC6DjNhq6RAug4ybMW2Cq8BjjT86Z4A3csOBqVq1FDlwAKi2YBSDgF4iqnhADyKmjzAWLpLN0txRoVf7y/3zJ61tztD/uQEfAadUFrEEGxNLgNoKdkI5Srqv3puZlXMM+2MGCcKiMgejkyLXjaCTYrkIGxLx2ShKkKLgMaSFB6Z1mSeevXp9I0eU9J9ZPEpqHcpIB7LS7DzDigQROAvgyvNKox3T/g1UecPKKb4ncdpPjygKINdGE1/w1Txr2xE4WLAmNAjpFBMiqt9iyMJoShBkhiAVIUq3Th9FTt6BSVUrxPA7uJ5mHStwVA3d5wV87zyMxAuYBNCUPZOvY8eCZtiQbRovBrpZunr6RObFJ7Jmn/qFZJOe49qng7U/6eV4KdsYSnkdsx7t2WZq/yWMzUYGqkte/UkmOsk/P2UBWBdBqIzZMPqNl7vxGO5IYiDHZUA2oaN5MvvXSz7sMnV7HOgnozXlf4TihHQlGZTOglA8/59x/j99sjbs+lHcCaOMmpx+FdVePfQmfXwH0IUdGTz9mHf4E2fy8l1ZZTn5nyrQAOt7ULYCO22joEi2ALjchk/bCO26Wu79ycTSavUljDEzw4fF6KMkEcNREHB0HdkKZNgvO2/8Q6Z7+loEECgp4QwkxUwqxiH48N3PnOUBSQTkCD2CoI1vHA5+34HcWL5Pe5ZcOpvzOO4o2+5g2ax5Pcc/HumQLV33HNUmDE4JEBYGI/0TiINPCmt3wTdI95KgmTa/3JN4n2pUNREVJssJENoA8grxoS9OlVqlBr2XLS01dALtY6nXTu/aBV5Mkc4lQKZSvDP0kEgsAh1NTrXNqQZAZdYTOg7KJHfvD9YVTDuA16oiBets4kkQDjv3/XuFPBgL1CcCMbaSgnwDE6SspkO4lJ3PUEzQYskj9A28q6dh5boUNWdKmfCffY4DLvJbYms2EcplXDPadEqoKQZb0x14OV7aS1zUnsK4ygLa09Q8/UEwtC2MD+LIh6C+hYVKb7zBDJ4XCJE2Z9xWeLHAyQf9AsWO33fuvwgNtaeHNScHfTR2HksyXdtLFZshvVjkRCOkqE+8+U+SG60TGSQvvPOJu0HPqMuHuO/0tMvnW1/hgUOaq4JTEU85mLFsuW1/9D43nmN/GG1sAHW/VFkDHbTR0iRZAF5vQJu2xq78nE+qlK+eZNmmMgQk+jNRmwTVJJsAkabHxotnknfWOwD3MCSZMBSYCBi1YzCocLnpkZAN8WIBc+FGBKkPMs1rHFk51JEedQekajzhgTX24zD4KBMdFyPAH6Dcd5qOOk85pr3YLmR3l33qT23wQmLb7PkniljJuZnL8etkXy4+sM9zk2HcPcGIBoXzjr693lBGUE8C6zH4spizW6GXTtguXFCedoa9YgBLSZtrOJhvopfjow3r8HgR98WfAIXxx+oUFM33mYyJ44/j3Anm7hIMbiQXQRCqkWg9PLWwjFCbZoZ35DryzCjq9d3q3PaVzwrMd9vjoO/savQkg8frrKnvXdanYGS+0uanWKDVlzHng+c6VR8jYi/vJUUq9hbyH+6wPho0cADY2qfKVC6V36eecp12T4GD7IEW4bYoZY4Cy5XsNdpkq6bhLPOFVqENh3y8D0Kn++rMfOWWgIrUbldf09B+zVQUll9iY0XYPgzxD6clwU0L/ybyvMJCX/se3ENgctuudt/tkJ10335ujwpIaMR9DqWJjxAkCp0MFWS8nXv/nLig5bH/7WNof8P2kp4lo8qQt+XKEDz0grQd6sIe0ADo+aloAHbfR0CVaAF0CoP2kPT53nmwNPQgjPJocmOBDIITXkEmaI0beCUd22rgDWlnwzEIwf2FuGvEkOQCTtHKmcziMfB/vYlFnQeCdWcDAwm7UgIpc0FgHVc/4G09zCw2XeST1/57OwFHtsuXud7MP5Vng5i+Qsd6kTAAaM1zkAX55zQ2Q3v/aFxQks/FfRj1PfG6l5BGF9eGb4MSyoN/ya9fWLLqmWpITxDeQdMY2FtgMIKd0haCtTWXDEm/wztnzRHbbw1FGdlkiKiGHlxgKRJLEx0vomZcvSJFcyMHlvUFbpDIRmnoGXkzd9ATpl7mPTcB6n02S+qkOusvcqBSPX/4s4KUHvUtpPb5f6wbTp/bOdkD6NbZYtjyVtMIpTFzpPINsYhgojAc85njE8daXeIs7r32L9N7xJqdLPhCA6k+NtD3QifdBmUWJeQrk12Jc2VBdo84GtwhAD/RX7MscUHQiA7dX24AA29lu41WibxybG3S4WxDxf3zE9Q3brGm2ziCYj39nvspm2ixSVylyFADAOeWwDKC0ZXjKxXuU0uPTqNupRx595HV/7vpyEYD2utk655WcPrUc6BZAVxkr2TItgG5itZr3tAC62GDmGe12ujLJYlcShFRm9qJIfABIbmAdEzYAkf8W7yqyxz59cANwBXzYsTaTr3rHljnwmeO90u8AFFlmvqLKWrAcixZ/XrFX/1jc0lXnpbPOAKZYF0zsAT+XQC8Dz+GNdnyKLfDyhJkWaQuCwOBa9iZl1oo9ZdNBRwxoI9cBHEV1TrxI1Ce0uYF5AODOC1PJI4raexLA+IkPeH45Efz+uBZbAw5CxQs2SehrFyzUKS1r6sLCD1gx2gZ9gfeFHGPeZwAOr3agRqKfE4KNCvJgeDGrADUDaCm7/PiHjsIRZiMk0AqvMVeY4dNoJrqp8i1l4MnawQIhY51P6SuiYLh71gf0pEKBYpnEHnVi44FsnGqeZ7IjHnioKA3pks+6emPj7CbV1BtoE04V4LbbWKLOFWhGUd67T3QUM0H290IAnQWffBOcd91glFzqifYBqdCcXvqGRjSnFIBnXtMkTP5URYNCCaL2m6WCDJ2F3vgiqppyo71EKR3Fxjz9hlMg/m7puE3u0UyRpY8QIHw9FA7qGcAZo86xOVPu/8790yOepWO3n5K9VeFoAXTdMa3dqMlN7T31LNAC6Hx7pRbVBMz5soAamxDxSi1cXEgLiHlBVZLp4k9V0rVNAMj57xfZsMFRErLH6zlHpkoTQVXCwEmRVJqXq0uChFgwwtTZEeUAPGDJpqDAQ52yB0A4qymbDQikTqbrWgAyigDAKABHwmMsUv3AI8XRcZilMU82C/ABYGTxzV4KNibTGwWOmFUFpONSd/OOzEKdSjoDLxjghgICvG3eZcfbtijD3zUKAX/OaDwrZSMMHOR+PMCARp6HEsWfvqx6EhffB3SDs/JI1zdMVswC7ExFJs+rCThiU8Flx+TK7fap7O1UKEx5Hpv+uAebzpot3RedrgkwBtI32zPMfmwmLHAuJzsiALEH5QVqAXYtqg+gX+XL5ijVirHf+fmPo3J8Vp0kkQljIgvkee4uSwrl1MrMUnn82ClH2K+MTx96aenPniWEPSxYLtY02d9TGzroXPRFs6GdsthclpOhM7VRJ5BWaVw7ieyxt3QW75ofd+EdBaoIhMrH/XenaUwKrqFCifOGh6d0mbk3zav3mz8NRfBZNTUDoQ9QDceagvaeOkW6b36ftDrQLYCuO3ZaAN3EYg3uaQF0AYDG++J1azvTpknPFggWKpXd8hxV1CPMS5EjZzbg1TNA4hfkzkknizzjlNKFlIVAJbFI+kHqZY76mWDxiIUppfmUIg80qgUhTSIv+E5HnffwqMdlvqNO7LJElO9qmsWAtOzl6R2JckABRzPlcSfYjUWn7Np5F+m88BXSu+q7/fTTfDsgxXOCdz3+GbL2619x9TPpPBQovnqh8+wAwLNXRW5mwo21VN7hc1i8US3hW703N9frrV4tOLk54Dl8HuBg+Z4O4JkaS4WFWvFlmD0z5Ikb8LTNEf0Xjxd9KKvxXFP+LK/Z8jaMIcUmpaEO0OeIu0zr3BRnlJLBKQBcUS8rqP210x9/bPYAJPbNuf2KZB94/sYSZZOB9M0hXcvGOuUtU6WBNp8dEYDY+/i7HUAzyTxA1kAq+XE9Sekgs7byiNxg37KhMPHx97gASjJ+2rfbOB6frmmlQ1531eWgEEBnU2qHvPVQ+pDvTOoxzbWPna4MQeFIbYCzWfxMOYbNFHNpkKGT7y6VEDz6WN28xBwXicRkOH8k6bjZxE0TTapF3R58QITkK4zhxx4onROeo1rYiV61avrDiYcahNze8W6urpC4qmqQZ9X2/m0o13Kg463YeqDjNhq6RAug802ok/f//sAHIrF2+2PJ8FgPWoF5Bgt40ckiEDmmK9JKTYLZvvVVBw6ywBcQRCAaQDrgp4YawArqPnlumvpR1nPUS+fVGo5/VsLvjWrlTp/pADFApkCtIAHh2IOEKEVgx7jQRz9FQUEZf3jakqWyBd5iKIHH9xHsg6e+CPCXHHmnvFcsciqx56P7zAuZyW6IFqy2dyqTHprVnTh4NkBkadDzFurQG7zzIuk+v+8NzqVfhODU7KmSb9PzpeIqJOAo02BWOkQO51QzeQLY8ahbFk/aBHtasJ+iHh80GJ6QWBAe/QTaA2UYB/Qxxpxx9s2jbnbjeSGAtZMNnrFkN9dP8UbuvrfIj6/oS+JlT2mUKkDg2Ozi7IgHHiryy5+K3LOu7zG34DOTQpsxU7ove1PUe182LCcv+WyfJhLKWKpKxIR0nvU86T7rebXXhFIPdAjwQv3wUPpQAwuhHEx3AZwhXSGyUc33Es90Gu4oYtAeBNuFsSHWV7BBRoc9mS+/fWn/tMf6PuOVZ23aqJSr5LSsICFPrrQhY9koLMy5bKyg1Nml3+5B8lNOks4fFZ8ylOriBzz4FkAPdukWQMeHeQug4zYaukQLoAdNmNA3TBM0z8qht9B+z/P+mheHidXSJzPBsuAYeOSY86STpfOHpw54pRSQ/Ot73IJf6DX2EzaekjwvuGVW/M5/FzzHzlu9V934vipzJs7LyoKWPeIP7cK3YxNAfAlgTTLNYQ+SphRd/D5tunRf/jf9Y/Y87Wm40NSLNN1wCu0CXHHsa+oceDDNKxZoWocbDbt1AKxjB7z30C9MycGoM5lNy8Q7zxC57TfOG2Wg2E4oYqMVu5viSHJc7o+KqbPqJyt6yE1XnJIWxAtonGJAI5uJ6e74Wr3yeRrPkRTQyru+/trSBBaT571/QFFlfP7OshUPKW0F4KU+5tVLgbItDvSGAJo/K3cbisJix/OGehIk6knpHoeeSpXvg8/vMmkmzwD4hBrAYfIi6mb8ceOusqFEqaTkJKOz/8FTAm61tcNAOkC6KekYn5tC1PXwJ8rYi/rKIrHuZr9X5kAXKacUKVrwghIZu2ScXfFt58VlzJoCDYHDPYJMx9ymy/pEhFJU6cSIYOoKfPFcaUO8yBagqgGFQcpv5gbagXlaA7H7NKG8tsjlZ1M35pRAeWfRM54r9y7bs/aJRdX2fzSWawF0vNVaAB230dAlWgCdA6AD+oYeRyrnzwdkGYjFk5FVqch4W3SCfO+bRW78RV9H1Piu5h0zjwWe5N/7gwE1B/WCXHV5/5g6r8U92CwC4bYIu2PN80XWre3La+EV1OCcUCnA01TwumsWwkAJpCzJhalGlAAN9Zbj1TKVh7Lj+8OfJN2X/T9dOAr5zMoVXp+WutMP7jmQyHG3Lcoee4ZZFfOk7AppGGyA8LYBnkNueLBpcZzpn/RbCbuGGsxlI1aPvuEmL+/LufE+uO6aEKRYEUO5vAa06qa4Nv4llApsyUX/VsUDr2Zx9LEi+x4k8i/nOKCTcIFJhkLym+kiL3mDyL9/2HnrQy47zzdPMv0fkGqbrFD3XHmtPigsHB/cYwlIvPdw4ITFNldh8CN2t75tz2CjxWaITQQgnE1XqGBCXY1z7k+VFMABuDk1yV4eIHb+/JV9FQ7dOAViFXs+RjpvekdaWjGgGmX1g8NX5AbSWf9WfWovMzgFHOgBgEdfYBNE286Z6zat/Jl/C+1pHxBRK4pqoDPG4HpbO1V4bqWYBdo8E0CbNywLpQ3pV2zImO+gPXHx9/BUwHTYH3OgBhmH1LKwvVNjlvnloQfdMwPlHcDixBFPqqT0MzQgeJQ8oAXQ8YZqAXTcRkOXaAH0oAmznMhOd6zPgbbMZiF9wx4ReFuSxceCpYrS36rEEZq9Y7oohVJUPFZpExwPF3mfKcRCCiCJeFUGuNQWzAIX2TRrLeueHl17b4ppUZcluQBgkRwjwulLtINVu5lgHK/hm22GOfOk867zNdVtYoe8xB54MJVPzgZgWt/LzHPV4z8usnAXH3Tl5d1Y7E57jXS73QHetEqz4UUlQUjWk84zAT4s7PDPCR4l+51PoKBtfsZfOdmzuheLMTrfXppPefW8b5/9nLRdRJO5Tgr3FF86ezSTxsbpAAAgAElEQVQOEAPIK+CcK3LAwdI96jj9xsn3vLk8MQT8bSgZ1J1nZHnAgC19ts9uSX8yhQujDWFXLmzI/XZqYMF/ZScsJpEXet9twwrv1DYEWQWG0AahdCT1gC+730rpffrDpdQkAH2iA/39b7hAzjlzpfPEp7kYB/paXnCpf0chhSukxISBdDZuDOwPkbAkpgOtG+/LvuAoV7QXfQSPvGkgUxfNJHqfazsL9rX+C7UrZ8OQbIoZvxYgaOPGKDuqJEPg5VzXdzhVod8UJDBJVHN4jp1m2DN1Izc4V+ap5nSOOlZ6l10s8quf+7u9rjobRTYPnITgVGHzZc8Nx7z2fYC2jyWpIKFZpBo03puUrQ89OLA21J1ifpvKtwA63potgI7baOgSLYDOAdCA1jDtsHr+/IRsnjEmUhblgqP8ZDJk0WYxNU9F+Do78jNlBJ6XAcG6yFzxzTiAZiEt8aqkjktZsCyRA8AEjyALY1KfrW6RUiqHz2gHaORbN21ynjg9Sn1IF7IOATEWCBlJ8Z1oB1vyAPVyA6JZbLx3kvdmEl3kJkTgvjW3uG8xcOZptO4Yfmu+njULPVSJgtTMctMNxcGHfLNxZzOgQDmNH3xbOhV3lREKeEbjGM+ol+YLwXluMJM9t2IwZFiN1EKN7UJqkVElAK4ZPeJUYoiQ46t/9gAjT2fcjt/5P1rlJklmblrbHNL+nFCY/B6bB/omYDqzWcmatcj73kNiLqN0Ibfc2OfWhuBKMyTe58bB4/9PsjlSLHbRJ1wK8TA5C3V70vHSPfkvosfrTSUVSwPpbN5go1egHU3d8wAiad5t4xcD0CngDzg2EMtJk+mzq764l2vTAF/oNptFbrp+MDbBb4KSfk1/0Pt9pkg1uNfLJkOqjTc254y/kgQmE6a9XFF2Mje2glM2Tuaov8WC2LxieugAZ/oC5ai7GtonqdLkQJ4+xDwTSnCWeOWLTtk0hgDqTgXaSZXp5rehTAug463YAui4jYYu0QLoHABtigY+7XBn43rpbfYeBwVrPsgu4et5ikN4lM8zzIvJxMqxtgKHIFDKUnIbaOG3PG3eD72tnMIRSKkVBXmpBjHydyx+TPgaWOPTy/J+PCRQUgDxJBlQPqKvayJLFYAkFDoyXpUqke2mu9v70gXSI120UUQKNiIJvrFASBZGFi7aQYPz4Br7I1XTDqbeSjPwKhmhBBwPtIx9BJNZsCP3mPY2z7FkJuqJ93rNLOTwtvGIqbReOjOleuCv/q5bPE2f1mwYgkS+2XiU2JtnUdcc7yrVLcymxo8NPI8p0AAgsT5NHRMOsHnAD0jSwyfgBA9+nspEbDbivoWLRO5G7o1kItP73mraFcDidc9Dz37ssXV/r2vPJDANWTPrb5p4CDWFp0kXVY3w+D6nQnUlFRPQy2kIYE1542z6NvaVa9Tz6QPpLINkJsU3G4hEbUJPnAazqWZl0lKAm80GfZ736CZ13D0DO/Affw+90Xx7Ra+9BhQbnSvPA8285p0KyclVNkA50YTfy3mcOZGCUqJUoEwSFOrGWD7+mQkdIndjo2m+73Jj1KhHBpBtrgZkM39AzzNVlGy7F80/fswOzNVrb3PB6mwyg0BMBdBs7CrQTuqOhUdr+RZAx1uuBdBxGw1dogXQgybMTqo6gTHpMaly4e1lgoOfF8jRhUGAA5qtlFMJPIAflz/O5o/m1WDiz3gZdPFGTu9HP8hva+qB167Xk1RyjXCxNECZ1VzmiXbEzXMAmvpdBKsZeA5SEZviAYsa0fZ2BV6VWGR7AogtsNGO3SOJJDRjYZLpDSAfqDbod/gF3rydykHMJIOxl7NB4PvIwmcLY5gGW5/hs9oBlDSrnw9mY8Eu4GQ6TuSDTppN6+M3KLzDAP9+K/3C7Ln1RPCT2Uyz3u3sTzr6En2FyXZ45hAZMROQZJrivJ+NSKhCYQF4XolF+fwkhuDbzOtWdQbCpmwUsDsAxTSeGyYnqvravHJ1vcF1y4fvzAXCtlmkIMBRKVTiTnYAypxC0LZ4bzm9Snk40cae7voJfWrBIuk876X9DJJZkFxBu335058la9asUU91Sv5NE9iESWFCYnfwlYDoTKbKlNpKthEMQCKNiToQ32FzTjJueg5I9npKXciV0DTqjabLHnc0EmIG8uY5q8NjDpDOG97ep4aFjg4rY7x8O1mxhC38bolwAPdPPkHk0s/3A4az38m30FZhH2cccGrEnE3bMP9ZmwGSAeZ43Y1fTnhB64EeGMYtgI7PgC2Ajtto6BItgB40YTZ4ZmzGDJngGDlnctO789Q38jRbzSNix92W7rZEgo7HK3j82LtErv1hWvaNydg8mGVeH4A5dAO7Au+GTt4WKGkBVsbztvIAUfXKAv69F9rqjlcWfWNAAIvK4w4rTCqTBRYpbWt+3G1P6Zzw7EQjN+UJQ9Jq3R0iROfzvmQj4p9q3jHToIUSsmWT8xJlJfXg6cKh5Hu58pQbDIjzux0tAybypLqsD5gKCYssihlc9hzqk81+Z5xY+gU2tyQrePSwq/dKV/XsN5kMEm8sXkWjchjwD8ACIKbXm5Tex9A7juhZ51WEb+GEg35oyija73xhABh9uWIykBgtocwWA8FxEW5tVe/xQJ0ASVkgbLZl/HAB9pKASTZcPh5i0lMa1NtLAKkZym8WlfPvsvx1yJRaRJ0CDLI52mXpoEn8vLX7me+U22+7zXG0LWYjoVbZRtJTrbJPoV1DlRQ24UbJCNVWwvs87ShJf/6bXw2mB6dN2FAcfZx6i3NpTKHeeRh8S7IT2wga/c4cBNNnpLjEudKciQa7D5A1JKIBwT5L6/HPdDEfSFZiX3Sg7dQO21nwrcaRBH2cOYf5eOlyl/Ew9Kib55viJFnxJ2ctB3qw67YAOj7btwA6bqOhS7QAOt+EIady+kP3yyM3Xu9Amx3pseAbeDTe5KFHK3jUY9PzP+C4ywrA8GISPIXnbsJ5lADNTJ4VUvjyiDSYvMl5PQjO2WPvfpBXUfAbi2jolckCaAOfzPQAToAUQTJFgY/mPVd6gz/O1+Pkcec94SqgIwx4uQAUmtnRe5D9fTwi4V6yaGnmNZ9Agh8Bq2FqcvUUd/sKCiHPmfKhnbP60KESBN9tSXJ4fsgBh+8IoEFGLXsBCkwHW4PVtg4ELnb+8rXSPeRIvbMuD7mqZz82IQyAPOymetye924pspWX7qXjvOwXR87KBf7vL/YpKLEX2u9G32ATpO0xra9aYO9iPBx8pMQCInN5qyXJjPKqmLJDhFs7AN6or8mpMQ53mi2dv3j1oBc4TMdOH2fzoFQPz8/Xinkvr6k4aPCoB61FttXx6+kUjz3AxQHwLk5GsomVaFueXdRnFy6W3d9zntx+6SUOhPNdbOZsM5io5ATe59Tm0p9QGR+bTRJjwegdngaXypzI/SuP0Lly8lPnurGvvGrGN9+O5n43kfbUucDUjML51zJuUj7MCkgfA4xq+nQCi72HHNtkTvkG6Dy0rWmTm3MB/WjGgAU07uNoTaWg3vq0zVN2ojd7nptDQj10a+fQox4EE7cqHC2ArjrNhuVaAN3EajXvaQF0ucFYaGd97SJ5+JIL3CRKVLWlYzXwGEbuMwlylHj7zf30v/YKFg7z5u6zvzvGs0C0QM2hZhMmxQsTneBRCZOwZAG00hNIv9t1tIYkiUdGUsyCvsLkFgAvA122iBVQCwaUSYwawRdkZMp00WRBLwvCtKyJikO8bSnvg6qgtHQ6nYFUycoH/8QH3IKIV1k964DyrvuzBVNqJXwwE8FS5plavtdgE2UzMSpIRBfbBxhlNhQpr2YI4LkvBCMNOM5F/WeogCnLtGjSjDdcV55BMFuJJAmKbVAIOAspLihujCe632VjYBhKRfa5VZ6VcHXxiBrIsRMG48jjPc9KPIbp2OF+E4Br9yUJhHyAclkK8HD+UCDGydN0H+QWLJOMSztZsTGe12dtA+BPjWYdeYxsWHOrk30EeGqMBGMh2LAWNUiYKdLUeuizeFhNIQdQbmNUpQV7mjVRTxzy1G4oG/CEBzzjOg9xJRHD6XT39l5OqyzI0eqflRoNVU5MAjFMQGSUkhwZxVwuvY1lk6404Bzab6993UkWyjpZyU/KmyoSNLmFi2XRSc9pdaAz/a/1QMdRQgug4zYaukQLoMtNyALb+Y+PyASeGAIBbUI1T7IG2HX6EzgTPxOjzu8+Kjt8BWoLeBcqHlXXaeBCpQrNMFd27O4XcUviwYIXHufb0aQFj/F/vDt45FUqKuP9DRbA0JuYgJXQy2V2yng71XYsrgAF6pIXEGSLstlZQbSXjULBIUc+i1smLzpf5FuX9qPsQ81h8xjZpiAEs+qZ3+yoCAWZFqt6ilObnTCZiFYwAO01VTbKqA2Fmc/4JrTBzasZeuywaQbEazsS2GqSh2Va3nwPwARAZUo0tJelcDdvJv82f6F0/+njIw/IKxtDVegZqQC2ItUSPJsA5MVL+9lJs+nYUaZ48D53GmQbK/qZKj0E46mswtjLAlQdKu2DSbWlkmZd/+T/eGnpT3hfTdECgGac43nzZWzaNJng35RbjTfYA95Yu/Jm3sE9GUUQjcf47mUiP7rCb2593bjHggMr6MZ3n/7H6Y20bUDMi8834+UOOMPqAIALzfOzWv3ZvhzGYjDPacIqm7sDugy2AEQfc3x5ACJtbqcIeiqHw8VvGvh22pn6Auwj2uI2d7aZCAcHRAug48igBdBxGw1dogXQ5SZkgR371U9lYtbcvnqDghwf4R1O4Py7yaplH2tKFixkOXJ12eJNOJ4D3rTwSLDsWNgWZcqzyBK8w4Ka9ZaFMndUOEzDbQGIpt2rx8bLZeyNb08+LQEr5uUKZatsAWbRA2ho3e92CyELOnXMzegHaPZccMANC+kejymUz0o0fUOaBRxT6CG8Ay8jQUl21B7KulEXTg6QuVNg6D3M1LUAsBepM6Q2O2GGtyxtxB93k848dsWoDcrZLPL4VdgcWPISfc9bXiWy9nZXpbK+NW26zHnWn8iGp5/s9LWhS6SO9Z3nWW0fSBeW9f/k6NykCJXes8UB9Zx+VwqgLVNoSfKf7uvO7tOJQtUSHmzBc/BZAWC2CeW3MB079Ca88GUe6FD5JtbY9rsFz4ZjMXuveccN8OIpx94+Gcq06dNlCydmKlE539EcqoBnBYSekpKTHTOdldK3swVQ8g7bkJckqEk20pwqUSfbgExA9fAAFdoZ32hXzcQuSV/7j4+K3H+3o+YZR50xb4DYUzf0NUhWXvEtp4uu0npeZxyArieV8PvRVPfZXG2+tM1DHgeaMjmndy2AHhwMLYCOTxAtgI7baOgSLYAuNqEChbe+Rjr3rNMAqkTCyXRC+bcwqAxgmJee2rxslkQiJ2FKWIsYECpMupBVtrDMYbZwWuKS0COCB8mreIimCfYBLAB9gKt61ja6b+cY2njfmrXOZzHkHgXh3gOs/L900JyuHwZWDBSHi4t5XVm4DjjEAWjAFh4hO1LOlU7rSHfnBTKpYGqjdI49UXqXf60w6UWUewiYA4iVBPSldIWxXUTvNprtEPAH2Mp6qhScuuNuy8hYNuBjdAQFBdQ1DyxqYhufdZCXxFRRrr1SegBiuK5FR/14Jp/5J7LipafL2jvuSPO+Czz4llGxLOlIshGoEKwZmyALJe2wO/QqxgH9HrWLpbtJ75tfFtmwwWWHDEEWY1/lIKc7hRrGQpiOXSX7HinnQIec/ljF7XcL4DNZxOx9FrzJ/5OxPOY2qZ4vnagMrbvTgXz6YzZIN++5/FtB0h3NHhrbnFjMQFaaLgCRk0hdspFmfPN/85yH1AjmJH2Gl+gzGl02sQv1LZD7U336c8507ygaH7yHZEE/u8Zt7EMlJdWxJp5jTj/JisrgeW1r40Sj4MSfQxWOyHhrAXQLoKtOB2G5FkA3sVrNe1oAnW+wBMRqwg/vnTRem3q6xtxEGR4ThsF6Biiznhw8FTkpu60WGmSXaCT3SpO15NU8DH6Un17TDy4y4Iu3DuCrx7o7uaBBA/hIubHIwoc27xALwO57+wx8sx24BBhQtmiRVW5rT/mY3RedLua5jCo+qOTTuMiKvVw9LODMeNYsPMZbDgBEZ9Ys6eE9S7KVbRBZuCSlparFy9QBQu4hAVeh8sYuS1IZB1ObnZBDWQIKs201sElio2DqJ6F0nvdYZTNUZjdc6hH7j4+4drH0zhZQZmCQfowt6QvmCTSuLGADrxjX2lvc/zOqKNl3KshlfDAOOAUIxwcBbWw0DzxUUHkwmbQEGJeAhthGQDdJ3/gvB2LgrRuX2vrHrNmpfpdne7UXOsSm7kKgGP/ZWEjSts924M1OPywAFa+pSR/yAgNI/JnfTOHFnkM9je5EmTwVjlT+bwp5apWBxTB4j58TdZwCrnK4qWU8++Q42UBYBdC0IePNvOA6bwXUA+sn1IVnAbS3bFbbdE97TZKUJbR1VG97/4NF5u/spNwK+kNyasG8YJvMbIPS/vR5ALTvs6gB6UZX2/gmt9Hjd+YJqER8B880qguJZYoyqVIWugVzJn8unPe8AyE8ncwqzZgKxwGHSKIDfeXlpbEwLYAeXOlaD3Qc6LUAOm6joUu0ALoAQBsw4mcWylBGSm/xUel4cjiS5rLgFSZQi6o3r5Iunh3pPOtPJdSLLgQlLGQlk29MqYDnlgYV8vxskA11tKNojWD3C4xqrO7iaB2aoWtTeWZENY+nVRz+RBl7kaMfDGRnzPIZ7Xu516T1TDpPk6T4KQHwQd04zuXSxd6n8lYvas+BoZAXSblQHaDk2LiKba3dqnBoi543sNmhfqp+4JUYLFEPnq3HPE66r3ure62BPzykoVQaUlr0NwOUgGSj4xAYlVz+tMDoB/QFZBotFXqFtMPanv6ERoGNBqIGage0oedvo/IAgLZ7tP4loKHQprYRYAMACNJMcf5bQvAOuEPNI4f2MrBxoc5od/Ms1eKe704f2GjSz3YJNmLYiU0YFxvhMCZCNd59giJ+hwqhGuue3kNKaPNcl+lAW5Y/BexeMpJnWIIbfjdvM+2kgM4HqpatBiqn5jeg9A82xR4UK4BmnLGJYvNIexqVgQ2XzkWeilAjwDW2EWJTGIsZSJ6B59naWztSIOvH3zXF9ry+vfFus3mBjmV0ETb+eZtUbMsYI/ibOZx5ESqbbUCNEkK78Tyb37J1sH9nLKRoTX5uYj7ymRzLNsTZZmwB9GDHbgF02WD3XTRepC0xrAVaAJ1vwWQRZ5Eq83wwqZrnlAUITw4LsSU/MK9RDqUh++bUYlF0/MdCXZBKOksVKPQAFQXZsMBwjKue6V371dPgmvUieIx+9P2+HrRJXWU/hG9WhZIJkV33kLGzPpCAJ/VAXvFttyjjFTJaiR5xe26mBt74RRKvmfGTeR9HtSxQAHn1lhVIfmkdpqU9+EX6q9SuYVKS6DF1xexhSeIdPGQkVxmwaVfk95/tQA/gk8WbvhlKpfFvaDRjJ/qJ0mLG+xQLgALAzwKljLeq37/FURVCLmkFm0S9jAccknigq85VuTZVTvw9/SQ19IHQE2g8fkslzmnEyiP6nj2fujo3kJJnWxZKMiHSLzetd6cYXCZZZ0GzgGzKh6o8lANwY2MNIiZxzGxVtemc8BzpkSEQSlJk45bLxw1PC5QmdofbYNJ+ZdxnM3iYTY86M2aCjb8CaMa3Tweuet/Qc3i2nVqoDKc/ZYCGkJPqfWA+q5ksKa9/JBuer11cvmm3pEnhyQG8c8Y8fYN2wXYh+OUbuHTj46UxmYey9C3GC5sObJ4Nfs2rdPakICxDPQ89WjovfWOSzCU2LloAPWihFkDHek0/vDhesi3R2AItgC4A0CFf17i+Ax4HnwXwgJXOg8cke9tNzhMCeNHgJrhxTrM1pQMMwAk9iSxoLLxISbFo5aW2ZREwLdKcVNJZbnShB6goyEbVOjJKAmYePG8GmMMgwGzSFVugWIhYrBctkbG3fywxsiaF+Zd3i1x3dR/gseCwaPH/kAZhx+IA+t33cTq3eF2x829u6C904fFytjktyMoHb6ayNVK2og530QCrAiCreLT1OdiEBTpUBeHF1u+wA4s+IMzsFEqlERQGsMMeCqAzmwuTOeM5ACbANh5svKykEYbXGwbkAdzYEB54aKE2cxUvo2W600/J6ffoAeOJtA1grk1DPrFuonwCHPtGk1PDVsbJxh4h/eLoY90xfUQ6TT2XCe/2nnRSHH+SpM/V9wSedza2qnDhg1CxrXmHkS775U/7FCTLTseY2rQxldxD7VREDWK8MddY4KV5RK2D5oG30DbMHwBByrHJGB+Xsd6kTBCURzKm575Qep//ZF+lJqRx8A5sj3eXjS9edua6hUsKkyelTlkaSnYqiH7tC/oAuAi0WqIeNt/WR5hHAa12khUC6Oy8QVtowKXfmPMcMody2qGe7AcD/fOCrIxl4Nnqjc0CNY/Y4t0C6BZAx/pI7pBoclN7Tz0LtAC6AEADaCyIjcnXjk1tgkxSR3el89dnOL3hvKhs8xAFOsCFQYJM1HYUaUkX7Dhe+XeerlCQSjp7LDiQcS1UjeC4MhtkY+9ftMyBq6y6AZxHJv8wCDAPQGMbFumMBzoBBqTvpQyePrx6LMYGNMIEG9zAM6j3XvvK2Bvepo2lAOvq7/aBUmzR0oWykwTj6UMiNIKqo6gKgDQOeNkz9TmkbE+OmAMGG6BQ1Q68l8xSkPP3UCqNDRYgINSxtZcqXxYebq8vuegpFgq0b/tNPyVxaE/A0u57p9RUwu/I3RApr3R6kkxn+YoVgxxo86Dn6GTn2jTcKFgglnHkrUL0HbyrlumQTabJmHlveiqQkjqE3mWeQ9+H3sDYL8vOSJ/1mRMTe2RBvr2bfk797bTFQJzqOc8QecpJ0j35L1LyfYVjl3uPerIDdv99icj118bpVNlseLQNG8o99tEN6awVe8qmg47o0ylMf92SARn4ZA4iZoJ5iLkCe4eBexklmg7a9tJz3ncDz5nNUumYCDdbP/5hOYDWZCrwsn28CprU6qH3GR3z5qkiIG70McYKcQEMRRwbsQQ3ITjPPtvGFP/H9jN3Gtg0FdmiBdAtgK66HoXlWg50E6vVvKcF0PkGS2kWb0RDOdB01gAUzz8E2LDoshBbYIrxGPHwHHBwkinQPGyFoMs8wKRxDZMuMOniIWJEwM8ji1XoPeHdlkr7wMc7tQDUQPCkAcDhGitfuDMYZAMdQDWfx0TW3Oyi3E1n1vil6gnuuQUKL5tpM/PtytfN8BFtc0F63cOekOKiTmiK8x/0j995R8jhDI+baRrbuBx1XOIF1SP+m8gM6d9dBqD1N7RnZ4o8Pl2XmkMlt3gp0CnIxpj3IH3O3/yV83xmLzs+Jysi/W75Hv0SoVQaoIG+EWZSsza04+ocDqt6NJHjsmQ69nST1Nv/YBl7/dkD1Uq+3Sg5thmivisPl85L3DG1AYCqm41cm2IXABUbOHjd0DnyqC4GYiwLXZhIw05RAFU85547vZJMMLYBlysPd1KFNo6N/2snIgB4NpcamDbd9VHsq9kcPYCjDF5q7rHMeNSN/p3wtccVTGVPppIU94xHlZzzQbkaJLeHo/Lc8FNH5WETnFXgCMcD9wLSS7LxhQAtyunPk1/jG7NBl6ZUxDeHChn8vcK4GHAyqKKQ55/nDSCT09MU5F5rmnJ2kldHIjCcW7EfJzOWobSMMpPVfE6hGUuF7ukkXm2oyulUC6BbAN1krWoBdBOr1bynBdAFANr4e9/9ej9wxIqG3jy8fgTV4ZmpqMJQuEiFHOTFHpSzUNuRNNxLO3pl0cKDCPgJF1D1CE24uuBxBIhzGfjl/iBdti7WF57nEmmw8Bh3O/lWr3IAmNKFeJoLtELGDmAeqg9wj0Xoq87yhHSecpID894DpcfYgCE9RvZeVeOW2jtDHi4gOchQpwsraX2vvy7uETJvdo4Xu+YwKS2uyinY8bIvuE0Il+e+dlYeEU0MYg/XfnHV5X1eK20VpoCnDfgmZNLsyvN6WjIHyhitwxIAmVwgAM9zXie/9nlnT6MFJADaB6gVAeiKCiQGABxN5SrXz0y3OdQFPuCQZJM0cPSPxCJgCKqTJfrJJtexzJSmoGKxCaFGNMFhpkTDKUv2ot/iIUTv+9ofOtBunHzKWmAmoFjvD47ybSNp0pAmBWnSliFFycZNkL5c+3aY5CePPsEGlu8xzjoAmj6Q3cQaiAbEh/EMeGKhcKF0w7eR6e4Zz00y3UU5/WwasC+6zGV9kDrdfZcrgUOAenBV4NVTLFfTnlOSPLk+2t2479zMt5Owio2+neSpeo8L5B6wVWwy4PmMI5wLZfrYeurm1UtSz8zQPbAffWTRMum++X3R+aEF0IMN1HKgY5225UDHLTSCEi2ALjaiASP51/dITwNJvEyR3gKHcI7zYHGFx+r2yII0zKlFKjxGZnGxwCjNiOc9Y4D0Jx3vFAAsEQXAucwDZ14UU68IE4Js3CAJF5gNAoDCAoSKjikBtSyCHIubt51nslBq8B8aqBxNzvI8bZ/SHKUCy44GGObv3BeCZBbF0AttHM0g7S86yFxJWl8A/IAyStCWoSc7x4tdNnSq8HTD+5vqdmfroKDh395bLM8GIMhyoM37RxuySeLvlrZdVSSWppPi2OkJpyN+IzV5zt85qS+8bL5rJ6blnbvvk0vhiHorPSAGANx+223Ow077hx4+2piNHt9VAihSgArQmE2uY5sl/QYvX0Kfzp6i4EHddYULhs1etskA1BKASEzCr693fTv04PJu00wGkGclHcP0z/RrCzzLnq5kNnYD7Z9V2NDTrqVez9nHKlCmKMgZoMY4y1JH+PfAKwwYmTjiSZphL5GNKwp2VBnEmWmt5OwpCF5/+zelVuyUzghYIT19bt9i02Jzj2kwh98Wtqe1gW5UvL45tkj6R/8uM50AACAASURBVM3Fk2/mO7hfKS0k0vKBo0/9A5GrvuNlNyuoopg6CyC6RNLUatgC6BZA1+ytyTTe5L72nhoWaAF03Fg73/ZrueecN/sAILyAXq4LkIvnFjBiuq/h4/BYmGJGSKeAT2ccSsAiXh277IjQPI8AAMoQkAQgYOE2JYVYtrDQ45U9urej2DCtdhbIWp3sCBsvzNLl0j3p5JQMWefIJzuu41XfTTzNncXLpHf5pQ50h555Mp4BuC0dOO8woGASbKZikqECpGTwCOgp2kAoCISH7bV3vRex88znFUoI2qc2AcNVqQmxnpZ4IL/5Vc+FDqgx0GGe+gwHCL//DddnbIOlvPm5DigrWIDy4yXVjPKAtxTPI5u0xx4k3ROfmwTuJWAFu1vgq/XxkiDCqLfSK5AogL70EsfxBlBqGngv1RcahW97/BNyFQpSdBEAWMoTyRjBC8l3e61e/qwedX/Kga34jU0F3lcoELZZzHr6Pec+SSOdTfQRBttSf0t7b/1Y3z2t7702DnGW35/Z2CXcflNPsZOZkD/LBlY90D7rId+T5YJb/+f/0A9M2tFswJhk869Z9rZIZ2xcet2uUkk0lgMOdEFyE6UIZVNQZ1OWA/Lt36gD1KKQShNJT5/II/JdFjStQ8HrUistZbrjJ7Mhs1gOk6Mzp0bSt7zjg00B9Vhzqzs9g9+vMobIP2ZoaNnBan3EpB/5e7ARSG26CVKFMpc3P4enl3jxe70oF7oF0C2Ajq0deb+3FI4mVqt5Twug8w0WTojTH7pfHsHjq0lGgsAZbrXECngT0OEl0C7UJMYTwoKl0ljeWz0wOXfdkR6LhQW9UAZQ5Bc5vYXnsLiGgDvW3ubptaN7FhDTQ+bf0KZVyTyk44LECfZcA+EWvX/EMYWKDGFVBkGZT7XM4k/9bUGy000LlFuw0MmHLVw8kLwk5ZWiPIDRtKDDxTLPM20g8+jj1NNWlGK7CRiu6omNNRW/J0F5117p6TR+A4X364lPc48wAG06wdZ20Btob2yjkm+eYmOaxNybwz9t8s08qooCCckiFt5xs9z9z293mysFKlmd3IxlFi6Szgv+WrL0l8Q2cOjtOF7Boqe6AMzt3wGt6oUMDioAPwAYG0O2kQtfH4Ba6p6b+MWCbZG8Azwbz1YBNDJxeNW9BrQ2KidJXvHFAD3/nqEnJdx+HQsoR6AG4U+hzG6AREAfJz/EQ9iflVvtlVd08zPXzUehJKXJV+rzQ++8D05etkI6b36f9C7+VGFyk85+K6X36Q+nAbZyvJnbfGyIeb0tcE+Din0il4iyS7JR+saXijNcYjvsg+yipc7mJAAnRkJp8nMZtmBcBGon2iQEMjNXa1KpAinM7IBVvvukC8ItkfFLKF1I7xGrYXbQ00DtsP0U8KwpAXUpb45oAfSgVVoKR3w1aQF03EZDl2gB9KAJs17IsZkzZQIuMYujSjfNV+mv7lHHyiTAElk2eNB5FwsYnGEW2nCiznLxLLhIF9ppadmlEMziUVTaRIXkCeYJs2Aw3qHcZJ8coerCYXXtjknn//6ddA85MtrvJt51RkALMBCgOmbODnyjpg12HGf9c4E3JtnMoE3Lt1NWkxo8pDzUzvg06SlwoVp+4TSPEnXHm0agJ2U2rJfOcU9P8bJDGbUmYDjqiV2wyHntyYoWUSMoBbOWxCOUseOT8+QHjRpkwaUHHV6cTbGhXm8MeCtN6PqfSPcH/yOTVbx8Ya8CIC3bTTonn5YA6eR9tGmYxMT4xN6jp15mZMfoW9a/jGtN/2EDZ/QjO+q3d3sPeecZp/QDcakL7wRcI/kHh59TJN5nnlbjXXO/ca+ZEzg50AA3FD8851qf5fvpYU+Qzkve4LLmkUmSeYJLtbwzvF3uwwPNt5heO2Vs0212sCBHA9nm/Q0TPQWnU3iddfx0utJ9xd+WJjdR8ImWu2UPBBTef5/TaucyxQ/L2qdgtxts0F3SE9VBzplHkjZm85CV6Mv2D2IB2MzwLQSW8n+jjpj9Qu+39xjrxugj78in8WRnNuPVG30vhwJVtBnX2ahisiFTGGoBdHRpccNjbEyWLl3KH/fudDq/qXbX71apFkBvg/Y2AH3Hz38qE0liAp9CVlPJ+mbQ/5nXIvizpZvVcsF9WiTnObnli57NI7Z9N8gCgyRTV04AzOS1V0nvw/9YnN5VPw3vrvdyhMex4bGhHTdbuRAgh/dYAIotxmV9xGyXgMmgHk36Fu/+/WcPSG7lPWrinDMHA9PsCNloBnjdATsaBNQPbgwXpNRmhgVVqQneW54EWXk3I54vTbF8t9ffHnMBTGFKa46fsXGBjvYk9eZ+fs9eBUfPpZ5Yjpeh8Txwj8hmTif8ZoK6HnuidE/5y5Q3vBTAr73VeSSzfHsDRpxQmHSa1T1yXG7Fmuj1xhRIoIrIx89x4KpKwo+8jqRpmmc6L6Kd4ixAM93rLStK8WAUoPb4/+M8s6iKaFbBDWk5RvrZ8r36GTftVMhALcB66a6eRw7YIyjXb1Yt+BYJRJNi5AREtd4tpTgygT5oDsBm6apRKjHqhQFe1D5e/HqRL/67A6R4KjXJjacThPOGAVHaF3BomSO5x2IQKGMUA8soGvYJwCWnEjY3e2qVA9CeWlPhhCnVV275tdvAAaQt2BlbEshsJ0EW02DJkRRAv0G6hxw10OJJ/zdb5PYJT895zONE7r7DcdUtPT3jzewb0tZ4TjAW3Pz0k34QaB6Fg00+UwuBgXi4sRGbopL05blzoUmiNsx+2nqgB63aAuj4Ar7tkVO8Tr91JRIAfd2PZcKCiHbErwzBuC0AVk/9zQN4j8UTsB/9e7BB8M+Y/PSHHEdy/s46wY5PG5etW/wiiidtv5XS/fNX6ismz/+ACyCJcehiNtWj2WnpAL3w+4zioAFN07wCQOShGjQDaPMgPoxUj9UnfLdtejgircDZ49aJd5/pQAzcVP0Hz02155IlDNk0wDSKI0ce67icGQ9tKnMcQEG55F7WLxvwCIjBQw/QMo5oCChVGeBOx8ncLVCyCDZG6iWukzGO8rf+2tWdd/OfbVx4rqU/LwrO3P8Q6T79j/p8ZDz3gHz1nnrai3lP19zi+hmnCOFveOIBgng7d14wCBhXHpGb1rpqF8iWS/E9TQIx8NByMtM78FDpve11Tl96FFe4QcfGqCzce1dfhs76+OzZPs22l21UXn2Q7hv7AbLpc7RdFtSiAU0fzHL3gz6i3/aON4ncfKMf9wF/ljFHOmye61VOytJVp/o347osOJiTFIAi33PUk6Wz/8HSu+yLIr/66WD66bxTCc1iuNa1RiqgEX44EoFzte5l3tCwKRNFnBt/4W1slBmvv8yYN55xeBJQhVfP5iOPqha2pU75PmmQeYhDJRajW5icIO3KZhrqB8GhAG3Tq8+bvy0AO4f3jBc7mwgrmxDIbBU7qYml9X60AOie2VD/78eEbZrUGGx0E6v010w7OdQi/l4rl7SL3et+GBsbl2X7PIY/th7ogvm1BdCjWHgiz3jUAOhtYAt7xeS/vscFpvhsVuPj47LVvFBw5nZeKN0Xna7FJ//5bOeBGfZSdYX5PhAsxskryIKVqoNPLKBez2BiqlNP5ZT6CU2DXzyvc58DpPPas6QzNlZ4QjDxTk/hKOJ940VbvqcDuuZNy/LLs5njEm4vGcGyWfYs1bD/d34HaOL1MQ90UQpzbOKPdztHHtNPY2z6viygIYfyoMP6x9h6pEsg0oNus0JwE55P87hWOYqGCmBZ4M5+jcja2/scVVtI8NSbjFbo0aPugDb6paV3tkXHbLRwsXRe8PIBTnGVrpCAZZIEkWWTkw8CEi1lvamu8LBAHlHl2OCAjuzK9Hm8pwaAAE3mBU54wD5QkffzO5xfU4SYPkNVaDRgDi3lIEOebqAimQqVuvWpc91zsQf/6QbJn7jp6UY/kQwnKkXKLgPvo+0AuvCX8XbSpst2d+BWAaGjjlnmxsJENnx3Nj07z0Zm0Wxl8nyYhjozxkuyToZNmZw+fP2SfKk/28RyGhAGEPKQwBM8sBnDc27ZOK3/hidpdhpnlQml48LTSpOes+DurE51XuBltq8af9rmD7+JMmqSfO/r/WBe7vVqSZ0/fqF0guDV3uSE9C7+tAgJZbjC7KdHHiOd57ygP49mwaeI7LrrMlm7xm983GTu5/RUi/T/kgDZsGwG1IZrQgqshs+2P2diYwZAbZAtdWTjvfxBY9Ony7KVh1KoBdAFpmoB9DbojC2AHjTy5IXnu0QKLFo63wUAGm/fPvsLk6T88ufS++zHyoNd6rQhgT8qk2Re4waapbyPhVH1YpHF82oM6rX1ck5hnSzwSoOVPEdaQYgva39OPD9eF/eJvyfy+8+Vzo2/kB4Bb3BS5y+UzqFHi+z3OOld+AnnyU1kp3IMwVE3Fxq/KnXF3/2w13TmG90mxrzJtnioBm/AObdEE1kvkta567V7F3jP7pb+EXtYJUALi+2ejxG5/DIHhm0GUhm+6Y4bSj3N4+xTIWugpx1fYzfUAfZ4jOPIf+jt/oi9pC3h1E8bl86xT5feN/4rX8bOVCv0BCLQ0OabE/DoFThC/WDz3LIJqJE+GNMk4OwnV+Vz8uk7pkATely5Fzm+Mg5rnXFRVtZUDaxvJ5s+z7dX3OA3U2xsuNgc046PO2wgBXWUzw6VBEWcEGQb3xwFE/r77HlOKg+VGDawFtiZF4RMfcyO2e+M0G9S7ZPot0NvGBM56HDH++d0zE1inoKw2fftfgKjzowZ0vNeWt1YHHxE5EStJ72fXCM9TupCFR8DZcwZUF/4djZ+Oq6DYE5/itd54Suk94V/F0G9h3sY03na3Cm75DkPcjZXbGQ5aaIebC4Zo8wleJ8Z2KqEhBxd2QXnfLajECklRUTgbfPs//lKn5anHHcfLMpGe8993PcwH0JT2fdA9zvrBWPJ5sqDj9TfErBdUJUlS5f8/+y9CbglVXX2v+rce3uiu+mGnmlA5hnCqKJAlIhDxIkhSoyin7NRQSUJxs+gZnDG8XNK1GiMSjvGIWicZwVHUMPgwAwBBYHuBrrvPf/nt/Z+6+yzT9Wpun01/sWq51Hgnhp27b1r73et9a532f/cELnxv6nv5vf8Ph2Abh7ADkA399Gcz+gA9GgX9i/9UVjYWTgnpwYAGpBAMuHDTjP7xSVmP/xOlEBq8hg3DBNgV/qqe+4fNq+ffM+lRh3Itikhmz4CcOAlnWNVQTZUjqqqgWwwHIRwAYl4UdjwKILApgu/UJ4dNgWnkkyE83bbO4To5YUViDn4cLN77G32gbeHjYfnu5RXdvBs3jHdyPzeUXOaa2gD943GjN8BAK3S5vPmW2/JUpshkUmGB+/O2LFxKjwoIG5o6a4avJOahGEE3QMvtaS/uN4NkKhSoE0Z0CDAzPXaQMXFxZO+8+7hOkLFbQ7uQSKUS5fhhbw9XCWPm3vjpD2+MfutH8YDugz9rYRW+oH7eih9vp9T/NmTrNj/jypU9oeXW8Kx/Xeea/aDC+v1tmW4CCDy/ow7HvW02mSb95/LOR6+JzoyM0i+Yz7TH/yd9/f+mRhwjKEQaU4ddi9zicOiZzPvfbPZ5T8JUYRczYUow177h4gJnHYVB1HbeX+MQU8eJBEYFQ1+FKeZ8VsS6Ce0md+phsjhso6TAbCJpgEA32N/6z36SRmg7btHu09bL/5eGMu02Avvyrf8yL8IIiSUwYY/j1FIu7ivq2YoRyU2kQqXVI8s1SLqB8WdDMxtvmHWCOeAxzmkvof2Bg2Od9YR11C8rt4zWmf51quqcG7LvKAt+x48oPJAo5Ix7t90LEQzTkfey9GT6LzQI47+baINjqrGN79Q4YxIQDz9xxgn62FxwiNLoNxnngKmU8dDBNpVYLoD0KOToAPQzR9GB6Cb+2jOZwhAX/uiZ9s0G8NQGCxNDPTdPG68SXKhNnm1JOUqViUVDp0X/0PPrOQxRxAhd6CSGWNzhrnOyZQZumfa9qp/Fw86uf4Xlw30VcswoZmtWhM8lXCkAXd4TfLqfemo0A7PCE+8ugEZhQ2+5AhucQ9JcdRx5lyySy8KeqUqilHeM47BOM61ygunIVBxBau8tL6T9QOPkvfjmXXFGfIZB0ChHwBRei5e9Hv+sRlhfweCbSgn2Y1pL5u9vPIOXtH1hW5BeBsPceHJPRMLF9k0m6TzvYsBjYL/VigZryCb6o+/FwCytK1dMxlpvbvMkNBD/g1vrQ76Bc+iimHQpjLZds6f3/AN6EtoPGzaeOJuvz15VowQUFWO9xK4p++5jmiDF7mJFAv+rsN1sCeDB273fTwJtOmYIXrwvre2T/4TmGZMMODw+DUdvKcbHdPVBlbd9XkYXwBecowqe8+9FWHBcOI5UrsBZC7fMfTvHXeEMPreB5i/NyoT3EMUHvrN9drv9PMc+CQRKn8H5hkAGyNOa4+oNp4/EQ1P3glAxvOhDSmpz42wuP7wPIB0fB7tyg838t//1oGBWo51LBziijuLzPbYL7wj9BtwPHNh461x/YH2FCU0uZ7vFg/72p1Lz2mdd7SkufEeAOg8qZn7ukoGz4pe9gxQ9j/0brPLqChqgbYy7qBPWSsbPdRQKRYGY1Fj+i+vNrvu6kEUpS4alz7fZS8pG788RIYYc4yQm29snqt8C9BWmBOML/2/655W3OcB1t9jX7PPfjQ4XyocDynQVnM6AD06MToA3bS4VvhImi/pzphtD5QA+gkn2rQSTGZ7k+78rge6Hvj96YHSW5gk0KbeSP5desa/zbdKjaQoMVhZqrmqDdI99t+iQZ9GaoZ+r7iBvPP8BFAG9LtE3a9CVCn3TtJW+PQATIwXoiDqRwzoOpWRHOx7c1XcZUzkSsWToIKUakj9AEgBrLRReRmp0yM1kOWZd644UpHzA60iVbLhb4BqRVTS5EIiNbvulSgxJY4GSr97ldF+NYUNsHvP40JOhyc0bh6oMnENIJckUDzPVX2kIdM4YiRRVfOGq5t1mzEkGdMVq6049F7W/8YXgkPA5QjjjWvHK0oOYihz0Fb1l+ZKm28Cw0IJ3DLk6BNF9+QQ0L1cWnSL2b3vZwWFfhLn07Lly+yWW25J5kG8qNbZVaGG5fOuwsE04uTS95R8V2pjfn3upCp/TyIbbZxoTQ609BuP7zExf76tPewo/qvjQNfMx84D3eZDneM5HYCeYwd2l3c90PVA1wNdD3Q90PXA/1oPTKxaa+ve+fEOQI/p8Q5A/y9MRwHo6y74pk0rPJYWpFAbyszeRLJJGcND0jRuticSNfn5ScZu6i0ZyT5OZGuqpG/kHSj/mUvkxHak541co7Zm/ywvDe+xbFn0AMT29r/62aAji9eKg2SplBObjxvepPW7BV4s3pirfh7OwPLG84b3AfoE0lqcgw4tiTWUCXfe5saBFFdbPV08TqKWpJ4DEmu45873MLvqF8Ejo7LQ2zrf0iQaUQoIU+9zoNmPvz8oDjHb++Mxgk4BZxfPIGHzMoEulmbGa+NJYouCxwfeYlrtTeXJaaOoFyV9I4bT8fIxx/DqUWpcoXdC2kMlo2f7AvF89wRGLnLTLQgd13l/5amTZ1HfDyF/vKNQApgrOWfeVSiiBviSZYHiMu6bYj7Le9bU3m3+PVZYFNUkX19EeRpHVdrmZ3cXdj3Q9cDvcw90ALp59DoA3dxHcz6jSyJs7sKcg5YnGXo4NwU9Hh5WQs20A7ritKc5x3IogQRACEdYyXvwLjlIwiM579e3BJAOMBJHsG31wCoQr+pnAFKeSRKQl9be3BwWHddNel8vo9xzLq4nCe21n/WR+WsjGZXfH5CIOsUe+zpnt0xaoqBBdvQ2324zu+xltmRJ4BZyAIIJcRM6pl2eqJhwsQGU4sdW8RO5x6bbBqH5uQA5ks3g2xJGHgdMMQJUap1Kc2XxnURf1/nmC8zgQpPln2TyM7f6l/7Y7NMfDtJszEFPSIsJXgcfblUcy7w/nd/K83n/ubx31Zyh3xduZ8WjHt9KgYBb+Ht95iPDY1uRoFW+P0oHl/0oGIYYFoTT+Xclu/Ed8DcMDyWu5UVLqtpOv5/54iA5JmOa6oF8n1xPIqoq8o37XoYoC1E1g28fmgJJdxs3mu28mxUPeHi4Cwmd//XRYPCic80BFWOkjH32UGkcj13ionHnXPT4/Wrt8ncsglHKwVoktYwR2kp8D+Ywawvz3I3fQ82QCsSw4z68I/QIjNW0WmHzMjx6hsqy6xcZqr7OtUjs9pyK+H44FlgjeGXanq6zaX80fQ+8mydbR/1x6SDTd3y75FOon1OEI7UY+sfHnMTQOM9oI9Uld9kz6YNhXeTyOx3n6NJ9h2TwUmdXPGGcAy3OR83LgbZzjfxdev7Qv+cOsjqpvNzhFq6b2GGFrfuHN3HHjsJR8+38TgH0U57ylKlf/epX5xZFQbows+O9N95445lf/OIXR2ooN5372/795JNPfldRFKfx6Sd9+YANGzZ8o2ld6gB0Uw+ZjQDofEMH3JZVuKLMmG6rjPQDDh9K3hoB4TpfSh/iyqEUoCQluJd4RaVaIc9yuqinm4oWcyVDsbFxzd4HBv4i//PqfrFkcNPm0LQR8zub5H2Ot+JP/8wrEbqSQ1uveXp/kv4mJ6149JOt2P8Qm3n9SwMAIrkqO3p33mEzS5db8cwXmP33Rdb/7tdDMiCgRrq3TclH9M1+h5j9+TPMvvjJkADJ8+gTgDxJhOOSRcf1zUqqx02FzdPLsNfIZxGFuMeeoTy083CjOkOp8jETksYo5HPG38WNNonwxDa4tu6Pf2D973wtAMTlK6w4/D5m+x8ykMzKV9c4l1zd4fUvMaM4hoBA1bulRXqaP6HkDBI/tw8ybzNbzZavDG3bj7bFRlXMQzc8f/JD63/3G4N3OuzeZvsdnFw3eMzMG14S+LdSyuCezHdV+iOpEoCi75bxHxdF0q2PfaAbdfaDC8Ic438A2dlEKjzZlghKnAcOqKPRp4p+XrJ7SZnQ1//K+cGgjtr0Pi894qDKhYlxyP3SUuDjxkfqJepzgWWuYe3C0MAooL2AQOavg+1s3ikJUtEQjAnOx3BhjRFo5L6cw5qAWknVvdrOJzfcUfiJsp+uUy/5wtHvoryt9w/qLDNmCxdacdITgrEvI03t1TtKOpJbpt9u6jhAHm/lWrOrrwhOEVfviVx39QkN4Nset85yT8CyONhMi/6MTW/cWCZFtu2eu/N5XRJh8+j+TgH0Kaec8mIze/j09PSDfR+bmPhPM/vwhg0bXpI3venc3/bvEUDfsmHDhjOau3X4jN87AF0mHOg9KhQ0+Inz0qQG/1tyTd19ymsH565Zs8auvwG5qZgcQelbNpRLIljDW0yGNvdMFj5fKAEheGIAYet3LTd/16Kl4lxe3lUqE6vWBboHi28suestwjuCWgqbr8C5Z9dHndLc66T3ZCPknmyA0rJFcYD7ebET1ChGbMPx04kNAiUR2sEGCeB9yKlW/OmpXp7ay/IC4toAk/RJbMYAZfqGTPgdVgUwi3YrEmnZMbHxVpve60CbeOJg+g9VSXMJvTEbano/5Krc8xMVCwCy9CHJVl4wo+V9yukT5wSAE4oOibpS9KjqXd7d6SbJWEjphLnE3+kXPNU7rBzRMZ7t95+eXxbH+NrnAtjX98JcZ1459YPCMVMBBHuVxRZqG3mjfE7GQj+SbItFWNIy7nN5l8ry6rSduU67Rb/iPVVePe3z9OHyGKuQkCg0fJsAxXHg2cHXZPTKIms3bbZoSVDCaIomuXd0vtmiRWEd2LRpeP7n78M85/1SbfexnRgVU2i/G7mJUojWLoAh3940KjD8DhUo0qfyezNPuQcSboq0ME+8quDmAOp1XwwE+qAEqVGzneub+kXP5XlEYK64LMxX5pTLXpKQR183gGh+XrnGime9MMjKSVKPRE3aS/+X+uLR4JIsJ21YvsormioK5M3iPl/7bGgTlUFZ+1l7OVp9L0UwLhPandchQKazpYLOXL6b35drOwDdPFK/awB9lZmduWHDhg/S1JNPPvmUoihetWHDhl3zpp9yyiljz/1t//4bAdA/vdSmHWikgDTJ0tem5wCz/L9BZrV3Ss21/pOGM838z6/JQG5yXemdap43v/EzmkqpOvB48bNiBTmF22MzAIKSovMKZcigbTW77ZawqeK1SDnKXAbAoljDbnuZffsr4UZZ9Sr3Rl34leAZ8pLYMWw5btMAeMVqY6Ga2pvCs9kg225aObAQqOD5a9Zb75zXO3jm8KIUgN5xoWY8gYAKjTXgAppGXnSCDTGvrMY1W+6yibvutD4UGQpAuANqJlQKVJW02b4b4ApjgwMPoyoAMnazMQbkCRQoZmyQQITbPq5Nkj1Mw9DyUnr8cjIUhBDg+w2Bz7LkMO8PMEwpHC6FNxH4+ciT/ezSMEazNbp8nGOUhjkjb1sse60x3NaPuKxs9+mPmP30x6MlrvOy7bMx8FLqhYNBpO7GUAU4n29e5eSphgfAdYMkytZxDy/SkWhFOy88lqgGwPl/851Tqn2HANgBjHhDnYo0acUTzrA+VInvfTN4ZJva5eB8nsurLT7oULv94+eF74t2CXd6EZGFIYfB6VnRs82Yj1tnMBaJoAnwY2R5yXfWxmgcOjitMNj5O6Cb92uaW4uXWvH4Z4diVqxhGGMAVpwTTRx+1q2Fi30+9575tzbz3reYXfbjICNJpI/IDW2R9j0T0qN7M8G4p4LgAx81WkHQl2EoRx8OGuo4OuhXUfzaUIVwcMjAUyEvQH1SAXdbv4+7y3UdgG4eyd8ZgD7ttNOWb9my5VdmtteGDRsup6knnXTSXr1e71LSjjZs2BDjq2ZN505NTfXG3Wuuv9OWCKAfFrv0un6//44DDzzw3HPOOaeRCCYP9A033GDT2xJqbx7H3/szUgBdW5KXvvvX1w/oEGx6LOYsnnge4MCqYx0FeQAAIABJREFUEho94tJOd5gR3s8LMsSy0r3Tn232o+8NlRsujriv9fEcU3JY1BGFLcf1tHvkg2fXy5CrHPW3vtzA3ZTXvTfwtMm7DxAQrxFAsXqd9R58ss2o7LNzfu+KG1FFFUQZZfA66QMAYR1Qlued57HxJwbF4vs/2DadcFIJ3EsgqCpps53XtAtvcazOVnot8SSt2zUAajZsNlr3PsaQcOk9KwLQwXsu40jjzQbNBt90eCJj7HMHrzEczHXwTKH2ADIioC8edFLp+W+6dd3v7rVVhT0AEvMLA0Jha/odWgG/LZhvdkNaXniWT1WSawpKAYgPPsnsQSdZ75KLzMtcq8z2UceW5avzJw2VG7/04jA+XqRnJnxj3mcLBgVKVHKcb+ttrxjVMM4fkBq4vLsiTU2RDc6DN020gHGCB8w4Or0oUi74htLoiO4NeEx13CMd2eeEtyFyQ50rSxGe5YEXf8VPY1Jw1dIfnymDjvc88lhb/4KX2TVvf631z/9QBPfRk8z7zYaaorFEDhDDiPfEgKC9/DsGGYdAqZJby2fEtQaDg/ObjFWAJvd2XXQiITHqSDtympTGUOPHuACE9z3YWGdnXvKckKPA4UnGUds7pZjwTa5aa8VJp1tx4OHlelM1871K5NteaXbxd4IhMBsjnrWN8u2xzZNTU7aV7wDq1mOfkRgvNbzjkQTh5Dw3fCL/uHy3iqT/9DxecLaRt1kuB7M9vQPQzT32OwPQj370o3eenp6+cnJycuX73ve+m2jqKaecshLYMz09vfOHP/zhq9X8pnPnzZtXjLvXXH+nLX/2Z3922MzMDF7wX/V6vSNnZmbOK4ri3PPOO+/cqm4+9dRTz+n3+06iXLlypb3pTU7G746GHmCjvuVdb7DNX/pM9AipqEZh84/5E5u54Tq74ztfdxBdTE5ZMW+ezdx5hy+0k1T5GnBIbGbj7TZ9wzVWLFxkk3j0fI3q28ytt/j/Jteut3m772OLjjvBFhx273Kx3nzh1+zmN/yjFSz+U/Osv2mjzdz+a+vjMRy7yJEsVNjk+t1s9Rvea3d89xt220fea1soxe3KDTFMPzFpvfkLvLofYeOtbMgAUCWWpH1U9Ky3eIlNrF5n0zffZMV2S0IxnrYlnIvCisVLbRKvZuybrddeZf07Ntnkmp2sYPNNDp4xtX43m1ixyjXLycRedOwDhvqH03/56r+zOyl8MDU/aJsrPD2bGU4FylVrQj9bYTO332qTK9fYqpe9tbwL84F+3PTl/yrbM33TDbbl6itsYvmOPp6D8YnJQ60Su2LEBqqEgwE24MQAwTulyo7uJZv2ubD4oafYstOfNXZjL9v8pc8M+jDOsRvPfpptvekG6wH8wTnMUfovhu2LqSmb3GlXL1ozg0exzaYqUJUC5YZxKJbtaD1VzywL1xS28LgTRt6P97n5na+3zZ/9hM0wjwWcehNWLFlqvUXb2cyvb7H+nXfY5C672cTSZdafnrbJVWtt4TF/Yr9+x+ttq1Rx6tqFR9XzBPgOYkEb9Xt+jbjAcbyKBYust5h5HNp/1yUX+/zoy/ip6pc02jTSpkgncg9upF6wUwLQVP2w7j0UxeCf0JQmp2zFC15uC4+4j5dt/+XLz7Y7vvnlCtAczx8HAunvqSnrExFatc7m73+If4M9Ii5xbRtaq4rC143+HZttBgeDkuassGK7xT5GY6lO3HRiwooFC623dJnNbN5kfS/aEikgmpuVeuChDyeWbG/Lnvk3dufF37XbP7EhAHbRUPp9vzdzv795s02sWG3Ln37WyFpT19Vap1lDZ277tfV5x1kck1BD4vrXJ8K2aaMtf9YLfKx+l4cX+VLfCmT7AKcgO5zj5+o3KXNVXcO55e96u/ic7HnhnoFKNIkB1SUR1k6H3xmAlle51+vt+YEPfOCntPCUU04hBfayOg903bnyMP+2fk+94erJk08++RlFUTxuw4YN92r62DoPdFMPmckD7Z7Nd78xAAqSY9is2bTYYKFdiP8saToWY35jIfYqcZsGoVe8HF62edoMaTGAFRsA3hSuAcDKc5qE6Ie8hGnTSU6hTXUHbYaHvXpdoIZ86dOxml/cfLlO4dO46bkXCKpJ1aGN32koa4JXVX3S3KXhDJXcBiB61cEYfmUjw/ur0LfuRx/vsNImnv8PQ0/IKTZOHSEEyz2cgtGCb1rVZtpHm+gP6Ar7HjzEsy6XeoAF3kw8pj/4VgAz0GXgTIvvnIaCW/VPU8XJqHrgcm9RPWG7xR7K7x18ROUTSmoLtCA2IqekxPAynnEMn82bQ7QEL7coB+4tjuWw6Y+2VSo1p9oA7bzFzFW8mDoS6kVK85imTPVbXzGoMpfeR5EE3oV8A+gSolHpvUlkI0rSdAh8iic8zjMrCg472NpdzHbZ3aBMedTnna8LXkk8piWlgXWgMVg4aCHfHBEOV1oRLQIFiQjuG73G0VN76L2s99S/8vXt6jf+kxnynGVSYnyc1GpSmkk6nloHZOzhbV27S1DOgSKW53AwjkRj3DNt1d8mnmnmmVcbZa3dXL8GyWAR3QQjynngk808aGhazPWf/iRW84TCEiM/vCNjgme/37feXzyzpIg1TRV+L9dp8gZEgZH3u8334Iosy914npiYsOnDj7beox4/1jhu0667yzn0yerVq3mdToWjZlB/ZwCa9sBbLorijPPOO+9D8b9PNrPXbNiwAVfi0NF07m/797w9p5566tP6/f7pHYD+zSwXAmjT//was+9/c1iyLt34SPhJE0DYLAAbbHiAaYUwtemQfAfXed8Dza78eeDG4v1T6J+FFlDD/wCTAO0rfxo2BugEbDKAA+7HczxDnneO1nsatlTYlja6TFPi0UwXdM5LOZsC8XUeRA8f7xAcyHifmw76AWCkTaXkB8cLS4/q/BD6To9IbUmTBfl5BEBDRYDmAojl3XIqQlMb+T1yS5s20RFQyrOcthI9MngTRcWoS1Krak86dvzuUnTxxHFgi433sKMrkwtLaotAjULrUB74d/4OLYVnQxFRmXqezTyABiFZwLZ9CMcdHqiqwI3tg0RJgn7b6R6hXTI8AVLLVljvtKdaf79DrP+j75m95Z+GEy7zdglsMt9QQlm384BS4Nz2jFpEOz2Js0YpxcdiIGNXg+zCORGgpomRPgZveVloszSwpVXepk/9nJiAyTogTXMlzY31XscHcM7BR1rx5LOsNzlpy6/9ud302peGfmZtyMGn1HykJZ5TopyKERNDufdh97be6c8JeQjK4QCYMnfETfao1kwArLyP+OSiKz3k1KCgc9F3xlfFTKs64qjgm+cerKtQ5n747dH5wfvxTv6u0KQwXiLfmddwowQP/0wwMu/3kFrwWkvpO/+DkbYSAb0iSbVjnBjM7uxYGnINdlhpKx70cPvVml078Jz0XQegmxeL3ymAPvnkk19SFMVDzewhsamfMrOPVqlwNJ372/791FNPPXVqaur89773vbeddNJJh/d6PRIf37Rhw4ZXNnVz54Fu6qEBQJs+h0TBq8ICK89ffjkLOB5LAaA8cUgLPtezibCAr94pgBU2MBQntEGLN8hCrux3TyyDcxuTkOQh5Vq0ez1JMXqjqjwdTZs/v4s6UXJ8E3Cb33PhdtZ78vODZ63OW532EQCFBCOVjee98rK5PAPDAE6njhoPZBWArgSKSmRq6+kr1TBI4grcRymC9BI+7siz0ufwHryb5otLW82FT9jklY6dxeYLcBTXlz/jIUezmDkF0GDe0D55MaWNDLgQoBYYo/0uW3fHcFLVuE+HhC7m4pLtrdi80fp48N2rl3F+x90DcCV9Xs7jekVS8M5R9GYc0NW9GQM8o0ro0xiJBpHP6VxfuHmJCGekdJVD71UC1PRyN7j+5klBUk9GEX3i83KWCi/c2OcpmuexJLYboGO82QsXWfGk5w1xeOe/76226bvfDIYm/aT76T76FjCGli0Pc4a1yx0DkZNNH2PUQ3147DM8ua7MhQA4s755dC06EzCGvc8SjXOpHLns2w6DHI80ssX7ueRgLKCUdq5TUyaCYSIQf+6LgiSj/p7Oe3U34F8JghgzzHU5Ilassd6LXjsCXj1R8OLvWv+D7wweddqu75x5iwHKuKpP3QhtwYX295syO/y+ZbSrKYm97fS8O53XAejm0fydAmi0m2+55ZbX9vt99JU5/k060Keeeupb+MN55533NP457tz/jd9POeWUL1N+g4RdM7um3+//y4EHHviqLomweZK1OaP0QJ/9ZLNf3hjA6zjJK2Sc2OBZDAEjbBYs+O7ZgDIRN0zNcOdYxsUV8INHF+UKrks3d0+MQkJqa/ASacHGo8t/4wFm86DIQlVBhzo+YL5xk8xlCTWgLhsekHTovWzi/5xp0897XGhvmyNvh4oHcK0Ss9QnpYwUklVHWvGU4DVLj3yDGfEKu3EiCboIwpqANP2pYiyME95/Kajw8AhO3XBQ4p1AXkp90abOb4SZARmMU12YvXKM2nRqcg7jIo3jPfYLiX8/v8TsVopXRKCmcDLtcw8jxtxUoPhI6k2JfsxJB0Gb22l6c8/V682gklzwFev1CpvZQlGbTRHwRt72bF5rrv0iOge0HkVreH7TPOCccYobniy8JMxbeVV339d6FFyBP5vSe2JCpCegXv3zANLkiZa+eSU9pqXhVBrZFUCcdqJws2YnmzjrH4d6fvJ159idUFxS+kOVV5x7sLbxTrvvEyqDcqRe7yPvG8AkiiCiCWGIw/nmHUkw5ED6s+4bcCk6DNdIj5MsnWhQmq/52DHGkW5UnPho65346KAEBJ0rzaegj5mLbmzEhEx58j3SsjBE4fJkbiW14t3GoL/0IrPbowyielRFi5yTHtfoJkm9/DtYvNQTvUVV6gD06ELRAejmxfN3CqCbm3f3OKPzQDePYwmg8UBfe2W75Ck2ahZovHZsKADCNIyH1JQk4FRem41GBQeqKmnhJfFCC3ibovdJXk42CLjNSEfB6WNj1oYq6TP+u0reKfdK40UnSx3vCRvLkAxdDLPzPosWW+9xf+kL/fSrXmh2yQ+bO7PqDJXOFu8QAO/atKnMVUyeOu7Bzq9Mw+KMzzVXXz3gIQNUKB5CkhKqDJdHOTO8QuIlt1HmULEQNkWnPSScYUb1QSdZ/79/MFAb0LvxHq66gZZs1LR2PVgKS2wO50sKTEBWBpHz4uVBjH2d0zna9LLmFmNOBANQwNhXGUOiV9A+qXswb4kC7HVAAEpEF+qiLnl7XKd6vfWe9/c+Jgt+9B3bRIGJHVZasXKN9T//8aD88r958I7r7xG+QfIFADUpAKuLzAiU+e8xaiRPOJGmVGkli5K4EsPbXxWVGKIcnWu698M3DPBOcykwrqBrcc5s8wnoy3HRJcAr3/R+h4zw+N0D/b1vhfktubm8aIjuz8Kz6x5mZ/3TQCmFJEzai1Y63PVrfhHoEzKM3WCJgBVjn7Uxz9lw50JUnZHTAABKO5izpbc+jcZlhoIbq0S05g0M+5TOpfnGs/37i+A/B7gAdAD0HZvdm94HKCtvgDYxRnzb+aH+98RX1q5tiChwzx1WWPHnTy+jBB2A7gD0tiyVHYDell6b5TUdgK7vMHmPFlx8oW2ijC4bhRcdaXlo0ReIITGQTbcqOUtc3aZbszg7yJ4IG9YQ0LlkkJgDQHS6SJTd8uzyWIilauHnb7RhYsJ6z3xhUJBAhsk1rCtCwgCH+xxfcgNnfnih9d8Mt7MhISv3HrHpeOg38WTVPZM2Zt4Z/rR2zZqQBJUmxylCsHBhMCo8qW9TAG7cv03oX/3k3s9IPXBAFauYAThSvdu0XzE+oNS4pvTaYd6tGz0kOWUFXnIAlHr2mqg36bPlVW4TMk6vSwuFpIbZ7nubXfmzIN2XJpNVzVUMAfo6JlzyDe1w/RV206c+EryukjZsU2q56Vto8ztgFAOCqocANwwEL+yRJNzy3qJt1BlWogA47WoigF8d6TgltJmZt77cDGBaGrvxAoAlzxcdK6F+e0KuV9YrAs2jjEBFAO9UgYzGkM6NKtoW85frooRlmoTJ+Gz3pU/Zbee9cxj05fONceU7jeW8MZxLKcz0uyOZmHmttU4GiwCrvLvowys5sG6+iv5U6cFNOy32a8qB3nGVJxtX0rkkKRnVHCqjEBiTxz3Iin0OtP6/vTkY0LSnTWK193fL6EbVWsxzWF/jXNpp/Xq79lpoIt2hHug80M1zoQPQzX005zM6AF3dhSkNwEPQmzaHEq2zOdgY8MSw8UD94ABwscnIq4IXjE1dHNGmDG15atIwIxzqG64ZZLwrROllbhNvdRslCAA+97vy8uA14uA9PNyZAGlCsXsdUCar+X4BH/ALn6oHpwKfqXIEYABPJx4fZegL/FZ6Xgs/l0QyNnA80Z4Ede5LRtVR6Hf62nmPFKiJXs80EtBmPPPELJU/5lrAFB4vsvlTKkquWw3wUlVDxhtv4C9vqI9mKNowDgQPgZwEULQp8jHuvTXHkiIndt8HmH3hk80ShfTH0uWuWiCA1bvway4DOOL1bdP3czlHnnXlEIzjGZfnYngmSYLpHFSYn29v/W6hZdddGf65blcrHvCw0mtYmSzIeXzfGlNRkZgb9Dlgn7nvyZoRYKeAXt8h4EpKOUqw9LLYcT5yTcmJTmhjWaGjUqv4+9+qNpJpL0YilAUlK/O3SG0ojriP9aEwSeJPiXnSRpe3WeuRHLLcU8WlmsZXToBx66KS7pR7kiQbV9K5fF3LvdfR2cBz+I7nzR8UpxFFK89vqG178i36/JHxk11QRgij80AeeCKS9F0sLrTTA0/sAHTWdR2AbvpwUtHc5nO7M7axBzoAXd1xpWQdC6A2/6Y+TjV+5VUhk5pFGbAEx1CboIeB8WQtDpsm3hgHvA0eXA9TRiULNiw2A3ireHRI0IFrKPUEedUaQXmkhohOQHtyD2HJ7YuqBSz+kgQ76lj3RDs+ILHmMx8dqIWoDLm0alGo8HdPQArJSXisOOCMi2ZS53UFeMBJjh6a+e9/m23++ucHwH3II6cqmJH7rCTO2fISq8benwOVJpZcFs1DBgB80L0PNPuv/wg0EhlNRA7YpFPOuMLPqihJO1UMZFzlt6o+2lbPdfqOeGvxhnJ/jBAAFFzSOkkxXcs38CcPC/OBxMX3vMk56zNKVnSwlUU0Sq3npAFlEucsy8vn4+QRm36o3EhuwLiqmFyr79NVGTKFDn6jXzyBbmpQmtqrC04PFdlwbjycWX1H+m5zGpWrUEBTGJNEqG9PVCzWFAF7vS9ziXmC0UgbS8nMqPYB+E/4zw4s8ZCTPDiOaqA5oMqH9GcsmuTykNddE+a/vgWPfEV6mQxjpPHE7dY8b0Ohqltv02p+SkoWwK9INi556KxLl/8oGLy0mfU4PVIgHmUrPVooDnVpCMym3HhMsmxag2V8V3Cwd37hKzoA3QHoJvQx8nvngZ51l83+gg5AV/dZKVmXcyWbutg34Oj1YVHHUystYl9EY0IQIEIlo/EeOze1ooJW1fMAaoQYedZRx4SyyoTHXc82elbGbcjpPbmHwtF4vTyZLCZJClDXLf6u47zQweA4nVTXRKXEsNMmIqVE7XPayKR7cIujj7c+Xk42L4GZqmfTXpI0o4em97F/C8UwpOGq9/MyybHssELw+m2Ia9w0qDW/u3qII+jgNcQryTPh+lIxkn//4LtCdKCuD5UwFUPsnmil6n8q6lCVLOW0oIrqjkOAAGpCLMQy21cEIKJhzPyQGgxl5wHCdXrjtJeoxHNf4pEBaeEW01tCsR7XR8Y7moHiqpC3dIWbDMqm95KWN4m5KOjUUXfkKZQcGxEFjDlFYfQc5jtjifHIPE3VL5gKGMRH39/sgq8G4JUfqcJHaSRV9En+jRLJ4l2qqppG0OiGNMmAUGjyI5OALD3kqbHKNfk8lUGRGv4Yea6NfvPA663neXEXOMtxHWQe0S+eCxKBNf9sk7xZNbYO4DH4o86z1q8KGk2aJ8GtSm1m+gdv8k0UA0qMOdZU+pB7Rs15977jgcY5wfnM3zrDvq69XNP0vprvnCfPfWzDzq95Zwegs77tPNBNC1/ngW7uod/AGR2Aru7EUrKODaXJe6Bb5KFfvDccSsyRVBibLEoMbDTSCZbE2biFFqBBKemYzV4WZ0Cq6ZKL472i3amEvDoFjbTN0CcA+sg9OYBWkRe41pnmrf6btqhgBID+oCM8OalSdYC24I1zrmn0yKTUBO7jXqtYeMYTzOoScAqzVbHMtkDBzy+xacpKs1nnB0aFg6J4jIxnBZey7XclT5jAeVRfcHyABu7XPheT5SqSncpEqeghFSWHi4l4AFL5Xy2ATBIMpdObjrUnU8V7bysIhbuNNxPgSXvX7RKBxw2DeSG1gajOoKRSByxRAaG47Vbrw4136ktCYRjXzz5PmAazKDCi+6WKHbwDwAgveu59Tud2GU6HdrU0qE3w3XqJ6Hhwvnji+r7Sd+B3jGbXPEZxBANnTCJZyfGtkGTL+4b28Y26kkosasO4SnbuwMPM7n28GVKFVcVLMARITLvyp9b/+ucCuG8ywNI2pPPJKSfJOiNqi098jNZEQzsdC9Y6T06OydJtvzPOo29TdSP+hoHD2O6yezDsSBxetdb6GBE4FDyxcYHZzrs71WwGbWbWXSIR0Lny9+c9dto1PKukqdzX+pR798hZy7lYt2aOfd84tyRLmrSh80CPdlwHoJs/ns4D3dxHcz6jA9CjXejhzbNOby/Llm80AsFs3oQ+2UwBDypG4QlEWbETEKR7UeLmkwJpgYmMw6jHugIGahPoFYuiwI8s+Cr5rE0obau8v3vuF9qD1JmoJXXFHbQ5aPN3ualJs3vsZb3nvnRQPIH7SPYNQKjQrrcrC4EKmLi8H6BjDKjFeFgRqQXRQzN552bbSpKbA/Fk2dBm3uQxqqIQeD+1KGHMafIUM07Hn2jF3jHxiHHPPZj5dPMiFICjqE7A72ze+xwUwMDH3zfQP3aebvQol5t53Hi5TlJo8uCXKgYNQK5uFfFiPUsC2OLZXlETekBSYdHnS2+IUiPPn3v8LrnIiq13DTzQGn95KX2ezDPbcXXIBQC0Anb5O8/e56BQvKitEZB6rvl3QL+Xl49Rjar+96RcgDNFOKZDAhdtSMGzj3MLUM+7aIyaKgJKKrFKGWeknVGfnTGQprKMXX9npBa3D2PDmqMKqAKJlIC+7MdmV1BYdxZOgdxAEO2MZ/h3FVUxRHlJQamMbP9bjL5hnNC3sz24F8ZcWjyqiuv8rS8P9KPjI43iUYsWBcPi17fE9Tga8mk0hPfB6RGpcUTVZmg7hW+aHBG8j8vWTYwaEW3fNV3bEipKx4HuAHTbKTT0uW7LRd01s+uBDkAP91eZdAJvtWkDrNqMWaTZLCiJ7OHLKH0FUFIxCiVpSXsXfiabvIOESHFwkBlUMdyLwqIeOYwjXt5rrwohUi3ybAQC4EMe7UgfUbsFfu75xwGwfPfrA43pcZ7ClA6hPjryWC9XXFm+Fw8m70bolA2rqkCLuNKpDrSXRE9oCgCOHQCasfpi3EAXLVhgm77+haBeIM9u26gBfYFni/4TNUH90hR2lVHiSg+xAAMAR5x0ANi48uoaB8aYe+i5E5ODBKbvfG0QFXCjK5FS8+dXSOzRx7Sd+cec4/5jNbrHGCwp/1bGWVo2GU708hXWe8wgqbOcXlTdyznQ7rUfLpM8IhWW6m2jorJxY/A2tlFOkeKEA/4F4f1RDxk3lqIb7LV/KPCDZN8IzQTaQG/YIK1aank/+tsTdvnfNkqZjdw7qtUoAY+okeaMU8RiNUkAKs8GlGOA7HuQ9Y481maQIvz4+4MRwBrTZm5XvR9UGOhT0JIYD7Sl4ULX3c+N40jdkebytvaJPN2AaN7tjs0ldaxU2+B5qJdojU3nGn3ifPWogpOvcVxLn3Jv6bx7dO+i0STqKgOHZ+Jh94JD0bBUhcWq8/U+6bzm+az3SSGkToWjA9CzQ3Xh7M4DvS29NstrOgCdAei46ftC2+Q91KXycDp42ilsmnAVFb7FK7RshxDOV7Kg83Nj9r2D7phBL+1gL9CQaAdzPxZWeKk3XR/C0dIYhl8K8BSwdAAF766GeycvrXugg2wdx8w7zg2JNQCFFOik3hd5zfTusRBE72l/YzPQNNKiIjqH5Bvu6x6W1UEDNs3CV3jYG0GJ377ZngcE0HfD1WFz9g0xZrRnG+jy5cvtly87e8CzVBWxtt8CYeDtlwXvp96bTRSvZRPQoE2iUOBF9oIaMZmLdwbYzOaQoXXcg8x+canZ9dcGgCKjqIoP7QA+8ord+xlD7HjevDw3QP7OEHaXugfjiAe/6cBgARAqCVAljxOFjjr+uxujH/pXK77xeesz99OEuqgjbiRa0v+f/nAYd/4uLyPAAskxxoJ5xjfpCiMxUlFHQaA/jntwmDNf/FS19nn+3vQLBh7fncv1xf70ZMZIPeKaNt7ilOfc1L+tfyeBcVEYZ/i4eOw5pAzhnHiMpnlRIjEkI6NVXvzpqTbzgqeE+b0tRxrBYSz4hrkXfQGthHk04lVOir+k601o1Sw0kpP7qOw33wBzJJHRLPnNGOqaJ3pXJebRN7SVc/ROAvOKXiH1d/pzSoWf6ec+Lnx/vjaNoXD4OgAvO/K/GQ8cI/xdid1tDECew32SolGdDvTopO0oHM0fcgegm/tozmd0AHq4C8uF2JNGbmgGULrcgc88LyDhh6pYpV5ZNh2V2a5ajEv6QSwakoZkOZ/7l4mCSTlv6cryXGTyOAQGmxbttTtb75w3hP3hQ+8y+9Knw8aor8+lsWJFranJQQEBB3QxFHzovaz31L+ymVe/cLTqlzZ5+hJ5pnU7h35NgaXoIJwrSgg0DTY7jAaMBedNJkmYbORxA0XG7pcve0HcGCNfsq5SZNUXw7sABG7MBNK6AAAgAElEQVS7dVBumPPa8B65VmFtEqvkdabP8Ba2nUMae2gEAAX6R4lSjDuGVdWcEcdUho08boBBgAKJjVdcHgwTPIepHFlazELPF6+b+yikDcDFgJMMIL8xZomnLk/YovsCgH6X9b75RZvBmCg9slQqXGd20uMDd/8LnwiAtWxDEWgU9Cdt5MAAVS6B5L5SkKvyyxgJ0YNfHHiYzbzkOe2KH2Eo8L1xeL+gxRzfU1QFyS/OedXdxhsArBg/L8UedahTyUqtLSpM5IB6yux+Dwnykk3qNk3Noh/wsGI8MZ6qRpgq55TrYcKR5m9NNKq6Z4sehTGoREHmUVLt0ZcNVRyUGolfFw9F+pZGigvfkvrKow/xf6xPu+0dJClVNfIH3w5OD4/+NEQTUsOJ70+yelyHjKmAeFM/c5+peVY85fnWO/hI6wD0aId1ALppEnUe6OYe+g2c0QHo4U4sF2L4dlQdbAKgXO6huP6wnvHmTV7FyoEE+sg3Xhc8RG0TUdJmsaAifQYdIAVRSsrzSnMk50TaCBuCJ88ltBElZGkTSLROe5RcjoDHZej+62Nm114RWkDS4p+caHbpj0IiIP2RFiJBjeCAw6x3z+OCB5pwJ5sHz5GUFkCO63gPgBHvoISulA4i8IenDaAgBRRtPOkmtnylFf/4VpdI80pq3/lG6COX29oavNFNG542dsZvj30HSUiM1fe/HfV6GxQS8Gqx4QqYsoFLlxugAyiv49+mYEMawM6zpfBHpO/Iy+pAWXSW6MGjn1IpLj+H63rBq8t/H3h4eErVuAAk5LlWEl3aZ6lxQOgeIEH/0rcLhz11VUuRwuqTS5ba1pSbL9UItKWRFquSxhN4RxkG4I4CCF5sgXipuNBugW0B8Mgh98QxkuoA3jIIquYEc1BVCnkRlfrWtzZb8JdLPjau0y09sswxCsJQRElqEaqqxzNkhIjaoeIlzAfm0bg+aGxjPEE0B5IW/8/zQjXCd70uJDd6gCiZp2W/RTDNP5Sg3PZ5nMcY4/VmTeaIuQ8UStHhjo+LvxOTNxMVENFVZHwwj1nXtXaWN4jqITJQRCMSnafNHCg1qy2sRW5kokEPgEbBY1wSYpwD4o0zlvscZBPPe2kHoCvmSgegmz+gzgPd3EdzPqMD0MNdqMQnB4FONWjKvk6mqev2RpkjvFlevOP2gWYs/97GM5qDGTi6fm2S3a5my0Oj8tcOEKLGNMDOvYeRIzmUmBg24eLk0832P9SKn/wgAODoeQF8qFCJwLXr+gok43XCM8qGI5BHKfGfXRI20VziC2AHyCesud3SIAl1y03B+6PkLB4UZfGc7gH4BDyLz1hudqG0b+8ZL/Ay4pOvO8fuJPMeMO+N7Ztd9bN2AJrzFy4223X3MHY7rAoZ+7wnGzIJkOMOhbQ5JwLDEU4v98jHjs1V+s6isEhaL41EwAGWvGDaD2zMgAGVpeb58qSl82f7Hax47NNDNTX6NgWhTBWB8hQgiLbgCWKRz5snOcZKg+O6RtGcqRWrbEuazMpF7imMxWWU1Fa+dxxD2sv8kq6xDCwMM4w4QBCRg9Srzr2Zm5qTnMe3I+AsiUkZY/w3nkkVJuF6lzibRfQp7wSnnGxpx39vu4LLmFGxEr5t1hh5oKUfriRKqdxoTjRRkdq2o+ToTplF/XfXvFb+hCdLRw5+ek/mFF5kxropLyBf/3gn3hdjUZ7jxANdalpT9bEuQVIG3PIdAqde+Sa5ZxmjdNW6QcuZpy5H2NLI0ZWim+i7bOOI4VxF4zh/8VKbePW7OwDdAei2X+fQeR2A3qZum91FHYAe7q+h0q8eth7DExXo8E0qlm8NaHOwYQv0CPBcc0W75MQ0HAgIbipgoddQMh5AnYQiQNaQDnXyvoDuArANrzRSRFJAHBNp0vD8SGlc3Y4NCe8kIBlJuVy+C483YCcm/vT3O8T6b39VAKlSE6DtMXnGs+XTpEY9R4k//Deex/0Ptfmbb7c7r/hZoCgIAJEM1vZw4IYE2YKBvjbGAG1zysyYA88WWrEyjJJSzm5wXPCVUAYbrzbtxevLWDo9I8qX1Wkea15BY+E6+hQjIeXGY/Do2TX89OKpf239Sy8KsnqMkbSOxTmm/z28H/tAEQTxnt34WRjGD2OA/6FWsH43K1avsz59LRmx9L9JHp2ett5Ez2boR3nkmGOAVBJnpeJQVX2Sb2oZBsAzrCiK0JcKrQNqKB6kMU+HCG8fIE0UqFw2TePNnMSg4/f0PvTLuJLN+XSQwSGQhPoOnOBG47vFBNUaUwLjWEqcvwPUZYS4koiK7yRRE2mVb2v0K20ihgzPdem8IGNZPOGMMDbKn1CBJE+ijJQH1rIj7mt22cWhX/it1qMbSo57303zfUQPdIkGYoJ0woH27+zdb4wG7MZRT6+MD1cw2Ry+IcZKtLC0LamUna/l/TDPaEtb2T9XvxHdI/aX92MDCE9zQToAPfbj6DzQzWtHB6Cb+2jOZ3QAOgPQ8DbR8P32V8Im78Cl5lDiCZsXXgs2FvE0SeTi78q0VvUyNo82kkjpI9PKW00jziLsgDsWLgBEy4uqDUD6zU4nSfSEUy5v3GDyBLEhjnhanYwNjf+W3JhX+vMdaFA8Bk86m9V+hwxrRifASNrWvin+v38YLtTApqQqidwHzuKSpdab3mozcFYBQ4CinGPd1GeuHx03ZiXHydtV5YF2Obm4uQIq4c/usNJVSFKvfYn50zlFv7hRFvvd+cSoFER9ZN9no/Z2WlwBEA11gnnG31XcRJ5HPUyUmJQOc9AR1jv92TaDogBa30okTL2B6dyQsSfes4f+KVk+GTni84PkHN5sgDd9XvXftNEjMoCtKAFHO7k/baBv+V1ey5xeQT+c8AivaphzrMcacjdeP6o0kQI6+m/P/b30ts9QvPO5djLvhdJErmJTpesswORSjT2znXcL6wCe8tTL3zQP635PaU48A+8mlBb0j3kOkZobrw0UMS+CFGXjdJ3nFUyZocXdFgQqsqX3V8XEdH4y99ast+JFr7X+R95t9sXzB4m86btwr4OPDEbXZz/WHBnCgMPwZ/65JGOkMykxg/kDCGb+QL2BkgEYhifPIY19tYHx4RvFcCNio0TlNKKTVibFiE+TWT0XY2EwgKlk6N9WjPTlY8Y9aSfrLmuV08lQB2qhIS0ArQTzjsJRv/VOTNjq1Z5Iu1tRFL/Y1k/r7nxdB6D/F0a3A9CjnVzKxDl/8sbqxY/NnUVciyMLLICbxRWAOq788m9rXF0tAI9HVPfQZjkUnq+pTifuHRumwvVZ9TKaPf3Ks82o+qdkRr93CRXD5uFAq4b6In1aki0BnRlVZAh0vvhZsVRwrOw44kULHtNi8VLrAyIAwmx+cI5VgbBNX9eV0QU0qKgJ45oqMiTqI9BIHIjRd6K5ZFQYPyGnwNBWNnMoGvkGm4Mm54GuCaBsCIRnEQ+ek0Y9oucfvmjJ72fepuoNgD4BCG9TnAMADp4HkKEv8Jj7vaPHHtlA0W8cQKMWEmXqADm5dF7K2cfLCOC5+oqBnnA+VouXWvHKdznPPT9KuUkMXY60Ep36p64yJWBqrwNKr7m/OzJvug/viQEJcCoBdKIGkTaG52LIeUXJSF2Ar8v1Kl/dhotfNU/dSIwJvPo9kY2kcJHmXf+T51n//A+Fb1EGuoA974BxyTyDEpXTFpw7nwE8rQepYgXfVxppi6XpoVJhOM584gNmn9ow7CBgHut5qu44TslE3mLWIN6dyA2H+ph5RSLjr/4n4f+nnt3k3xXBod1K7lZkgffQvKJ9qc642sBzZeztd0gwQuVcSWlZ4paLLlPmLZAMiOGytb3TxAv1WEwiPMvIT+mSCEc/js4D3byxdQC6uY/mfEYHoOu70AHHr2603sy0zbDwpiBKJZx9s4rgqq13Z86jVnGDnPvIKXmY1L0jNXJMnCs9Y1XFq0rWQWkjr3rou3jchLiHV2LbPFzUJAURFbSH4hF/McLDdo8Vpb3pV/7nG29FJrxC16gCwGUlcz4vgjGuz+WRVTl1VTTE48TfAFQASfVppj6Cd3Rm69YBJUVKIk5JGXBF5UUtgTaed5cWK8x+9t/DPGmVK+aZEagUTz87hMv//a2BP47RxgaPJ1jtAwilHjc8eJGvPMTvx0ura1JAxXPlScWbKa8fcwJusQB06uV0PB295ik1pa7PGS8AzaMeZ/bWVwTPaNWxeKn1nnim89yrjqF+lMGC6o0M37wypeYo70A0ROCGv+++d1B8wWDGGCN5TNrK4+aOqjUyNzEYpBqjCEOZ81AVvs/AngMxysLHBFAvwBQlJdWGCsPNP2nm39teaXbRBcN5FkqyxKPL/aC+lAWLlACdgO70XRVhU7ly0cN0jrzhh9/HI0o+vy66cFCoRMZUyomGBtLm26TdGHqMEe2Q6gh9xNxtcw+1UwV1mKNQSJRPIj58rq6itdDpYtNOKdE8LOcciZObNoVkQX2DbWQhx80lPRej9+j7W++k0z3y0gHoDkBvC2ToAPS29Nosr+kA9BgAHSupTSzf0aYJ/ZVSavGaEqBGr6t0l2v5fbMcHE5nQ2ZDZXOWp0OAVbdT6C+tHigvCl9RG/6j7uFgTaof6FevsN5pgyIZlVUPPaQZQW5eva+qLwCsyO3h4XRPXyKJpVA7mz1t4d09s3+mgo+eac2ikX3QYWZfOn889UZAOAX1aqd7/QCREYhS2hcPLO3MSicXTz7LvaNDSUz0d0VSZJ1WsgOfl/+12S8uq54cXpQjhMp757zeN9QhTzJXpd5kj4CEojtKatSzA+3hjQEUYxCOKzNdN1Xz0D7nqXCIVAiaEtaY07vuab3n/b3NnPOsEFbPvbQALc6LdJ+2X46PhTSP5REUUCpLa8dy8Eo+TKq+ORh9z5sCpQNQPo7CxX3xlKo4EBczX3kXJTpyDiAr1T2vmncCyvTl7vsOkkNzw42+RTEG4zIaDcWRx1gf/fUvQ6FIiglpnpO0y7yEYsWzndZ12/hcDNq9cnUwHr0SZSwNr7XHqWiRTrLdYtdO9lLZVDrkWxF1La9oCijmHVUtc2hgs+8Z0AyPPeWoM9dnk9+g+2PoxAqDToNC2tEpLXjeo0SdPPFaA0TVqKgAO2SM8gwStbepwmLUHydqRpIlBsO6Xax4wMOtOPDwDkDXfPidB7p5RewAdHMfzfmMDkDXd6EDjne/IWxKqVxYeUkW1p0NV7nNyEkhQImAkvBigZdnC6ABN9aTe6JUVQqs2YDYrJpAjXi9pRc9vhveFRZ2VeZ61d+aXf2LYa7jtnje2UTZIPEYAwRUlCFViWDX594AEMB0k4IJXkW8ptyjTennqvEqQ84kVbKhzTO7/0NDOD7xcg4plDBPKPcbvYPl0GY8ZIXc06Gf/o/3mX3i/fW8UNFykMbbefeBQohk6QRoUk406ihSJDnyvlbsc5D1L/hqeIfrrgxA6jd9zMZoBKjc84+D1/IVZwcwIwpJCXrRHJ7viYq9B588ViFGr1LSOj7/yfHjL+OSuS2t3khXcoCpYkB4FEXDyPuLxNu9949Gbc/s6p8HsCc6EOerAqfrtNdFT6LnXnSDRduFKpQkfVKWOjXcmK877BjpUYT5Iz3Ai4cgcQmgjVGDKiUM2qRy0QDRG28YGFF146cqmV6IJ1YxFOjUWEkTHMUYEojdiIw6zFKWEZiHfoEEHwVyME6i5rFXERXlRoVPSOwUDQheNN/ibPMbNG60kfGhcA/v/f1vxXbCGY9Fc9J13SvCxqqSq9dZ70WvG+Lhj3DwAfWz8Yqn80l94Dz8OKb8HtfcrhLh6GLVAejmBbwD0M19NOczOgBd34XuHfy7vwyLfd2RhgGbRiOXZ6o6P93c8bzw32t3HtZVdk4dknZF0EcFMFZpDXMtNATuM1ZGqSY7nOvZdJKyuWW1QUCaV9i6M7TFgWeUPWsj2SSPGx48PDds+HBT02IZ9I+8XG0qwLEB0TdtwLPoLDkftGpMEs3pqp/dGwUdIwUOOlF0jnvsZalureNevKVnnNZc8RKqBl7DVC4Qzi7Gk8LqvAe8TIwlwAbzkjHi7/xN1RIdkPymyks3Tfjaj8Z6z36RUzOmx1KCtgTursaoAlxUKsR4qJ5KoCSGZkYlTUqTM8X3j3QlfxYeVwwQ/buoHIoA8T0cfbz1TgrJjWViba7k0VZHXt3EOB/3IL+vz49ck51xJRrCN8m4S2cd4CZlC80HJSun3m7Rb2g/xqarpOTgMRsz8bD5J/3mlTbj906+BdERJd4yt9JS2dwqTc7j+cxZ1ixJBRIt8UJBaZXJJA+DtUEyhtyPdS6XRGwzDVmf9j4gUHP+5/rI6Y/UoSYHAAbQ/R4ylMw6xMGnj9G1b3JS1H4ORVDyUSEf9dvmTV6qfKcHnmjXXjtmD2rz/nezczoA3TygHYBu7qM5n9EB6PoudC/Dm/9poD1ad6oXLqA0d40ng+tSnm260MqLo0InhIDZKAkvSwWBkGPKP/QkqYT2MKJ1G5OP+ILY4NjoaJuDRugQW8dnwpebZrxeJar3PdiVJsoQN20Sl1btJ+zuZaI3NgM1baiSdeO6lJdLO8QlbbM5tfGC8gzaSNKbq4ZQGAbFkgaJKcA9tJOoEy0PtG+kVLsDjNDGNNGQca9I+hJ49sSv//j35m+Y9koCjvZjEKkKnAPCyUHSJIl5gEdXf5gJ4NkNqVgOm75uAgzNLao5o6VWLkVYXvveAD5fBaf+oqjSEUPp+iakHkH4PZ//EVyk/OgSyPL9yCOfv6t4pjLOxPdPPdC5d19Alb5bvsJ6jxlQmvw2qoInrz9/bKsl7XPczHa6hxWPfGwZth8CaKI1qbQ8451WH03fUcmnOXWCZ3i1xsjrRbKxMqqWDa0SomV4qDCJkglTLz5gl79DZ3BHQCwrrxwRUV4AxLQD7XYvGjQdDYCYoyEVGPpb99x1z3DPa34RHAZtVC3SV+FaInmMCwnO/DffFf907322dvta4l+q2WIMlikHs+l8K/nQFAO65IfN6iLjADRzB8MiPeKc3PmFr+gAdD4tOxWOxlW6A9CNXTT3EzoAXd2HvoEh+8VmmvMz80ukv6twJWCHa/Cesdi3Ce2xYONB3XH1oOIbGzchT0Kb3DPzwJWJd0oqw5uThkIFEvRPCkZIns3fYQzgSSWwABmEflHNeO5LB5noueeFDdJ1YCOoq/MaC+i6Vwst6pB17uC5Dty1AcdtPgfxr1XVDGPEi2bETVxAvep5eBgVmj7qGKP/+x99TyyTjDcr8eyq/2rUOjybPy2vPK7tnpkfpbMI0XPv3fe14oSHW//Crw24sCvXWP8rnx54ptMyzwL3AI+c6tOm38Zt/npt5gjyiU1ezRMfYxMPe4zfcfrlfxMUMOquYRzg+4qvLH4xxiXzcv9DSyWXoVLyOo+CPSpuJP62oh8q8YyBGAE5bRoyEPXeCU86T2oc4cNyTV7NsKr/lPx63IPC+33j8yFxEQ/xHvuZQePg74owVa1DeG+ZY6mB6dGGOJ/13NRwUDESx4ex6JKA8bh1wZVGYqEovp9Uj1wVKvGiQzeikJEbj1EHmXflfMaMNUie6cOONvvpT4L0HGuH98m8QcEVHAApJYk19acUa4ptbzt3MR6I5Klyo/IquB9AdVxxF96J7yabb4p++Pj/8IKBClPbNqXnsc4vWx4rqW4J6z37ypqdbOdz39UB6A5Az3pWdQB61l02+ws6AD3aZw6eP/SvZp/9j3ZFT7hFKgXlWeORX8kG9csbWnh7IufYNXGjjiv3ZfGeJKlvwcDDnSWZDJUfl+fN8XHUNnYp5si1HOe5SYEt7VYRBoA54CiqOYx6XiJg9uvxxCftT7u3CpSysVEW+NKLA1AYe7T0cI67B/2Zcw0pmsIGqHbLK5gDFlUdVMXBY06w/lc+E/oWr1tOB5GX7tB7We+pf1VyKEv+JGApDXFXtbtKOcUjBBNmx584FFYeoRJ4lUKoPoDvWLyinAe/IRqHvJrcF4ACcEwr/+XvtN0SK171r6U0XZmU6nNVpcrz3TJ+T9IGJhfAgd9koLZwHHWMefGd1HssIOtRjehx9OhInGcyKtxbyje20GzdzuHb/XlM6kzl8VI+eSJT2O/PDCo9YggAJr0PHKHGyE+MCKTfGECROUUERLz01PPp3/+Chsp9GKETo8obddSkfJ2ivQLGYx0Fsf8AuXhsSTAE3KfrDf0pHrOSn8mfkCdZdBpFGPgN3jTgEQ6xdvy8HYrKMXbML/pURmCTc0NTSWopMiq9pHiMylVRzjQnUs1ozTeeiWoL7Yf77oVWGqgwdQaUEhjd6RKlBDVHYvLw+rd90K67Hm3z7lAPdBSO5rnQAejmPprzGR2AHu3CmR9eYP23vap99b/0FmyK6J2mHjOFc+XtYRPTgjtuA9BGI1C93XbBuyiqiDb0970tADgAAECXwz1Cd4XQJADYk4pqAErdLJKnLmo3VxZVkWyVwHoT1SIFp72eFQ99tNmDT7b+S59jdu1V4+ezPIhVQLVNSJeEsT9/eqhwmCQEelXEpufTbjZ61C04VFGNsdW7u4KJDJUInP7onia1Dr1cCXQBduNUHrggBXAp+GJ+LVg4FFYeohLQR7Pl4G7raqJkK6gTACj61rFjAtyZS3wbT3q+TRxyZPkk50D/90X1WtCcSeQFMFFqTcfkUs0lzuH+h90nVLtLueH+7SEVaAPlF/rd+bqJ1GI5L2M05IBDQ2VKPKM7rLTiiPtaH3AO1533SqNBJKYBlr/86ZAM69SpRFdZBo+oGLRFyYYYUE3fTOO4bKNhmUaZxkUAxP1WFUyS8AC1jAc5C+n36GtWTDbUWqXrVU2VczBi0TWHYuSlssccKoutYk38N1Ql1jjoTE3rmhRE3Os8HYxWH+9o8OeGvf6b/kmjF6rGyTvz7Knokd+W8St1tqOBy+v7PIm636LaLNrOVpz1Urt53W6Ns+AP6YQOQDePdgegm/tozmd0AHq0C8vEphTotu1pNhVoGAIQORdTi3LT/fBI+PORh4vATDw5Flc2Hriu8lj5Ih69iuJIeoGOWOkuDdvWeVir2qTQ632OH6kIJ51sTySkQMNsN5IdVljx50933ufMq//W7GeXNiQ7apOJxQZCJ4cN242KBq8qhTlUevjbXx6A6KOOtRn6580vq+dWpglQ9Km0aJ3zzMYMfzeWU5ZXacEiK5703JLXqu4ti9EQNh7XZ2nSaT5mbOa0OZEZnHnn6wYeWFdZuL6ZfpSOuVeojEl3sykf7yoCU8Fgc91edMBjJUwK3Szazvr8N2oqPg8Ls52CVFf//A8HFY5xSaKSRBMwrasCxzzYdY+BnBjfAR54QBZHGnnIlSsULUiAS6pBXUYN6Hd5mXkXAaH7/elAs1xjCp2Ko2mMFR1o602tWztGIjyA2eihFlhMJS3x6C9dZhNbt9g0hoIArsCcgK8b/hTyiV5n5pXk8qrAqxR9oGcpoRcaBv/OWMqwgj7B+tiUdJwmffo3MeOccT/0Hc6l70qvfI0hovkH1YcDAK05mOYf1I1L6vVX32ptr1xzY0QkFnFZdPi97c5HP6Vpx/iD+r0D0M3D3QHo5j6a8xkdgB7twunnPi4AQiXQNAFDhfs8HDplpqQn6fMK4BH+ZOFskmOjSfKaiFctDygSUGw6bQErXkHxUrV5iprR1A4Py6+3AkH/qEmq3io54pSG5jznYc7Sw42xESXyPPyOd8+9dDVlb0sPLAoT84OnL9e9rdtI8czzLIwQL7GceRHvsafZRd+p38x5Nn3Je9KfAk/yGnE/lRkX7YJ+5nmEe7162o1BaYSw7zVXRv3kjKuqDZa2Ajgr9XKj9rKAzZJlTmEo9j5wUJZaBSNmAyxkjNF+VAEwBLzQS8NBuB7eKyog/A/PIn3FMb3VJu7YHHTU6Z8yTB+9sIAowuojsmsJmFEkBtCSc19zwwKKyPEnWh9gJZ3kI+7r75Lyxd3rydx1HnRW6TArEOKvAc/1Jz+IeuSRApKG2vFWY3RIiYN+5zsl8S8fgxToplGF2YxVPiR5OXreSUl6ArSyL/l28L5jDKxaa1NTU7YF40f0myqPLAoRkvxjbqHuQ0Kf5qC80KX3NqluKG+v+PveobG8eBVoz99Na6Hzr2NCNmCeiIY4zWkFxqb5qvVV67onPsfiT1VrfUrJU4l2RRPoyyYalj8Pb3bUlveqnjHywLN5r9yIwLhhLm3eaPPX7GRbn/13bd7qD+acDkA3D3UHoJv7aM5ndAC6AkA/73EBCCgZUJJQVb2dllxmURSvkXPhQbIxsQGw0MJ1TMO4sx09+JJ4JdwDAtCsqsoXKQTaJNhoCDcCGgV02zy36FlxYqBXFD/5gc1860sB+AEexXsFhLg+bAypt7mvACJ9Ag3BN4lNVsAn/tR5EWQl75Des1T4uD28izZr9cOIBy5eDBCFxsJmTb8BDgEAAl9KJFRp37xgjrc5Jkhq80/bpbC1DAg/F83eFYH7zv9S+g1SWoBJgR5XIojjybsQwYB64xxT+jh6c8WpVdJqqpdLHz72GUE/mPLWekbbMSnPi+oJUhPBgzuWHlOEOSkFgaz8O55be9frbAZ+OwAq9/TimZQqgvohBcXeDsLakc+fJsfpPNoubynfX6yMN+7VPQpAMlo5ZpF6wK7j/FozW7q9FwjxMtVQTeC6YriK2qQHAP4xTrdfFkCmDtokvWMvcT8R3p91BcNviDaxjTQMPUtGQKpg4REIaEBoMqfKPFIM6ge6i2usbwlt23m3sIZd+bOwZvDv0CWyojOu5SwDxB0EUBFaHHxjzPUqoFr3/fJ3r5JKlKkwO+SoQel1rbE+FyJlqEUzSrpErDRoO64K78s8FfXNqUm9MKZ6fwF2OR/q2py2QVEKEiaZx3j7qXi5+fYArKuMZN6XnILbfm2LDrtX54HOxrQD0M2TvAPQzX005zM6AF0BoB3PsWQAACAASURBVJHWIqlNG56DJjbJxMMqz6O8jZzDJrLdEus94QybwZuKWD8bNCAR7xTKAQCbbT0IQbPx5F7XuvuxqeJlEuiuAn911xJ+ffW7HfzYD79drY6RbmyzlUaTVwrPMP9+wGGBv8rmUnfwLnjC8JS5V2pe+CcAuC4RiI3PZeoiMOKfqUdJIAxvGn/HkyrZMsCjy4FFcOBqGIk03bhxzL38bJSMH2OBZ5I2OxCLhkCp/gFXeCqAfDZWQJiruEQAKcUShcGlYxyBa+/0Z5v96Huh3PdNSeJR7qmtazvn0Vb6GoNFfOZx7ypvGddm5d/dc/u9bwxXp+NeTpWIcopcV0VjEOfd+9LC2NOeOk+tJ7BNmO2xz4jmdtp8j55QARHpwXEHhiJGqxIU4c7T5iqPNeCfdgJ60sMTOe8a6B/LM912HXAN5M3jjRjRi6SKIflLfZPyfrr3Ns45jwZEo8EBHjScQen5UmEGY4wj5eLTHyinYFBojlb1YxtwmV43DkCLJrVmvRUvem0w6lljAfo3XheMepweszkYL77ttNQ31+dJwk79iZrqN1zTkNQ59EIB1PN90H5kQPV9QrdyffGY3Ft+/3IeFKUG+ooz/m/Hgc7GtQPQzRO9A9DNfTTnMzoAPdqFMz+80Ppve2Xk70Vt2qpNO/U+S31in4Ns4nkvDXgtlgL3jV/eDcDQNodqZ+mlYtPD8zpb2oe6BOA/rjyt+IwoIcBxTcOxbWamgzU4jXGTwQt05U+rQ6IqDOLleDcGOgYJfU6TiUlrks0SL1qcaCUhOWidGJSeFvjk+SQwUiCCjViay4BvjmuvCACPZ3KkyVApTzR955z3yG9qhyIBru8cebruWY38Y9rgCVhbgsoEfctmK553lQZvBlyds0t1xDYFaPKxYlzpG94fObKm+ZpWlQRQRbUW/wbQSHaZuqjMkt6r/HeSzjLajgxTAWsoMADEWkCPhxUgODnWA+3g+RMfMON/4zzr4vzG8s9lhAQDyscxHjJkGEsMtVyzXR5oftf7tjWAeQT0HACce5OzxESMKqcmzRtQR9Ky7lKqSPm24hO78RJyCibXrLOtmtuJXB/JtfafH7T+1z9XyusVRx8fkn7/9Q1mJBAzL+uONN+j6ntos0bwjhiUvpZNeg5D7+AjBt3PeCIJ2VR9sulZjA/rtIyOVKYSI4KxIxLURpJ0CEMzRovDOGEUo/jD/QD7TQWfYgGX9X95dqfC0QHophk88nsHoGfdZbO/oAPQo30WZOzeZfb1zwfgm4brvBpXrGDFpfLosBlNzbPiKWeVC3woBf7GcH5aIETehrabSu6lnM0wy5vIBsSi7YAE7y3ALXmP2dxT56beSsAvntW2njXuoURJlcCmOAheLcL6ACXJTKnKIYBOpY0BmDwTgJJquAKgABwASm2GZRJazLp3bvt08LKW7f518BYJ5NI+ABseSDxcKjtepe+bjw/3Z/XKOeZD4IXkznlBNi3lyjuFY2UA0PKEPfYZVhRF8CrfclOIZrim7qIBDQUP9D4HDUp9Q/OhrU0KB1XjrnLPvJek8AAxVeWoRfUA/Et/eM/9rXfCIwP1AU/bBV+effGWMrJTBAoBlBu+IeTOxh2Ll1qa/JeeWhYn+dzHm/MQ4HCnZb73OcjsysvNrrsmfvNJzipjwTclfr3P7WgYQQnYmkQb2kZqZFzC++b+975fGO9vfiHQDBYvseLe97f+zrub/ftbYoJkLHXtyjBR6Yd/VhkKmrNFYb1Fi20Gbr6OOJeckiLwmGvQw7d/6ytCkiaGS622eJTnTA0nrRu+lt4ZCxDFSqb5eR4JWRjmeSxtnVafpMk+ri94Sju+ftXcwQDh/ivXmu2yuxeLSgsleUSHYimX/ygkD7bJ9fAIZTS0JANKdAsPtldM3TKYy/K8+zoXk5Fp0ypKiL/WulLeo4PWeaCbN+wOQDf30ZzP6AB0dReWWscOWn4ZZaf6IZya8/fY7Nk8j76/FY98XAgvovIgEFNW5opqDaliRtMIKsyqxJOminlN93MuJJuq7zzN3sWm+8nLjTeYxf/qX0Tpp5qNu7xf3FhpD186oG2n3UJiEpsx4BEvGZtKWjIYDyceWaoC8s8csNNfgC02XgAk7+lAOJZmBpjL683GBkhA5oy2o0lbgvFIK+A6L0CzKXj5PBkOXnDCt8wBNJ4jJX+m/VcmhkbFEPd0LxnmyqeV3bg24RS7vCKAlP4RYOX8vDohbZMqhnuuW/JTU8NIMmP0Fx5TOM5EIwCxjIn0pfP5IQOEf6LvvW5Xs0/i7Y18/aowfSndFTXEGW8l4wIWlZjXpDFNWw69txX3/RPrX/DVIZUVAJEDofe8KajXjEsMFhdYtJfo3S9OeETS/zEhTP1/x2bnoLuhA7WAfuM+ePCZhE7DyDi6AslDoJqKectiyWwiEjNeNKd35otLHfFKo0BUi5T7Xnl/JbRFOhq5DvMXWJ8olQ7eF48//xR9Qb8lRl3/3/5fVAKCFhKrlpbgMkaXSuWKG+OcnQyJtIruKCGatm4XjSS+ewwYvg3mv0eolofvmvtn1UBp2vTZTw7fsbjyTeuWfhefnfc86AibeOIZlVeW0pMYJ84Xj3kf46IzSt6kL1mP6GMcBLyLR72uHP42ZVhE9Q3b7xBvz7p167pCKtmodAC6eYJ3ALq5j+Z8Rgegx3chIeiJW2+2aTZcALF7xqInUxsfnucHnRRCm1SmS7028BGdZ0ciVKwoyGLtGqZwW2dxsMCqDG6bawXY8jC+e0Lh+lUBqwqP0bgm0ibJ6ykZDwDJJpkm5fSR4xuj0oHHxT14myPtIFJn9Gz6DE+Ue6C3BMB9682D5DsBs1Ryir7nWLN+0JaUT6pkSO4HVQKuIvSMNJGIZ+6yRwD2hHhdPziCSE8unQ5glfaLnpOWP077jjYmyVDFn54a1CJSrnzqVWaT9XfoB242xgNzkPamahTMq3vsZXbzjcMayDybsceD7p6zROqwzbRj06c9KhsOOPN7qOhJDaUojayIOzoOxEsTmTapOiDjC5AitK4S2Rgv4+gP9K+PdQSruVYzfFkS38rIi4y4rKod/UkynY6EX+50gRpecO9Rjx8CuQ66Lr4w9L2SBnMPq/jfelYKovCAM6d2WNnI6XbjQHkXXFManlnCnuZgYuAVCxdZH+pJ+r5eaGTLsKpIWtJ82YpgxJJYjG1EtEUeVy8RHuUzWQf4hvC80gfMB+eWxwgKz8TY4Pvm3FxzWzkf0kuX2knmkZ4Wp9018yO3vmmOcw/WQiVz0s5DjiorW6aebk86RdWEtUHny8AaB6LdMFhidp/jA5UJg0HzGQNFOtq0FYOLPqXv79hcarx3AHp0IDsA3TS5B4JHzWd2Z2xzD3QAugFA/8u5NnH5j2x68+YAnNIEItEA2BBIEDnymNEywJLv4jEKzStk74DBXcHtPcFeKIVqYBQQqOCNpvQQNoSRbP/4vkrQapLoazOz2BDkdYV+AeCAUwkoTbP3oVuMk85jA8FLA4jCwCir6E0HALnLHoOCFl/81ABIlu+QACJt1B4SxQNY0V94tETBATwLhEu7m+tQgEBuT1rCGEJK6vPNMVacBGwAhjmcD19RmSwNy69Zb71zXu+Aq7IUtCeb3RRoN75RJ5X6REEJJNawUgJexHfXxq6xA/w791ttbzOo8ZzDjrbiyc8PUZWqkvHuDa+RHUwfIyWCEbm6qO0t4OglkxcFA4loAG2WJB4e6JRzKwOR56jENH1CKD7Vapa3UDzsvL25V9y9hbFgTlbCu4xMyctMefsk5K9XdlrB3zxpoNXOM5pkI7k41TxmveAbSDjldSNXtoukX76/cQffqifHxjmqSn/+zUVaF8ai5iugUYan5hZ9zzjRPtRm+N5yeU2dq7LZdRSpBCz65wP1jUiBqA6p44Kxo18iN13FnUKy6jcD6G9bFdBzOBIDIzXWErqIj+WLn2V27dXNWvMOhDMVIWhie+4f5oI80P6iUerQJUlZa6LXnm/1wMPKAkwdgO4A9CxW7PLUzgO9Lb02y2s6AD2+w1jMi39/i02zKbHpOPCUisB0TPLaHP4OmAKo7bBqwE1V6VhQDhsVofD0bw7SWoQDtTCr6pt4jdoExSeWt9mLW0xG3mrNO1aF02c5f4K8W8ziZ3Nzr+7MUCGNksPIF/2rXw42oSoPTu6h4pxcGo0N7SXPCf3IxuOUigoQt+ueIXHn+9+sfivaDsiX1CB9J5k0niuPP2PGb3iAKeCAIQCQixUaS/4n/w2I1so1lFkfK+pVJEMNAQbenwPvlFNQYhELGQJ6E0nZCTzq/VXsQt5CccZF2Rk3vlXjsWK19U57mnNCSwoE96Y/aEMbDVw9k3mC0UJIm/L2VZ472rByTQBmKWdUHv6UA605L2qE93uM0qhctzy8SkYUt3pcNASDKa34WcO9HdeVZRKn+P2c3Kav5I2nfTUVQFOQ7mOCxCSqQaLrNBk0pZpMjEhorkd7zI3fNKk1n3v0MbKMS5cH1RyXY4xzVpMfMMp9SaykD6BnsM4xr/1IKFJZkaahkvRaK5UHsZU1uBfANfc/8HCb+D9nRtD9xuANh2rUpjJpuv5p3iW5BwLnPpbvODcY9ePui/NA61E6OWgvfcp6vGVrMDg0zowVESKvihmpMJI8RHv/yWfZ+l126Sgc2cfWeaCbN+oOQDf30ZzP6AB0A4CembFFn/mQ3f7x8wYJMw5GYojSPWr9kPgm7xogQQlIqbeZpDE8rMhnybsqTzCLbJ2HisWdbHwWb7xB5ZeRSJul8lS8EhtBG5rHYvi9t7dLjMm7Sl7n8u8RdOI9xFhQpvmeB1jvhEfYzH9uCNUGx3mI5InknvLuVoSxS68tmzfcR1EafLOnSEekhACGrrkitHBcqLVuGqQJdblUXOKFLFausf6Xzw/jKm93+jznycdiLhkgK5PbUmoA3mclUSpxNW9/6WmOlCLeAXAEeBGX2z2fUQGjzWqRJ7YC+FWo5RF/EShKJOGx8fucncW9ZWwxrnVeUtqL0dPvD+ta691uuTkk5XHQNkmhM9+g3wDO+ae4rZyX8tE96bEm6Y1+23+4hDfeZdQohvIaxG2t4ePySJ+fKnOvtlTx4tMxkcdXoJ/nHP/QkQqgPpWlPvGtL4foyGwUcCSp6DSoXw8qBPLNiFoBrWKcLJyK5zCO0GYAulUJrs5b3xjmvrSWAaIqOlTB7x4qSV+Vc6C54NzoHaz3sn/2Xpz54DvNPveJbVvL9D76phKjvSyiMy6fQCBZc7OUEIzKMHwvRFLoC1G+PJoVtaddHztS3FKDZY/9bKfXvNOu/58WBY3afN93k3M6AN08kB2Abu6jOZ/RAejmLly7Zo1d8/bXWv/8Dw3AmVQtPMs9KicAbj3UD7ieCl4GNg68C/zGNZJh47HyOIhXWpUAI6+dCjTAicWTRfY6Xg0AIgcLs1e3Qg0hejGl/FH3imwW8PNocwpq+bt4vFWgDZBGm/lNBUb4d8naKcwKiM83IkBnGjbN28azxZvVfSrC2GVCnbcdr1TUL1Yyk8LfeI1ThYjZFEAQmBf1JpOKS5tees3YJAH8eYlivVcSmk2vH6EGwNVlTOSRbgJfI/0Y9aQZF1dIaJEwmkck3NO3XVnsBo+cK2uc+yKzn10yKIoyG/Dm8x7Ab8HI4r2UlKVvCYDxxw+2Yp+DrI9RoQI+UJLW7xoMJpLzVEXQ9YvnhSTQG4lKZNUFU8+vF0dK+kLf3tqdzI44JkQQYgXD3lHHOngu8xqq+LgAdk962z5412OC28x/fjDwfvku9X5V31L6N96vlDXcarZoidmadeU9h4A87483XhX0qr5xjWc6rpzP+kDSb8xZ6C1YYDPLExUO7kU/lN7iipvLY0v74S6LcuS61ZuCt1b5CvwGOAdop0fN9zREaapSvUmTcScmrCD3hL7AC99Gt7yqr9J1lndL2lYCetYyOT587YvzmPkkr74MeUUBFCUR3Y95Sj8s3zG0FQlOqlWK219h5C84+n521+OfU5lE2rx73T3P6AB087h2ALq5j+Z8Rgegm7sQDto1V18d9EblJUyrDKr6lxZ7gQTRPfBusEADgq+/KtA92FykWCBvjPisXM9CqoIaFXJlpcQU56ZFDo6kbHFh9tn/aPbE0A484p6Ydtewh7b0RJJoE7mCaQJlCkTlkdP7phJxSoLzzbMwu+xH48OgKYAGmMjISKTReGWXGfzSp6s9b+o3NjE8ufyTvq718NcohshzyPhhqPAugL79Dx1JNBrymqVavM7/BNBNBe7m5k1lcpBmXgmepdxCP17+46hCgscU2lAsFd48XQdnqP3MTwBNW24od9C1FYVa+p88LxqTzFEiL1vGU4Wq2oxxKUBVAq6oTkIlRhQ8VNqd8aNqmydszjPbbW+zvQ8Moe+rfhG87VSbJJrC/HJOeFKeW9UUxRNH5UKeV8AP1+21X0jyIppUcuang9cQio9rBG8dTiRWNcmSNhWNaQdBcfvCsPMJG3MdtDb4t48nfEsYX29z1Gzne8yrV3JP5Pzg0XIr5lgq3+gPadCJd+9qMYjOxHGZmD/fpgHv6YHnd+T+2UA69SNW3IQ6BKhH6jA1iORVVWW9MmoyrDCT3nmEAy3ajgyBUg6S74q+i4nMSir2rohVBGXoC5iSr1FlGMj7j5e8yvC/5KIAcvM8GEWJxK9X9MC/IYwV1s5YNEgKSAu3G65wecXl45NjMRKe8QLrHXzkbL7+u/W5HYBuHt4OQDf30ZzP6AB0cxcqiWPIS5grJ7CwOie3KqGqMDv0XiG0/t8/DJuyEm58c02uwYu1066BdsCmnSoUJAlNJSe1IpnJb3nW6c3JRHifxcn2zH3AXkyqkbecDRG+IYDEk12y90u9XPKWOld8Mryvl0SfDJs/IG6cV0vATQaENj0pcPAsChygQftvbw5gFi9OvtEL/DlgmhgkANYNdfoOKdDWpiqaAO9ORMG9wdNmq9ZacdLpVhx4eNA7ZpNlbMXbFIiTQUFfV/G5ZZilHs42HM6q9+GZKshCv0syLJfMGjftU+CdRj5Ubc9D+/Jsx6TJ3Htddf+UnsO7rlwdwEp60D/iPjO+t90aPHTp4UbW/KChLUCJ0QRQVq6CgFUq18h1GKP0ERxplUbnGyvn+cQwT9eNOChU2wcDDG+7NJbbUoL0DQvI07/iqithVTQwviG+E1EeBDiJpHAunkvWCMk9Ni9f4Qzug7ecucEc5R0wOu68w4pNt1tf5bjpG/oyVZtIC6JUPU+VIscprchjLRUh5hD/g+++8+5DBukQpYk+zoGxGyW8D+3fHAwP5gJFmErPcIwCivPepqCQgDgyc4mhWwJ6fme+6fsQ957+VJEm5pW0olNjQe3ib5KvVIXLC7/SnGC67yFlga62Q353Pq8D0M2j2wHo5j6a8xkdgG7uwqos6BHlBHmf82QtLaKAAjZ1znOgGOWW8G6JyMnf8I6R1c8GATjmyMro5nJZVW/gsk6AJoHR/CSeRTKLUzio5hcl+lKPqcpOa9Nm85AuqzZl90AiURdLHPOO/HdacAZpJoBLE4jjGp6Fd1C0AEAUElv0YzQghvRU0dhWtUSBOG1wriMNoKxQxKjqNE+GpMgKvPZYYlf9R78ALEov7nASVAnqAfv0pTSstcnW0EAqFQd4jzaKDSNjShKSCmjEjZrS0tyvKSSf3iuNfPB3gBtgh/5xYB+XZiWKSRebsUoL2OTtE4DGm88Y+9iuHZyVjy9h/1qjNF6G95h5rO+M+cmc8OIYsWAQYJR2oeUNaHQwFfn6zHH62mXSoqXk4Bu5yigD6N9r6l1uXjNGzlD7PHcCwLfLQK2hBJNrgzF4B9J1SSIyN0u5xLS5qaBM2gBFjpjTq9eG95esIcaJDIGc/97mNQVQUw973XWMJ4mHGEW0AQBMEm9W/c/55iRGirrj6iB3hn5T/9EHosx5nsLqYFSoRDnnieqRjmPTO/kavHyoaMsI35y2lAmXMdcCMLznAWb//OroTa5wpKQSm2mFS6iBTQB/6TKbePW7m1r/B/N7B6Cbh7oD0M19NOczOgDd3IUjHmhC7YQrASV4g/gffEfnIMeFs5SjqtA/dr5c1OUtgVmsjBe9HyNFGWrksupaP/3Prwn6wiz2AoHaKOFALlseNi68J85f/GXwyulc2k+408PGN4e/p7QVNj8y7LU5ixuYVz5TEl5VFbnca6kwLwAUbjO/C3jqRQFI0gfGm0W/V4WaBQaUvd/GWyhlC/fCJ0aASlULREoH3BUBIlB94KNCOzB6lGwkEJYWR8k80JWKA00AOpffysFSGiWgj7if1BDq+qMEeBEsYvQoERXOMQcAiDlex3WXdjAAPOeAc708uUgGAgi5F57dzEAs9XKhMYwrFa17qnCO8gAA9Lwnf5cWNOO/+95maEHTNv4ufnjuOZU+eJ0cYfOSUX+GkhhJzKwwjGde/cJAO5JWsO4kDWy8rZQ9n62BxfeseUNUAq+u6zWPOZoAtUd4JgPFJdUlr7slHnCiDum6qXnHXKA90hwXhY339JyPKJensUkjfpLho7AS76XDIxWJgd9m3OYvsN5T/7qsRKhLZmgHZc2/9rlQvIl7M7/22t96Rx3n5/cv/q713/bKegCd86xV8ZFv87vfqG9dVAvqAPSgizoA3TyZOwDd3EdzPqMD0M1dOMKBdi/IZOJJiUl7AnKuuRt5zm2BG+fhjVGYeNkK65321JGFvK61QzxaVUHDg+NAF17i1tBmvIYzM1Yc+0Drf+Uzg0pj4n0SKmbDisoZZeKSijQALAH5cCbhBAt0p7JgDhyjN49NAy83z2+ib/ByeHDZkJ2bmqiZ6MW5B/3sHvzp6tLhPF9gj2aMLTWc9Kh7GaODVYVd+Fk0EBVQqdMyJjGLRDR4uHCYUy1s7lMRtp45/4OD4gqAJN07BcECMqVxAjCI3MocSDmFgyS5xAMmkKLowtgpHz2zAEyMK7y5XiQjPo9rmUccKTUlr14HYMvLrON9ZO54KPzm4WSqWECDAei/723huW3LJoPeMGS4L/+TJjTjgYd6x1Wu1ewJgX9/ZqgmObak9iyLCTUvIVGHuxdkzKBoYThcG9Vh1u1ixQMePkoFSu+rCEJudLZ6doxMMI88MVVl2WsuVj96Ce2YoJyfuk3e3V5IXlRVz/yeGM6qeik6GOfwN8nlMa/cS0+xnBgN4ft2+cJF4beyUA4XN/DCU7DNe6/dxSbOeb3/dQCaPxvWOp7Hesq6lHjNFREs1TqIcuBlhxaURr/kIODmrCV8A6xjBx1h9sNvxyhIzZigBf68v28z2n8Q53QAunmYOwDd3EdzPqMD0M1d6AD60x8fLZIC6BQoYkN04Bo9kmmhguZHhIVZ9ACFH6N8WBNlY4QzKHkkr4wXAQ+eYE/IizxiSZK1rKrmeAlpLvF8+YNAd1pVEc4sG4x7kTdGSsF0vYcqBQQq8ID6gEuErRyE5tWH4shiHOCxkqJCGiJPqRgKvSuZKB8LwPE81A8mQngZbxCesl12s96Rx4aS7LyzUxMiFWSc3CDGwtH3H6bg8Iy6sDXKEQIU4k6nbRVQYcOWPJ3oMpVqJrEYA3NA9CBxodOKcGU/VFTjw/vpag1TAchyuEEYJeuUHKXkSECRvGlQkDSn3MD5dQC39IukHbPiJD6VZiXLloAizR95GwXsMw1lvz+Jp59Fgm9MRcw23+q2nqMCOFBO+HZSLyv3TPn9aQltzsMYUTW+bXn+iBE25iZOgWJeoCU/FcBelSNgSEWoRaOcK90fzIX8EhmQlH9n7fBET9FtqCi6c3AyyDjFSE6jQnw3UMDoJ75XIm14pwHgTBkvKlVTjZP3Zc4cdm+beOKZDp77L/9rsyvgVWd0DCXAErlIuNJlIjGRG0X0ckONfYLDpUOjOgnfG2soa0/dceJjbOJhj2nRyX8Yp3QAunmcOwDd3EdzPqMD0M1dCIC+6qVnhQRAPGj5IfBw5eVm110Tk/GQDlP22ZhniBfKxlJyd4fpHBL0r7vLEI+WTSpNTCqrf9lQ0hsV8NpWVdNzKwt+8GNZwnueGQoK2iBUma+5i0OoFb4ugCsvoKHrxZH986eb/ftbqiWrpGigQg3Ii7HJlrJ7sUqYNIkbqr2V76ziIaLe1L0T/b9ke9cwLooilFeGNoBihOg+Avts6NJ71jxwfmVSmTKvTIfsFfOE/gIoVIFBVav0hDckCaeC548DYJLyZ9UWfkt5o7vvG+gxadGU1CgUHcApCaG4kMrZO4eV98aIuu1W62281Wa8sM/UgHqQa2FTrOLdb4w8943jqxsOeWEjmBaATjnnhP33OcgT1GbO/7DZZRe3+ybbzNdtOUdt9ATUdQOJQn1DmzdVa1+7NxOO9v8fjpYe3aqmYkTJO8y3nh+qmIkBmyeO+gSLHmzoXazDddQznhPnlyf3sm4DtpmPHDmoZVwo9DI1VSrkzHz8/db/+PuD4ZgWV1LiKTQk6G25TCfGNvNcOSW0sVQsUqGUmAPDb6Ko+bcWv9d03+D7ArD/0b28YEx3hB7oAHTzTOgAdHMfzfmMDkA3d6ED6DNPH+YmssjJSyIuMB4SFk4W5DLEmN6/IjQMsMBDx/0adJTrWjrEo80TAhVmTzLLSwUPvKuJ5i1/B1jXHZUFP1JvrLjC3CCtpFd3QwdvsU9IAsJzw3UU0thtr4Ens0qmz4t5ZEaKg8WoUc19AZl4pPDu5Aoi4iOy2ealhAHbVHiTrBwAHKBLSLaNOgZA+aAjbOKJZ4T9Gs99bnxp88dgcG9fJnXmV/I+kVaC9xljiHmVc7LTctoyDJTwJ71l+peD5+K9r1KLkfHBPfbcL5QdFvAQ1z2nryjcj7dvXqR9JHrI0CZ2/J+r7KbzPzaYaxWlr4cKj7jx08IAFT3JuyrqgPPv4pynCY3izjd/7r+9M1JaAkmE+VFVqEfGV2oAEoRYgwAAIABJREFUMgYCWer/SvWf7AFpf/323rL+ziSMwlOG9lVlQBCBYZ55kmP0+qaRJe7MHMULLXWYNArGOpxIxLGWjXiFq5SEVMI7Meqmz35yWMsZs7oKkqwdrNlrdrKJs/5xUII8NToFoFk3Uk4516W5EeK4Q/vinWVozJtnxYKF1l+1zp/RHaEHOgDdPBM6AN3cR3M+owPQzV1YeqBFX2BRhJNX5SVpul3qPRNf1TeJSL5loU25rtwPj8ZhR49oD+tRQxrEeelb97agkxqTyQ44LCQQEmavCCG3oYs4uMzk80qqA7xZDrVDqhAOBhNvjq+CkUtbkWTXO/3ZAcRmz+n3Z4KEXbpJcS9XAkEneCpsQLvtY7brHiGpT8li2jy1CSeUFr33CB1G8mi+ofUDGB97FEHpYdc9rfegkwII/8G3AiDAiJGmd1qhEg8xY+Jh3FhOXAUp1EZP0oxzQXJoqUczLenO+wqQc06eiIkailRGUs1eXYM+85IlIZKRhqPLCRcpEGlFO4C9lzruh6Ii0gQ/6hhb/5dn23XXXz+213wON+nhcgfJrzHPUkqKiqlovACZTrmJpcHx8LUBmU3f77jfXRYuJu3qvBQAiqIkOkt+r4rCIqXxxfxLNYgdmG0ZKHm0iXZBidrWQiPe1hrvsydkxoqPdf3Dtw73GyNBc5tzU+MYo/ni70TqUTSKdD9FR/yaqRCtyo8sQdeXhZR2JrCNegf0JvjJzKE/OsrpWqkDYfrZjx7kWtTJ8/l61ncuf0+8aSQp00qdqlorxRqvDsucXD1YC7ReMv6ixXh3R8cK7V4dnjHOwTGXqfv7dm0HoJtHrAPQzX005zM6AF3fhaI4LLj4Qtt0ycWD7HEWTrwTc9mQWRzhvu1zYFQGuCksrHXFLljoFy0yO+rYkdK+Q5tEVelb985FGS6eyYbHJqaKf2zMZfLg/tY74ZGtkheHEherVElUCAVgi9cI4Oc8xOhBow38HVDJMUYbtsRu8uYmntGiN2F9geSE+zqilb18hRWr1lofOgUGUIWySUnZgDtJO1VRTVQF/q5QcN3Uob95J+gYUuJQwQUZC9zDK0Vy7sIgw6UjUoIKEt8+8p4gz8V5ADQ4lIBVxotDm3juGddzcz1hgJjKaKs4iEorEwkB6Jz+HLPPfsyMaojik5fAdDq8F3+Hq8q7plEPAIXeJ1JuVpzxf+3mdbuNXat8DiNdNvQeWcTGVTViwq6AlxQaFGlQUqu+JdrHe4rGM+cVM7uBgxxzqojjS9YJ9zRWeNABfqvW1CfRVQFADAuiHzwnlZoUgHZjSeXJx8g1ugrHRHNxlNn2TxrxGErey27E+hULCdUpDHmS5wueEt43PxSpwzFNkEwebIHimvVrLO2soqhRuc7ggZbkaF2fSOFj0XbWe+KZVhx0eODyp5U6macqj84YXndVuFtuADi1KhqZJAjr+3VK0nTwrMdnzHaI7o7ndwC6eVQ7AN3cR3M+owPQ1V2YeiInJno2ze6oRDD31KWJJbPkBYrLd9LjnSfb/8zHAj9zHCBnUyZs2e+PVrKDP/qeN4UsdDK7WYzTe6mcrHsp+7FIw+pRDiHXsMmyWQG04SL7u5LQt2p8sYMqVRKXt4qVDGUY8N+SfyNcSZuHrh3Vhk294pWJOqKB0H7afvxDR4wMRnlEqQQAfVTmeQLI/eQHof8ExuQJAhxKyaDpy5PRIsk7p+ggX2gBSDBO8hrnHuKUxvKFT0XpuHgtzwUUY4igOMBccu3tWPBD/GmeD1jzRMI4BnqeqlVW6Yzrt69/LhgPKlqh5yqxkH4GKEuPF46utM2dPjMVPIVFYQuPOsbuesxTa3vMv7W3vrxBygtP+irrnfa0oahEccR9rU9kqKq9UoLx4M4Y47RpLPPfy7GNgaOpeVY85fnW//SHgzEMTUHPTq/FAHj8swN/P00S5JyKxEr+XBrHGAHKbdAYy+vsBvHioEhT54kmQZaIWZPRn3rM02hZXR9Jm9mTeWNRHc4dujZSkTCYs5LnOW3M35fCIuIpi5rj3x2ykRShWTNIbJQiB89csCB4lLkm0jH481AF2Zaa+i4D+q0v1s8MtYv5z7zf9+DAta+SOFWfpsYrEZRcaeSGa4MBKSqVhIyWLLUZvqn9DilpYbOdsne38zsA3TyiHYBu7qM5n9EB6BoAnYDSqUXb2RYPm0fVDTwk7vmJHrtxFbh0e4Xm2AAefIoVDznF+h99T6BSsKnhIRtXalkeazysSBpFfq2AYblJAKxS7Vy1UeF50TYI06eeQxZoFcTIQ7UANG34Rx1rxSP+ImiiUgCA+9EmNhI2L57Nu7Dh4xXiN1U5dGpK1L9W9a71u4Xz8AoT2maDQ13DtXxjgtr9Hxq8/4Sf+R8eWMLRHHdssmLzRuvfxfjMmO2+r/XOfPFIqLOSmiFAmXIfX3m22dVXhDYrbOzerygBNlb+LJtL6nsvwx01o9kU8Z5zb+aU+JzaZLlFWo2P/vTKjiFRr+w/L0YS9WgFqJSEyvNIcmJeHXOC2WU/HpFMoxx5mewnHjweb1FkAMeEuktt8GhI0U7JFMpLJrBYpXRSFFYgUfePb6sNP7uXkARCjIoqjrk/c1hiLO3p0uvnHvNYPlnAHi9/myIfqqaXKuHkS4NUWlSIBOOC+X3MA6138umhGuVFFw7mjoCkKvlNTlnx1L+2/qUX1fL7i30Osv4FXy354h4x+cqnQ8TIi29sHNbYlmKGyzVGQ8pBcpJcybeI8e3FWJooSLPcUnzexmcJvOt7IZrBTwBHEgOl7NKUTPqO15hthOoQEaTmHPdftJ0VTzgjJOh+5qNml/9oWC6SczNjZLbJ0m64vP3VZhd+tV6xJa3ymXLtaWPuTPBIT6Q95cYrfcJ65pE51Ioo/hPrBHjFwsU2tXR72/LrW3zNm3j+P8xygO6ep3cAunlcOwDd3EdzPqMD0NVdmCZ+TU1NBQCtgzCc+IdeSCDjPVbdUkkjbC77HeK6tKXXGE8E1IuRgiBpCJsQ/oLgwalYSF126VMbzP7ro9VyVwpl8wxAwk73GC45nSosVHme2KhF+6DYAVxFL6qReEZFTwAQE9JG0sw9qFsGyXD0TXrevgcHUFjl9WVD0aZM/7Ex0TZ4pgk1wccH0D0mJNsmlIs3bObFVHCMYdZ0HOUVmg2A1vUOfvtho3e1lQnnSHsyX0259rLaYs599d19OpYxvqN6g5fMVso3bcl3H0p4VHgcTzR9vhUgND9wuQHdSixUEZ261ag3YcUz/9Z6Bx9ReUb5TOamc0QrDhX/wXCqihxg+ODBE02IfgZ/pUZpXuSHx0C1OfaBwRgh0ZO+hSsvY0Xzb9kKsyPuY/bNL4TvlHsLQB99vPVOenzg7L/lZQPNdb2GjEaM0IOOsCp+f+lJF2c/LQCTFjOSNKByJThPbRVVCkAmyhDUlpR3P5sKhtu0u0RvM8iZ75xIlrTE+XZlbNOmTAaOx/k69rK/Cnz4/GANuP9D3VjxBMGq5FxdU0GHmc3reKQLygxt9MJIkR7DeucRnUTZpkq/Ws4WL1e+1myX3X3Nd1oZh5KUiZ5wf9eth+J2V/iukrwQX99Q38kcJ7N5n7vbuR2Abh7RDkA399Gcz+gAdHUXpol5IwDaSxvDQY2bRQqu60YEkIxnCM8h3l+UJlJlBrxDedW1PJzKZjTOA02VLE/kynRL5f2GZwvQVLGCtOS0EtPkLdN7CEyL68iGrTBwlWcUOgKbB3zjBz7K+pS2lTyTl/JdNtjQY9KUn4/iA8BFXlT30EI/SA71h/R02WQWLrKJ/oxNo++aSaOll7bZbN2oece5wYP+2zgAgYw/BtTpzx4bWi6r8fHOKffVUQaGRaQR+fgkigXyCjMO4xQPaoyNoYTUtA9Uqh4jYPW64cqVuec59aYrUrMPhSBeWtmr5TO5judozsmz7hQdANl2wYjLIgfeJW74XF1NndBTywqgkU7DXNvj/2vvS8DlqMq0v9OdmwQIS0ISdhQUUBJQQHBFf8YFcAOTWzcsOsM4io47jriNS8YFGUXHUXBQZxwUR8ytG8KoowL/jLgOKOiIxPldEBdEIYQEgSzkdp//eU/V6Xu6uqpPVVd3qm/n7efhCUmdOsv7nTrnPd/5lseaGwtDaKAFRzsmo2EcfxiHNny7uAX5zvVdTS/MAeytLxNBynv7zdlIlpir+Hb3XZqqRcw84OFbBRk0Ke43x9kD43TgNiukHZ+NuGNjytvoEvYgZG4UHA20e1BOO1y40rI+FFkmIigLLXPDKhrihDZYL8xBODYPc/GAVhyHbYcYNm/9gejPfDRO/hTf+qFvqAemMi+9oHUQy5yr6EuKQ2aRT7oj5n03O3/MWaxtNoSn21AXIt8hc9uGvamLTbvm6KZMIxzkS15t7Kz5YxSOPHOABDoPSiXLkEBnEGjHe7uDQOOqGRoUmHJgg/OFNsNGZR1OsImf8NSIFOF965GOK7q0WK92k8tjA20jU+AdN7yctVPExopNFRrkX/0sOgS45exVuWsn2SLQcZgwG44J5hpuVADAaDdwjNWOy5qmWGKXEnHDEOgffi/SFtrIHCaKQpeEFzAxgPZ20RLZ/eBHyLZlJ7QcH9NsnU3qdWgOYSaS/Fkij0MNNOE2FXfJbyv1dZDoRz8mOoTgkLHfgalOjcYcANopY/t6b9SnFqGMbUzttTjmjcXNlYMNv9UlZJprCmReTSbLsYPADQnqg1xxEENfbBjHbjGKrfZ9wV6SlYo41c4X7brzGETW3EJE19rm/+Pwg4ZA4+DjHh7dw6cdA+alqwFF/+PbnLbEGaZth4sjmgv8ASCPrDjwMQk0Y8HtDPCx2T+tE1mCLLrzo2uoQ3xDGD800ZgLmDv4/mz4TPtt4WCF5Cc4pOGQg0Opm1Y97WYJ/2YyS8L0AeQ3Nk1ziTLq33dprEl2buLsAFAH1if0CW1DDqgLNxZmzqJgXG/LBCj2BcDzWAbGFAcHIRNLPz40uYQ7vr1rCw/pJnbKSVzzfNYd5Bb9hOLEfodupBlU6IbwdBvoQuQ7ZG7bgNmUk2QF2tbGCU9J9evIM5ZRLEMNtF+qJNB+jEqXIIFOh9BdQFs20Cga29fBk9xEfrjm8yImLJgnu5lDRNULzhaNq1R7ZYwF017zZkk0JVapLdpaiEEIWpEvpttjqZpNLnKwkxeeK/IvH4nSx2Zl1TOVOyYkxh65FpVHX0AkbMxrw2CacWg0bKTzIqIDbTOuQK0G1cT3bUZOdMaec4vRqhi728suit+PiVOas5NLikCGDj/KaPMQZvCuu+4yPc60dcbGByIAsxIbWcOSMVybPvZxM4caVAStUjdtW5kvDyQe1/nQzIPUA08cCPDnIYcbZ6Q2W2Q4r5pN1U3PXYucpuCYZs0pkkRKN7KzvmVs7JmaUJMJb1sUfgskOrnZJw+R1n7dzJkdpp9ZBLojERAOZjakn7mFiG96zDcUA2+dtyA3awLU7eADgoNDbzLaSUx8oz5AA12LZGLJL2QS296awzJugZI/B8s8pkJpWsRUbaob6hAHLyTDMXbMsX2wdawz30Uc8gzEE/bvMBu442fRONIO+OamCQ5rStTYXNEmDGR8gLU+HagXskbiEkN8Yxt886FZD7d69O+GRMZmDXZuwKnR9wN5f9TRUnvje6JbgE+8P5KxMZWIf3ZtjG/vrB2w0VbjoGnioDdSD1e9amxTY96bQ8GO2BFyJkV8RwjPNtOnrSL7LJbaOa/oiGyUKnP7rk3z/fgnyuLTzpD79n8EQ9g5c4kE2vdhzXyW/pIs0TMCJNAZBNqmFv7+t8VE4cDG6lwdw5Gu5QRo7d3yOhMiTBG0hyAKMD2A04i9trObAbplQrLtHjmaGRu69ogRLQJtQ11hY7VaYaP5acZa3DgqwmFHiXrOGVHUj9t/GqW6xYZrbDpj574kHJb4g2wajbC9/obDUrzpJt8xWefmRlow/Gz0ALvxGuIaZQszOK77XPEUy+jXk04xzpRtBNqNSOJ6ueMq1YYDcx2vMG4bRQHOW1bri0NRN3labb2rFe76FeIAEzMNEykA18yuvW/8HCYSCFcIe0kUSosuAfJobKO3iSxeOmOqgfbRL8wpaB7xzKYJT/Yt42rZEIepK0S+fV2k4TSRR+JshvgTWnqQldaNSdxvaIQt2cUcsZFfgA+I2ZHHZJpwZCboQX02EoirYU8QqojM3xuZOFgtqjUdsZEhjANbTEKBRcLRzGviY8yGpqNDYRcsuyYb8pkYJbWp1mwG7dlwghiPm/LZTc6BcjiI4VAF0ps0Ccuan6aOOHY45o89qBlb3PjGBnIwGm7HidSae1ms7e2EJf55/QXwnZ7yvEh+t3w3aseVN/qNuuLbO3zzrdTs37x2JlW3WV/idfMZpxm79DJxk/M6H2ZmgrWadxM6dG6biVm74yscB+ObFWuv7nyf7vrW80Y/Yi+SQPsFSg20H6PSJUigsyFsxYFef4tsQWSGOG4w4pV2RKEAGfKZctiN0IY2s39iU0o64yVDI3XJGNi6AndTyFptpHU4s6Ybd/x8JuKHJe0my51ERDpNk96KSQo7xjktzZXZdF37W9SBSAXYQEE+bXZBVyOTyBZmtE4IwYcfbEetZiuH9le99p1SO/bENgKdSYSgJTSpxV1tZny9bAj0hZFnvw0HCK25S8bQP3OIcDT7OODg5zpgJm3ILakFxtam28XNnX7W/jtOU2xuOeAU+sufxpEk4ggeIHHA5957IsK0JA7rZRJEQIaReYgJ94UY0hmOikmbSrOp/+QWEURBaCP3cScX7B3ZBkNj7851zF/0w2TfdCInAAutReFG4mV/Y2SV9UsjK4YUY+xZIc2sORTaBPmEhjhpVmSd6WySHWCbGn0ljrecpWHGgRdzKEf4ubzEy8UiVXMNZ2UThjAOn2g1zu63AQ2uvf1Bhcj2ByJryDcikHhuxuyahDpN/bjliB1dkQUTc3XR4og4Yw0CdjaNuz1cW8INx17MOXw7RdrGN4l3IRvctri+EBak+Gat9qq3R/GW7UG5LV77dHzYm2MidWQ5rZbeNBMVtB2a8I0bO3Nrt78gioDiOEwaW3kkXLE+K26oSByOE9lRSaA7JUYC7Z/FJNB+jEqXIIH2Q5hqIpCMz9stBJ1twtobgpBaxxo8w+YFcubaZyZDI/lCP4H4JUOPWZMJLMpHLhPjmIbN1XUetNo8mFUYu+6NkS22CakUZ35rkeTYFhLaKJgUuBombL7QfGGzQP0gYGZDdRKEYKwJzWeL8IIUuppqn/YK4dFeAwL9hHYCbbXxSSJkQ3jhmhmEzrVPjU042hz7rDmAa7sNEmwT6Fi7T6vxtVERjDxdU4s4kYeNfuKSnbSpZ6OdYC4gkgmIoXFKS9iEAltsyug7SB3Io7V5xlzBNT7GCCKDnyF+Y6nkMepyM9rUv/n1ziguNokF6kO/Yvvj6DYiDlUG4gV8MHdsGDU4Vs2dJwuec4ZsOXVlIW2g6Q8c8hDBIXmYclKOg1CZMwzmPzACVq4jKvrihkyEbFIS6GTafts5a6PKIOwkfjnjCftXl6hES6P6vf+a8asw5hdxohQbbQMyb2mI45seOO7h38xBJjZTgc061iSET8R3jMNG0t/B3hSZmxbIcmzmkGfsoh2/BnzHsMXGd4GDEn4tk6rYZhwNwTbYhF6MvwFf3Gnj8Bhrl3H4Rl/w97QY7HHGv0FH4MgrM7dc69D0hU+KbL43sgd3E6g4a18rAlO39fqpz2zZPJNAd0qEBNo/S0mg/RiVLkEC7YcQC9jv77wzstG7dl1k/mBJgt1orKYoqzoTxSKOG212fNjtxdem2HiS2ejSQiPhvZSECx12v+ibiX/bMBoptfK8KLasjfoBTazJgufYMoL8ILtXHILOJAVw0mgbbSCckmLtqHkfGlB7rWvfx6YKDTQIa22OyKJ927P51du1Q212gG22g7BDTXFYsvhiczr2pA4TjtxOcK6c4sQlJvU2suEhvBxwMOGl5rdnS4RccICA/bE1TwARQXiqJz9T5L++EoXgAj64toXjF0hNSysXa/gy5wlCfcXhCvEn4mNbsm/fsYceazsNYmOJlSX2Nl005gvGgrCFKGdsrue1bK1tIouWRu9Pm+LDk7P82gOejc19yOHtIRAt0UJ/YKe6+b5oPi873oTuOvDZz/Om8u5w/MT3gu8MxLwjcVFM3vY/pD2F8k3fig4M0JKb5ClIfT43slvuYj5hPoMs0x/ne+vIbOkQcSMaG5qsy21RltgjAv3ZyGTHhskDMbaaYRun2h6SUBEwhnOjJcv4N2uHjO8Pc9DOFccHo0XKcdDAwRlZOUGwER3IvmdNKIw5xVhkjoUwgSZkZ3zLYE03rNmIca7ezTFPa2SHJbRAWBIO58cDDooO3jm0ykUjcORJouTfCfwluvYL6wmINQ6ZUBZgnDgI42di38f26olY9iTQJND+mddZggS6F9QKvkMC7QfsgP33lzs/fpEItEPJMHE2cUMyaoTr8W41z/Z61GrUsCnaK9akfWbB0Ei+a+O2DH4g0GnxdkG65s5LDZeUujHYzdaYoDhxUTE+kG3jhW+1U+n2iZmEF3UgcoZry2o04irSdDshwXLZQCed4FyxY+O3UUOMTTQ0cTvStbd4fviRkbY1Kx24Yz9vmsEhy9ikPhiHaEPWNusN12ISM8QkloPR7kJOIEKtJClxeWOaEGscoWHFGFz7d+usiXGljS9hxmCifuCAZc1oLLGxh6yWra0SQVQKN6wXyK4lWnG6Ztc8xEcAUh0/0WeTydJxKLPh8gyhnyPqr9/euqZvI0i/uyMyZcEB5NDDMn0H3CnQq+2ygceVt50/KWYi3VaaTifGHdFh2bVHNrcdjkkG1h7YucN0x0RCcQ7iVj44pBvtc8ph1Jpc4NvAcxyyknK1kXUw30H6jHNfbOJh54Ybfxp9OvRRkekQDi9pNwhZQOx/iAhihadlyEwcgLw3Bk5ovDLyKUq826Ow7JixbQZxhuO49Utxb6zcyESWZB9yWCuZzuLTz6QTYWLOUAPt5y2VEujzzz9/7L777vsHpdS58c72bxs2bLjghhtuiCOqzwzAV7bq510Xbq0fKSJ33H333dLwXZv7ZTaSJfa583bZePHb4w0txaYwTlncFre4dbXdiMgZNDfJTQwbIjYZkDVz7e7YZxptUj2yh3M1s7aOxftL7V0fzX0t3mYnbSNMtJG42ETguCdJ7RVv7qg3dcOymy24IEwErLkGNn4QIGMGEjslgUQmwo+12TKm2ZaC6ANHe/1s64BG1wkJlhmFw5JXkBn0CTjDnhOY20gPhqTAg39uFGvX2jXjXcgM7SBbYsbVf9aE7zjQwCYZ9SHEWdpthashRFnIBgQH2kgkMUleaVutMLSrmDdWC2kzFlriA5lY0xjcMLiOlY52tYmskrhlwH/AK0mgbf9ApKGBRvtdnEPd9OteAp2m/TVh82LTBBvSzPYBbe+9SGoX/3Pu+Z8ky2naYvg2pGVnTKabtnW1ZGxvpeAACodf6wiWkZ47bc6Y7+tHN8ZrRBzyDeYX9gQKe2QT+9tZf8xtQ30mqQ4qBqG2UVKsKZWJ+IIbKce0yDrS7rGnKNGijUPqfhHha6UMNww50uBj7tq08W7YRMgCcjK7NW5P4hCWODDiGQ7RPjMOC8iCvWayDDq3XzYBiesQmOfGwEbgyIzyEvskqNNWinreRMdcMqENP31J9M3ie7IxwbFWn/T0jrByhqgjJf2PborwMLGz48EBV2CINcakH98S25LHztvWhM6m8zaOh5HJFcPYdX4xJNB+qlUpgQ6C4O9E5IxGo3F6xGXqXxORq8MwfE+y676yVT8ngfZPtm4l5lz6Xtl+6y1RtAwTJSORqKRF1LDI1iNHHjhcIWsaFs2f3xZpiVqrKRbXepSdD5skrtQfeWQbSWuFRjJxgDe2EygbZeGU5+aODdraRGysaOPghSgd0IY2o+tELPLLT5D6X13QAUfqhoUN0m7ScVKTlp3lbrvligDRVfN32BEzdtsZxA+bZJKgpWnjW5nevp9yzW+dOW3KY5c8lsxoliRu+j8mRX9tKju8GMYJDftJJ0eRLmxUEEv4rTmHjYYAUxJstllX7wh9Bmc0yKpLPGjzHG2ZCBubom63bFydawTME3sIsQc7HDJARh69TGrPObMjXJePQKc6frZMEGIzDGtzbLNRZsxT35deRhuZlKWxGYdNdI5Y58l428l+NlYj/vHvYpvyeOtznVONSUVMrO03a28lrIMkvmnX1t3elsA8AGuQ1UbbEHHGBKkhao8Foo+IfSTswd2ml8YB/jHHiPw2jqOONt3EPsk+xsk/WodP9M2afXRT0GCuYQ055kRjluX7FbkxyPSzsP4LIKqJtbQrGTZmKp03da2U9DZ7qP2GgDtwwrd9wCEReXYxTGr5QbKxFlnuzUQqHdOBBNr3hVQcxi4IAuTzvSAMwyl0dXx8PFBKXRKG4SNSCHTXsr66Bv2cBNo/2bpidOF50gSRsiYXabGTY81lUpvRClf0y/+NiLe5uosTDxj7RG1sD2urP9amAWkR1izHqNgWuVt2qrbrRyzY2Oih4bBe/cmsYE5iiSQemRtWhklD8+tTEfH3xM1FO1nmJ9AItkIFtg4p8QWQc6XrI2h2LGjHEFhoW024q7nRpg3CaGVqCYB9qWRGs0wcYa9rnACdmwlgtfx4qZ30jMim2kYoyYj80LJLhQlH1tU75gmu6K1NdLJDsf23esyxES42jGLSxATzEFfzRy4Xufk7US05Hel88skdAxltdtHq5rluL6K57LomuFrzLKdcaIJzzp/G214ugnTN1lnQfBhxCMA2Mw5oNXVkQmRNOrCm2BCVN3+3dfVvNbfGPAcJglBPinPenEMOk8bbPtSufUeSn6UHRPHqYdON/0CqcTsCG3dbjzWrQV+SB1CsmW751gJQAAAgAElEQVT4P9wouZkQWwxxLM5UOCeKX+2YL8AXw3sD4NFWt2W6TMvqGSefcddSM09ypGV3yX4bUU8eeKGRh2xhZ552e9My0dKR6RHWhji03dhee8uOjfcylbfzQZJA+zlNZRroc845Z+GOHTvuE5EjwjD8Jbq6cuXKI2q12s9FZJ8wDJHH2fx8ZcfGxmrd6hr0c7evaZDTBto/EbVLoJObGl7H5oHoExmOSm32x8mFFRvM/gdJ/cKL2jrSIqwm2seOSFvtSYPrVpCqaUM9yD4I0o7FvEvs0dS5gs0SpM6zYeHdIjaK3SSAa1QTMtDYnz9giKB6yp+JnD4utdiB00fQ3Pq7ajvTnDn7qIF2iXweHH1aNnXkctGf/6dI65h19W6yQiZuA1yTIMxHbNg24Ylrd2s7jPqfdYao5wbRIS/nHLCv++TTkgkONDbJjdW4bt3aad6U8p3l1Sx74z07trPd5mVbPUntv2s+k3P+zGig45jwtnFoLq0pFJxycVuVjO7gIem+9WfuoYdJ4/WrW8NNxdLa8MOsCDdrMOMw0XgejAghor7gsObe3uCZG/7POka3/BqceOE2PKR1+nQjxpz4NFFHHRM5Qhdw0JyJjHF5ZIuNH9Yw65BpFircAMbzH6Y3uF3B+FD+Fz+NTTGcpC72Haw9jzyiLS17VwdCa2IFO3N7OLJ7AbDE/oEDCjAzt0szSYNqe+4lTfQ5Iw28fwcbvRIk0H6ZVkagzzrrrEMajcZv58yZs+Sqq666F10NgmCJiNzTaDQOufrqq++03feVnTt3rupW16Cfu321fZ6YmFittX43/r5kyRK57LI4Dq9fJrtkiXve/teyHfFx4bikalEGQhOOLDLnqC3cVxa94V0y//gnp9pkbvzwu2X7rT+QGhbJxK+5eaPMe9xJsu8bZzYwl2j98bXnSOOPd0VhReeMCRZTZTy3lTQf/JPMWbK/LL34kx31br35u7Lp4xeZssqx623cv0maG++R+uKlUkPYqPinH94uestDsvC1b5fdnvDU0nLOar9IO9gAN1/xcdn6zesirTk2EWMDrmS3ZzxH9jnvtYVtYO95y/kyfe/dUoOZRPxrPvSgNKBpQ81z58qcg6JLJrevkO22H/63bPnmdaZsfekBsvsznpMp89IAWrk0m1G737p+pt2nP9u0i5+Lj46dDpvbt0ttz71l/rFPMH3UTS2bL/tANG/G5kpj4z2iEW8XmDraTbVgL6ntvoeZV9rYaYvsFfyF7LXqrwrjXGT8W77/bdn4wb+Nr/oteYhjjM8Zk7mPPVZUsxlhHo89mSDDnW8YI+Zy88H7O8ax4W2v7JB/ax50+Z6S43HnUWv+1GoGJ2T1U2NjUl+yf+5v6t5L3iVbb7whto+PD+X2FmDuXKkb/4gdhdcQ9Lvo+pP27WLNw7zXDz1gvh0zl6Z3SOOBP5kxzznoUMdbOEILa9vcY0+U+sJF5htuwNQHNy52XPW6WdPMtxYf3OpL929bl5rbt0kD3ytiteOAlXMNcNcO/fA2aT4YJ4JBY3G7yPZpTFjm7yYaB7VazayLZlybN7X6qWykJftNxqYouz/j1LZ1uxvOjXvuEnyXc/Y7sG09xhqD+TPv2BNkK5LCmOyQkXmfqtVNRlKzx+y+QOaf+LTUfaLItzaCZQ9TSv16BMdVekiVEWirVa7Vao9es2bN7RhJEASPFpFfZGmgs8paDXNVz6mBLj0PZZ87fyUbL35bdH1stAOxObPxuEcSjje1JYlIDclVIKGF2+NeNbmZmjb02Tqq4Fo/5zV8URR92lPXySyr7rzX7T4NpxdPe6UKE5ekM6fNlnjNlZG9a49RForil7e8L/qKISdulIhkogej6Yo3bTdyB17MqT319dUnH5OS+VOX5P6+0trLZef6f06PbHlv/3+Rxr3gDUzmPCrgUNl1rn/u0qhfyVTizaaop58qGtkhcyRySbbh+44Wv+GdsunAw1qvdV07oAFGH6ClXbREFA4J3742clyE9rjDLv5oUc8+0yyY+vovifzitjjteGzKZpyMEzbCrhYbpkkb7o58NOBbYn8eB83U7IBuanFrMgHlAiK2JB2hYfZkSHWc5MrGg0f7sR9C7ZVvNUld7K8rzrBDP/yoyKcDP7vuGu39wihqSdI00I3wVJ8jyfZ8390oP6cG2i/dygh0TJh/p5R6w+Tk5Nr47+Mi8pEwDHHUbvvBhrlb2aqfd4OaJhz+iRiFsftAFKMVGhSb3hiL71Oe2ZYyNtN0AhuB1fbZK0xcHSbeL7r5ZdlA54pHeujhHfaSvaa+TbM/VSYdtRadYpeZp5281+0+guZimrnJdYm44bNF7maH7p9dgyvRYQOPDRmOajCFASGx9t+4Pscz1/QA3cppv+sbgZVPlo2ycZhFCL2WCcd0RDDQvzjJjc+xLNPOtWVyZVNVwxQKB4bajMY0Jfubb0wd8yinQ2UmgU4LfeiEwjMp7+0hziVg+H9fjGtP3Qe/5m1tcbqLxFjuWO9MhIk40QocXE3aemX62BqDtf8HCY4zDEaZWGMbNfdgY+KnPySCCCdwiHV/XQ54HWsH6kaIRryD/8f8wiEAzt3oL/ro+j+gzXsQBSgO24d2LdnH+ynRinxKA4w/GeXFRD65bl10aEr72Xm698Keo8745vJsfE4C7ZdapQR6fHz8PUqp54vIc+OuflVErkmLwuErW/VzEmj/ZOtWoi2RSi/hlbDgmkx4D0VROmwEBUPA/0xqK8/LvCL3LcpZmtxeNde9IJXX/rRo3Xk38kIE2iSsuCKK6W2uk6EJq0WhwDJkkZfIFx3foMobZ8nbfih66l+jRCwYH67c8Sds4KEphLMW5qFrv2tjOVui0kcNNBIRtaJWJLX4AMKGbEyCkpPEt2QEu9IkGUk6RBp7KCfMmLGLrYvsuY/J/tjNcc12r9fvsuta7PExyHPb0I2gt0L3IU62k1AnGWe46NrR6td1SDu/PiK7GeH8OpLRtMI73iyyA2nCE74e6CeINjTcyaymXeZG6tphbwpsqnC0jbCNwN1mUXUjz8DpEWsENO6W7OOgufx4US+/sOWD0XZAL+Angvcal7wjipACFXjHPI2iNdUWLJDm0cenRkca1Boy7PWSQPslVCmBRuzmzZs3f1RrfU7c1c/bONATExOX498mJydfiT+7lR2G5yTQ/snmI9B33YXoFf5fKtnqFi9565bUxCVlFmW867u2Las1bdMmIuEJNhtsQvjPbkIF4uCmIdu2kbuObzbrHrKwHfxImffg/bJ9wd75iU8y4xuuaVNuE2yf8hJ5/+wYfIkWsfvuf0ZOXhhbFKQ30uiaEFvbRJbsF5ESN3oHblZsRsySsnNHag6g1345SredZoJgkgbNM05SHb+cJL5lBmISiqT83DjbsBW3YcVMrOk4xi98FGyoNY9W13xjBclSlvTzRA/px8zJOugm4wz3unb0ctD0RhvCwQoysvPVBcKngUZYRkSoaVtMdXTrZs1QEPkEhy5oo13TEbyD6DyImoGwctZ5Ebdqy47rm09A42/+PIqOZJx44whDLolXNanvu0T0Oa9sMxfpx3yYzXWQQPulVymB9ndvNErQhMMvxyIazkIZ+9B0ToLg72Vin/Bc2+axQe624bdpE0HCcNWOTcDNqlVyfK3NFaQOV602dJZNKIGNZu5846TUQLIR/Bzik2pWgtBcrs2mHWQXwlhUI1dUVv0s3xHv26Zkto6vSLX9p/tnbEpbWrkHIg3YXntH5hwJLMv0Ed/P79574Uwq+WRlBdLWZ/WjeevNoj/1oTgjX1qp2HHB2j6bxBhwSo2cJU0iHat57+PhwYfboG5v0trNIsZzEnGGU7XrILE4uGJ+4JC8aGnHgbWXg6bXdh0aaWQ5RXQMN8lRERvoLjHkez0s+OTqe95amz5xUYRrW8x1522lZMGKF8uW56zsG2n39W02PCeB9kuJBNqPUekSJNB+CAsRaGQUS2o+bAgjED+r4bPN5ryi9veys0S/NGTJmjs2HTs+k9K52W5LmHN8WTbUGljC9tzVpsLsAmTP2E2KzNnvAJnGtbGzqUJLlGoyAPtf9HO/Azs1ThmHmao22V5k3iIkONRY22ZbkQ3ZBeyAFeL2wha0jRztbTTBadnfeukP3jEE+oLzouvytLjgkImbZKMHx1Yz7p/8QGT7wzOkOK3DIM0mLTki6MR20TspfGERUtst3nWvcsjSEI+NjckOaGIT6a9b4QpxwEHUFjjhAT83xJxzYO3loNlGuttumaCN1SL77mdMJvKk93Zx8ZnYtOyRb/pmZEKBOQiCjvW5wC1EL7Jo6xswdZ0HsTaZs15s0nHwYXLwP61ps1Hvpc1Re4cE2i9REmg/RqVLkED7ISxCoFPJFq6oEUc16aiCpgekgfaPqnuJbtfKJjEDnL7gPY6fa0ebdETLMb6uWrgTn+ZETqhHhA/EEATQJGloRKHXcAXr4AkCmGoyACc6aHxgTwkTBvzsxo0rW2hfH3dSm3YtczPGe4cfGcW6LRCftqxsur3fIiSwt7fpgu0L1sYZ19cDvpp2+9jSQKddqVuZxbbHeWKMJ8dv5PPWl0VOYlaeafak+P5MJsNaRJKsMy/eKZFAp4wJRnryjTiJBvrbY8bFtDmSpSE2BBpzf9GStrjGto68B8i85dy+5SHdtfNeVzj2uJkGGSY2bQmarENhIvNi7cTsBC5lv982nLCOYf1056t1HIwjPB182hmS14SwbN9my/sk0H5JkUD7MSpdggTaD2EhAp1mOuEmIYCdZ59shP09762E71rZhGJyswy6drRGM4yMWwd1zRrn9sy38RoHODjzWO2l1XiD7DYRc3eu6KUHRlXGGm+TMc0l+bZB68yJOkGi3RBk0EgiEoRtJ80cxDqRWuenO34WhcDK0Mr1JoHe32oREvQnmXUNpDHWspW1gS/SQ68NdA4/gG7tdWSNM9q7psh0I443KVGyDIzdJP4w9CrSRCMtNhzeYP/s2sA6B79uBBk1ZTpHZiR8aTnz4dD1hztnNI42S5+11zYhzhb1LfpCFllN00B3kNy0b8kefmLNtU/rm2Y25vv2BzFPq2gzE0+z/twbacCt1hnzEmtQHKHpoIMPJoFOLAAk0P4VmATaj1HpEiTQfgiLEGir+TBREK7/d5G7fhPHDp4bkcAuV6D+nuycEr4Npi2FtBkwNoGNkY1yFxKa1Xuv85GbDhiVJDTeaRpoQx7TTAZA9vE+SP6Bh8w40UEriXFYTWSfbCx3jsRmWsm0G8e9MDRysFF/6jMlSWbKaFF9Y0QYyN9f95X0qCBxiLMyNvmR+cbNkca9lRI5npeQI36w28X1vKtphBnPnb+OTFky7GszTYFQJ0Kzudkgu9ja2nWhg2xD8wv/Aex2VjtuAXXiDbeiVyDkn3PbAW2qCY2W+Pc0R7e8NtBJeRaxbfaZjXXMMxxEIaNkfOQY3zLzouf1Jmc2St+8z2z/Q29vX5tc0xXEpN5tD6md9/qWs2LR/afXfs2m90ig/dIigfZjVLoECbQfwqILWKoGd8B2pv5R5C/hJbSIfnH379sjKmATgDc5/kOItEMPb7Oj7WoS8uF3ZNvHJtMBg6RYjXdMetNsoA2hyPLCdxPJoP4eHCC9GA14E86SZsfcA2kGsYT5xtIDRCFk4vIT2hySfDcOZUgM6t79urXy4H99LSLwlix06U+3mZo2jwRRYAwxfnjG0dRqcc2hYU8RJLy4715jpmDtu9FOi9DiLwnba9jJmjTyX18b9Rsk26bRhhkQbpZAwv/4+xlzJrfzCfOlVAJr4g1HWTDN4dpc38fkH32Huc3yE0T23qczkQ/6tM+iyHQlxy1IloY4GYWjg0Cn+XXYQjlMtGzRzHlmTaFwS5CQUZ548flXtqhk5oEA/dgMMyAdmThhrpw0Y8rRr0NmHrMVN+550f2nKB6zsTwJtF9qJNB+jEqXIIH2Q1h0AYs2yksjW0uTVSy2acQGobU3bJ2/R4Mt4dU4QWt02BHRhp5CPNK0m92uueX+zelkF3Vjgz7qmCgcFZwJgadJo96MNrq586S+cN+OKBxdk59seSjK7IbQe/9zU0QuYc89f/f2a/yEA2TbBvpjvNfM9d5gpdVZu08LmHzDl0HNYAWS14OdN+pWX7hcGiCfHg2tD6fm9LToT18ictstkQ0zCC/qhNZO1aNMdQhjB4fTWHtrzDK62BF77WS/8dXY3j5yWDU/G2kGqalhj4/vOs05MjF/Ug9dIG3IQofxoK+xY2yrHeCGZCSoKxkCEO3j5gdh1qBFt7/E7UnbvDVmPXEsesz7fZfK4tPOkI1LD2nXZC9cLGq/AyO59ylMpe9maxDmGmlzKpXA2ls0KAAwr3AwyUpkg7IlTLaK4lB0//F9R6PwnATaL0USaD9GpUuQQPshLLqAmQX6RzdGxBm7rtGGxe1gcT7+yVJ/6QX+hisqkUdDUsSxx7dhqJOf0zVNsXrxq0T/7NYo+YlJkgEwY7KxcLHMXbxUHkYcaCdGa157zDxjhTaoQ3s2oNB9ZUXei5YsV9p3EMQeSAPqrv9yvTT22KtzaEW1l5/8e5Ef3dSeBMUc4MYi8ygPkSyCbWvOwjYVRNOG9rPhAGHqg//HfISJUTLesD38OTcRmQdTHOQwn3DgxoHAZmHEgQ4kGfVjLbFOu3YgSXt+d4AxtvhOfTbaWN/uvPQDMxputI+oG8AUBB6hDxFG0vx9bkTWe4hUMSy3Npk3AffeEyG4eOmMg3F8GOm6RtkDec5DZt61yYqz6P5TZJ7P1rIk0H7JkUD7MSpdggTaD2HRBayx+rVRymRsfK5jEjZcaKwOOFTqqz/mb7iiEj7CW1RT5N04oWG2V9SGEIEwxEkFctiZLn7DO2XTgYfNeN1be1CrRUM2voyr4bxj7SiXMCPJazs9SJH2aoqRSeyS9uIZGs5uY0Ld9T9tkga0qMlfzhCHeK3DUdDWZb6pRqS5xbcGc40ewuAlu9aasybxzJboW7Y/G2kG5DLNnAnlUmzoMw9rwHnD3TOxuRM4dzjR2udwpkU7aWmuY2xrp67ITmATO28u2neR3PvR985ouNPmNsh8FxOtPPPae7OVEQUkT91FyqQSWNiiw8wuy6E06xCD+WdNwgocMovcEhXdf4pgMVvLkkD7JUcC7ceodAkSaD+ERRewxtteLoK4qtDYJX9YpBcvlfpFn/I3XFGJohoSXzfzbJy1N743M1RVR9g8t8E/bZbdj3+SbJt4mVfTlmZPmXesHYeAko6TPsySz/NolvMeBlLJYpq9eA4Np2urmTamfmmgDf6IgGJScMeJXlxCCwId2973I2tca86ClCejmUAjDZORBXuKuR35+U9ymTNlygeaXRzwsF5YDbRzgMw0ccohH6Ml90TQ2H233WTLD2/sW1jKrLmd97an6LfRS/kOAguFB2S996LO+PA4jEADD0180lSnD4dMX/+L7j+++kbhOQm0X4ok0H6MSpcggfZDWHQBm9FAQysWOwWhGYTWgvYq1kDnIUX+3nUv0WsbRTQkvj6W3Th9BHze/gfJjlOe79W0KTiSpfzyjDW1D8n40Y9/Yl8TkNiu5tUsezX9GY6NmcQuLWa27VRO7XG/bKAN/r/5ZWTK4GqD0R8QWvxOfLr4CL1vrrY4uXWcg7mCjTCDhyBZCH0HsnvKc000E/Nb/yPxxbDuelg78WmijjpG9M3f7UgbnWnPn8MGugkHyKwENrEM542NyXZoUTPCRLbCUmKcOeWe+p0Z35CMdO4lQxnmlWvP5D4ZCchWlOMQU3ZOFt1/ymIxG94ngfZLiQTaj1HpEiTQfgiLLmCNf/5I5Jxm0wTbiABoCimDj3uS1P7y9T1pTP29nSmRl3gVqbOXsr1qRjvITIadKTTQWx56yKtpK7ORlT0E9IJbi0DnJB6+g0ZmooystO89ZG1MjrMtCoeZ/+3mOXkjfBj84TwIjZ8bqg51OuHesg5JRfFvm7OwsYYZB5wT47B46rSVop43UTi9cp7DWhqGqdFCWlE4NkWvpGBrbm+6JbB5zLFiNNCwLbffV8nESFlY573tKSqrfpT3rVGZNtB9OGT6+l90//HVNwrPSaD9UiSB9mNUugQJtB/CoguYWYw/d2m00ZsoHNPR5gZv/WZTan/+GtPooLUxvk2hqC2zH6n0EmU3Tt84YAN977992qtpq7/p/b0OIbLBrUh7llezXIbkpxE7tWR/0d++NnKoyhHjuC1BiBMCzHw/1/+HV0PbTTitb8raJKMwDqaIOw4iiUPpK95cmNDOFrLXLVqIiQNtE/w4YfpgspRn3uaygcYc8MRGz/Nx9XKAyFNv2TK+NQohDfU1V3aa6vThkOnre9H9x1ffKDwngfZLkQTaj1HpEiTQfgiLLmC+xRhaN59dr/QhjnBe4uVHoHyJMhunD8+DX/M2ufP9b/Fq2spooH19yKtJ7QXJvJrlPGSpiIY275h9Nx2Qzx/++Mdeht56p9XGTd+KzDhA5uCQC3vo5ceLevmFUsMhtY+/MnO2j90oVVUeGbZF4UBrsCdvReHoPepGqY5X8LJP3mUPmb0Oqej+02s7s+k9Emi/tEig/RiVLkEC7YewlwXMtxjnJUX+3mWX2BltlOlfkXe74YlUt7+/9ssD1xD7ZFpkPEXK5tUs5yFLRRNToM62rJro+IGHinr2Ga2ELD7ibqOkFBlzWtmq8C/b76rf9+FmUq3feWe7HTci2Cw9QHSXCDZVj8ttv1dfj7JjGMQ3l+xTL/tP2XEN+/sk0H4JkUD7MSpdggTaD+EgFrC8pMjfuy4Euk8ZxMr0YWe8awlAt6xyg9QQD3qMPoLqmuL4yFLRvvq0y3luU2Cjvv2s84s2zfI7CYFBrG87qeummTxztOjBsUj/+/3NkUD70SeB9mNEAu3HqHQJEmg/hIPYYIqQIn8P00vsjDZ67Vs/37PyGfRG1s8+F6lrZ2i5svqTZw75Ij0gSsr0695dZMgs2ycE8mhmB7G+9an7uarJM0eLmC7lanQnFprt8hkEVCTQflRJoP0YlS5BAu2HcBAL2M4gRTujDT96gy8xCPkMvtfFWqjqcJDHjt448XWJ9EANdDFZ96t0Xs3szvx+8hD6ouPPM0fL+D8U7U+/y+9M+fS774OqjwTajywJtB+j0iVIoP0QDmoB2xmkaGe04UdwsCXKymcQm/pgR7zzas9jR+/LdtcvG+idN+rRaCmvZrbs95MXrbyEPm99tlyeOVomAk/R/vS7/M6ST7/7Pcj6SKD96JJA+zEqXYIE2g8hFzA/RlWWKCOfQW3qVeLRz7bz2OrXznvdTExzNG7jEUMzffiRsvveC2XL738riENdO+npIsuO61u4uX6OddTqyquZLfP9FMEsL6EvUifK5pmj1EAXRXW4y5NA++VDAu3HqHQJEmg/hDtrg/H3hCXSECgjn0Ft6qMiqbz4dNx0LFwsghTVd/xMsNk1kJHTSU89m506Z4ts82pmy3w/RbDIS+iL1Imyeedo0XqHpfzOks+wjDdPP0ig/SiRQPsxKl2CBNoPIRcwP0ZVligjn0Ft6lXi0c+2e7Wjd0nN2O57yI4dO6Ju9SEZRz/HN8p15dXMlvl+iuCXl9AXqdMQ6KxMmnh40skm3fogo3AU7W/R8jtLPkX7VWV5Emg/+iTQfoxKlyCB9kPIBcyPUZUlysin35v6KNpT92JH7x5MxsbGZgg0JsqfNks/EgVVOedmQ9t5NbNlvp8iOOQl9EXqtGV7maO9tFPFOztLPlWMrdc2SaD9yJFA+zEqXYIE2g8hFzA/RlWWKCOffm7qtKeemQXuwaSDQG950NhDz2bHrirne96282pmy3w/eftiNMU/uWXgyY6K9Ge2lN1Z8pkteKCfJNB+aZFA+zEqXYIE2g8hFzA/RlWWKCOffm7q/ayrSjz70bZ7MKEGuh+I9lZHHs1sme+nSK/yEvoide4KZXeWfGYTliTQfmmRQPsxKl2CBNoPIRcwP0ZVligjn35u6rSnnpkFtIGu8oso1naZ76dYS5G9sqz/kTR/8G2R+zZEkVlOPJmRWboAuTPlU1SeVZUngfYjTwLtx6h0CRJoP4RcwPwYVVmirHz6tan32566SkzLtu0eTOr1GqNwlAV0gO+X/X4G2DVWLSKUT+c0IIH2fxok0H6MSpcggfZDyAXMj1GVJYZFPv20p64Sz361bQ8m89ffIlvu/A21jf0Cts/1DMv30+dhjUx1lA8JdC+TmQS6F9QKvkMC7QeMC5gfoypLDIt8aAOdPguGRT5VztFhbpvyGWbpUAOdJh1qoP1zlgTaj1HpEiTQfgi5wfgxqrLEsMinn/bUVeLZ77aHRT79Hteo1Ef5DLckKR9qoHuZoSTQvaBW8B0SaD9gXMD8GFVZYpjk0y976irx7HfbwySffo9tFOqjfIZbipQPCXQvM5QEuhfUCr5DAu0HjAuYH6MqS1A+VaLvb5vy8WNUZQnKp0r0/W1TPiTQ/lnSWYIEuhfUCr5DAu0HjAuYH6MqS1A+VaLvb5vy8WNUZQnKp0r0/W1TPiTQ/llCAt0LRqXfIYH2Q8gFzI9RlSUonyrR97dN+fgxqrIE5VMl+v62KR8SaP8sIYHuBaPS75BA+yHkAubHqMoSlE+V6Pvbpnz8GFVZgvKpEn1/25QPCbR/lpBA94JR6XdIoP0QcgHzY1RlCcqnSvT9bVM+foyqLEH5VIm+v23KhwTaP0tIoHvBqPQ7JNB+CLmA+TGqsgTlUyX6/rYpHz9GVZagfKpE39825UMC7Z8lJNC9YFT6HRJoP4RcwPwYVVmC8qkSfX/blI8foypLUD5Vou9vm/IhgfbPEhLoXjAq/Q4JtB9CLmB+jKosQflUib6/bcrHj1GVJSifKtH3t035kED7ZwkJdC8YlX6HBNoPIRcwP0ZVlqB8qkTf3zbl48eoyhKUT5Xo+9umfBI1WEcAABZVSURBVEig/bOEBLoXjEq/QwLth5ALmB+jKktQPlWi72+b8vFjVGUJyqdK9P1tUz4k0P5ZQgLdC0al3yGB9kPIBcyPUZUlKJ8q0fe3Tfn4MaqyBOVTJfr+tikfEmj/LCGB7gWj0u+QQPsh5ALmx6jKEpRPlej726Z8/BhVWYLyqRJ9f9uUDwm0f5aQQPeCUel3SKD9EHIB82NUZQnKp0r0/W1TPn6MqixB+VSJvr9tyocE2j9LSKB7waj0OyTQfgi5gPkxqrIE5VMl+v62KR8/RlWWoHyqRN/fNuVDAu2fJSTQvWBU+h0SaD+EXMD8GFVZgvKpEn1/25SPH6MqS1A+VaLvb5vyIYH2zxIS6F4wKv0OCbQfQi5gfoyqLEH5VIm+v23Kx49RlSUonyrR97dN+ZBA+2cJCXQvGJV+hwTaDyEXMD9GVZagfKpE39825ePHqMoSlE+V6PvbpnxIoP2zhAS6F4xKv0MC7YeQC5gfoypLUD5Vou9vm/LxY1RlCcqnSvT9bVM+JND+WUIC3QtGpd8hgfZDyAXMj1GVJSifKtH3t035+DGqsgTlUyX6/rYpHxJo/ywhge4Fo9LvaK0fJSK/3LBhgzSbzdL1jWIF++23n9x9992jOLSRGBPlM9xipHwon+FGYLh7x++nUz61Wk2WLFmCB49WSt0+3BKspneqmmZ3rVa11k8TkW/vWqPmaIkAESACRIAIEIFZjsDJSqnvzPIxDKT7JNADgbW9Uq31PBE5UUT+ICKNndDkrGvi1a9+9R2XXXbZYbOu47tIhymf4RY05UP5DDcCw907fj+p8qmLyAEi8gOl1PbhlmA1vSOBrgZ3tppAIAgCHYYh5+OQzgzKZ0gFE3eL8qF8hhuB4e4dv5/hls+w9o6EZVgls4v1iwvYcAuc8qF8hhuB4e4dvx/KZ7gRYO96QYAEuhfU+E7fEZiYmFg9OTm5uu8Vs8K+IED59AXGgVVC+QwM2r5UTPn0BcaBVUL5DAzaka6YBHqkxcvBEQEiQASIABEgAkSACPQbARLofiPK+ogAESACRIAIEAEiQARGGgES6JEWLwdHBIgAESACRIAIEAEi0G8ESKD7jSjrIwJEgAgQASJABIgAERhpBEigR1q8HBwRIAJEgAgQASJABIhAvxEgge43oiNc3+mnnz5vzz33vFRr/SwRWSwiv1dKfXBycvIzGHYQBCeIyD+KyLEicq/WevXU1NTnLCRBECAj4yUi8lgReVBEPrds2bK/Xb16tclvftZZZx3YaDT+WUSeISIblVLvnZyc/LR9v+zzERaNGdqg5RMEwa9FZD8nGdB0GIb7UD75ZlYf5PNsEfl7ETlCRH4nIm8Mw/DrtvVVq1Y9ttls4vs5TkTuFJE3hWH4pX49zzfK2Vtq0PJBKDsR2SoiZr0TkdvDMHwc5ZN/zgRB8HEROVNE9haRB0QkFJE3h2H48LnnnrvX9u3bL1dKPR84K6UunZycfK+tvern+UfJkrMFARLo2SKpIejnS17ykj22bt36lnq9/tk1a9b8atWqVU9sNptf01qvmp6e/v7Y2NjPlFLv1lp/utlsPqFWq10nIs8Lw/A7QRAgq9E9WutLQLrr9fohjUbjG1rri6empj4ZE/BvKqVunzdv3mu3bNmyvFarXSsiZ4Rh+M1+PB8CCAfahZ0gn18rpd4wOTl5TdpAgiAoJb+BgjMElZeRz4oVKw6v1+u3aq3PWr58+Vdvu+225yql1jQajWOuvvrqX51//vljmzZt+l+t9RcWLFhw0YMPPvgspdQXReTxYRj+suzzIYBv4F0YpHzi9QsE+rgwDP8nORjKJ594cUicO3fub6+88sqHzj777MXT09Oh1vo/p6am3jcxMfFZrfV+O3bsOGvevHlLm83m/9Vav8Mqcap+nm+ELDWbECCBnk3SGsK+BkFwtdb6tlqtdqPW+vIwDA+13QyC4F+11mpqauq8IAgWQatcr9cP+uIXv3gXykxMTIBob5+amnrNqlWrHtVsNn8+Z86cA6+66qq74+eXiciCycnJvyj7fAih2yld6pd8YgKQSaApn97EmVc+4+Pjr1JKnRWG4dOd7+sbSqlvIn76+Pj4M5VSUwsXLlz6qU99akcsr/8QkZvDMHx32ee9jW72v9Uv+fgINOVTfK4EQbBERL6olLpz69atfz1//vxNzWbzqWvXrr05xvtCEXl+GIbPeMELXrB7lc+Lj45vzAYESKBng5SGtI/nnXfe/IceeuiXIvIGrfU2pdQ/hWF4iO1ufOI/JgzD4/Fv4+Pj/1Kr1X69zz77XHz//fcfGmsIXjU1NfW1IAheJCIfD8PwYOf9l2utXxWG4XFlnw8phAPtVj/lYwm0iOwmIrhN+EVsYvPV+Fkp+Q0UiCGtvIh8giB4jYisCsPwZIdA42ZmYxiGKyYmJi7QWq8MwxBmUuY3Pj7+fqXU0WEYvqjs8yGFcKDd6qd8HAL9BxEZE5Fba7Xa365Zs+ZGPKN88osyCIK3isg7RGQPzP9ms3kazMpqtdoPN2zYMHbDDTdMx3jD5GkyDMOFK1euPK7K5/lHx5KzCQES6NkkreHqq5qYmLhSa33QsmXLnvnjH/944Zw5c34hIu9auHDhJzdv3nyS1vprMNsIw/DR8SZxqtYaNpoHxCTs0jAMXyciOgiCl4jIW8IwXO4QgEAp9QG8X/b5cEG3U3rTV/nEhOzk7du33zI9Pd1YsGDBShHBgejpa9as+QHlU1imheQTBMFRIvJjaKHvueeeryxduvT5WuspEbkhDMNnTUxMvFNr/cQwDGH/aX5BEEADd2o/nhce3ex/oa/yide/Ux544IHvLV68eM7WrVtfCXM3EVkehuFvy8pv9sNdfASxzf+5jUbj8lqtdphS6mthGC6wNa1aterEZrP532EYzhkfHz+5yufFR8c3ZgMCJNCzQUrD10c1Pj7+CaXUE0TkWWEY3h9vEE/VWn9IRLDZ/1Rr/UOl1JPCMHyiJQAi8uINGzZcs2jRoiX1ev1KpdQtk5OTb4k1zB9zNdjj4+MvU0q92tFA9/x8+CAcaI/6Lp+03k5MTEw2m81fTU1NvbWs/AaKxvBVXlg+8QHmDKUU0t0/QkS+q5S6v9lsjk1NTa2KNZgrEhrq94nIMkcD3fPz4YNwoD3qu3zSehsEwfeVUp+ZnJy8vKz8BorGEFc+Pj4OJcsrms3mhbVa7ZYNGzbMtRroiYmJZ2mtQ0cDXdnzIYaQXSuBAAl0CfB20VdVEASwTX7S2NjYM7/whS9sysJhfHx8jVLqN2EYvjkIgnERudhqo2MNWUvrbG1op6enD1i3bt09MWG4VCm1VxiGf172+S4kq4HIJ4MAfFFr/WsQaMon9wzrST4Z+N+ktf7s1NTUJ2Ib2nDhwoX7OTbQX8Ehdmpq6l1ln+ce3ewvOBD5ZMjvRqXUFSDQlE9vEycIgnNE5APbtm17LGycReQpYRjeEit03qS1fiH8BqwNdFXPexsd3xp2BEigh11CQ9a/iYmJy7TWT5uenv6zdevWbXS7BzuzLVu2/HTBggU1pdSLtdbvq9frx8FpMAiCw0RkvVLqnKOPPvpL69ev31dE/k1rfffU1BSINK6cvyUiP9+2bdvr5s+fD1MOROE404nCUer5kEE5kO4MSj5BEByqlHrkAw88cNMhhxzS3Lx584tA3mq12inWjrOs/AYCyJBV2qt8MIyVK1c+YePGjf+z11577TZv3rwLROQl8+fPfzwiEtgoDkqpzz/wwAMf2HPPPZ+ptZ5MRuHo9fmQwTiw7gxKPqtWrVrebDbnLVy48NaHH364vmXLlvO11u9HyM8wDO8oK7+BATJEFQdBsEBrHUxPT6+75ppr7g+CAHvEGq31d6amps4PggAhUxFe9exms7m0VqshCsc7bRSOqp8PEZTsSp8QIIHuE5C7QjUrVqx4RL1eRyzg7SJiHDXww6Y8OTn5SkTdEBE4k80Rke81m80L1q5du96WC4LghSKCK+hHiQicDq+v1+tvuOqqq+6NCfRBIgIbaUQauE8p9R43DnQQBKWej7qMBimfIAiOFpEviAjs2SH7n8dOhF925Ev5dJlkfZDP9SLyRPgMiMj1jUbjDVdffTXiPZtfLCPETYfT7p1a6zdNTU39e7+e8/vxrm+Z8pmYmDhFa/0JEUGUom0i8hOl1N9OTk5+l/LJN7MQZnDbtm0IoYn5PS8Oi7p2+/bt7/7yl7+8BXGed+zY8UmttYkDLSLwsXmPrb3q5/lGyVKzCQES6NkkLfaVCBABIkAEiAARIAJEoHIESKArFwE7QASIABEgAkSACBABIjCbECCBnk3SYl+JABEgAkSACBABIkAEKkeABLpyEbADRIAIEAEiQASIABEgArMJARLo2SQt9pUIEAEiQASIABEgAkSgcgRIoCsXATtABIgAESACRIAIEAEiMJsQIIGeTdJiX4kAESACRIAIEAEiQAQqR4AEunIRsANEgAgQASJABIgAESACswkBEujZJC32lQgQgV0CgSAIzldK3TM5OYnEEfwRASJABIjAkCFAAj1kAmF3iAARIAJBENystb5tamrqPKJBBIgAESACw4cACfTwyYQ9IgJEYBdHgAR6F58AHD4RIAJDjwAJ9NCLiB0kAkRgFBFYuXLlslqt9mEROUlE5onIb5VSl2qtAxF5RmLMfxmG4RX4t/Hx8ZcppS4QkUeLyB+11pdNTU190JYfHx+/Qim1XCn1Pq31xSLySBG5WUTOD8Pwp7ZcEAR/JSJ/IyKHichDIrK+2Wy+au3atetHEW+OiQgQASLQTwRIoPuJJusiAkSACOREIAiCX4nI/yqlLms2m9tF5Cil1F4i8iURWSsiv6rVau9Fdc1m8/YwDDcEQXChiFyktf6gUuoGETlBRP4ORDgMw0tjgg0C/TwReUBr/U4R2aqUQpl99thjjyOuuOKKbRMTE0/XWv+n1vpdIvLfcbtP1lp/eWpq6ns5h8BiRIAIEIFdFgES6F1W9Bw4ESACVSFw9tlnL56ent4gIseGYfiTZD/STDjOPffcvR5++OG7tNYfmpqaAiE2v/Hx8fcopc4XkYPCMGzEGui/0Fo/1ZLhFStWPKJer9+ulHrN5OTk5RMTE2/SWp8dhiEIOH9EgAgQASJQEAES6IKAsTgRIAJEoCwCq1evrq1fv/7XIvI7EfnY9PT0N9atW3ePrTeNQE9MTJyqtf66iCzbsGHDz23ZxYsXP00p9Y1Go/HIq6+++jcxgT49DMP93H4GQXCTUmr95OTkSycmJp6ltb5OKfWPIrJOa31jGIYPlx0X3ycCRIAI7CoIkEDvKpLmOIkAERgqBFauXPmYWq32fhE5TUR2E5HvNpvN161du/ZHaQR6fHz8XKXU57sM4uQwDL8TE+gTwjA8JkGgvywic8IwPB3/PjExAS3160TkOBF5UCl15bx589585ZVXwh6aPyJABIgAEeiCAAk0pwcRIAJEoEIEzj///LFNmzadLCJ/DzOMZcuWHbx+/frvJ8PYjY+Pn66U+qqIPL/ZbN6d7PKOHTt+9qUvfemBPBroBLFeorVeoZT6B631x6ampt5aIRxsmggQASIwKxAggZ4VYmIniQARGHUEJiYmztZaf0FE9hWRryAqRxiGZ9lxn3nmmfuMjY3dpZR6/eTk5Kez8EizgQ6C4FARgQ30a2EDnfZuEATXisj2MAxfOOpYc3xEgAgQgbIIkECXRZDvEwEiQAQKIrBy5cpja7XaJSKyRin1q2azuVAphYgYEobh4ycmJj6jtT5VKfXSRqOxsdls3rFu3bqN4+Pjb1ZKrRaRj2itv6WUqimljtRanxKG4YvwfkygTRQOEXkHonDEkTr23WOPPR6FKBxBEMAJcREieWit79VaH6eUulhr/dapqamPFhwOixMBIkAEdjkESKB3OZFzwESACFSNwIte9KKl9Xr9w0qpp4rIgSKyGY6AWuu3hGH42xUrVhxer9c/JSInighC27XiQE9MTLxYa4040EeLyDYRgUPhmjAMP+IQ6OVa64tAikXkEYgDXavVXrFmzZrb4jLPj2NJHysie4rIb0TkX8MwhBmJrhoftk8EiAARGHYESKCHXULsHxEgAkSgAAI2kUoYhk8o8BqLEgEiQASIQAEESKALgMWiRIAIEIFhR4AEetglxP4RASIwCgiQQI+CFDkGIkAEiECMAAk0pwIRIAJEYPAIkEAPHmO2QASIABEgAkSACBABIjBCCJBAj5AwORQiQASIABEgAkSACBCBwSNAAj14jNkCESACRIAIEAEiQASIwAghQAI9QsLkUIgAESACRIAIEAEiQAQGjwAJ9OAxZgtEgAgQASJABIgAESACI4QACfQICZNDIQJEgAgQASJABIgAERg8AiTQg8eYLRABIkAEiAARIAJEgAiMEAIk0CMkTA6FCBABIkAEiAARIAJEYPAIkEAPHmO2QASIABEgAkSACBABIjBCCJBAj5AwORQiQASIABEgAkSACBCBwSNAAj14jNkCESACRIAIEAEiQASIwAghQAI9QsLkUIgAESACRIAIEAEiQAQGjwAJ9OAxZgtEgAgQASJABIgAESACI4QACfQICZNDIQJEgAgQASJABIgAERg8AiTQg8eYLRABIkAEiAARIAJEgAiMEAIk0CMkTA6FCBABIkAEiAARIAJEYPAIkEAPHmO2QASIABEgAkSACBABIjBCCJBAj5AwORQiQASIABEgAkSACBCBwSNAAj14jNkCESACRIAIEAEiQASIwAghQAI9QsLkUIgAESACRIAIEAEiQAQGjwAJ9OAxZgtEgAgQASJABIgAESACI4QACfQICZNDIQJEgAgQASJABIgAERg8AiTQg8eYLRABIkAEiAARIAJEgAiMEAIk0CMkTA6FCBABIkAEiAARIAJEYPAIkEAPHmO2QASIABEgAkSACBABIjBCCJBAj5AwORQiQASIABEgAkSACBCBwSNAAj14jNkCESACRIAIEAEiQASIwAghQAI9QsLkUIgAESACRIAIEAEiQAQGjwAJ9OAxZgtEgAgQASJABIgAESACI4QACfQICZNDIQJEgAgQASJABIgAERg8AiTQg8eYLRABIkAEiAARIAJEgAiMEAIk0CMkTA6FCBABIkAEiAARIAJEYPAIkEAPHmO2QASIABEgAkSACBABIjBCCJBAj5AwORQiQASIABEgAkSACBCBwSNAAj14jNkCESACRIAIEAEiQASIwAghQAI9QsLkUIgAESACRIAIEAEiQAQGjwAJ9OAxZgtEgAgQASJABIgAESACI4QACfQICZNDIQJEgAgQASJABIgAERg8AiTQg8eYLRABIkAEiAARIAJEgAiMEAIk0CMkTA6FCBABIkAEiAARIAJEYPAIkEAPHmO2QASIABEgAkSACBABIjBCCJBAj5AwORQiQASIABEgAkSACBCBwSNAAj14jNkCESACRIAIEAEiQASIwAghQAI9QsLkUIgAESACRIAIEAEiQAQGjwAJ9OAxZgtEgAgQASJABIgAESACI4QACfQICZNDIQJEgAgQASJABIgAERg8AiTQg8eYLRABIkAEiAARIAJEgAiMEAIk0CMkTA6FCBABIkAEiAARIAJEYPAI/H/MjGAZ0nf4PwAAAABJRU5ErkJggg==\" width=\"576\">"
      ],
      "text/plain": [
       "<IPython.core.display.HTML object>"
      ]
     },
     "metadata": {},
     "output_type": "execute_result"
    },
    {
     "data": {
      "text/plain": [
       "<matplotlib.axes._subplots.AxesSubplot at 0x7f5f8458ee10>"
      ]
     },
     "execution_count": 25,
     "metadata": {},
     "output_type": "execute_result"
    }
   ],
   "source": [
    "# View history\n",
    "df = pd.DataFrame(data).T\n",
    "df\n",
    "\n",
    "df[\"steps\"]=df.index\n",
    "plt.figure(figsize=(8,8))\n",
    "sns.regplot(x=\"steps\", y=\"reward\", data=df, order=1)"
   ]
  },
  {
   "cell_type": "code",
   "execution_count": null,
   "metadata": {
    "ExecuteTime": {
     "end_time": "2017-11-12T23:22:30.507891Z",
     "start_time": "2017-11-12T23:19:11.316Z"
    }
   },
   "outputs": [],
   "source": [
    "# agent.save_model('./outputs/tensorforce-PPO-prioritised/tensorforcePPO')"
   ]
  },
  {
   "cell_type": "markdown",
   "metadata": {
    "ExecuteTime": {
     "end_time": "2017-11-11T14:18:45.083902Z",
     "start_time": "2017-11-11T14:18:45.054430Z"
    }
   },
   "source": [
    "# Test"
   ]
  },
  {
   "cell_type": "code",
   "execution_count": 63,
   "metadata": {
    "ExecuteTime": {
     "end_time": "2017-11-12T23:47:15.646789Z",
     "start_time": "2017-11-12T23:47:15.494299Z"
    }
   },
   "outputs": [
    {
     "data": {
      "text/plain": [
       "[0]"
      ]
     },
     "execution_count": 63,
     "metadata": {},
     "output_type": "execute_result"
    }
   ],
   "source": [
    "df_test = pd.read_hdf('./data/poloniex_30m.hf',key='test')\n",
    "env_test = PortfolioEnv(\n",
    "    df=df_test,\n",
    "    steps=48*7, # run for a week at a time\n",
    "    scale=True, \n",
    "    trading_cost=0.0025, \n",
    "    window_length = window_length,\n",
    "    output_mode='EIIE',\n",
    ")\n",
    "# wrap it in a few wrappers\n",
    "env_test = ConcatStates(env_test)\n",
    "env_test = SoftmaxActions(env_test)\n",
    "environment_test = TFOpenAIGymCust('CryptoPortfolioEIIETest-v0', env_test)\n",
    "\n",
    "env_test.seed(0)"
   ]
  },
  {
   "cell_type": "code",
   "execution_count": 64,
   "metadata": {
    "ExecuteTime": {
     "end_time": "2017-11-12T23:47:21.236171Z",
     "start_time": "2017-11-12T23:47:15.719735Z"
    }
   },
   "outputs": [
    {
     "name": "stdout",
     "output_type": "stream",
     "text": [
      "INFO:tensorflow:Create CheckpointSaverHook.\n"
     ]
    },
    {
     "name": "stderr",
     "output_type": "stream",
     "text": [
      "INFO:tensorflow:Create CheckpointSaverHook.\n",
      "[2017-11-13 07:47:19,952] Create CheckpointSaverHook.\n"
     ]
    },
    {
     "name": "stdout",
     "output_type": "stream",
     "text": [
      "INFO:tensorflow:Restoring parameters from ./outputs/tensorforce-PPO/tensorforce_PPO_crypto_20171105_06-50-31/model.ckpt-11920000\n"
     ]
    },
    {
     "name": "stderr",
     "output_type": "stream",
     "text": [
      "INFO:tensorflow:Restoring parameters from ./outputs/tensorforce-PPO/tensorforce_PPO_crypto_20171105_06-50-31/model.ckpt-11920000\n",
      "[2017-11-13 07:47:20,339] Restoring parameters from ./outputs/tensorforce-PPO/tensorforce_PPO_crypto_20171105_06-50-31/model.ckpt-11920000\n",
      "WARNING:PPOAgent:Configuration values not accessed: local_model, summary_logdir, summary_frequency, cluster_spec, task_index, parameter_server, distributions, summary_labels, replica_model\n",
      "[2017-11-13 07:47:20,648] Configuration values not accessed: local_model, summary_logdir, summary_frequency, cluster_spec, task_index, parameter_server, distributions, summary_labels, replica_model\n"
     ]
    },
    {
     "name": "stdout",
     "output_type": "stream",
     "text": [
      "INFO:tensorflow:Saving checkpoints for 11920000 into ./outputs/tensorforce-PPO/tensorforce_PPO_crypto_20171105_06-50-31/model.ckpt.\n"
     ]
    },
    {
     "name": "stderr",
     "output_type": "stream",
     "text": [
      "INFO:tensorflow:Saving checkpoints for 11920000 into ./outputs/tensorforce-PPO/tensorforce_PPO_crypto_20171105_06-50-31/model.ckpt.\n",
      "[2017-11-13 07:47:20,676] Saving checkpoints for 11920000 into ./outputs/tensorforce-PPO/tensorforce_PPO_crypto_20171105_06-50-31/model.ckpt.\n"
     ]
    }
   ],
   "source": [
    "# Create an agent\n",
    "agent = PPOAgent(\n",
    "    states_spec=environment.states,\n",
    "    actions_spec=actions_spec,\n",
    "    network_spec=network_spec,\n",
    "    config=config\n",
    ")"
   ]
  },
  {
   "cell_type": "code",
   "execution_count": 65,
   "metadata": {
    "ExecuteTime": {
     "end_time": "2017-11-12T23:47:21.291676Z",
     "start_time": "2017-11-12T23:47:21.237822Z"
    }
   },
   "outputs": [],
   "source": [
    "runner_test = Runner(agent=agent, environment=environment_test)"
   ]
  },
  {
   "cell_type": "code",
   "execution_count": 66,
   "metadata": {
    "ExecuteTime": {
     "end_time": "2017-11-12T23:47:21.336956Z",
     "start_time": "2017-11-12T23:47:21.293447Z"
    }
   },
   "outputs": [],
   "source": [
    "def episode_finished(r):\n",
    "    print(\"Finished episode {ep} after {ts} timesteps (reward: {reward})\".format(ep=r.episode, ts=r.episode_timestep,\n",
    "                                                                                 reward=r.episode_rewards[-1]))\n",
    "    return True"
   ]
  },
  {
   "cell_type": "code",
   "execution_count": 67,
   "metadata": {
    "ExecuteTime": {
     "end_time": "2017-11-12T23:47:22.970011Z",
     "start_time": "2017-11-12T23:47:21.338710Z"
    },
    "scrolled": true
   },
   "outputs": [
    {
     "name": "stdout",
     "output_type": "stream",
     "text": [
      "Finished episode 297995 after 336 timesteps (reward: -1.1915208412851097e-07)\n"
     ]
    },
    {
     "ename": "TypeError",
     "evalue": "Fetch argument None has invalid type <class 'NoneType'>",
     "output_type": "error",
     "traceback": [
      "\u001b[0;31m---------------------------------------------------------------------------\u001b[0m",
      "\u001b[0;31mTypeError\u001b[0m                                 Traceback (most recent call last)",
      "\u001b[0;32m<ipython-input-67-e43610c134dd>\u001b[0m in \u001b[0;36m<module>\u001b[0;34m()\u001b[0m\n\u001b[1;32m      5\u001b[0m     \u001b[0mtimesteps\u001b[0m\u001b[0;34m=\u001b[0m\u001b[0msteps\u001b[0m\u001b[0;34m,\u001b[0m\u001b[0;34m\u001b[0m\u001b[0m\n\u001b[1;32m      6\u001b[0m     \u001b[0mdeterministic\u001b[0m\u001b[0;34m=\u001b[0m\u001b[0;32mTrue\u001b[0m\u001b[0;34m,\u001b[0m\u001b[0;34m\u001b[0m\u001b[0m\n\u001b[0;32m----> 7\u001b[0;31m     \u001b[0mepisode_finished\u001b[0m\u001b[0;34m=\u001b[0m\u001b[0mepisode_finished\u001b[0m\u001b[0;34m,\u001b[0m\u001b[0;34m\u001b[0m\u001b[0m\n\u001b[0m\u001b[1;32m      8\u001b[0m \u001b[0;31m#     episode_finished=EpisodeFinishedTQDM(\u001b[0m\u001b[0;34m\u001b[0m\u001b[0;34m\u001b[0m\u001b[0m\n\u001b[1;32m      9\u001b[0m \u001b[0;31m#         log_intv=1,\u001b[0m\u001b[0;34m\u001b[0m\u001b[0;34m\u001b[0m\u001b[0m\n",
      "\u001b[0;32m/media/oldhome/wassname/Documents/projects/tensorforce2/tensorforce0.3.1/tensorforce/execution/runner.py\u001b[0m in \u001b[0;36mrun\u001b[0;34m(self, timesteps, episodes, max_episode_timesteps, deterministic, episode_finished)\u001b[0m\n\u001b[1;32m    133\u001b[0m                 \u001b[0;32mbreak\u001b[0m\u001b[0;34m\u001b[0m\u001b[0m\n\u001b[1;32m    134\u001b[0m \u001b[0;34m\u001b[0m\u001b[0m\n\u001b[0;32m--> 135\u001b[0;31m         \u001b[0mself\u001b[0m\u001b[0;34m.\u001b[0m\u001b[0magent\u001b[0m\u001b[0;34m.\u001b[0m\u001b[0mclose\u001b[0m\u001b[0;34m(\u001b[0m\u001b[0;34m)\u001b[0m\u001b[0;34m\u001b[0m\u001b[0m\n\u001b[0m\u001b[1;32m    136\u001b[0m         \u001b[0mself\u001b[0m\u001b[0;34m.\u001b[0m\u001b[0menvironment\u001b[0m\u001b[0;34m.\u001b[0m\u001b[0mclose\u001b[0m\u001b[0;34m(\u001b[0m\u001b[0;34m)\u001b[0m\u001b[0;34m\u001b[0m\u001b[0m\n",
      "\u001b[0;32m/media/oldhome/wassname/Documents/projects/tensorforce2/tensorforce0.3.1/tensorforce/agents/agent.py\u001b[0m in \u001b[0;36mclose\u001b[0;34m(self)\u001b[0m\n\u001b[1;32m    194\u001b[0m \u001b[0;34m\u001b[0m\u001b[0m\n\u001b[1;32m    195\u001b[0m     \u001b[0;32mdef\u001b[0m \u001b[0mclose\u001b[0m\u001b[0;34m(\u001b[0m\u001b[0mself\u001b[0m\u001b[0;34m)\u001b[0m\u001b[0;34m:\u001b[0m\u001b[0;34m\u001b[0m\u001b[0m\n\u001b[0;32m--> 196\u001b[0;31m         \u001b[0mself\u001b[0m\u001b[0;34m.\u001b[0m\u001b[0mmodel\u001b[0m\u001b[0;34m.\u001b[0m\u001b[0mclose\u001b[0m\u001b[0;34m(\u001b[0m\u001b[0;34m)\u001b[0m\u001b[0;34m\u001b[0m\u001b[0m\n\u001b[0m\u001b[1;32m    197\u001b[0m \u001b[0;34m\u001b[0m\u001b[0m\n\u001b[1;32m    198\u001b[0m     \u001b[0;32mdef\u001b[0m \u001b[0minitialize_model\u001b[0m\u001b[0;34m(\u001b[0m\u001b[0mself\u001b[0m\u001b[0;34m,\u001b[0m \u001b[0mstates_spec\u001b[0m\u001b[0;34m,\u001b[0m \u001b[0mactions_spec\u001b[0m\u001b[0;34m,\u001b[0m \u001b[0mconfig\u001b[0m\u001b[0;34m)\u001b[0m\u001b[0;34m:\u001b[0m\u001b[0;34m\u001b[0m\u001b[0m\n",
      "\u001b[0;32m/media/oldhome/wassname/Documents/projects/tensorforce2/tensorforce0.3.1/tensorforce/models/model.py\u001b[0m in \u001b[0;36mclose\u001b[0;34m(self)\u001b[0m\n\u001b[1;32m    417\u001b[0m         \u001b[0;32mif\u001b[0m \u001b[0mself\u001b[0m\u001b[0;34m.\u001b[0m\u001b[0msaver_directory\u001b[0m \u001b[0;32mis\u001b[0m \u001b[0;32mnot\u001b[0m \u001b[0;32mNone\u001b[0m\u001b[0;34m:\u001b[0m\u001b[0;34m\u001b[0m\u001b[0m\n\u001b[1;32m    418\u001b[0m             \u001b[0mself\u001b[0m\u001b[0;34m.\u001b[0m\u001b[0msave\u001b[0m\u001b[0;34m(\u001b[0m\u001b[0mappend_timestep\u001b[0m\u001b[0;34m=\u001b[0m\u001b[0;32mTrue\u001b[0m\u001b[0;34m)\u001b[0m\u001b[0;34m\u001b[0m\u001b[0m\n\u001b[0;32m--> 419\u001b[0;31m         \u001b[0mself\u001b[0m\u001b[0;34m.\u001b[0m\u001b[0mmonitored_session\u001b[0m\u001b[0;34m.\u001b[0m\u001b[0mclose\u001b[0m\u001b[0;34m(\u001b[0m\u001b[0;34m)\u001b[0m\u001b[0;34m\u001b[0m\u001b[0m\n\u001b[0m\u001b[1;32m    420\u001b[0m \u001b[0;34m\u001b[0m\u001b[0m\n\u001b[1;32m    421\u001b[0m     \u001b[0;32mdef\u001b[0m \u001b[0minitialize\u001b[0m\u001b[0;34m(\u001b[0m\u001b[0mself\u001b[0m\u001b[0;34m,\u001b[0m \u001b[0mcustom_getter\u001b[0m\u001b[0;34m)\u001b[0m\u001b[0;34m:\u001b[0m\u001b[0;34m\u001b[0m\u001b[0m\n",
      "\u001b[0;32m~/.pyenv/versions/3.5.3/envs/jupyter3/lib/python3.5/site-packages/tensorflow/python/training/monitored_session.py\u001b[0m in \u001b[0;36mclose\u001b[0;34m(self)\u001b[0m\n\u001b[1;32m    524\u001b[0m \u001b[0;34m\u001b[0m\u001b[0m\n\u001b[1;32m    525\u001b[0m   \u001b[0;32mdef\u001b[0m \u001b[0mclose\u001b[0m\u001b[0;34m(\u001b[0m\u001b[0mself\u001b[0m\u001b[0;34m)\u001b[0m\u001b[0;34m:\u001b[0m\u001b[0;34m\u001b[0m\u001b[0m\n\u001b[0;32m--> 526\u001b[0;31m     \u001b[0mself\u001b[0m\u001b[0;34m.\u001b[0m\u001b[0m_close_internal\u001b[0m\u001b[0;34m(\u001b[0m\u001b[0;34m)\u001b[0m\u001b[0;34m\u001b[0m\u001b[0m\n\u001b[0m\u001b[1;32m    527\u001b[0m \u001b[0;34m\u001b[0m\u001b[0m\n\u001b[1;32m    528\u001b[0m   \u001b[0;32mdef\u001b[0m \u001b[0m__enter__\u001b[0m\u001b[0;34m(\u001b[0m\u001b[0mself\u001b[0m\u001b[0;34m)\u001b[0m\u001b[0;34m:\u001b[0m\u001b[0;34m\u001b[0m\u001b[0m\n",
      "\u001b[0;32m~/.pyenv/versions/3.5.3/envs/jupyter3/lib/python3.5/site-packages/tensorflow/python/training/monitored_session.py\u001b[0m in \u001b[0;36m_close_internal\u001b[0;34m(self, exception_type)\u001b[0m\n\u001b[1;32m    564\u001b[0m       \u001b[0;32mif\u001b[0m \u001b[0;32mnot\u001b[0m \u001b[0mexception_type\u001b[0m\u001b[0;34m:\u001b[0m\u001b[0;34m\u001b[0m\u001b[0m\n\u001b[1;32m    565\u001b[0m         \u001b[0;32mfor\u001b[0m \u001b[0mh\u001b[0m \u001b[0;32min\u001b[0m \u001b[0mself\u001b[0m\u001b[0;34m.\u001b[0m\u001b[0m_hooks\u001b[0m\u001b[0;34m:\u001b[0m\u001b[0;34m\u001b[0m\u001b[0m\n\u001b[0;32m--> 566\u001b[0;31m           \u001b[0mh\u001b[0m\u001b[0;34m.\u001b[0m\u001b[0mend\u001b[0m\u001b[0;34m(\u001b[0m\u001b[0mself\u001b[0m\u001b[0;34m.\u001b[0m\u001b[0m_coordinated_creator\u001b[0m\u001b[0;34m.\u001b[0m\u001b[0mtf_sess\u001b[0m\u001b[0;34m)\u001b[0m\u001b[0;34m\u001b[0m\u001b[0m\n\u001b[0m\u001b[1;32m    567\u001b[0m     \u001b[0;32mfinally\u001b[0m\u001b[0;34m:\u001b[0m\u001b[0;34m\u001b[0m\u001b[0m\n\u001b[1;32m    568\u001b[0m       \u001b[0;32mtry\u001b[0m\u001b[0;34m:\u001b[0m\u001b[0;34m\u001b[0m\u001b[0m\n",
      "\u001b[0;32m~/.pyenv/versions/3.5.3/envs/jupyter3/lib/python3.5/site-packages/tensorflow/python/training/basic_session_run_hooks.py\u001b[0m in \u001b[0;36mend\u001b[0;34m(self, session)\u001b[0m\n\u001b[1;32m    443\u001b[0m \u001b[0;34m\u001b[0m\u001b[0m\n\u001b[1;32m    444\u001b[0m   \u001b[0;32mdef\u001b[0m \u001b[0mend\u001b[0m\u001b[0;34m(\u001b[0m\u001b[0mself\u001b[0m\u001b[0;34m,\u001b[0m \u001b[0msession\u001b[0m\u001b[0;34m)\u001b[0m\u001b[0;34m:\u001b[0m\u001b[0;34m\u001b[0m\u001b[0m\n\u001b[0;32m--> 445\u001b[0;31m     \u001b[0mlast_step\u001b[0m \u001b[0;34m=\u001b[0m \u001b[0msession\u001b[0m\u001b[0;34m.\u001b[0m\u001b[0mrun\u001b[0m\u001b[0;34m(\u001b[0m\u001b[0mtraining_util\u001b[0m\u001b[0;34m.\u001b[0m\u001b[0mget_global_step\u001b[0m\u001b[0;34m(\u001b[0m\u001b[0;34m)\u001b[0m\u001b[0;34m)\u001b[0m\u001b[0;34m\u001b[0m\u001b[0m\n\u001b[0m\u001b[1;32m    446\u001b[0m     \u001b[0;32mif\u001b[0m \u001b[0mlast_step\u001b[0m \u001b[0;34m!=\u001b[0m \u001b[0mself\u001b[0m\u001b[0;34m.\u001b[0m\u001b[0m_timer\u001b[0m\u001b[0;34m.\u001b[0m\u001b[0mlast_triggered_step\u001b[0m\u001b[0;34m(\u001b[0m\u001b[0;34m)\u001b[0m\u001b[0;34m:\u001b[0m\u001b[0;34m\u001b[0m\u001b[0m\n\u001b[1;32m    447\u001b[0m       \u001b[0mself\u001b[0m\u001b[0;34m.\u001b[0m\u001b[0m_save\u001b[0m\u001b[0;34m(\u001b[0m\u001b[0mlast_step\u001b[0m\u001b[0;34m,\u001b[0m \u001b[0msession\u001b[0m\u001b[0;34m)\u001b[0m\u001b[0;34m\u001b[0m\u001b[0m\n",
      "\u001b[0;32m~/.pyenv/versions/3.5.3/envs/jupyter3/lib/python3.5/site-packages/tensorflow/python/client/session.py\u001b[0m in \u001b[0;36mrun\u001b[0;34m(self, fetches, feed_dict, options, run_metadata)\u001b[0m\n\u001b[1;32m    893\u001b[0m     \u001b[0;32mtry\u001b[0m\u001b[0;34m:\u001b[0m\u001b[0;34m\u001b[0m\u001b[0m\n\u001b[1;32m    894\u001b[0m       result = self._run(None, fetches, feed_dict, options_ptr,\n\u001b[0;32m--> 895\u001b[0;31m                          run_metadata_ptr)\n\u001b[0m\u001b[1;32m    896\u001b[0m       \u001b[0;32mif\u001b[0m \u001b[0mrun_metadata\u001b[0m\u001b[0;34m:\u001b[0m\u001b[0;34m\u001b[0m\u001b[0m\n\u001b[1;32m    897\u001b[0m         \u001b[0mproto_data\u001b[0m \u001b[0;34m=\u001b[0m \u001b[0mtf_session\u001b[0m\u001b[0;34m.\u001b[0m\u001b[0mTF_GetBuffer\u001b[0m\u001b[0;34m(\u001b[0m\u001b[0mrun_metadata_ptr\u001b[0m\u001b[0;34m)\u001b[0m\u001b[0;34m\u001b[0m\u001b[0m\n",
      "\u001b[0;32m~/.pyenv/versions/3.5.3/envs/jupyter3/lib/python3.5/site-packages/tensorflow/python/client/session.py\u001b[0m in \u001b[0;36m_run\u001b[0;34m(self, handle, fetches, feed_dict, options, run_metadata)\u001b[0m\n\u001b[1;32m   1107\u001b[0m     \u001b[0;31m# Create a fetch handler to take care of the structure of fetches.\u001b[0m\u001b[0;34m\u001b[0m\u001b[0;34m\u001b[0m\u001b[0m\n\u001b[1;32m   1108\u001b[0m     fetch_handler = _FetchHandler(\n\u001b[0;32m-> 1109\u001b[0;31m         self._graph, fetches, feed_dict_tensor, feed_handles=feed_handles)\n\u001b[0m\u001b[1;32m   1110\u001b[0m \u001b[0;34m\u001b[0m\u001b[0m\n\u001b[1;32m   1111\u001b[0m     \u001b[0;31m# Run request and get response.\u001b[0m\u001b[0;34m\u001b[0m\u001b[0;34m\u001b[0m\u001b[0m\n",
      "\u001b[0;32m~/.pyenv/versions/3.5.3/envs/jupyter3/lib/python3.5/site-packages/tensorflow/python/client/session.py\u001b[0m in \u001b[0;36m__init__\u001b[0;34m(self, graph, fetches, feeds, feed_handles)\u001b[0m\n\u001b[1;32m    411\u001b[0m     \"\"\"\n\u001b[1;32m    412\u001b[0m     \u001b[0;32mwith\u001b[0m \u001b[0mgraph\u001b[0m\u001b[0;34m.\u001b[0m\u001b[0mas_default\u001b[0m\u001b[0;34m(\u001b[0m\u001b[0;34m)\u001b[0m\u001b[0;34m:\u001b[0m\u001b[0;34m\u001b[0m\u001b[0m\n\u001b[0;32m--> 413\u001b[0;31m       \u001b[0mself\u001b[0m\u001b[0;34m.\u001b[0m\u001b[0m_fetch_mapper\u001b[0m \u001b[0;34m=\u001b[0m \u001b[0m_FetchMapper\u001b[0m\u001b[0;34m.\u001b[0m\u001b[0mfor_fetch\u001b[0m\u001b[0;34m(\u001b[0m\u001b[0mfetches\u001b[0m\u001b[0;34m)\u001b[0m\u001b[0;34m\u001b[0m\u001b[0m\n\u001b[0m\u001b[1;32m    414\u001b[0m     \u001b[0mself\u001b[0m\u001b[0;34m.\u001b[0m\u001b[0m_fetches\u001b[0m \u001b[0;34m=\u001b[0m \u001b[0;34m[\u001b[0m\u001b[0;34m]\u001b[0m\u001b[0;34m\u001b[0m\u001b[0m\n\u001b[1;32m    415\u001b[0m     \u001b[0mself\u001b[0m\u001b[0;34m.\u001b[0m\u001b[0m_targets\u001b[0m \u001b[0;34m=\u001b[0m \u001b[0;34m[\u001b[0m\u001b[0;34m]\u001b[0m\u001b[0;34m\u001b[0m\u001b[0m\n",
      "\u001b[0;32m~/.pyenv/versions/3.5.3/envs/jupyter3/lib/python3.5/site-packages/tensorflow/python/client/session.py\u001b[0m in \u001b[0;36mfor_fetch\u001b[0;34m(fetch)\u001b[0m\n\u001b[1;32m    228\u001b[0m     \u001b[0;32mif\u001b[0m \u001b[0mfetch\u001b[0m \u001b[0;32mis\u001b[0m \u001b[0;32mNone\u001b[0m\u001b[0;34m:\u001b[0m\u001b[0;34m\u001b[0m\u001b[0m\n\u001b[1;32m    229\u001b[0m       raise TypeError('Fetch argument %r has invalid type %r' %\n\u001b[0;32m--> 230\u001b[0;31m                       (fetch, type(fetch)))\n\u001b[0m\u001b[1;32m    231\u001b[0m     \u001b[0;32melif\u001b[0m \u001b[0misinstance\u001b[0m\u001b[0;34m(\u001b[0m\u001b[0mfetch\u001b[0m\u001b[0;34m,\u001b[0m \u001b[0;34m(\u001b[0m\u001b[0mlist\u001b[0m\u001b[0;34m,\u001b[0m \u001b[0mtuple\u001b[0m\u001b[0;34m)\u001b[0m\u001b[0;34m)\u001b[0m\u001b[0;34m:\u001b[0m\u001b[0;34m\u001b[0m\u001b[0m\n\u001b[1;32m    232\u001b[0m       \u001b[0;31m# NOTE(touts): This is also the code path for namedtuples.\u001b[0m\u001b[0;34m\u001b[0m\u001b[0;34m\u001b[0m\u001b[0m\n",
      "\u001b[0;31mTypeError\u001b[0m: Fetch argument None has invalid type <class 'NoneType'>"
     ]
    }
   ],
   "source": [
    "episodes=1\n",
    "steps=environment_test.gym.env.env.src.steps*episodes\n",
    "runner_test.run(\n",
    "    episodes=episodes,\n",
    "    timesteps=steps,\n",
    "    deterministic=True,\n",
    "    episode_finished=episode_finished,\n",
    ")"
   ]
  },
  {
   "cell_type": "code",
   "execution_count": 68,
   "metadata": {
    "ExecuteTime": {
     "end_time": "2017-11-12T23:47:34.517540Z",
     "start_time": "2017-11-12T23:47:33.326795Z"
    }
   },
   "outputs": [
    {
     "name": "stderr",
     "output_type": "stream",
     "text": [
      "WARNING:root:The liveplot callback only work when matplotlib is using the nbAgg backend. Execute 'matplotlib.use('nbAgg', force=True)'' or '%matplotlib notebook'\n",
      "[2017-11-13 07:47:33,383] The liveplot callback only work when matplotlib is using the nbAgg backend. Execute 'matplotlib.use('nbAgg', force=True)'' or '%matplotlib notebook'\n",
      "WARNING:root:The liveplot callback only work when matplotlib is using the nbAgg backend. Execute 'matplotlib.use('nbAgg', force=True)'' or '%matplotlib notebook'\n",
      "[2017-11-13 07:47:33,571] The liveplot callback only work when matplotlib is using the nbAgg backend. Execute 'matplotlib.use('nbAgg', force=True)'' or '%matplotlib notebook'\n",
      "WARNING:root:The liveplot callback only work when matplotlib is using the nbAgg backend. Execute 'matplotlib.use('nbAgg', force=True)'' or '%matplotlib notebook'\n",
      "[2017-11-13 07:47:33,767] The liveplot callback only work when matplotlib is using the nbAgg backend. Execute 'matplotlib.use('nbAgg', force=True)'' or '%matplotlib notebook'\n"
     ]
    },
    {
     "data": {
      "image/png": "[encoded data removed]",
      "text/plain": [
       "<matplotlib.figure.Figure at 0x7f5f5bcfbd68>"
      ]
     },
     "metadata": {},
     "output_type": "display_data"
    },
    {
     "data": {
      "image/png": "[encoded data removed]",
      "text/plain": [
       "<matplotlib.figure.Figure at 0x7f5f59763f60>"
      ]
     },
     "metadata": {},
     "output_type": "display_data"
    },
    {
     "data": {
      "image/png": "[encoded data removed]",
      "text/plain": [
       "<matplotlib.figure.Figure at 0x7f5f5980ef98>"
      ]
     },
     "metadata": {},
     "output_type": "display_data"
    }
   ],
   "source": [
    "%matplotlib inline\n",
    "environment_test.gym.render('notebook', close=True)\n",
    "environment_test.gym.render('notebook')"
   ]
  },
  {
   "cell_type": "code",
   "execution_count": null,
   "metadata": {
    "collapsed": true,
    "jupyter": {
     "outputs_hidden": true
    }
   },
   "outputs": [],
   "source": []
  }
 ],
 "metadata": {
  "kernelspec": {
   "display_name": "Python 3 (ipykernel)",
   "language": "python",
   "name": "python3"
  },
  "language_info": {
   "codemirror_mode": {
    "name": "ipython",
    "version": 3
   },
   "file_extension": ".py",
   "mimetype": "text/x-python",
   "name": "python",
   "nbconvert_exporter": "python",
   "pygments_lexer": "ipython3",
   "version": "3.10.16"
  },
  "toc": {
   "colors": {
    "hover_highlight": "#DAA520",
    "navigate_num": "#000000",
    "navigate_text": "#333333",
    "running_highlight": "#FF0000",
    "selected_highlight": "#FFD700",
    "sidebar_border": "#EEEEEE",
    "wrapper_background": "#FFFFFF"
   },
   "moveMenuLeft": true,
   "nav_menu": {
    "height": "146px",
    "width": "252px"
   },
   "navigate_menu": true,
   "number_sections": true,
   "sideBar": true,
   "threshold": 4,
   "toc_cell": false,
   "toc_section_display": "block",
   "toc_window_display": false,
   "widenNotebook": false
  }
 },
 "nbformat": 4,
 "nbformat_minor": 4
}
